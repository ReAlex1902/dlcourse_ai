{
 "cells": [
  {
   "cell_type": "markdown",
   "metadata": {},
   "source": [
    "# Задание 1.2 - Линейный классификатор (Linear classifier)\n",
    "\n",
    "В этом задании мы реализуем другую модель машинного обучения - линейный классификатор. Линейный классификатор подбирает для каждого класса веса, на которые нужно умножить значение каждого признака и потом сложить вместе.\n",
    "Тот класс, у которого эта сумма больше, и является предсказанием модели.\n",
    "\n",
    "В этом задании вы:\n",
    "- потренируетесь считать градиенты различных многомерных функций\n",
    "- реализуете подсчет градиентов через линейную модель и функцию потерь softmax\n",
    "- реализуете процесс тренировки линейного классификатора\n",
    "- подберете параметры тренировки на практике\n",
    "\n",
    "На всякий случай, еще раз ссылка на туториал по numpy:  \n",
    "http://cs231n.github.io/python-numpy-tutorial/"
   ]
  },
  {
   "cell_type": "code",
   "execution_count": 1,
   "metadata": {},
   "outputs": [],
   "source": [
    "import numpy as np\n",
    "import matplotlib.pyplot as plt\n",
    "\n",
    "%matplotlib inline\n",
    "\n",
    "%load_ext autoreload\n",
    "%autoreload 2"
   ]
  },
  {
   "cell_type": "code",
   "execution_count": 2,
   "metadata": {},
   "outputs": [],
   "source": [
    "from dataset import load_svhn, random_split_train_val\n",
    "from gradient_check import check_gradient\n",
    "from metrics import multiclass_accuracy \n",
    "import linear_classifer"
   ]
  },
  {
   "cell_type": "markdown",
   "metadata": {},
   "source": [
    "# Как всегда, первым делом загружаем данные\n",
    "\n",
    "Мы будем использовать все тот же SVHN."
   ]
  },
  {
   "cell_type": "code",
   "execution_count": 3,
   "metadata": {},
   "outputs": [],
   "source": [
    "def prepare_for_linear_classifier(train_X, test_X):\n",
    "    train_flat = train_X.reshape(train_X.shape[0], -1).astype(np.float) / 255.0\n",
    "    test_flat = test_X.reshape(test_X.shape[0], -1).astype(np.float) / 255.0\n",
    "    \n",
    "    # Subtract mean\n",
    "    mean_image = np.mean(train_flat, axis = 0)\n",
    "    train_flat -= mean_image\n",
    "    test_flat -= mean_image\n",
    "    \n",
    "    # Add another channel with ones as a bias term\n",
    "    train_flat_with_ones = np.hstack([train_flat, np.ones((train_X.shape[0], 1))])\n",
    "    test_flat_with_ones = np.hstack([test_flat, np.ones((test_X.shape[0], 1))])    \n",
    "    return train_flat_with_ones, test_flat_with_ones\n",
    "    \n",
    "train_X, train_y, test_X, test_y = load_svhn(\"data\", max_train=10000, max_test=1000)    \n",
    "train_X, test_X = prepare_for_linear_classifier(train_X, test_X)\n",
    "# Split train into train and val\n",
    "train_X, train_y, val_X, val_y = random_split_train_val(train_X, train_y, num_val = 1000)"
   ]
  },
  {
   "cell_type": "markdown",
   "metadata": {},
   "source": [
    "# Играемся с градиентами!\n",
    "\n",
    "В этом курсе мы будем писать много функций, которые вычисляют градиенты аналитическим методом.\n",
    "\n",
    "Все функции, в которых мы будем вычислять градиенты, будут написаны по одной и той же схеме.  \n",
    "Они будут получать на вход точку, где нужно вычислить значение и градиент функции, а на выходе будут выдавать кортеж (tuple) из двух значений - собственно значения функции в этой точке (всегда одно число) и аналитического значения градиента в той же точке (той же размерности, что и вход).\n",
    "```\n",
    "def f(x):\n",
    "    \"\"\"\n",
    "    Computes function and analytic gradient at x\n",
    "    \n",
    "    x: np array of float, input to the function\n",
    "    \n",
    "    Returns:\n",
    "    value: float, value of the function \n",
    "    grad: np array of float, same shape as x\n",
    "    \"\"\"\n",
    "    ...\n",
    "    \n",
    "    return value, grad\n",
    "```\n",
    "\n",
    "Необходимым инструментом во время реализации кода, вычисляющего градиенты, является функция его проверки. Эта функция вычисляет градиент численным методом и сверяет результат с градиентом, вычисленным аналитическим методом.\n",
    "\n",
    "Мы начнем с того, чтобы реализовать вычисление численного градиента (numeric gradient) в функции `check_gradient` в `gradient_check.py`. Эта функция будет принимать на вход функции формата, заданного выше, использовать значение `value` для вычисления численного градиента и сравнит его с аналитическим - они должны сходиться.\n",
    "\n",
    "Напишите часть функции, которая вычисляет градиент с помощью численной производной для каждой координаты. Для вычисления производной используйте так называемую two-point formula (https://en.wikipedia.org/wiki/Numerical_differentiation):\n",
    "\n",
    "![image](https://wikimedia.org/api/rest_v1/media/math/render/svg/22fc2c0a66c63560a349604f8b6b39221566236d)\n",
    "\n",
    "Все функции приведенные в следующей клетке должны проходить gradient check."
   ]
  },
  {
   "cell_type": "code",
   "execution_count": 54,
   "metadata": {
    "scrolled": true
   },
   "outputs": [
    {
     "name": "stdout",
     "output_type": "stream",
     "text": [
      "Gradient check passed!\n",
      "Gradient check passed!\n",
      "Gradient check passed!\n"
     ]
    },
    {
     "data": {
      "text/plain": [
       "True"
      ]
     },
     "execution_count": 54,
     "metadata": {},
     "output_type": "execute_result"
    }
   ],
   "source": [
    "# TODO: Implement check_gradient function in gradient_check.py\n",
    "# All the functions below should pass the gradient check\n",
    "\n",
    "def square(x):\n",
    "    return float(x*x), 2*x\n",
    "\n",
    "check_gradient(square, np.array([3.0]))\n",
    "\n",
    "def array_sum(x):\n",
    "    assert x.shape == (2,), x.shape\n",
    "    return np.sum(x), np.ones_like(x)\n",
    "\n",
    "check_gradient(array_sum, np.array([3.0, 2.0]))\n",
    "\n",
    "def array_2d_sum(x):\n",
    "    assert x.shape == (2,2)\n",
    "    return np.sum(x), np.ones_like(x)\n",
    "\n",
    "check_gradient(array_2d_sum, np.array([[3.0, 2.0], [1.0, 0.0]]))"
   ]
  },
  {
   "cell_type": "markdown",
   "metadata": {},
   "source": [
    "## Начинаем писать свои функции, считающие аналитический градиент\n",
    "\n",
    "Теперь реализуем функцию softmax, которая получает на вход оценки для каждого класса и преобразует их в вероятности от 0 до 1:\n",
    "![image](https://wikimedia.org/api/rest_v1/media/math/render/svg/e348290cf48ddbb6e9a6ef4e39363568b67c09d3)\n",
    "\n",
    "**Важно:** Практический аспект вычисления этой функции заключается в том, что в ней учавствует вычисление экспоненты от потенциально очень больших чисел - это может привести к очень большим значениям в числителе и знаменателе за пределами диапазона float.\n",
    "\n",
    "К счастью, у этой проблемы есть простое решение -- перед вычислением softmax вычесть из всех оценок максимальное значение среди всех оценок:\n",
    "```\n",
    "predictions -= np.max(predictions)\n",
    "```\n",
    "(подробнее здесь - http://cs231n.github.io/linear-classify/#softmax, секция `Practical issues: Numeric stability`)"
   ]
  },
  {
   "cell_type": "code",
   "execution_count": 55,
   "metadata": {},
   "outputs": [],
   "source": [
    "# TODO Implement softmax and cross-entropy for single sample\n",
    "probs = linear_classifer.softmax(np.array([-10, 0, 10]))\n",
    "\n",
    "# Make sure it works for big numbers too!\n",
    "probs = linear_classifer.softmax(np.array([1000, 0, 0]))\n",
    "assert np.isclose(probs[0], 1.0)"
   ]
  },
  {
   "cell_type": "markdown",
   "metadata": {},
   "source": [
    "Кроме этого, мы реализуем cross-entropy loss, которую мы будем использовать как функцию ошибки (error function).\n",
    "В общем виде cross-entropy определена следующим образом:\n",
    "![image](https://wikimedia.org/api/rest_v1/media/math/render/svg/0cb6da032ab424eefdca0884cd4113fe578f4293)\n",
    "\n",
    "где x - все классы, p(x) - истинная вероятность принадлежности сэмпла классу x, а q(x) - вероятность принадлежности классу x, предсказанная моделью.  \n",
    "В нашем случае сэмпл принадлежит только одному классу, индекс которого передается функции. Для него p(x) равна 1, а для остальных классов - 0. \n",
    "\n",
    "Это позволяет реализовать функцию проще!"
   ]
  },
  {
   "cell_type": "code",
   "execution_count": 61,
   "metadata": {},
   "outputs": [
    {
     "data": {
      "text/plain": [
       "5.006760443547122"
      ]
     },
     "execution_count": 61,
     "metadata": {},
     "output_type": "execute_result"
    }
   ],
   "source": [
    "probs = linear_classifer.softmax(np.array([-5, 0, 5]))\n",
    "linear_classifer.cross_entropy_loss(probs, 1)"
   ]
  },
  {
   "cell_type": "markdown",
   "metadata": {},
   "source": [
    "После того как мы реализовали сами функции, мы можем реализовать градиент.\n",
    "\n",
    "Оказывается, что вычисление градиента становится гораздо проще, если объединить эти функции в одну, которая сначала вычисляет вероятности через softmax, а потом использует их для вычисления функции ошибки через cross-entropy loss.\n",
    "\n",
    "Эта функция `softmax_with_cross_entropy` будет возвращает и значение ошибки, и градиент по входным параметрам. Мы проверим корректность реализации с помощью `check_gradient`."
   ]
  },
  {
   "cell_type": "code",
   "execution_count": 44,
   "metadata": {},
   "outputs": [
    {
     "name": "stdout",
     "output_type": "stream",
     "text": [
      "Gradient check passed!\n"
     ]
    },
    {
     "data": {
      "text/plain": [
       "True"
      ]
     },
     "execution_count": 44,
     "metadata": {},
     "output_type": "execute_result"
    }
   ],
   "source": [
    "# TODO Implement combined function or softmax and cross entropy and produces gradient\n",
    "loss, grad = linear_classifer.softmax_with_cross_entropy(np.array([1, 0, 0]), 1)\n",
    "check_gradient(lambda x: linear_classifer.softmax_with_cross_entropy(x, 1), np.array([1, 0, 0], np.float))"
   ]
  },
  {
   "cell_type": "markdown",
   "metadata": {},
   "source": [
    "В качестве метода тренировки мы будем использовать стохастический градиентный спуск (stochastic gradient descent или SGD), который работает с батчами сэмплов. \n",
    "\n",
    "Поэтому все наши фукнции будут получать не один пример, а батч, то есть входом будет не вектор из `num_classes` оценок, а матрица размерности `batch_size, num_classes`. Индекс примера в батче всегда будет первым измерением.\n",
    "\n",
    "Следующий шаг - переписать наши функции так, чтобы они поддерживали батчи.\n",
    "\n",
    "Финальное значение функции ошибки должно остаться числом, и оно равно среднему значению ошибки среди всех примеров в батче."
   ]
  },
  {
   "cell_type": "code",
   "execution_count": 62,
   "metadata": {
    "scrolled": false
   },
   "outputs": [
    {
     "name": "stdout",
     "output_type": "stream",
     "text": [
      "Gradients are different at (0, 0). Analytic: 0.20603, Numeric: 0.41206\n",
      "Gradients are different at (0, 0). Analytic: 0.19516, Numeric: 4.68376\n"
     ]
    },
    {
     "ename": "AssertionError",
     "evalue": "",
     "output_type": "error",
     "traceback": [
      "\u001b[1;31m---------------------------------------------------------------------------\u001b[0m",
      "\u001b[1;31mAssertionError\u001b[0m                            Traceback (most recent call last)",
      "\u001b[1;32m<ipython-input-62-28bf1c894daa>\u001b[0m in \u001b[0;36m<module>\u001b[1;34m\u001b[0m\n\u001b[0;32m     17\u001b[0m \u001b[1;31m# Make sure maximum subtraction for numberic stability is done separately for every sample in the batch\u001b[0m\u001b[1;33m\u001b[0m\u001b[1;33m\u001b[0m\u001b[0m\n\u001b[0;32m     18\u001b[0m \u001b[0mprobs\u001b[0m \u001b[1;33m=\u001b[0m \u001b[0mlinear_classifer\u001b[0m\u001b[1;33m.\u001b[0m\u001b[0msoftmax\u001b[0m\u001b[1;33m(\u001b[0m\u001b[0mnp\u001b[0m\u001b[1;33m.\u001b[0m\u001b[0marray\u001b[0m\u001b[1;33m(\u001b[0m\u001b[1;33m[\u001b[0m\u001b[1;33m[\u001b[0m\u001b[1;36m20\u001b[0m\u001b[1;33m,\u001b[0m\u001b[1;36m0\u001b[0m\u001b[1;33m,\u001b[0m\u001b[1;36m0\u001b[0m\u001b[1;33m]\u001b[0m\u001b[1;33m,\u001b[0m \u001b[1;33m[\u001b[0m\u001b[1;36m1000\u001b[0m\u001b[1;33m,\u001b[0m \u001b[1;36m0\u001b[0m\u001b[1;33m,\u001b[0m \u001b[1;36m0\u001b[0m\u001b[1;33m]\u001b[0m\u001b[1;33m]\u001b[0m\u001b[1;33m)\u001b[0m\u001b[1;33m)\u001b[0m\u001b[1;33m\u001b[0m\u001b[0m\n\u001b[1;32m---> 19\u001b[1;33m \u001b[1;32massert\u001b[0m \u001b[0mnp\u001b[0m\u001b[1;33m.\u001b[0m\u001b[0mall\u001b[0m\u001b[1;33m(\u001b[0m\u001b[0mnp\u001b[0m\u001b[1;33m.\u001b[0m\u001b[0misclose\u001b[0m\u001b[1;33m(\u001b[0m\u001b[0mprobs\u001b[0m\u001b[1;33m[\u001b[0m\u001b[1;33m:\u001b[0m\u001b[1;33m,\u001b[0m \u001b[1;36m0\u001b[0m\u001b[1;33m]\u001b[0m\u001b[1;33m,\u001b[0m \u001b[1;36m1.0\u001b[0m\u001b[1;33m)\u001b[0m\u001b[1;33m)\u001b[0m\u001b[1;33m\u001b[0m\u001b[0m\n\u001b[0m",
      "\u001b[1;31mAssertionError\u001b[0m: "
     ]
    }
   ],
   "source": [
    "# TODO Extend combined function so it can receive a 2d array with batch of samples\n",
    "np.random.seed(42)\n",
    "# Test batch_size = 1\n",
    "num_classes = 4\n",
    "batch_size = 1\n",
    "predictions = np.random.randint(-1, 3, size=(batch_size, num_classes)).astype(np.float)\n",
    "target_index = np.random.randint(0, num_classes, size=(batch_size, 1)).astype(np.int)\n",
    "check_gradient(lambda x: linear_classifer.softmax_with_cross_entropy(x, target_index), predictions)\n",
    "\n",
    "# Test batch_size = 3\n",
    "num_classes = 4\n",
    "batch_size = 3\n",
    "predictions = np.random.randint(-1, 3, size=(batch_size, num_classes)).astype(np.float)\n",
    "target_index = np.random.randint(0, num_classes, size=(batch_size, 1)).astype(np.int)\n",
    "check_gradient(lambda x: linear_classifer.softmax_with_cross_entropy(x, target_index), predictions)\n",
    "\n",
    "# Make sure maximum subtraction for numberic stability is done separately for every sample in the batch\n",
    "probs = linear_classifer.softmax(np.array([[20,0,0], [1000, 0, 0]]))\n",
    "assert np.all(np.isclose(probs[:, 0], 1.0))"
   ]
  },
  {
   "cell_type": "markdown",
   "metadata": {},
   "source": [
    "### Наконец, реализуем сам линейный классификатор!\n",
    "\n",
    "softmax и cross-entropy получают на вход оценки, которые выдает линейный классификатор.\n",
    "\n",
    "Он делает это очень просто: для каждого класса есть набор весов, на которые надо умножить пиксели картинки и сложить. Получившееся число и является оценкой класса, идущей на вход softmax.\n",
    "\n",
    "Таким образом, линейный классификатор можно представить как умножение вектора с пикселями на матрицу W размера `num_features, num_classes`. Такой подход легко расширяется на случай батча векторов с пикселями X размера `batch_size, num_features`:\n",
    "\n",
    "`predictions = X * W`, где `*` - матричное умножение.\n",
    "\n",
    "Реализуйте функцию подсчета линейного классификатора и градиентов по весам `linear_softmax` в файле `linear_classifer.py`"
   ]
  },
  {
   "cell_type": "code",
   "execution_count": 75,
   "metadata": {},
   "outputs": [
    {
     "name": "stdout",
     "output_type": "stream",
     "text": [
      "Gradients are different at (0, 0). Analytic: -0.11246, Numeric: -0.44983\n"
     ]
    },
    {
     "data": {
      "text/plain": [
       "False"
      ]
     },
     "execution_count": 75,
     "metadata": {},
     "output_type": "execute_result"
    }
   ],
   "source": [
    "# TODO Implement linear_softmax function that uses softmax with cross-entropy for linear classifier\n",
    "batch_size = 2\n",
    "num_classes = 2\n",
    "num_features = 3\n",
    "np.random.seed(42)\n",
    "W = np.random.randint(-1, 3, size=(num_features, num_classes)).astype(np.float)\n",
    "X = np.random.randint(-1, 3, size=(batch_size, num_features)).astype(np.float)\n",
    "target_index = np.ones(batch_size, dtype=np.int)\n",
    "\n",
    "loss, dW = linear_classifer.linear_softmax(X, W, target_index)\n",
    "check_gradient(lambda w: linear_classifer.linear_softmax(X, w, target_index), W)"
   ]
  },
  {
   "cell_type": "markdown",
   "metadata": {},
   "source": [
    "### И теперь регуляризация\n",
    "\n",
    "Мы будем использовать L2 regularization для весов как часть общей функции ошибки.\n",
    "\n",
    "Напомним, L2 regularization определяется как\n",
    "\n",
    "l2_reg_loss = regularization_strength * sum<sub>ij</sub> W[i, j]<sup>2</sup>\n",
    "\n",
    "Реализуйте функцию для его вычисления и вычисления соотвествующих градиентов."
   ]
  },
  {
   "cell_type": "code",
   "execution_count": 76,
   "metadata": {},
   "outputs": [
    {
     "name": "stdout",
     "output_type": "stream",
     "text": [
      "Gradient check passed!\n"
     ]
    },
    {
     "data": {
      "text/plain": [
       "True"
      ]
     },
     "execution_count": 76,
     "metadata": {},
     "output_type": "execute_result"
    }
   ],
   "source": [
    "# TODO Implement l2_regularization function that implements loss for L2 regularization\n",
    "linear_classifer.l2_regularization(W, 0.01)\n",
    "check_gradient(lambda w: linear_classifer.l2_regularization(w, 0.01), W)"
   ]
  },
  {
   "cell_type": "markdown",
   "metadata": {},
   "source": [
    "# Тренировка!"
   ]
  },
  {
   "cell_type": "markdown",
   "metadata": {},
   "source": [
    "Градиенты в порядке, реализуем процесс тренировки!"
   ]
  },
  {
   "cell_type": "code",
   "execution_count": 86,
   "metadata": {
    "scrolled": true
   },
   "outputs": [
    {
     "name": "stderr",
     "output_type": "stream",
     "text": [
      "  0%|                                                             | 0/10 [00:00<?, ?it/s]\n",
      "  0%|                                                             | 0/30 [00:00<?, ?it/s]\u001b[A\n",
      " 27%|██████████████▏                                      | 8/30 [00:00<00:00, 77.02it/s]\u001b[A\n",
      " 53%|███████████████████████████▋                        | 16/30 [00:00<00:00, 77.02it/s]\u001b[A\n",
      "100%|████████████████████████████████████████████████████| 30/30 [00:00<00:00, 76.63it/s]\u001b[A\n",
      " 10%|█████▎                                               | 1/10 [00:00<00:03,  2.53it/s]\n",
      "  0%|                                                             | 0/30 [00:00<?, ?it/s]\u001b[A\n",
      " 33%|█████████████████▎                                  | 10/30 [00:00<00:00, 92.71it/s]\u001b[A"
     ]
    },
    {
     "name": "stdout",
     "output_type": "stream",
     "text": [
      "Epoch 0, loss: 3440163.496080\n"
     ]
    },
    {
     "name": "stderr",
     "output_type": "stream",
     "text": [
      "\n",
      "100%|████████████████████████████████████████████████████| 30/30 [00:00<00:00, 97.53it/s]\u001b[A\n",
      " 20%|██████████▌                                          | 2/10 [00:00<00:02,  2.69it/s]\n",
      "  0%|                                                             | 0/30 [00:00<?, ?it/s]\u001b[A\n",
      " 30%|███████████████▉                                     | 9/30 [00:00<00:00, 86.64it/s]\u001b[A"
     ]
    },
    {
     "name": "stdout",
     "output_type": "stream",
     "text": [
      "Epoch 1, loss: 2724307.990832\n"
     ]
    },
    {
     "name": "stderr",
     "output_type": "stream",
     "text": [
      "\n",
      " 57%|█████████████████████████████▍                      | 17/30 [00:00<00:00, 82.49it/s]\u001b[A\n",
      "100%|████████████████████████████████████████████████████| 30/30 [00:00<00:00, 79.04it/s]\u001b[A\n",
      " 30%|███████████████▉                                     | 3/10 [00:01<00:02,  2.67it/s]\n",
      "  0%|                                                             | 0/30 [00:00<?, ?it/s]\u001b[A\n",
      " 27%|██████████████▏                                      | 8/30 [00:00<00:00, 77.00it/s]\u001b[A"
     ]
    },
    {
     "name": "stdout",
     "output_type": "stream",
     "text": [
      "Epoch 2, loss: 4488211.481789\n"
     ]
    },
    {
     "name": "stderr",
     "output_type": "stream",
     "text": [
      "\n",
      " 63%|████████████████████████████████▉                   | 19/30 [00:00<00:00, 82.37it/s]\u001b[A\n",
      "100%|████████████████████████████████████████████████████| 30/30 [00:00<00:00, 92.72it/s]\u001b[A\n",
      " 40%|█████████████████████▏                               | 4/10 [00:01<00:02,  2.76it/s]\n",
      "  0%|                                                             | 0/30 [00:00<?, ?it/s]\u001b[A\n",
      " 37%|███████████████████                                 | 11/30 [00:00<00:00, 98.34it/s]\u001b[A"
     ]
    },
    {
     "name": "stdout",
     "output_type": "stream",
     "text": [
      "Epoch 3, loss: 2789165.300606\n"
     ]
    },
    {
     "name": "stderr",
     "output_type": "stream",
     "text": [
      "\n",
      " 63%|████████████████████████████████▉                   | 19/30 [00:00<00:00, 89.58it/s]\u001b[A\n",
      "100%|████████████████████████████████████████████████████| 30/30 [00:00<00:00, 87.31it/s]\u001b[A\n",
      " 50%|██████████████████████████▌                          | 5/10 [00:01<00:01,  2.80it/s]\n",
      "  0%|                                                             | 0/30 [00:00<?, ?it/s]\u001b[A\n",
      " 37%|██████████████████▋                                | 11/30 [00:00<00:00, 105.84it/s]\u001b[A"
     ]
    },
    {
     "name": "stdout",
     "output_type": "stream",
     "text": [
      "Epoch 4, loss: 2843969.876817\n"
     ]
    },
    {
     "name": "stderr",
     "output_type": "stream",
     "text": [
      "\n",
      "100%|████████████████████████████████████████████████████| 30/30 [00:00<00:00, 98.82it/s]\u001b[A\n",
      " 60%|███████████████████████████████▊                     | 6/10 [00:02<00:01,  2.92it/s]\n",
      "  0%|                                                             | 0/30 [00:00<?, ?it/s]\u001b[A\n",
      " 40%|████████████████████▍                              | 12/30 [00:00<00:00, 107.29it/s]\u001b[A"
     ]
    },
    {
     "name": "stdout",
     "output_type": "stream",
     "text": [
      "Epoch 5, loss: 4176275.243826\n"
     ]
    },
    {
     "name": "stderr",
     "output_type": "stream",
     "text": [
      "\n",
      "100%|███████████████████████████████████████████████████| 30/30 [00:00<00:00, 105.78it/s]\u001b[A\n",
      " 70%|█████████████████████████████████████                | 7/10 [00:02<00:00,  3.05it/s]\n",
      "  0%|                                                             | 0/30 [00:00<?, ?it/s]\u001b[A\n",
      " 43%|██████████████████████                             | 13/30 [00:00<00:00, 120.53it/s]\u001b[A"
     ]
    },
    {
     "name": "stdout",
     "output_type": "stream",
     "text": [
      "Epoch 6, loss: 3280677.798007\n"
     ]
    },
    {
     "name": "stderr",
     "output_type": "stream",
     "text": [
      "\n",
      "100%|████████████████████████████████████████████████████| 30/30 [00:00<00:00, 98.81it/s]\u001b[A\n",
      " 80%|██████████████████████████████████████████▍          | 8/10 [00:02<00:00,  3.11it/s]\n",
      "  0%|                                                             | 0/30 [00:00<?, ?it/s]\u001b[A\n",
      " 30%|███████████████▉                                     | 9/30 [00:00<00:00, 80.47it/s]\u001b[A"
     ]
    },
    {
     "name": "stdout",
     "output_type": "stream",
     "text": [
      "Epoch 7, loss: 3160995.605070\n"
     ]
    },
    {
     "name": "stderr",
     "output_type": "stream",
     "text": [
      "\n",
      " 60%|███████████████████████████████▏                    | 18/30 [00:00<00:00, 81.34it/s]\u001b[A\n",
      "100%|████████████████████████████████████████████████████| 30/30 [00:00<00:00, 90.49it/s]\u001b[A\n",
      " 90%|███████████████████████████████████████████████▋     | 9/10 [00:03<00:00,  3.07it/s]\n",
      "  0%|                                                             | 0/30 [00:00<?, ?it/s]\u001b[A\n",
      " 30%|███████████████▉                                     | 9/30 [00:00<00:00, 80.46it/s]\u001b[A"
     ]
    },
    {
     "name": "stdout",
     "output_type": "stream",
     "text": [
      "Epoch 8, loss: 3584488.465966\n"
     ]
    },
    {
     "name": "stderr",
     "output_type": "stream",
     "text": [
      "\n",
      " 60%|███████████████████████████████▏                    | 18/30 [00:00<00:00, 80.45it/s]\u001b[A\n",
      "100%|████████████████████████████████████████████████████| 30/30 [00:00<00:00, 83.45it/s]\u001b[A\n",
      "100%|████████████████████████████████████████████████████| 10/10 [00:03<00:00,  2.96it/s]"
     ]
    },
    {
     "name": "stdout",
     "output_type": "stream",
     "text": [
      "Epoch 9, loss: 3326912.841512\n"
     ]
    },
    {
     "name": "stderr",
     "output_type": "stream",
     "text": [
      "\n"
     ]
    }
   ],
   "source": [
    "# TODO: Implement LinearSoftmaxClassifier.fit function\n",
    "classifier = linear_classifer.LinearSoftmaxClassifier()\n",
    "loss_history = classifier.fit(train_X, train_y, epochs=10, learning_rate=1e-3, batch_size=300, reg=1e1)"
   ]
  },
  {
   "cell_type": "code",
   "execution_count": 87,
   "metadata": {},
   "outputs": [
    {
     "data": {
      "text/plain": [
       "[<matplotlib.lines.Line2D at 0x226855364e0>]"
      ]
     },
     "execution_count": 87,
     "metadata": {},
     "output_type": "execute_result"
    },
    {
     "data": {
      "image/png": "[encoded data removed]",
      "text/plain": [
       "<Figure size 432x288 with 1 Axes>"
      ]
     },
     "metadata": {
      "needs_background": "light"
     },
     "output_type": "display_data"
    }
   ],
   "source": [
    "# let's look at the loss history!\n",
    "plt.plot(loss_history)"
   ]
  },
  {
   "cell_type": "code",
   "execution_count": 91,
   "metadata": {
    "scrolled": true
   },
   "outputs": [
    {
     "name": "stderr",
     "output_type": "stream",
     "text": [
      "  0%|                                                            | 0/100 [00:00<?, ?it/s]\n",
      "  0%|                                                             | 0/30 [00:00<?, ?it/s]\u001b[A\n",
      " 33%|█████████████████▎                                  | 10/30 [00:00<00:00, 89.40it/s]\u001b[A"
     ]
    },
    {
     "name": "stdout",
     "output_type": "stream",
     "text": [
      "Accuracy:  0.09\n"
     ]
    },
    {
     "name": "stderr",
     "output_type": "stream",
     "text": [
      "\n",
      " 63%|████████████████████████████████▉                   | 19/30 [00:00<00:00, 86.52it/s]\u001b[A\n",
      "100%|████████████████████████████████████████████████████| 30/30 [00:00<00:00, 81.63it/s]\u001b[A\n",
      "  1%|▌                                                   | 1/100 [00:00<00:36,  2.69it/s]\n",
      "  0%|                                                             | 0/30 [00:00<?, ?it/s]\u001b[A\n",
      " 33%|█████████████████▎                                  | 10/30 [00:00<00:00, 92.68it/s]\u001b[A"
     ]
    },
    {
     "name": "stdout",
     "output_type": "stream",
     "text": [
      "Epoch 0, loss: 3166470.224987\n"
     ]
    },
    {
     "name": "stderr",
     "output_type": "stream",
     "text": [
      "\n",
      " 67%|██████████████████████████████████▋                 | 20/30 [00:00<00:00, 93.74it/s]\u001b[A\n",
      "100%|████████████████████████████████████████████████████| 30/30 [00:00<00:00, 90.48it/s]\u001b[A\n",
      "  2%|█                                                   | 2/100 [00:00<00:35,  2.77it/s]\n",
      "  0%|                                                             | 0/30 [00:00<?, ?it/s]\u001b[A\n",
      " 30%|███████████████▉                                     | 9/30 [00:00<00:00, 86.67it/s]\u001b[A"
     ]
    },
    {
     "name": "stdout",
     "output_type": "stream",
     "text": [
      "Epoch 1, loss: 2952489.480832\n"
     ]
    },
    {
     "name": "stderr",
     "output_type": "stream",
     "text": [
      "\n",
      " 57%|█████████████████████████████▍                      | 17/30 [00:00<00:00, 83.53it/s]\u001b[A\n",
      "100%|████████████████████████████████████████████████████| 30/30 [00:00<00:00, 84.38it/s]\u001b[A\n",
      "  3%|█▌                                                  | 3/100 [00:01<00:34,  2.77it/s]\n",
      "  0%|                                                             | 0/30 [00:00<?, ?it/s]\u001b[A\n",
      " 30%|███████████████▉                                     | 9/30 [00:00<00:00, 83.41it/s]\u001b[A"
     ]
    },
    {
     "name": "stdout",
     "output_type": "stream",
     "text": [
      "Epoch 2, loss: 3269938.734097\n"
     ]
    },
    {
     "name": "stderr",
     "output_type": "stream",
     "text": [
      "\n",
      " 60%|███████████████████████████████▏                    | 18/30 [00:00<00:00, 83.43it/s]\u001b[A\n",
      "100%|████████████████████████████████████████████████████| 30/30 [00:00<00:00, 78.23it/s]\u001b[A\n",
      "  4%|██                                                  | 4/100 [00:01<00:35,  2.71it/s]\n",
      "  0%|                                                             | 0/30 [00:00<?, ?it/s]\u001b[A\n",
      " 33%|█████████████████▎                                  | 10/30 [00:00<00:00, 92.71it/s]\u001b[A"
     ]
    },
    {
     "name": "stdout",
     "output_type": "stream",
     "text": [
      "Epoch 3, loss: 3918160.751927\n"
     ]
    },
    {
     "name": "stderr",
     "output_type": "stream",
     "text": [
      "\n",
      " 67%|██████████████████████████████████▋                 | 20/30 [00:00<00:00, 93.75it/s]\u001b[A\n",
      "100%|████████████████████████████████████████████████████| 30/30 [00:00<00:00, 93.87it/s]\u001b[A\n",
      "  5%|██▌                                                 | 5/100 [00:01<00:33,  2.82it/s]\n",
      "  0%|                                                             | 0/30 [00:00<?, ?it/s]\u001b[A\n",
      " 30%|███████████████▉                                     | 9/30 [00:00<00:00, 86.64it/s]\u001b[A"
     ]
    },
    {
     "name": "stdout",
     "output_type": "stream",
     "text": [
      "Epoch 4, loss: 2780254.864109\n"
     ]
    },
    {
     "name": "stderr",
     "output_type": "stream",
     "text": [
      "\n",
      " 63%|████████████████████████████████▉                   | 19/30 [00:00<00:00, 88.38it/s]\u001b[A\n",
      "100%|████████████████████████████████████████████████████| 30/30 [00:00<00:00, 92.70it/s]\u001b[A\n",
      "  6%|███                                                 | 6/100 [00:02<00:32,  2.88it/s]\n",
      "  0%|                                                             | 0/30 [00:00<?, ?it/s]\u001b[A\n",
      " 27%|██████████████▏                                      | 8/30 [00:00<00:00, 77.02it/s]\u001b[A"
     ]
    },
    {
     "name": "stdout",
     "output_type": "stream",
     "text": [
      "Epoch 5, loss: 3105984.568027\n"
     ]
    },
    {
     "name": "stderr",
     "output_type": "stream",
     "text": [
      "\n",
      " 50%|██████████████████████████                          | 15/30 [00:00<00:00, 73.86it/s]\u001b[A\n",
      "100%|████████████████████████████████████████████████████| 30/30 [00:00<00:00, 73.63it/s]\u001b[A\n",
      "  7%|███▋                                                | 7/100 [00:02<00:34,  2.73it/s]\n",
      "  0%|                                                             | 0/30 [00:00<?, ?it/s]\u001b[A\n",
      " 27%|██████████████▏                                      | 8/30 [00:00<00:00, 74.17it/s]\u001b[A"
     ]
    },
    {
     "name": "stdout",
     "output_type": "stream",
     "text": [
      "Epoch 6, loss: 3372594.380183\n"
     ]
    },
    {
     "name": "stderr",
     "output_type": "stream",
     "text": [
      "\n",
      " 50%|██████████████████████████                          | 15/30 [00:00<00:00, 72.00it/s]\u001b[A\n",
      "100%|████████████████████████████████████████████████████| 30/30 [00:00<00:00, 73.62it/s]\u001b[A\n",
      "  8%|████▏                                               | 8/100 [00:02<00:35,  2.62it/s]\n",
      "  0%|                                                             | 0/30 [00:00<?, ?it/s]\u001b[A\n",
      " 30%|███████████████▉                                     | 9/30 [00:00<00:00, 80.45it/s]\u001b[A"
     ]
    },
    {
     "name": "stdout",
     "output_type": "stream",
     "text": [
      "Epoch 7, loss: 3719077.858952\n"
     ]
    },
    {
     "name": "stderr",
     "output_type": "stream",
     "text": [
      "\n",
      " 60%|███████████████████████████████▏                    | 18/30 [00:00<00:00, 81.33it/s]\u001b[A\n",
      "100%|████████████████████████████████████████████████████| 30/30 [00:00<00:00, 83.44it/s]\u001b[A\n",
      "  9%|████▋                                               | 9/100 [00:03<00:34,  2.65it/s]\n",
      "  0%|                                                             | 0/30 [00:00<?, ?it/s]\u001b[A\n",
      " 30%|███████████████▉                                     | 9/30 [00:00<00:00, 80.43it/s]\u001b[A"
     ]
    },
    {
     "name": "stdout",
     "output_type": "stream",
     "text": [
      "Epoch 8, loss: 3205876.779294\n"
     ]
    },
    {
     "name": "stderr",
     "output_type": "stream",
     "text": [
      "\n",
      " 67%|██████████████████████████████████▋                 | 20/30 [00:00<00:00, 85.89it/s]\u001b[A\n",
      "100%|████████████████████████████████████████████████████| 30/30 [00:00<00:00, 87.31it/s]\u001b[A\n",
      " 10%|█████                                              | 10/100 [00:03<00:33,  2.73it/s]\n",
      "  0%|                                                             | 0/30 [00:00<?, ?it/s]\u001b[A\n",
      " 33%|█████████████████▎                                  | 10/30 [00:00<00:00, 92.72it/s]\u001b[A"
     ]
    },
    {
     "name": "stdout",
     "output_type": "stream",
     "text": [
      "Epoch 9, loss: 2877887.315898\n"
     ]
    },
    {
     "name": "stderr",
     "output_type": "stream",
     "text": [
      "\n",
      " 67%|██████████████████████████████████▋                 | 20/30 [00:00<00:00, 92.72it/s]\u001b[A\n",
      "100%|████████████████████████████████████████████████████| 30/30 [00:00<00:00, 89.39it/s]\u001b[A\n",
      " 11%|█████▌                                             | 11/100 [00:03<00:32,  2.78it/s]\n",
      "  0%|                                                             | 0/30 [00:00<?, ?it/s]\u001b[A\n",
      " 40%|████████████████████▍                              | 12/30 [00:00<00:00, 111.26it/s]\u001b[A"
     ]
    },
    {
     "name": "stdout",
     "output_type": "stream",
     "text": [
      "Epoch 10, loss: 2881202.306063\n"
     ]
    },
    {
     "name": "stderr",
     "output_type": "stream",
     "text": [
      "\n",
      "100%|███████████████████████████████████████████████████| 30/30 [00:00<00:00, 101.49it/s]\u001b[A\n",
      " 12%|██████                                             | 12/100 [00:04<00:30,  2.93it/s]\n",
      "  0%|                                                             | 0/30 [00:00<?, ?it/s]\u001b[A\n",
      " 37%|██████████████████▋                                | 11/30 [00:00<00:00, 105.91it/s]\u001b[A"
     ]
    },
    {
     "name": "stdout",
     "output_type": "stream",
     "text": [
      "Epoch 11, loss: 3379087.129528\n"
     ]
    },
    {
     "name": "stderr",
     "output_type": "stream",
     "text": [
      "\n",
      " 70%|████████████████████████████████████▍               | 21/30 [00:00<00:00, 99.12it/s]\u001b[A\n",
      "100%|████████████████████████████████████████████████████| 30/30 [00:00<00:00, 87.31it/s]\u001b[A\n",
      " 13%|██████▋                                            | 13/100 [00:04<00:29,  2.91it/s]\n",
      "  0%|                                                             | 0/30 [00:00<?, ?it/s]\u001b[A\n",
      " 30%|███████████████▉                                     | 9/30 [00:00<00:00, 86.65it/s]\u001b[A"
     ]
    },
    {
     "name": "stdout",
     "output_type": "stream",
     "text": [
      "Epoch 12, loss: 3050328.861782\n"
     ]
    },
    {
     "name": "stderr",
     "output_type": "stream",
     "text": [
      "\n",
      " 63%|████████████████████████████████▉                   | 19/30 [00:00<00:00, 89.33it/s]\u001b[A\n",
      "100%|████████████████████████████████████████████████████| 30/30 [00:00<00:00, 91.59it/s]\u001b[A\n",
      " 14%|███████▏                                           | 14/100 [00:04<00:29,  2.93it/s]\n",
      "  0%|                                                             | 0/30 [00:00<?, ?it/s]\u001b[A\n",
      " 37%|██████████████████▋                                | 11/30 [00:00<00:00, 101.91it/s]\u001b[A"
     ]
    },
    {
     "name": "stdout",
     "output_type": "stream",
     "text": [
      "Epoch 13, loss: 3857262.173598\n"
     ]
    },
    {
     "name": "stderr",
     "output_type": "stream",
     "text": [
      "\n",
      " 67%|██████████████████████████████████▋                 | 20/30 [00:00<00:00, 94.38it/s]\u001b[A\n",
      "100%|████████████████████████████████████████████████████| 30/30 [00:00<00:00, 83.44it/s]\u001b[A\n",
      " 15%|███████▋                                           | 15/100 [00:05<00:29,  2.87it/s]\n",
      "  0%|                                                             | 0/30 [00:00<?, ?it/s]\u001b[A\n",
      " 27%|██████████████▏                                      | 8/30 [00:00<00:00, 77.01it/s]\u001b[A"
     ]
    },
    {
     "name": "stdout",
     "output_type": "stream",
     "text": [
      "Epoch 14, loss: 3352469.965473\n"
     ]
    },
    {
     "name": "stderr",
     "output_type": "stream",
     "text": [
      "\n",
      " 53%|███████████████████████████▋                        | 16/30 [00:00<00:00, 77.02it/s]\u001b[A\n",
      "100%|████████████████████████████████████████████████████| 30/30 [00:00<00:00, 76.63it/s]\u001b[A\n",
      " 16%|████████▏                                          | 16/100 [00:05<00:30,  2.76it/s]\n",
      "  0%|                                                             | 0/30 [00:00<?, ?it/s]\u001b[A\n",
      " 27%|██████████████▏                                      | 8/30 [00:00<00:00, 77.02it/s]\u001b[A"
     ]
    },
    {
     "name": "stdout",
     "output_type": "stream",
     "text": [
      "Epoch 15, loss: 3827117.534137\n"
     ]
    },
    {
     "name": "stderr",
     "output_type": "stream",
     "text": [
      "\n",
      " 53%|███████████████████████████▋                        | 16/30 [00:00<00:00, 77.02it/s]\u001b[A\n",
      "100%|████████████████████████████████████████████████████| 30/30 [00:00<00:00, 82.52it/s]\u001b[A\n",
      " 17%|████████▋                                          | 17/100 [00:06<00:30,  2.74it/s]\n",
      "  0%|                                                             | 0/30 [00:00<?, ?it/s]\u001b[A\n",
      " 37%|██████████████████▋                                | 11/30 [00:00<00:00, 105.88it/s]\u001b[A"
     ]
    },
    {
     "name": "stdout",
     "output_type": "stream",
     "text": [
      "Epoch 16, loss: 2658030.912434\n"
     ]
    },
    {
     "name": "stderr",
     "output_type": "stream",
     "text": [
      "\n",
      " 70%|███████████████████████████████████▋               | 21/30 [00:00<00:00, 101.56it/s]\u001b[A\n",
      "100%|████████████████████████████████████████████████████| 30/30 [00:00<00:00, 89.40it/s]\u001b[A\n",
      " 18%|█████████▏                                         | 18/100 [00:06<00:29,  2.80it/s]\n",
      "  0%|                                                             | 0/30 [00:00<?, ?it/s]\u001b[A\n",
      " 33%|█████████████████▎                                  | 10/30 [00:00<00:00, 92.72it/s]\u001b[A"
     ]
    },
    {
     "name": "stdout",
     "output_type": "stream",
     "text": [
      "Epoch 17, loss: 2871577.882510\n"
     ]
    },
    {
     "name": "stderr",
     "output_type": "stream",
     "text": [
      "\n",
      " 63%|████████████████████████████████▉                   | 19/30 [00:00<00:00, 90.81it/s]\u001b[A\n",
      "100%|████████████████████████████████████████████████████| 30/30 [00:00<00:00, 87.33it/s]\u001b[A\n",
      " 19%|█████████▋                                         | 19/100 [00:06<00:28,  2.82it/s]\n",
      "  0%|                                                             | 0/30 [00:00<?, ?it/s]\u001b[A\n",
      " 30%|███████████████▉                                     | 9/30 [00:00<00:00, 80.47it/s]\u001b[A"
     ]
    },
    {
     "name": "stdout",
     "output_type": "stream",
     "text": [
      "Epoch 18, loss: 3437411.657104\n"
     ]
    },
    {
     "name": "stderr",
     "output_type": "stream",
     "text": [
      "\n",
      " 57%|█████████████████████████████▍                      | 17/30 [00:00<00:00, 79.40it/s]\u001b[A\n",
      "100%|████████████████████████████████████████████████████| 30/30 [00:00<00:00, 74.36it/s]\u001b[A\n",
      " 20%|██████████▏                                        | 20/100 [00:07<00:29,  2.69it/s]\n",
      "  0%|                                                             | 0/30 [00:00<?, ?it/s]\u001b[A\n",
      " 37%|██████████████████▋                                | 11/30 [00:00<00:00, 105.91it/s]\u001b[A"
     ]
    },
    {
     "name": "stdout",
     "output_type": "stream",
     "text": [
      "Epoch 19, loss: 3501344.125191\n"
     ]
    },
    {
     "name": "stderr",
     "output_type": "stream",
     "text": [
      "\n",
      " 70%|███████████████████████████████████▋               | 21/30 [00:00<00:00, 102.82it/s]\u001b[A\n",
      "100%|████████████████████████████████████████████████████| 30/30 [00:00<00:00, 95.06it/s]\u001b[A\n",
      " 21%|██████████▋                                        | 21/100 [00:07<00:28,  2.81it/s]\n",
      "  0%|                                                             | 0/30 [00:00<?, ?it/s]\u001b[A\n",
      " 33%|█████████████████▎                                  | 10/30 [00:00<00:00, 92.72it/s]\u001b[A"
     ]
    },
    {
     "name": "stdout",
     "output_type": "stream",
     "text": [
      "Epoch 20, loss: 3543305.356802\n"
     ]
    },
    {
     "name": "stderr",
     "output_type": "stream",
     "text": [
      "\n",
      " 70%|████████████████████████████████████▍               | 21/30 [00:00<00:00, 94.33it/s]\u001b[A\n",
      "100%|████████████████████████████████████████████████████| 30/30 [00:00<00:00, 92.71it/s]\u001b[A\n",
      " 22%|███████████▏                                       | 22/100 [00:07<00:27,  2.87it/s]\n",
      "  0%|                                                             | 0/30 [00:00<?, ?it/s]\u001b[A\n",
      " 33%|█████████████████▎                                  | 10/30 [00:00<00:00, 92.74it/s]\u001b[A"
     ]
    },
    {
     "name": "stdout",
     "output_type": "stream",
     "text": [
      "Epoch 21, loss: 2927062.955932\n"
     ]
    },
    {
     "name": "stderr",
     "output_type": "stream",
     "text": [
      "\n",
      " 67%|██████████████████████████████████▋                 | 20/30 [00:00<00:00, 92.74it/s]\u001b[A\n",
      "100%|████████████████████████████████████████████████████| 30/30 [00:00<00:00, 92.73it/s]\u001b[A\n",
      " 23%|███████████▋                                       | 23/100 [00:08<00:26,  2.93it/s]\n",
      "  0%|                                                             | 0/30 [00:00<?, ?it/s]\u001b[A\n",
      " 37%|██████████████████▋                                | 11/30 [00:00<00:00, 105.90it/s]\u001b[A"
     ]
    },
    {
     "name": "stdout",
     "output_type": "stream",
     "text": [
      "Epoch 22, loss: 2666750.389256\n"
     ]
    },
    {
     "name": "stderr",
     "output_type": "stream",
     "text": [
      "\n",
      "100%|███████████████████████████████████████████████████| 30/30 [00:00<00:00, 100.13it/s]\u001b[A\n",
      " 24%|████████████▏                                      | 24/100 [00:08<00:25,  3.03it/s]\n",
      "  0%|                                                             | 0/30 [00:00<?, ?it/s]\u001b[A\n",
      " 37%|██████████████████▋                                | 11/30 [00:00<00:00, 101.99it/s]\u001b[A"
     ]
    },
    {
     "name": "stdout",
     "output_type": "stream",
     "text": [
      "Epoch 23, loss: 2895242.334757\n"
     ]
    },
    {
     "name": "stderr",
     "output_type": "stream",
     "text": [
      "\n",
      " 67%|██████████████████████████████████▋                 | 20/30 [00:00<00:00, 94.41it/s]\u001b[A\n",
      "100%|████████████████████████████████████████████████████| 30/30 [00:00<00:00, 85.34it/s]\u001b[A\n",
      " 25%|████████████▊                                      | 25/100 [00:08<00:25,  2.96it/s]\n",
      "  0%|                                                             | 0/30 [00:00<?, ?it/s]\u001b[A\n",
      " 30%|███████████████▉                                     | 9/30 [00:00<00:00, 86.66it/s]\u001b[A"
     ]
    },
    {
     "name": "stdout",
     "output_type": "stream",
     "text": [
      "Epoch 24, loss: 2899987.869783\n"
     ]
    },
    {
     "name": "stderr",
     "output_type": "stream",
     "text": [
      "\n",
      " 57%|█████████████████████████████▍                      | 17/30 [00:00<00:00, 82.49it/s]\u001b[A\n",
      "100%|████████████████████████████████████████████████████| 30/30 [00:00<00:00, 77.42it/s]\u001b[A\n",
      " 26%|█████████████▎                                     | 26/100 [00:09<00:26,  2.82it/s]\n",
      "  0%|                                                             | 0/30 [00:00<?, ?it/s]\u001b[A\n",
      " 33%|█████████████████▎                                  | 10/30 [00:00<00:00, 92.71it/s]\u001b[A"
     ]
    },
    {
     "name": "stdout",
     "output_type": "stream",
     "text": [
      "Epoch 25, loss: 2826690.515644\n"
     ]
    },
    {
     "name": "stderr",
     "output_type": "stream",
     "text": [
      "\n",
      " 67%|██████████████████████████████████▋                 | 20/30 [00:00<00:00, 92.71it/s]\u001b[A\n",
      "100%|████████████████████████████████████████████████████| 30/30 [00:00<00:00, 93.50it/s]\u001b[A\n",
      " 27%|█████████████▊                                     | 27/100 [00:09<00:25,  2.89it/s]\n",
      "  0%|                                                             | 0/30 [00:00<?, ?it/s]\u001b[A\n",
      " 37%|██████████████████▋                                | 11/30 [00:00<00:00, 105.90it/s]\u001b[A"
     ]
    },
    {
     "name": "stdout",
     "output_type": "stream",
     "text": [
      "Epoch 26, loss: 3888089.925734\n"
     ]
    },
    {
     "name": "stderr",
     "output_type": "stream",
     "text": [
      "\n",
      " 73%|█████████████████████████████████████▍             | 22/30 [00:00<00:00, 102.36it/s]\u001b[A\n",
      "100%|████████████████████████████████████████████████████| 30/30 [00:00<00:00, 91.58it/s]\u001b[A\n",
      " 28%|██████████████▎                                    | 28/100 [00:09<00:24,  2.92it/s]\n",
      "  0%|                                                             | 0/30 [00:00<?, ?it/s]\u001b[A\n",
      " 30%|███████████████▉                                     | 9/30 [00:00<00:00, 83.44it/s]\u001b[A"
     ]
    },
    {
     "name": "stdout",
     "output_type": "stream",
     "text": [
      "Epoch 27, loss: 3573773.878182\n"
     ]
    },
    {
     "name": "stderr",
     "output_type": "stream",
     "text": [
      "\n",
      " 63%|████████████████████████████████▉                   | 19/30 [00:00<00:00, 86.02it/s]\u001b[A\n",
      "100%|████████████████████████████████████████████████████| 30/30 [00:00<00:00, 91.59it/s]\u001b[A\n",
      " 29%|██████████████▊                                    | 29/100 [00:10<00:24,  2.96it/s]\n",
      "  0%|                                                             | 0/30 [00:00<?, ?it/s]\u001b[A\n",
      " 40%|████████████████████▍                              | 12/30 [00:00<00:00, 107.29it/s]\u001b[A"
     ]
    },
    {
     "name": "stdout",
     "output_type": "stream",
     "text": [
      "Epoch 28, loss: 3392771.144879\n"
     ]
    },
    {
     "name": "stderr",
     "output_type": "stream",
     "text": [
      "\n",
      "100%|███████████████████████████████████████████████████| 30/30 [00:00<00:00, 101.48it/s]\u001b[A\n",
      " 30%|███████████████▎                                   | 30/100 [00:10<00:22,  3.05it/s]\n",
      "  0%|                                                             | 0/30 [00:00<?, ?it/s]\u001b[A\n",
      " 30%|███████████████▉                                     | 9/30 [00:00<00:00, 80.46it/s]\u001b[A"
     ]
    },
    {
     "name": "stdout",
     "output_type": "stream",
     "text": [
      "Epoch 29, loss: 4106127.288384\n"
     ]
    },
    {
     "name": "stderr",
     "output_type": "stream",
     "text": [
      "\n",
      " 57%|█████████████████████████████▍                      | 17/30 [00:00<00:00, 78.47it/s]\u001b[A\n",
      "100%|████████████████████████████████████████████████████| 30/30 [00:00<00:00, 82.53it/s]\u001b[A\n",
      " 31%|███████████████▊                                   | 31/100 [00:10<00:23,  2.94it/s]\n",
      "  0%|                                                             | 0/30 [00:00<?, ?it/s]\u001b[A\n",
      " 37%|██████████████████▋                                | 11/30 [00:00<00:00, 105.91it/s]\u001b[A"
     ]
    },
    {
     "name": "stdout",
     "output_type": "stream",
     "text": [
      "Epoch 30, loss: 3338352.358211\n"
     ]
    },
    {
     "name": "stderr",
     "output_type": "stream",
     "text": [
      "\n",
      "100%|███████████████████████████████████████████████████| 30/30 [00:00<00:00, 100.13it/s]\u001b[A\n",
      " 32%|████████████████▎                                  | 32/100 [00:11<00:22,  3.03it/s]\n",
      "  0%|                                                             | 0/30 [00:00<?, ?it/s]\u001b[A\n",
      " 33%|█████████████████▎                                  | 10/30 [00:00<00:00, 89.40it/s]\u001b[A"
     ]
    },
    {
     "name": "stdout",
     "output_type": "stream",
     "text": [
      "Epoch 31, loss: 2862880.148566\n"
     ]
    },
    {
     "name": "stderr",
     "output_type": "stream",
     "text": [
      "\n",
      " 63%|████████████████████████████████▉                   | 19/30 [00:00<00:00, 87.53it/s]\u001b[A\n",
      "100%|████████████████████████████████████████████████████| 30/30 [00:00<00:00, 90.48it/s]\u001b[A\n",
      " 33%|████████████████▊                                  | 33/100 [00:11<00:22,  3.01it/s]\n",
      "  0%|                                                             | 0/30 [00:00<?, ?it/s]\u001b[A\n",
      " 33%|█████████████████▎                                  | 10/30 [00:00<00:00, 92.72it/s]\u001b[A"
     ]
    },
    {
     "name": "stdout",
     "output_type": "stream",
     "text": [
      "Epoch 32, loss: 2635618.563888\n"
     ]
    },
    {
     "name": "stderr",
     "output_type": "stream",
     "text": [
      "\n",
      "100%|████████████████████████████████████████████████████| 30/30 [00:00<00:00, 96.28it/s]\u001b[A\n",
      " 34%|█████████████████▎                                 | 34/100 [00:11<00:21,  3.06it/s]\n",
      "  0%|                                                             | 0/30 [00:00<?, ?it/s]\u001b[A\n",
      " 33%|█████████████████▎                                  | 10/30 [00:00<00:00, 96.28it/s]\u001b[A"
     ]
    },
    {
     "name": "stdout",
     "output_type": "stream",
     "text": [
      "Epoch 33, loss: 4567155.018867\n"
     ]
    },
    {
     "name": "stderr",
     "output_type": "stream",
     "text": [
      "\n",
      " 63%|████████████████████████████████▉                   | 19/30 [00:00<00:00, 92.03it/s]\u001b[A\n",
      "100%|████████████████████████████████████████████████████| 30/30 [00:00<00:00, 87.32it/s]\u001b[A\n",
      " 35%|█████████████████▊                                 | 35/100 [00:12<00:21,  3.00it/s]\n",
      "  0%|                                                             | 0/30 [00:00<?, ?it/s]\u001b[A\n",
      " 33%|█████████████████▎                                  | 10/30 [00:00<00:00, 92.72it/s]\u001b[A"
     ]
    },
    {
     "name": "stdout",
     "output_type": "stream",
     "text": [
      "Epoch 34, loss: 3341868.137451\n"
     ]
    },
    {
     "name": "stderr",
     "output_type": "stream",
     "text": [
      "\n",
      "100%|████████████████████████████████████████████████████| 30/30 [00:00<00:00, 98.82it/s]\u001b[A\n",
      " 36%|██████████████████▎                                | 36/100 [00:12<00:20,  3.06it/s]\n",
      "  0%|                                                             | 0/30 [00:00<?, ?it/s]\u001b[A\n",
      " 37%|██████████████████▋                                | 11/30 [00:00<00:00, 101.99it/s]\u001b[A"
     ]
    },
    {
     "name": "stdout",
     "output_type": "stream",
     "text": [
      "Epoch 35, loss: 4161184.677293\n"
     ]
    },
    {
     "name": "stderr",
     "output_type": "stream",
     "text": [
      "\n",
      " 63%|████████████████████████████████▉                   | 19/30 [00:00<00:00, 91.67it/s]\u001b[A\n",
      "100%|████████████████████████████████████████████████████| 30/30 [00:00<00:00, 85.34it/s]\u001b[A\n",
      " 37%|██████████████████▊                                | 37/100 [00:12<00:21,  2.97it/s]\n",
      "  0%|                                                             | 0/30 [00:00<?, ?it/s]\u001b[A\n",
      " 37%|██████████████████▋                                | 11/30 [00:00<00:00, 101.99it/s]\u001b[A"
     ]
    },
    {
     "name": "stdout",
     "output_type": "stream",
     "text": [
      "Epoch 36, loss: 2733601.512614\n"
     ]
    },
    {
     "name": "stderr",
     "output_type": "stream",
     "text": [
      "\n",
      "100%|████████████████████████████████████████████████████| 30/30 [00:00<00:00, 97.53it/s]\u001b[A\n",
      " 38%|███████████████████▍                               | 38/100 [00:13<00:20,  3.03it/s]\n",
      "  0%|                                                             | 0/30 [00:00<?, ?it/s]\u001b[A\n",
      " 37%|██████████████████▋                                | 11/30 [00:00<00:00, 105.87it/s]\u001b[A"
     ]
    },
    {
     "name": "stdout",
     "output_type": "stream",
     "text": [
      "Epoch 37, loss: 2764736.786068\n"
     ]
    },
    {
     "name": "stderr",
     "output_type": "stream",
     "text": [
      "\n",
      " 67%|██████████████████████████████████▋                 | 20/30 [00:00<00:00, 95.49it/s]\u001b[A\n",
      "100%|████████████████████████████████████████████████████| 30/30 [00:00<00:00, 88.35it/s]\u001b[A\n",
      " 39%|███████████████████▉                               | 39/100 [00:13<00:20,  2.98it/s]\n",
      "  0%|                                                             | 0/30 [00:00<?, ?it/s]\u001b[A\n",
      " 37%|██████████████████▋                                | 11/30 [00:00<00:00, 101.99it/s]\u001b[A"
     ]
    },
    {
     "name": "stdout",
     "output_type": "stream",
     "text": [
      "Epoch 38, loss: 2786337.675256\n"
     ]
    },
    {
     "name": "stderr",
     "output_type": "stream",
     "text": [
      "\n",
      "100%|████████████████████████████████████████████████████| 30/30 [00:00<00:00, 98.82it/s]\u001b[A\n",
      " 40%|████████████████████▍                              | 40/100 [00:13<00:19,  3.06it/s]\n",
      "  0%|                                                             | 0/30 [00:00<?, ?it/s]\u001b[A\n",
      " 37%|██████████████████▋                                | 11/30 [00:00<00:00, 105.91it/s]\u001b[A"
     ]
    },
    {
     "name": "stdout",
     "output_type": "stream",
     "text": [
      "Epoch 39, loss: 3563308.917741\n"
     ]
    },
    {
     "name": "stderr",
     "output_type": "stream",
     "text": [
      "\n",
      " 67%|██████████████████████████████████▋                 | 20/30 [00:00<00:00, 99.29it/s]\u001b[A\n",
      "100%|████████████████████████████████████████████████████| 30/30 [00:00<00:00, 93.87it/s]\u001b[A\n",
      " 41%|████████████████████▉                              | 41/100 [00:14<00:19,  3.07it/s]\n",
      "  0%|                                                             | 0/30 [00:00<?, ?it/s]\u001b[A\n",
      " 40%|████████████████████▍                              | 12/30 [00:00<00:00, 107.30it/s]\u001b[A"
     ]
    },
    {
     "name": "stdout",
     "output_type": "stream",
     "text": [
      "Epoch 40, loss: 2808581.432315\n"
     ]
    },
    {
     "name": "stderr",
     "output_type": "stream",
     "text": [
      "\n",
      "100%|███████████████████████████████████████████████████| 30/30 [00:00<00:00, 100.14it/s]\u001b[A\n",
      " 42%|█████████████████████▍                             | 42/100 [00:14<00:18,  3.12it/s]\n",
      "  0%|                                                             | 0/30 [00:00<?, ?it/s]\u001b[A\n",
      " 37%|██████████████████▋                                | 11/30 [00:00<00:00, 105.91it/s]\u001b[A"
     ]
    },
    {
     "name": "stdout",
     "output_type": "stream",
     "text": [
      "Epoch 41, loss: 3513747.988578\n"
     ]
    },
    {
     "name": "stderr",
     "output_type": "stream",
     "text": [
      "\n",
      " 67%|██████████████████████████████████▋                 | 20/30 [00:00<00:00, 99.27it/s]\u001b[A\n",
      "100%|████████████████████████████████████████████████████| 30/30 [00:00<00:00, 93.88it/s]\u001b[A\n",
      " 43%|█████████████████████▉                             | 43/100 [00:14<00:18,  3.11it/s]\n",
      "  0%|                                                             | 0/30 [00:00<?, ?it/s]\u001b[A\n",
      " 33%|█████████████████▎                                  | 10/30 [00:00<00:00, 96.28it/s]\u001b[A"
     ]
    },
    {
     "name": "stdout",
     "output_type": "stream",
     "text": [
      "Epoch 42, loss: 3120072.644256\n"
     ]
    },
    {
     "name": "stderr",
     "output_type": "stream",
     "text": [
      "\n",
      "100%|████████████████████████████████████████████████████| 30/30 [00:00<00:00, 98.82it/s]\u001b[A\n",
      " 44%|██████████████████████▍                            | 44/100 [00:15<00:17,  3.15it/s]\n",
      "  0%|                                                             | 0/30 [00:00<?, ?it/s]\u001b[A\n",
      " 40%|████████████████████▍                              | 12/30 [00:00<00:00, 111.29it/s]\u001b[A"
     ]
    },
    {
     "name": "stdout",
     "output_type": "stream",
     "text": [
      "Epoch 43, loss: 3363495.955084\n"
     ]
    },
    {
     "name": "stderr",
     "output_type": "stream",
     "text": [
      "\n",
      "100%|███████████████████████████████████████████████████| 30/30 [00:00<00:00, 102.89it/s]\u001b[A\n",
      " 45%|██████████████████████▉                            | 45/100 [00:15<00:17,  3.21it/s]\n",
      "  0%|                                                             | 0/30 [00:00<?, ?it/s]\u001b[A\n",
      " 40%|████████████████████▍                              | 12/30 [00:00<00:00, 111.25it/s]\u001b[A"
     ]
    },
    {
     "name": "stdout",
     "output_type": "stream",
     "text": [
      "Epoch 44, loss: 3349607.916689\n"
     ]
    },
    {
     "name": "stderr",
     "output_type": "stream",
     "text": [
      "\n",
      "100%|███████████████████████████████████████████████████| 30/30 [00:00<00:00, 102.88it/s]\u001b[A\n",
      " 46%|███████████████████████▍                           | 46/100 [00:15<00:16,  3.24it/s]\n",
      "  0%|                                                             | 0/30 [00:00<?, ?it/s]\u001b[A\n",
      " 37%|██████████████████▋                                | 11/30 [00:00<00:00, 101.99it/s]\u001b[A"
     ]
    },
    {
     "name": "stdout",
     "output_type": "stream",
     "text": [
      "Epoch 45, loss: 3563655.939211\n"
     ]
    },
    {
     "name": "stderr",
     "output_type": "stream",
     "text": [
      "\n",
      "100%|███████████████████████████████████████████████████| 30/30 [00:00<00:00, 102.87it/s]\u001b[A\n",
      " 47%|███████████████████████▉                           | 47/100 [00:15<00:16,  3.28it/s]\n",
      "  0%|                                                             | 0/30 [00:00<?, ?it/s]\u001b[A\n",
      " 40%|████████████████████▍                              | 12/30 [00:00<00:00, 115.57it/s]\u001b[A"
     ]
    },
    {
     "name": "stdout",
     "output_type": "stream",
     "text": [
      "Epoch 46, loss: 2918243.964059\n"
     ]
    },
    {
     "name": "stderr",
     "output_type": "stream",
     "text": [
      "\n",
      "100%|███████████████████████████████████████████████████| 30/30 [00:00<00:00, 107.29it/s]\u001b[A\n",
      " 48%|████████████████████████▍                          | 48/100 [00:16<00:15,  3.35it/s]\n",
      "  0%|                                                             | 0/30 [00:00<?, ?it/s]\u001b[A\n",
      " 30%|███████████████▉                                     | 9/30 [00:00<00:00, 83.44it/s]\u001b[A"
     ]
    },
    {
     "name": "stdout",
     "output_type": "stream",
     "text": [
      "Epoch 47, loss: 3114149.532356\n"
     ]
    },
    {
     "name": "stderr",
     "output_type": "stream",
     "text": [
      "\n",
      " 57%|█████████████████████████████▍                      | 17/30 [00:00<00:00, 80.43it/s]\u001b[A\n",
      "100%|████████████████████████████████████████████████████| 30/30 [00:00<00:00, 86.32it/s]\u001b[A\n",
      " 49%|████████████████████████▉                          | 49/100 [00:16<00:16,  3.18it/s]\n",
      "  0%|                                                             | 0/30 [00:00<?, ?it/s]\u001b[A\n",
      " 33%|█████████████████▎                                  | 10/30 [00:00<00:00, 92.72it/s]\u001b[A"
     ]
    },
    {
     "name": "stdout",
     "output_type": "stream",
     "text": [
      "Epoch 48, loss: 3036433.210916\n"
     ]
    },
    {
     "name": "stderr",
     "output_type": "stream",
     "text": [
      "\n",
      "100%|████████████████████████████████████████████████████| 30/30 [00:00<00:00, 98.82it/s]\u001b[A\n",
      " 50%|█████████████████████████▌                         | 50/100 [00:16<00:15,  3.20it/s]\n",
      "  0%|                                                             | 0/30 [00:00<?, ?it/s]\u001b[A\n",
      " 37%|██████████████████▋                                | 11/30 [00:00<00:00, 105.90it/s]\u001b[A"
     ]
    },
    {
     "name": "stdout",
     "output_type": "stream",
     "text": [
      "Epoch 49, loss: 3904735.395839\n"
     ]
    },
    {
     "name": "stderr",
     "output_type": "stream",
     "text": [
      "\n",
      "100%|███████████████████████████████████████████████████| 30/30 [00:00<00:00, 102.87it/s]\u001b[A\n",
      " 51%|██████████████████████████                         | 51/100 [00:17<00:15,  3.25it/s]\n",
      "  0%|                                                             | 0/30 [00:00<?, ?it/s]\u001b[A\n",
      " 30%|███████████████▉                                     | 9/30 [00:00<00:00, 77.68it/s]\u001b[A"
     ]
    },
    {
     "name": "stdout",
     "output_type": "stream",
     "text": [
      "Epoch 50, loss: 3631978.609333\n"
     ]
    },
    {
     "name": "stderr",
     "output_type": "stream",
     "text": [
      "\n",
      " 60%|███████████████████████████████▏                    | 18/30 [00:00<00:00, 76.89it/s]\u001b[A\n",
      "100%|████████████████████████████████████████████████████| 30/30 [00:00<00:00, 79.90it/s]\u001b[A\n",
      " 52%|██████████████████████████▌                        | 52/100 [00:17<00:15,  3.03it/s]\n",
      "  0%|                                                             | 0/30 [00:00<?, ?it/s]\u001b[A\n",
      " 33%|█████████████████▎                                  | 10/30 [00:00<00:00, 92.72it/s]\u001b[A"
     ]
    },
    {
     "name": "stdout",
     "output_type": "stream",
     "text": [
      "Epoch 51, loss: 2924424.528648\n"
     ]
    },
    {
     "name": "stderr",
     "output_type": "stream",
     "text": [
      "\n",
      "100%|████████████████████████████████████████████████████| 30/30 [00:00<00:00, 98.82it/s]\u001b[A\n",
      " 53%|███████████████████████████                        | 53/100 [00:17<00:15,  3.09it/s]\n",
      "  0%|                                                             | 0/30 [00:00<?, ?it/s]\u001b[A\n",
      " 40%|████████████████████▍                              | 12/30 [00:00<00:00, 111.26it/s]\u001b[A"
     ]
    },
    {
     "name": "stdout",
     "output_type": "stream",
     "text": [
      "Epoch 52, loss: 4588816.157093\n"
     ]
    },
    {
     "name": "stderr",
     "output_type": "stream",
     "text": [
      "\n",
      "100%|███████████████████████████████████████████████████| 30/30 [00:00<00:00, 102.86it/s]\u001b[A\n",
      " 54%|███████████████████████████▌                       | 54/100 [00:18<00:14,  3.17it/s]\n",
      "  0%|                                                             | 0/30 [00:00<?, ?it/s]\u001b[A\n",
      " 30%|███████████████▉                                     | 9/30 [00:00<00:00, 83.44it/s]\u001b[A"
     ]
    },
    {
     "name": "stdout",
     "output_type": "stream",
     "text": [
      "Epoch 53, loss: 5082009.293112\n"
     ]
    },
    {
     "name": "stderr",
     "output_type": "stream",
     "text": [
      "\n",
      " 60%|███████████████████████████████▏                    | 18/30 [00:00<00:00, 83.43it/s]\u001b[A\n",
      "100%|████████████████████████████████████████████████████| 30/30 [00:00<00:00, 85.34it/s]\u001b[A\n",
      " 55%|████████████████████████████                       | 55/100 [00:18<00:14,  3.05it/s]\n",
      "  0%|                                                             | 0/30 [00:00<?, ?it/s]\u001b[A\n",
      " 30%|███████████████▉                                     | 9/30 [00:00<00:00, 86.65it/s]\u001b[A"
     ]
    },
    {
     "name": "stdout",
     "output_type": "stream",
     "text": [
      "Epoch 54, loss: 3244602.216171\n"
     ]
    },
    {
     "name": "stderr",
     "output_type": "stream",
     "text": [
      "\n",
      "100%|████████████████████████████████████████████████████| 30/30 [00:00<00:00, 98.82it/s]\u001b[A\n",
      " 56%|████████████████████████████▌                      | 56/100 [00:18<00:14,  3.09it/s]\n",
      "  0%|                                                             | 0/30 [00:00<?, ?it/s]\u001b[A\n",
      " 37%|██████████████████▋                                | 11/30 [00:00<00:00, 105.91it/s]\u001b[A"
     ]
    },
    {
     "name": "stdout",
     "output_type": "stream",
     "text": [
      "Epoch 55, loss: 3788181.238604\n"
     ]
    },
    {
     "name": "stderr",
     "output_type": "stream",
     "text": [
      "\n",
      "100%|████████████████████████████████████████████████████| 30/30 [00:00<00:00, 95.06it/s]\u001b[A\n",
      " 57%|█████████████████████████████                      | 57/100 [00:19<00:13,  3.10it/s]\n",
      "  0%|                                                             | 0/30 [00:00<?, ?it/s]\u001b[A\n",
      " 33%|█████████████████▎                                  | 10/30 [00:00<00:00, 96.28it/s]\u001b[A"
     ]
    },
    {
     "name": "stdout",
     "output_type": "stream",
     "text": [
      "Epoch 56, loss: 3125079.077402\n"
     ]
    },
    {
     "name": "stderr",
     "output_type": "stream",
     "text": [
      "\n",
      " 67%|██████████████████████████████████▋                 | 20/30 [00:00<00:00, 96.28it/s]\u001b[A\n",
      "100%|████████████████████████████████████████████████████| 30/30 [00:00<00:00, 95.06it/s]\u001b[A\n",
      " 58%|█████████████████████████████▌                     | 58/100 [00:19<00:13,  3.11it/s]\n",
      "  0%|                                                             | 0/30 [00:00<?, ?it/s]\u001b[A\n",
      " 40%|████████████████████▍                              | 12/30 [00:00<00:00, 115.56it/s]\u001b[A"
     ]
    },
    {
     "name": "stdout",
     "output_type": "stream",
     "text": [
      "Epoch 57, loss: 3553221.007077\n"
     ]
    },
    {
     "name": "stderr",
     "output_type": "stream",
     "text": [
      "\n",
      "100%|███████████████████████████████████████████████████| 30/30 [00:00<00:00, 104.31it/s]\u001b[A\n",
      " 59%|██████████████████████████████                     | 59/100 [00:19<00:12,  3.20it/s]\n",
      "  0%|                                                             | 0/30 [00:00<?, ?it/s]\u001b[A\n",
      " 30%|███████████████▉                                     | 9/30 [00:00<00:00, 83.43it/s]\u001b[A"
     ]
    },
    {
     "name": "stdout",
     "output_type": "stream",
     "text": [
      "Epoch 58, loss: 3582295.028059\n"
     ]
    },
    {
     "name": "stderr",
     "output_type": "stream",
     "text": [
      "\n",
      " 60%|███████████████████████████████▏                    | 18/30 [00:00<00:00, 84.37it/s]\u001b[A\n",
      "100%|████████████████████████████████████████████████████| 30/30 [00:00<00:00, 82.53it/s]\u001b[A\n",
      " 60%|██████████████████████████████▌                    | 60/100 [00:20<00:13,  3.04it/s]\n",
      "  0%|                                                             | 0/30 [00:00<?, ?it/s]\u001b[A\n",
      " 33%|█████████████████▎                                  | 10/30 [00:00<00:00, 89.41it/s]\u001b[A"
     ]
    },
    {
     "name": "stdout",
     "output_type": "stream",
     "text": [
      "Epoch 59, loss: 3381785.979285\n"
     ]
    },
    {
     "name": "stderr",
     "output_type": "stream",
     "text": [
      "\n",
      "100%|████████████████████████████████████████████████████| 30/30 [00:00<00:00, 97.53it/s]\u001b[A\n",
      " 61%|███████████████████████████████                    | 61/100 [00:20<00:12,  3.09it/s]\n",
      "  0%|                                                             | 0/30 [00:00<?, ?it/s]\u001b[A\n",
      " 37%|██████████████████▋                                | 11/30 [00:00<00:00, 105.91it/s]\u001b[A"
     ]
    },
    {
     "name": "stdout",
     "output_type": "stream",
     "text": [
      "Epoch 60, loss: 2801411.993061\n"
     ]
    },
    {
     "name": "stderr",
     "output_type": "stream",
     "text": [
      "\n",
      " 63%|████████████████████████████████▉                   | 19/30 [00:00<00:00, 95.20it/s]\u001b[A\n",
      "100%|████████████████████████████████████████████████████| 30/30 [00:00<00:00, 86.32it/s]\u001b[A\n",
      " 62%|███████████████████████████████▌                   | 62/100 [00:20<00:12,  3.00it/s]\n",
      "  0%|                                                             | 0/30 [00:00<?, ?it/s]\u001b[A\n",
      " 30%|███████████████▉                                     | 9/30 [00:00<00:00, 83.44it/s]\u001b[A"
     ]
    },
    {
     "name": "stdout",
     "output_type": "stream",
     "text": [
      "Epoch 61, loss: 2939010.169594\n"
     ]
    },
    {
     "name": "stderr",
     "output_type": "stream",
     "text": [
      "\n",
      " 63%|████████████████████████████████▉                   | 19/30 [00:00<00:00, 86.02it/s]\u001b[A\n",
      "100%|████████████████████████████████████████████████████| 30/30 [00:00<00:00, 91.59it/s]\u001b[A\n",
      " 63%|████████████████████████████████▏                  | 63/100 [00:21<00:12,  3.01it/s]\n",
      "  0%|                                                             | 0/30 [00:00<?, ?it/s]\u001b[A\n",
      " 37%|██████████████████▋                                | 11/30 [00:00<00:00, 105.91it/s]\u001b[A"
     ]
    },
    {
     "name": "stdout",
     "output_type": "stream",
     "text": [
      "Epoch 62, loss: 2945413.926817\n"
     ]
    },
    {
     "name": "stderr",
     "output_type": "stream",
     "text": [
      "\n",
      " 70%|███████████████████████████████████▋               | 21/30 [00:00<00:00, 101.57it/s]\u001b[A\n",
      "100%|████████████████████████████████████████████████████| 30/30 [00:00<00:00, 93.87it/s]\u001b[A\n",
      " 64%|████████████████████████████████▋                  | 64/100 [00:21<00:11,  3.03it/s]\n",
      "  0%|                                                             | 0/30 [00:00<?, ?it/s]\u001b[A\n",
      " 27%|██████████████▏                                      | 8/30 [00:00<00:00, 71.51it/s]\u001b[A"
     ]
    },
    {
     "name": "stdout",
     "output_type": "stream",
     "text": [
      "Epoch 63, loss: 3281194.374698\n"
     ]
    },
    {
     "name": "stderr",
     "output_type": "stream",
     "text": [
      "\n",
      " 57%|█████████████████████████████▍                      | 17/30 [00:00<00:00, 73.98it/s]\u001b[A\n",
      "100%|████████████████████████████████████████████████████| 30/30 [00:00<00:00, 80.75it/s]\u001b[A\n",
      " 65%|█████████████████████████████████▏                 | 65/100 [00:21<00:12,  2.90it/s]\n",
      "  0%|                                                             | 0/30 [00:00<?, ?it/s]\u001b[A\n",
      " 33%|█████████████████▎                                  | 10/30 [00:00<00:00, 96.28it/s]\u001b[A"
     ]
    },
    {
     "name": "stdout",
     "output_type": "stream",
     "text": [
      "Epoch 64, loss: 2780584.481783\n"
     ]
    },
    {
     "name": "stderr",
     "output_type": "stream",
     "text": [
      "\n",
      " 63%|████████████████████████████████▉                   | 19/30 [00:00<00:00, 93.17it/s]\u001b[A\n",
      "100%|████████████████████████████████████████████████████| 30/30 [00:00<00:00, 84.37it/s]\u001b[A\n",
      " 66%|█████████████████████████████████▋                 | 66/100 [00:22<00:11,  2.84it/s]\n",
      "  0%|                                                             | 0/30 [00:00<?, ?it/s]\u001b[A\n",
      " 30%|███████████████▉                                     | 9/30 [00:00<00:00, 86.66it/s]\u001b[A"
     ]
    },
    {
     "name": "stdout",
     "output_type": "stream",
     "text": [
      "Epoch 65, loss: 3964673.919122\n"
     ]
    },
    {
     "name": "stderr",
     "output_type": "stream",
     "text": [
      "\n",
      " 60%|███████████████████████████████▏                    | 18/30 [00:00<00:00, 85.67it/s]\u001b[A\n",
      "100%|████████████████████████████████████████████████████| 30/30 [00:00<00:00, 88.35it/s]\u001b[A\n",
      " 67%|██████████████████████████████████▏                | 67/100 [00:22<00:11,  2.86it/s]\n",
      "  0%|                                                             | 0/30 [00:00<?, ?it/s]\u001b[A\n",
      " 33%|█████████████████▎                                  | 10/30 [00:00<00:00, 89.43it/s]\u001b[A"
     ]
    },
    {
     "name": "stdout",
     "output_type": "stream",
     "text": [
      "Epoch 66, loss: 3760487.041410\n"
     ]
    },
    {
     "name": "stderr",
     "output_type": "stream",
     "text": [
      "\n",
      " 60%|███████████████████████████████▏                    | 18/30 [00:00<00:00, 82.16it/s]\u001b[A\n",
      "100%|████████████████████████████████████████████████████| 30/30 [00:00<00:00, 77.43it/s]\u001b[A\n",
      " 68%|██████████████████████████████████▋                | 68/100 [00:22<00:11,  2.76it/s]\n",
      "  0%|                                                             | 0/30 [00:00<?, ?it/s]\u001b[A\n",
      " 33%|█████████████████▎                                  | 10/30 [00:00<00:00, 92.72it/s]\u001b[A"
     ]
    },
    {
     "name": "stdout",
     "output_type": "stream",
     "text": [
      "Epoch 67, loss: 4285219.680027\n"
     ]
    },
    {
     "name": "stderr",
     "output_type": "stream",
     "text": [
      "\n",
      " 67%|██████████████████████████████████▋                 | 20/30 [00:00<00:00, 91.70it/s]\u001b[A\n",
      "100%|████████████████████████████████████████████████████| 30/30 [00:00<00:00, 90.48it/s]\u001b[A\n",
      " 69%|███████████████████████████████████▏               | 69/100 [00:23<00:11,  2.82it/s]\n",
      "  0%|                                                             | 0/30 [00:00<?, ?it/s]\u001b[A\n",
      " 30%|███████████████▉                                     | 9/30 [00:00<00:00, 86.65it/s]\u001b[A"
     ]
    },
    {
     "name": "stdout",
     "output_type": "stream",
     "text": [
      "Epoch 68, loss: 4055772.232936\n"
     ]
    },
    {
     "name": "stderr",
     "output_type": "stream",
     "text": [
      "\n",
      " 57%|█████████████████████████████▍                      | 17/30 [00:00<00:00, 81.48it/s]\u001b[A\n",
      "100%|████████████████████████████████████████████████████| 30/30 [00:00<00:00, 78.23it/s]\u001b[A\n",
      " 70%|███████████████████████████████████▋               | 70/100 [00:23<00:10,  2.74it/s]\n",
      "  0%|                                                             | 0/30 [00:00<?, ?it/s]\u001b[A\n",
      " 37%|██████████████████▋                                | 11/30 [00:00<00:00, 101.99it/s]\u001b[A"
     ]
    },
    {
     "name": "stdout",
     "output_type": "stream",
     "text": [
      "Epoch 69, loss: 3621957.809381\n"
     ]
    },
    {
     "name": "stderr",
     "output_type": "stream",
     "text": [
      "\n",
      "100%|████████████████████████████████████████████████████| 30/30 [00:00<00:00, 98.82it/s]\u001b[A\n",
      " 71%|████████████████████████████████████▏              | 71/100 [00:24<00:10,  2.88it/s]\n",
      "  0%|                                                             | 0/30 [00:00<?, ?it/s]\u001b[A\n",
      " 27%|██████████████▏                                      | 8/30 [00:00<00:00, 77.02it/s]\u001b[A"
     ]
    },
    {
     "name": "stdout",
     "output_type": "stream",
     "text": [
      "Epoch 70, loss: 3795990.385638\n"
     ]
    },
    {
     "name": "stderr",
     "output_type": "stream",
     "text": [
      "\n",
      " 53%|███████████████████████████▋                        | 16/30 [00:00<00:00, 77.01it/s]\u001b[A\n",
      "100%|████████████████████████████████████████████████████| 30/30 [00:00<00:00, 85.34it/s]\u001b[A\n",
      " 72%|████████████████████████████████████▋              | 72/100 [00:24<00:09,  2.86it/s]\n",
      "  0%|                                                             | 0/30 [00:00<?, ?it/s]\u001b[A\n",
      " 33%|█████████████████▎                                  | 10/30 [00:00<00:00, 92.70it/s]\u001b[A"
     ]
    },
    {
     "name": "stdout",
     "output_type": "stream",
     "text": [
      "Epoch 71, loss: 3116601.174830\n"
     ]
    },
    {
     "name": "stderr",
     "output_type": "stream",
     "text": [
      "\n",
      "100%|████████████████████████████████████████████████████| 30/30 [00:00<00:00, 96.28it/s]\u001b[A\n",
      " 73%|█████████████████████████████████████▏             | 73/100 [00:24<00:09,  2.94it/s]\n",
      "  0%|                                                             | 0/30 [00:00<?, ?it/s]\u001b[A\n",
      " 37%|██████████████████▋                                | 11/30 [00:00<00:00, 105.92it/s]\u001b[A"
     ]
    },
    {
     "name": "stdout",
     "output_type": "stream",
     "text": [
      "Epoch 72, loss: 3482542.735132\n"
     ]
    },
    {
     "name": "stderr",
     "output_type": "stream",
     "text": [
      "\n",
      " 67%|██████████████████████████████████▋                 | 20/30 [00:00<00:00, 95.50it/s]\u001b[A\n",
      "100%|████████████████████████████████████████████████████| 30/30 [00:00<00:00, 83.43it/s]\u001b[A\n",
      " 74%|█████████████████████████████████████▋             | 74/100 [00:25<00:09,  2.88it/s]\n",
      "  0%|                                                             | 0/30 [00:00<?, ?it/s]\u001b[A\n",
      " 30%|███████████████▉                                     | 9/30 [00:00<00:00, 83.44it/s]\u001b[A"
     ]
    },
    {
     "name": "stdout",
     "output_type": "stream",
     "text": [
      "Epoch 73, loss: 2932961.764442\n"
     ]
    },
    {
     "name": "stderr",
     "output_type": "stream",
     "text": [
      "\n",
      "100%|████████████████████████████████████████████████████| 30/30 [00:00<00:00, 95.05it/s]\u001b[A\n",
      " 75%|██████████████████████████████████████▎            | 75/100 [00:25<00:08,  2.95it/s]\n",
      "  0%|                                                             | 0/30 [00:00<?, ?it/s]\u001b[A\n",
      " 37%|██████████████████▋                                | 11/30 [00:00<00:00, 105.93it/s]\u001b[A"
     ]
    },
    {
     "name": "stdout",
     "output_type": "stream",
     "text": [
      "Epoch 74, loss: 2857377.263180\n"
     ]
    },
    {
     "name": "stderr",
     "output_type": "stream",
     "text": [
      "\n",
      "100%|███████████████████████████████████████████████████| 30/30 [00:00<00:00, 100.14it/s]\u001b[A\n",
      " 76%|██████████████████████████████████████▊            | 76/100 [00:25<00:07,  3.04it/s]\n",
      "  0%|                                                             | 0/30 [00:00<?, ?it/s]\u001b[A\n",
      " 37%|██████████████████▋                                | 11/30 [00:00<00:00, 105.91it/s]\u001b[A"
     ]
    },
    {
     "name": "stdout",
     "output_type": "stream",
     "text": [
      "Epoch 75, loss: 3327727.885710\n"
     ]
    },
    {
     "name": "stderr",
     "output_type": "stream",
     "text": [
      "\n",
      " 67%|██████████████████████████████████▋                 | 20/30 [00:00<00:00, 97.99it/s]\u001b[A\n",
      "100%|████████████████████████████████████████████████████| 30/30 [00:00<00:00, 85.33it/s]\u001b[A\n",
      " 77%|███████████████████████████████████████▎           | 77/100 [00:26<00:07,  2.96it/s]\n",
      "  0%|                                                             | 0/30 [00:00<?, ?it/s]\u001b[A\n",
      " 30%|███████████████▉                                     | 9/30 [00:00<00:00, 83.47it/s]\u001b[A"
     ]
    },
    {
     "name": "stdout",
     "output_type": "stream",
     "text": [
      "Epoch 76, loss: 2829980.846910\n"
     ]
    },
    {
     "name": "stderr",
     "output_type": "stream",
     "text": [
      "\n",
      "100%|████████████████████████████████████████████████████| 30/30 [00:00<00:00, 97.54it/s]\u001b[A\n",
      " 78%|███████████████████████████████████████▊           | 78/100 [00:26<00:07,  3.04it/s]\n",
      "  0%|                                                             | 0/30 [00:00<?, ?it/s]\u001b[A\n",
      " 37%|██████████████████▋                                | 11/30 [00:00<00:00, 105.91it/s]\u001b[A"
     ]
    },
    {
     "name": "stdout",
     "output_type": "stream",
     "text": [
      "Epoch 77, loss: 2713983.384321\n"
     ]
    },
    {
     "name": "stderr",
     "output_type": "stream",
     "text": [
      "\n",
      "100%|████████████████████████████████████████████████████| 30/30 [00:00<00:00, 96.28it/s]\u001b[A\n",
      " 79%|████████████████████████████████████████▎          | 79/100 [00:26<00:06,  3.08it/s]\n",
      "  0%|                                                             | 0/30 [00:00<?, ?it/s]\u001b[A\n",
      " 27%|██████████████▏                                      | 8/30 [00:00<00:00, 77.02it/s]\u001b[A"
     ]
    },
    {
     "name": "stdout",
     "output_type": "stream",
     "text": [
      "Epoch 78, loss: 3106725.279977\n"
     ]
    },
    {
     "name": "stderr",
     "output_type": "stream",
     "text": [
      "\n",
      " 57%|█████████████████████████████▍                      | 17/30 [00:00<00:00, 78.84it/s]\u001b[A\n",
      "100%|████████████████████████████████████████████████████| 30/30 [00:00<00:00, 87.33it/s]\u001b[A\n",
      " 80%|████████████████████████████████████████▊          | 80/100 [00:27<00:06,  3.01it/s]\n",
      "  0%|                                                             | 0/30 [00:00<?, ?it/s]\u001b[A\n",
      " 33%|█████████████████▎                                  | 10/30 [00:00<00:00, 96.28it/s]\u001b[A"
     ]
    },
    {
     "name": "stdout",
     "output_type": "stream",
     "text": [
      "Epoch 79, loss: 3101325.387558\n"
     ]
    },
    {
     "name": "stderr",
     "output_type": "stream",
     "text": [
      "\n",
      "100%|████████████████████████████████████████████████████| 30/30 [00:00<00:00, 95.06it/s]\u001b[A\n",
      " 81%|█████████████████████████████████████████▎         | 81/100 [00:27<00:06,  3.05it/s]\n",
      "  0%|                                                             | 0/30 [00:00<?, ?it/s]\u001b[A\n",
      " 37%|██████████████████▋                                | 11/30 [00:00<00:00, 101.98it/s]\u001b[A"
     ]
    },
    {
     "name": "stdout",
     "output_type": "stream",
     "text": [
      "Epoch 80, loss: 2937968.529035\n"
     ]
    },
    {
     "name": "stderr",
     "output_type": "stream",
     "text": [
      "\n",
      " 70%|████████████████████████████████████▍               | 21/30 [00:00<00:00, 97.85it/s]\u001b[A\n",
      "100%|████████████████████████████████████████████████████| 30/30 [00:00<00:00, 83.44it/s]\u001b[A\n",
      " 82%|█████████████████████████████████████████▊         | 82/100 [00:27<00:06,  2.95it/s]\n",
      "  0%|                                                             | 0/30 [00:00<?, ?it/s]\u001b[A\n",
      " 30%|███████████████▉                                     | 9/30 [00:00<00:00, 80.45it/s]\u001b[A"
     ]
    },
    {
     "name": "stdout",
     "output_type": "stream",
     "text": [
      "Epoch 81, loss: 3004819.292867\n"
     ]
    },
    {
     "name": "stderr",
     "output_type": "stream",
     "text": [
      "\n",
      " 63%|████████████████████████████████▉                   | 19/30 [00:00<00:00, 83.78it/s]\u001b[A\n",
      "100%|████████████████████████████████████████████████████| 30/30 [00:00<00:00, 89.40it/s]\u001b[A\n",
      " 83%|██████████████████████████████████████████▎        | 83/100 [00:28<00:05,  2.94it/s]\n",
      "  0%|                                                             | 0/30 [00:00<?, ?it/s]\u001b[A\n",
      " 37%|██████████████████▋                                | 11/30 [00:00<00:00, 105.91it/s]\u001b[A"
     ]
    },
    {
     "name": "stdout",
     "output_type": "stream",
     "text": [
      "Epoch 82, loss: 4500643.411736\n"
     ]
    },
    {
     "name": "stderr",
     "output_type": "stream",
     "text": [
      "\n",
      "100%|████████████████████████████████████████████████████| 30/30 [00:00<00:00, 97.51it/s]\u001b[A\n",
      " 84%|██████████████████████████████████████████▊        | 84/100 [00:28<00:05,  3.00it/s]\n",
      "  0%|                                                             | 0/30 [00:00<?, ?it/s]\u001b[A\n",
      " 27%|██████████████▏                                      | 8/30 [00:00<00:00, 74.15it/s]\u001b[A"
     ]
    },
    {
     "name": "stdout",
     "output_type": "stream",
     "text": [
      "Epoch 83, loss: 3088402.905078\n"
     ]
    },
    {
     "name": "stderr",
     "output_type": "stream",
     "text": [
      "\n",
      " 53%|███████████████████████████▋                        | 16/30 [00:00<00:00, 74.16it/s]\u001b[A\n",
      "100%|████████████████████████████████████████████████████| 30/30 [00:00<00:00, 82.51it/s]\u001b[A\n",
      " 85%|███████████████████████████████████████████▎       | 85/100 [00:28<00:05,  2.91it/s]\n",
      "  0%|                                                             | 0/30 [00:00<?, ?it/s]\u001b[A\n",
      " 30%|███████████████▉                                     | 9/30 [00:00<00:00, 77.71it/s]\u001b[A"
     ]
    },
    {
     "name": "stdout",
     "output_type": "stream",
     "text": [
      "Epoch 84, loss: 3024822.304228\n"
     ]
    },
    {
     "name": "stderr",
     "output_type": "stream",
     "text": [
      "\n",
      " 57%|█████████████████████████████▍                      | 17/30 [00:00<00:00, 77.50it/s]\u001b[A\n",
      "100%|████████████████████████████████████████████████████| 30/30 [00:00<00:00, 87.33it/s]\u001b[A\n",
      " 86%|███████████████████████████████████████████▊       | 86/100 [00:29<00:04,  2.90it/s]\n",
      "  0%|                                                             | 0/30 [00:00<?, ?it/s]\u001b[A\n",
      " 30%|███████████████▉                                     | 9/30 [00:00<00:00, 80.46it/s]\u001b[A"
     ]
    },
    {
     "name": "stdout",
     "output_type": "stream",
     "text": [
      "Epoch 85, loss: 3289436.583800\n"
     ]
    },
    {
     "name": "stderr",
     "output_type": "stream",
     "text": [
      "\n",
      " 60%|███████████████████████████████▏                    | 18/30 [00:00<00:00, 81.34it/s]\u001b[A\n",
      "100%|████████████████████████████████████████████████████| 30/30 [00:00<00:00, 88.35it/s]\u001b[A\n",
      " 87%|████████████████████████████████████████████▎      | 87/100 [00:29<00:04,  2.90it/s]\n",
      "  0%|                                                             | 0/30 [00:00<?, ?it/s]\u001b[A\n",
      " 33%|█████████████████▎                                  | 10/30 [00:00<00:00, 92.71it/s]\u001b[A"
     ]
    },
    {
     "name": "stdout",
     "output_type": "stream",
     "text": [
      "Epoch 86, loss: 2759389.838100\n"
     ]
    },
    {
     "name": "stderr",
     "output_type": "stream",
     "text": [
      "\n",
      " 60%|███████████████████████████████▏                    | 18/30 [00:00<00:00, 86.24it/s]\u001b[A\n",
      "100%|████████████████████████████████████████████████████| 30/30 [00:00<00:00, 86.32it/s]\u001b[A\n",
      " 88%|████████████████████████████████████████████▉      | 88/100 [00:29<00:04,  2.87it/s]\n",
      "  0%|                                                             | 0/30 [00:00<?, ?it/s]\u001b[A\n",
      " 37%|██████████████████▋                                | 11/30 [00:00<00:00, 105.91it/s]\u001b[A"
     ]
    },
    {
     "name": "stdout",
     "output_type": "stream",
     "text": [
      "Epoch 87, loss: 2817338.304075\n"
     ]
    },
    {
     "name": "stderr",
     "output_type": "stream",
     "text": [
      "\n",
      "100%|███████████████████████████████████████████████████| 30/30 [00:00<00:00, 102.88it/s]\u001b[A\n",
      " 89%|█████████████████████████████████████████████▍     | 89/100 [00:30<00:03,  3.02it/s]\n",
      "  0%|                                                             | 0/30 [00:00<?, ?it/s]\u001b[A\n",
      " 37%|██████████████████▋                                | 11/30 [00:00<00:00, 101.99it/s]\u001b[A"
     ]
    },
    {
     "name": "stdout",
     "output_type": "stream",
     "text": [
      "Epoch 88, loss: 2922788.124456\n"
     ]
    },
    {
     "name": "stderr",
     "output_type": "stream",
     "text": [
      "\n",
      "100%|███████████████████████████████████████████████████| 30/30 [00:00<00:00, 101.49it/s]\u001b[A\n",
      " 90%|█████████████████████████████████████████████▉     | 90/100 [00:30<00:03,  3.11it/s]\n",
      "  0%|                                                             | 0/30 [00:00<?, ?it/s]\u001b[A\n",
      " 37%|██████████████████▋                                | 11/30 [00:00<00:00, 101.98it/s]\u001b[A"
     ]
    },
    {
     "name": "stdout",
     "output_type": "stream",
     "text": [
      "Epoch 89, loss: 3812853.750656\n"
     ]
    },
    {
     "name": "stderr",
     "output_type": "stream",
     "text": [
      "\n",
      " 70%|███████████████████████████████████▋               | 21/30 [00:00<00:00, 100.20it/s]\u001b[A\n",
      "100%|████████████████████████████████████████████████████| 30/30 [00:00<00:00, 91.58it/s]\u001b[A\n",
      " 91%|██████████████████████████████████████████████▍    | 91/100 [00:30<00:02,  3.08it/s]\n",
      "  0%|                                                             | 0/30 [00:00<?, ?it/s]\u001b[A\n",
      " 27%|██████████████▏                                      | 8/30 [00:00<00:00, 77.04it/s]\u001b[A"
     ]
    },
    {
     "name": "stdout",
     "output_type": "stream",
     "text": [
      "Epoch 90, loss: 3769097.297958\n"
     ]
    },
    {
     "name": "stderr",
     "output_type": "stream",
     "text": [
      "\n",
      " 57%|█████████████████████████████▍                      | 17/30 [00:00<00:00, 78.04it/s]\u001b[A\n",
      "100%|████████████████████████████████████████████████████| 30/30 [00:00<00:00, 89.41it/s]\u001b[A\n",
      " 92%|██████████████████████████████████████████████▉    | 92/100 [00:31<00:02,  3.03it/s]\n",
      "  0%|                                                             | 0/30 [00:00<?, ?it/s]\u001b[A\n",
      " 33%|█████████████████▎                                  | 10/30 [00:00<00:00, 86.32it/s]\u001b[A"
     ]
    },
    {
     "name": "stdout",
     "output_type": "stream",
     "text": [
      "Epoch 91, loss: 2686354.302993\n"
     ]
    },
    {
     "name": "stderr",
     "output_type": "stream",
     "text": [
      "\n",
      " 60%|███████████████████████████████▏                    | 18/30 [00:00<00:00, 82.28it/s]\u001b[A\n",
      "100%|████████████████████████████████████████████████████| 30/30 [00:00<00:00, 82.53it/s]\u001b[A\n",
      " 93%|███████████████████████████████████████████████▍   | 93/100 [00:31<00:02,  2.93it/s]\n",
      "  0%|                                                             | 0/30 [00:00<?, ?it/s]\u001b[A\n",
      " 33%|█████████████████▎                                  | 10/30 [00:00<00:00, 96.28it/s]\u001b[A"
     ]
    },
    {
     "name": "stdout",
     "output_type": "stream",
     "text": [
      "Epoch 92, loss: 2893692.437760\n"
     ]
    },
    {
     "name": "stderr",
     "output_type": "stream",
     "text": [
      "\n",
      "100%|████████████████████████████████████████████████████| 30/30 [00:00<00:00, 97.53it/s]\u001b[A\n",
      " 94%|███████████████████████████████████████████████▉   | 94/100 [00:31<00:01,  3.01it/s]\n",
      "  0%|                                                             | 0/30 [00:00<?, ?it/s]\u001b[A\n",
      " 37%|██████████████████▋                                | 11/30 [00:00<00:00, 101.99it/s]\u001b[A"
     ]
    },
    {
     "name": "stdout",
     "output_type": "stream",
     "text": [
      "Epoch 93, loss: 2689430.174764\n"
     ]
    },
    {
     "name": "stderr",
     "output_type": "stream",
     "text": [
      "\n",
      "100%|███████████████████████████████████████████████████| 30/30 [00:00<00:00, 101.49it/s]\u001b[A\n",
      " 95%|████████████████████████████████████████████████▍  | 95/100 [00:32<00:01,  3.10it/s]\n",
      "  0%|                                                             | 0/30 [00:00<?, ?it/s]\u001b[A\n",
      " 40%|████████████████████▍                              | 12/30 [00:00<00:00, 107.30it/s]\u001b[A"
     ]
    },
    {
     "name": "stdout",
     "output_type": "stream",
     "text": [
      "Epoch 94, loss: 2922020.880316\n"
     ]
    },
    {
     "name": "stderr",
     "output_type": "stream",
     "text": [
      "\n",
      "100%|███████████████████████████████████████████████████| 30/30 [00:00<00:00, 101.49it/s]\u001b[A\n",
      " 96%|████████████████████████████████████████████████▉  | 96/100 [00:32<00:01,  3.17it/s]\n",
      "  0%|                                                             | 0/30 [00:00<?, ?it/s]\u001b[A\n",
      " 40%|████████████████████▍                              | 12/30 [00:00<00:00, 115.55it/s]\u001b[A"
     ]
    },
    {
     "name": "stdout",
     "output_type": "stream",
     "text": [
      "Epoch 95, loss: 3773493.026060\n"
     ]
    },
    {
     "name": "stderr",
     "output_type": "stream",
     "text": [
      "\n",
      "100%|███████████████████████████████████████████████████| 30/30 [00:00<00:00, 105.78it/s]\u001b[A\n",
      " 97%|█████████████████████████████████████████████████▍ | 97/100 [00:32<00:00,  3.24it/s]\n",
      "  0%|                                                             | 0/30 [00:00<?, ?it/s]\u001b[A\n",
      " 37%|██████████████████▋                                | 11/30 [00:00<00:00, 105.91it/s]\u001b[A"
     ]
    },
    {
     "name": "stdout",
     "output_type": "stream",
     "text": [
      "Epoch 96, loss: 2850141.973297\n"
     ]
    },
    {
     "name": "stderr",
     "output_type": "stream",
     "text": [
      "\n",
      "100%|███████████████████████████████████████████████████| 30/30 [00:00<00:00, 104.30it/s]\u001b[A\n",
      " 98%|█████████████████████████████████████████████████▉ | 98/100 [00:32<00:00,  3.30it/s]\n",
      "  0%|                                                             | 0/30 [00:00<?, ?it/s]\u001b[A\n",
      " 40%|████████████████████▍                              | 12/30 [00:00<00:00, 111.25it/s]\u001b[A"
     ]
    },
    {
     "name": "stdout",
     "output_type": "stream",
     "text": [
      "Epoch 97, loss: 2951424.086979\n"
     ]
    },
    {
     "name": "stderr",
     "output_type": "stream",
     "text": [
      "\n",
      "100%|███████████████████████████████████████████████████| 30/30 [00:00<00:00, 105.23it/s]\u001b[A\n",
      " 99%|██████████████████████████████████████████████████▍| 99/100 [00:33<00:00,  3.34it/s]\n",
      "  0%|                                                             | 0/30 [00:00<?, ?it/s]\u001b[A\n",
      " 40%|████████████████████▍                              | 12/30 [00:00<00:00, 115.54it/s]\u001b[A"
     ]
    },
    {
     "name": "stdout",
     "output_type": "stream",
     "text": [
      "Epoch 98, loss: 3079396.492038\n"
     ]
    },
    {
     "name": "stderr",
     "output_type": "stream",
     "text": [
      "\n",
      "100%|███████████████████████████████████████████████████| 30/30 [00:00<00:00, 102.86it/s]\u001b[A\n",
      "100%|██████████████████████████████████████████████████| 100/100 [00:33<00:00,  2.99it/s]\n"
     ]
    },
    {
     "name": "stdout",
     "output_type": "stream",
     "text": [
      "Epoch 99, loss: 3955630.740653\n",
      "Accuracy after training for 100 epochs:  0.049\n"
     ]
    }
   ],
   "source": [
    "# Let's check how it performs on validation set\n",
    "pred = classifier.predict(val_X)\n",
    "accuracy = multiclass_accuracy(pred, val_y)\n",
    "print(\"Accuracy: \", accuracy)\n",
    "\n",
    "# Now, let's train more and see if it performs better\n",
    "classifier.fit(train_X, train_y, epochs=100, learning_rate=1e-3, batch_size=300, reg=1e1)\n",
    "pred = classifier.predict(val_X)\n",
    "accuracy = multiclass_accuracy(pred, val_y)\n",
    "print(\"Accuracy after training for 100 epochs: \", accuracy)"
   ]
  },
  {
   "cell_type": "markdown",
   "metadata": {},
   "source": [
    "### Как и раньше, используем кросс-валидацию для подбора гиперпараметтов.\n",
    "\n",
    "В этот раз, чтобы тренировка занимала разумное время, мы будем использовать только одно разделение на тренировочные (training) и проверочные (validation) данные.\n",
    "\n",
    "Теперь нам нужно подобрать не один, а два гиперпараметра! Не ограничивайте себя изначальными значениями в коде.  \n",
    "Добейтесь точности более чем **20%** на проверочных данных (validation data)."
   ]
  },
  {
   "cell_type": "code",
   "execution_count": 94,
   "metadata": {
    "scrolled": true
   },
   "outputs": [
    {
     "name": "stderr",
     "output_type": "stream",
     "text": [
      "  0%|                                                            | 0/100 [00:00<?, ?it/s]\n",
      "  0%|                                                             | 0/30 [00:00<?, ?it/s]\u001b[A\n",
      " 33%|█████████████████▎                                  | 10/30 [00:00<00:00, 92.71it/s]\u001b[A\n",
      "100%|███████████████████████████████████████████████████| 30/30 [00:00<00:00, 101.49it/s]\u001b[A\n",
      "  1%|▌                                                   | 1/100 [00:00<00:29,  3.34it/s]\n",
      "  0%|                                                             | 0/30 [00:00<?, ?it/s]\u001b[A\n",
      " 40%|████████████████████▍                              | 12/30 [00:00<00:00, 115.54it/s]\u001b[A"
     ]
    },
    {
     "name": "stdout",
     "output_type": "stream",
     "text": [
      "Epoch 0, loss: 2750315.895298\n"
     ]
    },
    {
     "name": "stderr",
     "output_type": "stream",
     "text": [
      "\n",
      "100%|███████████████████████████████████████████████████| 30/30 [00:00<00:00, 102.88it/s]\u001b[A\n",
      "  2%|█                                                   | 2/100 [00:00<00:29,  3.35it/s]\n",
      "  0%|                                                             | 0/30 [00:00<?, ?it/s]\u001b[A\n",
      " 40%|████████████████████▍                              | 12/30 [00:00<00:00, 115.54it/s]\u001b[A"
     ]
    },
    {
     "name": "stdout",
     "output_type": "stream",
     "text": [
      "Epoch 1, loss: 3195511.330037\n"
     ]
    },
    {
     "name": "stderr",
     "output_type": "stream",
     "text": [
      "\n",
      "100%|███████████████████████████████████████████████████| 30/30 [00:00<00:00, 102.88it/s]\u001b[A\n",
      "  3%|█▌                                                  | 3/100 [00:00<00:29,  3.33it/s]\n",
      "  0%|                                                             | 0/30 [00:00<?, ?it/s]\u001b[A\n",
      " 37%|██████████████████▋                                | 11/30 [00:00<00:00, 105.87it/s]\u001b[A"
     ]
    },
    {
     "name": "stdout",
     "output_type": "stream",
     "text": [
      "Epoch 2, loss: 5287591.017857\n"
     ]
    },
    {
     "name": "stderr",
     "output_type": "stream",
     "text": [
      "\n",
      " 70%|███████████████████████████████████▋               | 21/30 [00:00<00:00, 102.81it/s]\u001b[A\n",
      "100%|████████████████████████████████████████████████████| 30/30 [00:00<00:00, 93.87it/s]\u001b[A\n",
      "  4%|██                                                  | 4/100 [00:01<00:29,  3.26it/s]\n",
      "  0%|                                                             | 0/30 [00:00<?, ?it/s]\u001b[A\n",
      " 40%|████████████████████▍                              | 12/30 [00:00<00:00, 111.26it/s]\u001b[A"
     ]
    },
    {
     "name": "stdout",
     "output_type": "stream",
     "text": [
      "Epoch 3, loss: 5561859.604337\n"
     ]
    },
    {
     "name": "stderr",
     "output_type": "stream",
     "text": [
      "\n",
      "100%|████████████████████████████████████████████████████| 30/30 [00:00<00:00, 98.82it/s]\u001b[A\n",
      "  5%|██▌                                                 | 5/100 [00:01<00:29,  3.26it/s]\n",
      "  0%|                                                             | 0/30 [00:00<?, ?it/s]\u001b[A\n",
      " 27%|██████████████▏                                      | 8/30 [00:00<00:00, 74.17it/s]\u001b[A"
     ]
    },
    {
     "name": "stdout",
     "output_type": "stream",
     "text": [
      "Epoch 4, loss: 5674708.930875\n"
     ]
    },
    {
     "name": "stderr",
     "output_type": "stream",
     "text": [
      "\n",
      " 53%|███████████████████████████▋                        | 16/30 [00:00<00:00, 74.17it/s]\u001b[A\n",
      "100%|████████████████████████████████████████████████████| 30/30 [00:00<00:00, 80.75it/s]\u001b[A\n",
      "  6%|███                                                 | 6/100 [00:01<00:31,  3.03it/s]\n",
      "  0%|                                                             | 0/30 [00:00<?, ?it/s]\u001b[A\n",
      " 40%|████████████████████▍                              | 12/30 [00:00<00:00, 111.28it/s]\u001b[A"
     ]
    },
    {
     "name": "stdout",
     "output_type": "stream",
     "text": [
      "Epoch 5, loss: 6313494.951152\n"
     ]
    },
    {
     "name": "stderr",
     "output_type": "stream",
     "text": [
      "\n",
      "100%|████████████████████████████████████████████████████| 30/30 [00:00<00:00, 98.83it/s]\u001b[A\n",
      "  7%|███▋                                                | 7/100 [00:02<00:29,  3.10it/s]\n",
      "  0%|                                                             | 0/30 [00:00<?, ?it/s]\u001b[A\n",
      " 27%|██████████████▏                                      | 8/30 [00:00<00:00, 74.14it/s]\u001b[A"
     ]
    },
    {
     "name": "stdout",
     "output_type": "stream",
     "text": [
      "Epoch 6, loss: 6654522.410936\n"
     ]
    },
    {
     "name": "stderr",
     "output_type": "stream",
     "text": [
      "\n",
      " 53%|███████████████████████████▋                        | 16/30 [00:00<00:00, 73.34it/s]\u001b[A\n",
      "100%|████████████████████████████████████████████████████| 30/30 [00:00<00:00, 72.21it/s]\u001b[A\n",
      "  8%|████▏                                               | 8/100 [00:02<00:32,  2.83it/s]\n",
      "  0%|                                                             | 0/30 [00:00<?, ?it/s]\u001b[A\n",
      " 27%|██████████████▏                                      | 8/30 [00:00<00:00, 77.03it/s]\u001b[A"
     ]
    },
    {
     "name": "stdout",
     "output_type": "stream",
     "text": [
      "Epoch 7, loss: 8257641.772985\n"
     ]
    },
    {
     "name": "stderr",
     "output_type": "stream",
     "text": [
      "\n",
      " 57%|█████████████████████████████▍                      | 17/30 [00:00<00:00, 79.38it/s]\u001b[A\n",
      "100%|████████████████████████████████████████████████████| 30/30 [00:00<00:00, 85.96it/s]\u001b[A\n",
      "  9%|████▋                                               | 9/100 [00:02<00:32,  2.83it/s]\n",
      "  0%|                                                             | 0/30 [00:00<?, ?it/s]\u001b[A\n",
      " 33%|█████████████████▎                                  | 10/30 [00:00<00:00, 96.25it/s]\u001b[A"
     ]
    },
    {
     "name": "stdout",
     "output_type": "stream",
     "text": [
      "Epoch 8, loss: 7223524.168502\n"
     ]
    },
    {
     "name": "stderr",
     "output_type": "stream",
     "text": [
      "\n",
      " 67%|██████████████████████████████████▋                 | 20/30 [00:00<00:00, 96.26it/s]\u001b[A\n",
      "100%|████████████████████████████████████████████████████| 30/30 [00:00<00:00, 95.06it/s]\u001b[A\n",
      " 10%|█████                                              | 10/100 [00:03<00:30,  2.91it/s]\n",
      "  0%|                                                             | 0/30 [00:00<?, ?it/s]\u001b[A\n",
      " 37%|██████████████████▋                                | 11/30 [00:00<00:00, 105.87it/s]\u001b[A"
     ]
    },
    {
     "name": "stdout",
     "output_type": "stream",
     "text": [
      "Epoch 9, loss: 9951046.449833\n"
     ]
    },
    {
     "name": "stderr",
     "output_type": "stream",
     "text": [
      "\n",
      "100%|████████████████████████████████████████████████████| 30/30 [00:00<00:00, 97.52it/s]\u001b[A\n",
      " 11%|█████▌                                             | 11/100 [00:03<00:29,  3.00it/s]\n",
      "  0%|                                                             | 0/30 [00:00<?, ?it/s]\u001b[A\n",
      " 37%|██████████████████▋                                | 11/30 [00:00<00:00, 102.01it/s]\u001b[A"
     ]
    },
    {
     "name": "stdout",
     "output_type": "stream",
     "text": [
      "Epoch 10, loss: 10984295.754425\n"
     ]
    },
    {
     "name": "stderr",
     "output_type": "stream",
     "text": [
      "\n",
      " 67%|██████████████████████████████████▋                 | 20/30 [00:00<00:00, 95.62it/s]\u001b[A\n",
      "100%|████████████████████████████████████████████████████| 30/30 [00:00<00:00, 84.38it/s]\u001b[A\n",
      " 12%|██████                                             | 12/100 [00:03<00:30,  2.92it/s]\n",
      "  0%|                                                             | 0/30 [00:00<?, ?it/s]\u001b[A\n",
      " 23%|████████████▎                                        | 7/30 [00:00<00:00, 62.56it/s]\u001b[A"
     ]
    },
    {
     "name": "stdout",
     "output_type": "stream",
     "text": [
      "Epoch 11, loss: 11519608.302957\n"
     ]
    },
    {
     "name": "stderr",
     "output_type": "stream",
     "text": [
      "\n",
      " 57%|█████████████████████████████▍                      | 17/30 [00:00<00:00, 69.91it/s]\u001b[A\n",
      "100%|████████████████████████████████████████████████████| 30/30 [00:00<00:00, 85.33it/s]\u001b[A\n",
      " 13%|██████▋                                            | 13/100 [00:04<00:30,  2.89it/s]\n",
      "  0%|                                                             | 0/30 [00:00<?, ?it/s]\u001b[A\n",
      " 37%|███████████████████                                 | 11/30 [00:00<00:00, 98.35it/s]\u001b[A"
     ]
    },
    {
     "name": "stdout",
     "output_type": "stream",
     "text": [
      "Epoch 12, loss: 10939967.925792\n"
     ]
    },
    {
     "name": "stderr",
     "output_type": "stream",
     "text": [
      "\n",
      " 67%|██████████████████████████████████▋                 | 20/30 [00:00<00:00, 94.52it/s]\u001b[A\n",
      "100%|████████████████████████████████████████████████████| 30/30 [00:00<00:00, 86.32it/s]\u001b[A\n",
      " 14%|███████▏                                           | 14/100 [00:04<00:30,  2.86it/s]\n",
      "  0%|                                                             | 0/30 [00:00<?, ?it/s]\u001b[A\n",
      " 37%|██████████████████▋                                | 11/30 [00:00<00:00, 105.91it/s]\u001b[A"
     ]
    },
    {
     "name": "stdout",
     "output_type": "stream",
     "text": [
      "Epoch 13, loss: 11128122.319095\n"
     ]
    },
    {
     "name": "stderr",
     "output_type": "stream",
     "text": [
      "\n",
      "100%|███████████████████████████████████████████████████| 30/30 [00:00<00:00, 101.49it/s]\u001b[A\n",
      " 15%|███████▋                                           | 15/100 [00:05<00:28,  2.98it/s]\n",
      "  0%|                                                             | 0/30 [00:00<?, ?it/s]\u001b[A\n",
      " 37%|██████████████████▋                                | 11/30 [00:00<00:00, 101.99it/s]\u001b[A"
     ]
    },
    {
     "name": "stdout",
     "output_type": "stream",
     "text": [
      "Epoch 14, loss: 12975530.404184\n"
     ]
    },
    {
     "name": "stderr",
     "output_type": "stream",
     "text": [
      "\n",
      "100%|████████████████████████████████████████████████████| 30/30 [00:00<00:00, 98.80it/s]\u001b[A\n",
      " 16%|████████▏                                          | 16/100 [00:05<00:27,  3.06it/s]\n",
      "  0%|                                                             | 0/30 [00:00<?, ?it/s]\u001b[A\n",
      " 37%|██████████████████▋                                | 11/30 [00:00<00:00, 101.94it/s]\u001b[A"
     ]
    },
    {
     "name": "stdout",
     "output_type": "stream",
     "text": [
      "Epoch 15, loss: 14049330.991026\n"
     ]
    },
    {
     "name": "stderr",
     "output_type": "stream",
     "text": [
      "\n",
      "100%|███████████████████████████████████████████████████| 30/30 [00:00<00:00, 102.86it/s]\u001b[A\n",
      " 17%|████████▋                                          | 17/100 [00:05<00:26,  3.14it/s]\n",
      "  0%|                                                             | 0/30 [00:00<?, ?it/s]\u001b[A\n",
      " 40%|████████████████████▍                              | 12/30 [00:00<00:00, 111.16it/s]\u001b[A"
     ]
    },
    {
     "name": "stdout",
     "output_type": "stream",
     "text": [
      "Epoch 16, loss: 12222589.892534\n"
     ]
    },
    {
     "name": "stderr",
     "output_type": "stream",
     "text": [
      "\n",
      "100%|███████████████████████████████████████████████████| 30/30 [00:00<00:00, 104.30it/s]\u001b[A\n",
      " 18%|█████████▏                                         | 18/100 [00:05<00:25,  3.22it/s]\n",
      "  0%|                                                             | 0/30 [00:00<?, ?it/s]\u001b[A\n",
      " 37%|██████████████████▋                                | 11/30 [00:00<00:00, 105.91it/s]\u001b[A"
     ]
    },
    {
     "name": "stdout",
     "output_type": "stream",
     "text": [
      "Epoch 17, loss: 12330403.773309\n"
     ]
    },
    {
     "name": "stderr",
     "output_type": "stream",
     "text": [
      "\n",
      "100%|███████████████████████████████████████████████████| 30/30 [00:00<00:00, 101.49it/s]\u001b[A\n",
      " 19%|█████████▋                                         | 19/100 [00:06<00:24,  3.24it/s]\n",
      "  0%|                                                             | 0/30 [00:00<?, ?it/s]\u001b[A\n",
      " 30%|███████████████▉                                     | 9/30 [00:00<00:00, 83.44it/s]\u001b[A"
     ]
    },
    {
     "name": "stdout",
     "output_type": "stream",
     "text": [
      "Epoch 18, loss: 13733264.143805\n"
     ]
    },
    {
     "name": "stderr",
     "output_type": "stream",
     "text": [
      "\n",
      " 63%|████████████████████████████████▉                   | 19/30 [00:00<00:00, 86.02it/s]\u001b[A\n",
      "100%|████████████████████████████████████████████████████| 30/30 [00:00<00:00, 89.40it/s]\u001b[A\n",
      " 20%|██████████▏                                        | 20/100 [00:06<00:25,  3.15it/s]\n",
      "  0%|                                                             | 0/30 [00:00<?, ?it/s]\u001b[A\n",
      " 30%|███████████████▉                                     | 9/30 [00:00<00:00, 80.45it/s]\u001b[A"
     ]
    },
    {
     "name": "stdout",
     "output_type": "stream",
     "text": [
      "Epoch 19, loss: 15609960.491992\n"
     ]
    },
    {
     "name": "stderr",
     "output_type": "stream",
     "text": [
      "\n",
      " 63%|████████████████████████████████▉                   | 19/30 [00:00<00:00, 82.94it/s]\u001b[A\n",
      "100%|████████████████████████████████████████████████████| 30/30 [00:00<00:00, 87.32it/s]\u001b[A\n",
      " 21%|██████████▋                                        | 21/100 [00:06<00:25,  3.06it/s]\n",
      "  0%|                                                             | 0/30 [00:00<?, ?it/s]\u001b[A\n",
      " 33%|█████████████████▎                                  | 10/30 [00:00<00:00, 96.25it/s]\u001b[A"
     ]
    },
    {
     "name": "stdout",
     "output_type": "stream",
     "text": [
      "Epoch 20, loss: 15494517.136896\n"
     ]
    },
    {
     "name": "stderr",
     "output_type": "stream",
     "text": [
      "\n",
      "100%|███████████████████████████████████████████████████| 30/30 [00:00<00:00, 102.86it/s]\u001b[A\n",
      " 22%|███████████▏                                       | 22/100 [00:07<00:24,  3.14it/s]\n",
      "  0%|                                                             | 0/30 [00:00<?, ?it/s]\u001b[A\n",
      " 37%|███████████████████                                 | 11/30 [00:00<00:00, 98.34it/s]\u001b[A"
     ]
    },
    {
     "name": "stdout",
     "output_type": "stream",
     "text": [
      "Epoch 21, loss: 18026510.891466\n"
     ]
    },
    {
     "name": "stderr",
     "output_type": "stream",
     "text": [
      "\n",
      " 63%|████████████████████████████████▉                   | 19/30 [00:00<00:00, 90.80it/s]\u001b[A\n",
      "100%|████████████████████████████████████████████████████| 30/30 [00:00<00:00, 83.44it/s]\u001b[A\n",
      " 23%|███████████▋                                       | 23/100 [00:07<00:25,  3.00it/s]\n",
      "  0%|                                                             | 0/30 [00:00<?, ?it/s]\u001b[A\n",
      " 27%|██████████████▏                                      | 8/30 [00:00<00:00, 71.52it/s]\u001b[A"
     ]
    },
    {
     "name": "stdout",
     "output_type": "stream",
     "text": [
      "Epoch 22, loss: 18960484.756298\n"
     ]
    },
    {
     "name": "stderr",
     "output_type": "stream",
     "text": [
      "\n",
      " 57%|█████████████████████████████▍                      | 17/30 [00:00<00:00, 73.99it/s]\u001b[A\n",
      "100%|████████████████████████████████████████████████████| 30/30 [00:00<00:00, 76.62it/s]\u001b[A\n",
      " 24%|████████████▏                                      | 24/100 [00:07<00:26,  2.84it/s]\n",
      "  0%|                                                             | 0/30 [00:00<?, ?it/s]\u001b[A\n",
      " 27%|██████████████▏                                      | 8/30 [00:00<00:00, 77.02it/s]\u001b[A"
     ]
    },
    {
     "name": "stdout",
     "output_type": "stream",
     "text": [
      "Epoch 23, loss: 17672476.472079\n"
     ]
    },
    {
     "name": "stderr",
     "output_type": "stream",
     "text": [
      "\n",
      " 57%|█████████████████████████████▍                      | 17/30 [00:00<00:00, 78.02it/s]\u001b[A\n",
      "100%|████████████████████████████████████████████████████| 30/30 [00:00<00:00, 77.41it/s]\u001b[A\n",
      " 25%|████████████▊                                      | 25/100 [00:08<00:27,  2.75it/s]\n",
      "  0%|                                                             | 0/30 [00:00<?, ?it/s]\u001b[A\n",
      " 33%|█████████████████▎                                  | 10/30 [00:00<00:00, 92.67it/s]\u001b[A"
     ]
    },
    {
     "name": "stdout",
     "output_type": "stream",
     "text": [
      "Epoch 24, loss: 19785488.220922\n"
     ]
    },
    {
     "name": "stderr",
     "output_type": "stream",
     "text": [
      "\n",
      " 63%|████████████████████████████████▉                   | 19/30 [00:00<00:00, 89.71it/s]\u001b[A\n",
      "100%|████████████████████████████████████████████████████| 30/30 [00:00<00:00, 87.32it/s]\u001b[A\n",
      " 26%|█████████████▎                                     | 26/100 [00:08<00:26,  2.78it/s]\n",
      "  0%|                                                             | 0/30 [00:00<?, ?it/s]\u001b[A\n",
      " 37%|██████████████████▋                                | 11/30 [00:00<00:00, 105.86it/s]\u001b[A"
     ]
    },
    {
     "name": "stdout",
     "output_type": "stream",
     "text": [
      "Epoch 25, loss: 17537519.423694\n"
     ]
    },
    {
     "name": "stderr",
     "output_type": "stream",
     "text": [
      "\n",
      "100%|███████████████████████████████████████████████████| 30/30 [00:00<00:00, 108.84it/s]\u001b[A\n",
      " 27%|█████████████▊                                     | 27/100 [00:08<00:24,  2.97it/s]\n",
      "  0%|                                                             | 0/30 [00:00<?, ?it/s]\u001b[A\n",
      " 33%|█████████████████▎                                  | 10/30 [00:00<00:00, 96.28it/s]\u001b[A\n"
     ]
    },
    {
     "name": "stdout",
     "output_type": "stream",
     "text": [
      "Epoch 26, loss: 20010329.431624\n"
     ]
    },
    {
     "name": "stderr",
     "output_type": "stream",
     "text": [
      " 67%|██████████████████████████████████▋                 | 20/30 [00:00<00:00, 96.28it/s]\u001b[A\n",
      "100%|████████████████████████████████████████████████████| 30/30 [00:00<00:00, 95.06it/s]\u001b[A\n",
      " 28%|██████████████▎                                    | 28/100 [00:09<00:23,  3.02it/s]\n",
      "  0%|                                                             | 0/30 [00:00<?, ?it/s]\u001b[A\n",
      " 30%|███████████████▉                                     | 9/30 [00:00<00:00, 86.65it/s]\u001b[A"
     ]
    },
    {
     "name": "stdout",
     "output_type": "stream",
     "text": [
      "Epoch 27, loss: 21580323.951588\n"
     ]
    },
    {
     "name": "stderr",
     "output_type": "stream",
     "text": [
      "\n",
      " 57%|█████████████████████████████▍                      | 17/30 [00:00<00:00, 82.49it/s]\u001b[A\n",
      "100%|████████████████████████████████████████████████████| 30/30 [00:00<00:00, 85.33it/s]\u001b[A\n",
      " 29%|██████████████▊                                    | 29/100 [00:09<00:24,  2.96it/s]\n",
      "  0%|                                                             | 0/30 [00:00<?, ?it/s]\u001b[A\n",
      " 40%|████████████████████▍                              | 12/30 [00:00<00:00, 111.26it/s]\u001b[A"
     ]
    },
    {
     "name": "stdout",
     "output_type": "stream",
     "text": [
      "Epoch 28, loss: 21892318.889172\n"
     ]
    },
    {
     "name": "stderr",
     "output_type": "stream",
     "text": [
      "\n",
      "100%|███████████████████████████████████████████████████| 30/30 [00:00<00:00, 108.84it/s]\u001b[A\n",
      " 30%|███████████████▎                                   | 30/100 [00:09<00:22,  3.12it/s]\n",
      "  0%|                                                             | 0/30 [00:00<?, ?it/s]\u001b[A\n",
      " 40%|████████████████████▍                              | 12/30 [00:00<00:00, 111.26it/s]\u001b[A"
     ]
    },
    {
     "name": "stdout",
     "output_type": "stream",
     "text": [
      "Epoch 29, loss: 20137211.327900\n"
     ]
    },
    {
     "name": "stderr",
     "output_type": "stream",
     "text": [
      "\n",
      "100%|███████████████████████████████████████████████████| 30/30 [00:00<00:00, 102.88it/s]\u001b[A\n",
      " 31%|███████████████▊                                   | 31/100 [00:10<00:21,  3.19it/s]\n",
      "  0%|                                                             | 0/30 [00:00<?, ?it/s]\u001b[A\n",
      " 40%|████████████████████▍                              | 12/30 [00:00<00:00, 115.49it/s]\u001b[A"
     ]
    },
    {
     "name": "stdout",
     "output_type": "stream",
     "text": [
      "Epoch 30, loss: 25172409.368581\n"
     ]
    },
    {
     "name": "stderr",
     "output_type": "stream",
     "text": [
      "\n",
      "100%|███████████████████████████████████████████████████| 30/30 [00:00<00:00, 104.31it/s]\u001b[A\n",
      " 32%|████████████████▎                                  | 32/100 [00:10<00:20,  3.26it/s]\n",
      "  0%|                                                             | 0/30 [00:00<?, ?it/s]\u001b[A\n",
      " 37%|██████████████████▋                                | 11/30 [00:00<00:00, 101.93it/s]\u001b[A"
     ]
    },
    {
     "name": "stdout",
     "output_type": "stream",
     "text": [
      "Epoch 31, loss: 26421555.077296\n"
     ]
    },
    {
     "name": "stderr",
     "output_type": "stream",
     "text": [
      "\n",
      "100%|███████████████████████████████████████████████████| 30/30 [00:00<00:00, 104.31it/s]\u001b[A\n",
      " 33%|████████████████▊                                  | 33/100 [00:10<00:20,  3.30it/s]\n",
      "  0%|                                                             | 0/30 [00:00<?, ?it/s]\u001b[A\n",
      " 43%|██████████████████████                             | 13/30 [00:00<00:00, 125.17it/s]\u001b[A"
     ]
    },
    {
     "name": "stdout",
     "output_type": "stream",
     "text": [
      "Epoch 32, loss: 29614602.222579\n"
     ]
    },
    {
     "name": "stderr",
     "output_type": "stream",
     "text": [
      "\n",
      "100%|███████████████████████████████████████████████████| 30/30 [00:00<00:00, 112.09it/s]\u001b[A\n",
      " 34%|█████████████████▎                                 | 34/100 [00:11<00:19,  3.40it/s]\n",
      "  0%|                                                             | 0/30 [00:00<?, ?it/s]\u001b[A\n",
      " 43%|██████████████████████                             | 13/30 [00:00<00:00, 120.53it/s]\u001b[A"
     ]
    },
    {
     "name": "stdout",
     "output_type": "stream",
     "text": [
      "Epoch 33, loss: 24540187.484935\n"
     ]
    },
    {
     "name": "stderr",
     "output_type": "stream",
     "text": [
      "\n",
      "100%|███████████████████████████████████████████████████| 30/30 [00:00<00:00, 110.42it/s]\u001b[A\n",
      " 35%|█████████████████▊                                 | 35/100 [00:11<00:18,  3.47it/s]\n",
      "  0%|                                                             | 0/30 [00:00<?, ?it/s]\u001b[A\n",
      " 37%|██████████████████▋                                | 11/30 [00:00<00:00, 105.91it/s]\u001b[A"
     ]
    },
    {
     "name": "stdout",
     "output_type": "stream",
     "text": [
      "Epoch 34, loss: 23239897.500563\n"
     ]
    },
    {
     "name": "stderr",
     "output_type": "stream",
     "text": [
      "\n",
      "100%|████████████████████████████████████████████████████| 30/30 [00:00<00:00, 96.28it/s]\u001b[A\n",
      " 36%|██████████████████▎                                | 36/100 [00:11<00:18,  3.37it/s]\n",
      "  0%|                                                             | 0/30 [00:00<?, ?it/s]\u001b[A\n",
      " 40%|████████████████████▍                              | 12/30 [00:00<00:00, 111.26it/s]\u001b[A"
     ]
    },
    {
     "name": "stdout",
     "output_type": "stream",
     "text": [
      "Epoch 35, loss: 23763771.653565\n"
     ]
    },
    {
     "name": "stderr",
     "output_type": "stream",
     "text": [
      "\n",
      "100%|███████████████████████████████████████████████████| 30/30 [00:00<00:00, 107.29it/s]\u001b[A\n",
      " 37%|██████████████████▊                                | 37/100 [00:11<00:18,  3.42it/s]\n",
      "  0%|                                                             | 0/30 [00:00<?, ?it/s]\u001b[A\n",
      " 40%|████████████████████▍                              | 12/30 [00:00<00:00, 115.54it/s]\u001b[A"
     ]
    },
    {
     "name": "stdout",
     "output_type": "stream",
     "text": [
      "Epoch 36, loss: 28422419.989083\n"
     ]
    },
    {
     "name": "stderr",
     "output_type": "stream",
     "text": [
      "\n",
      "100%|███████████████████████████████████████████████████| 30/30 [00:00<00:00, 102.87it/s]\u001b[A\n",
      " 38%|███████████████████▍                               | 38/100 [00:12<00:18,  3.41it/s]\n",
      "  0%|                                                             | 0/30 [00:00<?, ?it/s]\u001b[A\n",
      " 43%|██████████████████████                             | 13/30 [00:00<00:00, 120.50it/s]\u001b[A"
     ]
    },
    {
     "name": "stdout",
     "output_type": "stream",
     "text": [
      "Epoch 37, loss: 27859713.813174\n"
     ]
    },
    {
     "name": "stderr",
     "output_type": "stream",
     "text": [
      "\n",
      "100%|███████████████████████████████████████████████████| 30/30 [00:00<00:00, 105.76it/s]\u001b[A\n",
      " 39%|███████████████████▉                               | 39/100 [00:12<00:17,  3.43it/s]\n",
      "  0%|                                                             | 0/30 [00:00<?, ?it/s]\u001b[A\n",
      " 43%|██████████████████████                             | 13/30 [00:00<00:00, 120.49it/s]\u001b[A"
     ]
    },
    {
     "name": "stdout",
     "output_type": "stream",
     "text": [
      "Epoch 38, loss: 28307834.664380\n"
     ]
    },
    {
     "name": "stderr",
     "output_type": "stream",
     "text": [
      "\n",
      "100%|███████████████████████████████████████████████████| 30/30 [00:00<00:00, 108.84it/s]\u001b[A\n",
      " 40%|████████████████████▍                              | 40/100 [00:12<00:17,  3.47it/s]\n",
      "  0%|                                                             | 0/30 [00:00<?, ?it/s]\u001b[A\n",
      " 43%|██████████████████████                             | 13/30 [00:00<00:00, 120.50it/s]\u001b[A"
     ]
    },
    {
     "name": "stdout",
     "output_type": "stream",
     "text": [
      "Epoch 39, loss: 33997772.395030\n"
     ]
    },
    {
     "name": "stderr",
     "output_type": "stream",
     "text": [
      "\n",
      "100%|███████████████████████████████████████████████████| 30/30 [00:00<00:00, 113.78it/s]\u001b[A\n",
      " 41%|████████████████████▉                              | 41/100 [00:13<00:16,  3.53it/s]\n",
      "  0%|                                                             | 0/30 [00:00<?, ?it/s]\u001b[A\n",
      " 43%|██████████████████████                             | 13/30 [00:00<00:00, 120.53it/s]\u001b[A"
     ]
    },
    {
     "name": "stdout",
     "output_type": "stream",
     "text": [
      "Epoch 40, loss: 29874763.925964\n"
     ]
    },
    {
     "name": "stderr",
     "output_type": "stream",
     "text": [
      "\n",
      "100%|███████████████████████████████████████████████████| 30/30 [00:00<00:00, 110.44it/s]\u001b[A\n",
      " 42%|█████████████████████▍                             | 42/100 [00:13<00:16,  3.56it/s]\n",
      "  0%|                                                             | 0/30 [00:00<?, ?it/s]\u001b[A\n",
      " 30%|███████████████▉                                     | 9/30 [00:00<00:00, 86.66it/s]\u001b[A"
     ]
    },
    {
     "name": "stdout",
     "output_type": "stream",
     "text": [
      "Epoch 41, loss: 29206358.324833\n"
     ]
    },
    {
     "name": "stderr",
     "output_type": "stream",
     "text": [
      "\n",
      " 60%|███████████████████████████████▏                    | 18/30 [00:00<00:00, 84.70it/s]\u001b[A\n",
      "100%|████████████████████████████████████████████████████| 30/30 [00:00<00:00, 89.40it/s]\u001b[A\n",
      " 43%|█████████████████████▉                             | 43/100 [00:13<00:17,  3.34it/s]\n",
      "  0%|                                                             | 0/30 [00:00<?, ?it/s]\u001b[A\n",
      " 43%|██████████████████████                             | 13/30 [00:00<00:00, 120.49it/s]\u001b[A"
     ]
    },
    {
     "name": "stdout",
     "output_type": "stream",
     "text": [
      "Epoch 42, loss: 28979713.388363\n"
     ]
    },
    {
     "name": "stderr",
     "output_type": "stream",
     "text": [
      "\n",
      "100%|███████████████████████████████████████████████████| 30/30 [00:00<00:00, 110.44it/s]\u001b[A\n",
      " 44%|██████████████████████▍                            | 44/100 [00:14<00:16,  3.39it/s]\n",
      "  0%|                                                             | 0/30 [00:00<?, ?it/s]\u001b[A\n",
      " 43%|██████████████████████                             | 13/30 [00:00<00:00, 120.53it/s]\u001b[A"
     ]
    },
    {
     "name": "stdout",
     "output_type": "stream",
     "text": [
      "Epoch 43, loss: 33938579.521851\n"
     ]
    },
    {
     "name": "stderr",
     "output_type": "stream",
     "text": [
      "\n",
      "100%|███████████████████████████████████████████████████| 30/30 [00:00<00:00, 110.42it/s]\u001b[A\n",
      " 45%|██████████████████████▉                            | 45/100 [00:14<00:15,  3.46it/s]\n",
      "  0%|                                                             | 0/30 [00:00<?, ?it/s]\u001b[A\n",
      " 40%|████████████████████▍                              | 12/30 [00:00<00:00, 115.54it/s]\u001b[A"
     ]
    },
    {
     "name": "stdout",
     "output_type": "stream",
     "text": [
      "Epoch 44, loss: 31395086.033111\n"
     ]
    },
    {
     "name": "stderr",
     "output_type": "stream",
     "text": [
      "\n",
      "100%|███████████████████████████████████████████████████| 30/30 [00:00<00:00, 104.31it/s]\u001b[A\n",
      " 46%|███████████████████████▍                           | 46/100 [00:14<00:15,  3.45it/s]\n",
      "  0%|                                                             | 0/30 [00:00<?, ?it/s]\u001b[A\n",
      " 43%|██████████████████████                             | 13/30 [00:00<00:00, 120.50it/s]\u001b[A"
     ]
    },
    {
     "name": "stdout",
     "output_type": "stream",
     "text": [
      "Epoch 45, loss: 31853189.076399\n"
     ]
    },
    {
     "name": "stderr",
     "output_type": "stream",
     "text": [
      "\n",
      "100%|███████████████████████████████████████████████████| 30/30 [00:00<00:00, 107.28it/s]\u001b[A\n",
      " 47%|███████████████████████▉                           | 47/100 [00:14<00:15,  3.47it/s]\n",
      "  0%|                                                             | 0/30 [00:00<?, ?it/s]\u001b[A\n",
      " 40%|████████████████████▍                              | 12/30 [00:00<00:00, 115.50it/s]\u001b[A"
     ]
    },
    {
     "name": "stdout",
     "output_type": "stream",
     "text": [
      "Epoch 46, loss: 35312994.389810\n"
     ]
    },
    {
     "name": "stderr",
     "output_type": "stream",
     "text": [
      "\n",
      "100%|███████████████████████████████████████████████████| 30/30 [00:00<00:00, 105.76it/s]\u001b[A\n",
      " 48%|████████████████████████▍                          | 48/100 [00:15<00:14,  3.47it/s]\n",
      "  0%|                                                             | 0/30 [00:00<?, ?it/s]\u001b[A\n",
      " 43%|██████████████████████                             | 13/30 [00:00<00:00, 120.50it/s]\u001b[A"
     ]
    },
    {
     "name": "stdout",
     "output_type": "stream",
     "text": [
      "Epoch 47, loss: 36939331.329076\n"
     ]
    },
    {
     "name": "stderr",
     "output_type": "stream",
     "text": [
      "\n",
      "100%|███████████████████████████████████████████████████| 30/30 [00:00<00:00, 107.28it/s]\u001b[A\n",
      " 49%|████████████████████████▉                          | 49/100 [00:15<00:14,  3.47it/s]\n",
      "  0%|                                                             | 0/30 [00:00<?, ?it/s]\u001b[A\n",
      " 40%|████████████████████▍                              | 12/30 [00:00<00:00, 111.26it/s]\u001b[A"
     ]
    },
    {
     "name": "stdout",
     "output_type": "stream",
     "text": [
      "Epoch 48, loss: 33486862.509286\n"
     ]
    },
    {
     "name": "stderr",
     "output_type": "stream",
     "text": [
      "\n",
      "100%|███████████████████████████████████████████████████| 30/30 [00:00<00:00, 105.77it/s]\u001b[A\n",
      " 50%|█████████████████████████▌                         | 50/100 [00:15<00:14,  3.46it/s]\n",
      "  0%|                                                             | 0/30 [00:00<?, ?it/s]\u001b[A\n",
      " 30%|███████████████▉                                     | 9/30 [00:00<00:00, 80.46it/s]\u001b[A"
     ]
    },
    {
     "name": "stdout",
     "output_type": "stream",
     "text": [
      "Epoch 49, loss: 37041148.608771\n"
     ]
    },
    {
     "name": "stderr",
     "output_type": "stream",
     "text": [
      "\n",
      " 60%|███████████████████████████████▏                    | 18/30 [00:00<00:00, 81.33it/s]\u001b[A\n",
      "100%|████████████████████████████████████████████████████| 30/30 [00:00<00:00, 80.74it/s]\u001b[A\n",
      " 51%|██████████████████████████                         | 51/100 [00:16<00:15,  3.18it/s]\n",
      "  0%|                                                             | 0/30 [00:00<?, ?it/s]\u001b[A\n",
      " 33%|█████████████████▎                                  | 10/30 [00:00<00:00, 96.23it/s]\u001b[A"
     ]
    },
    {
     "name": "stdout",
     "output_type": "stream",
     "text": [
      "Epoch 50, loss: 33841105.548347\n"
     ]
    },
    {
     "name": "stderr",
     "output_type": "stream",
     "text": [
      "\n",
      "100%|███████████████████████████████████████████████████| 30/30 [00:00<00:00, 100.13it/s]\u001b[A\n",
      " 52%|██████████████████████████▌                        | 52/100 [00:16<00:14,  3.21it/s]\n",
      "  0%|                                                             | 0/30 [00:00<?, ?it/s]\u001b[A\n",
      " 40%|████████████████████▍                              | 12/30 [00:00<00:00, 111.24it/s]\u001b[A"
     ]
    },
    {
     "name": "stdout",
     "output_type": "stream",
     "text": [
      "Epoch 51, loss: 34953794.520655\n"
     ]
    },
    {
     "name": "stderr",
     "output_type": "stream",
     "text": [
      "\n",
      "100%|███████████████████████████████████████████████████| 30/30 [00:00<00:00, 105.76it/s]\u001b[A\n",
      " 53%|███████████████████████████                        | 53/100 [00:16<00:14,  3.27it/s]\n",
      "  0%|                                                             | 0/30 [00:00<?, ?it/s]\u001b[A\n",
      " 37%|██████████████████▋                                | 11/30 [00:00<00:00, 105.91it/s]\u001b[A"
     ]
    },
    {
     "name": "stdout",
     "output_type": "stream",
     "text": [
      "Epoch 52, loss: 32865497.350445\n"
     ]
    },
    {
     "name": "stderr",
     "output_type": "stream",
     "text": [
      "\n",
      "100%|███████████████████████████████████████████████████| 30/30 [00:00<00:00, 104.31it/s]\u001b[A\n",
      " 54%|███████████████████████████▌                       | 54/100 [00:16<00:13,  3.33it/s]\n",
      "  0%|                                                             | 0/30 [00:00<?, ?it/s]\u001b[A\n",
      " 40%|████████████████████▍                              | 12/30 [00:00<00:00, 111.26it/s]\u001b[A"
     ]
    },
    {
     "name": "stdout",
     "output_type": "stream",
     "text": [
      "Epoch 53, loss: 37969037.939756\n"
     ]
    },
    {
     "name": "stderr",
     "output_type": "stream",
     "text": [
      "\n",
      "100%|███████████████████████████████████████████████████| 30/30 [00:00<00:00, 104.30it/s]\u001b[A\n",
      " 55%|████████████████████████████                       | 55/100 [00:17<00:13,  3.35it/s]\n",
      "  0%|                                                             | 0/30 [00:00<?, ?it/s]\u001b[A\n",
      " 43%|██████████████████████                             | 13/30 [00:00<00:00, 120.53it/s]\u001b[A"
     ]
    },
    {
     "name": "stdout",
     "output_type": "stream",
     "text": [
      "Epoch 54, loss: 41562139.582391\n"
     ]
    },
    {
     "name": "stderr",
     "output_type": "stream",
     "text": [
      "\n",
      "100%|███████████████████████████████████████████████████| 30/30 [00:00<00:00, 107.26it/s]\u001b[A\n",
      " 56%|████████████████████████████▌                      | 56/100 [00:17<00:12,  3.40it/s]\n",
      "  0%|                                                             | 0/30 [00:00<?, ?it/s]\u001b[A\n",
      " 40%|████████████████████▍                              | 12/30 [00:00<00:00, 111.26it/s]\u001b[A"
     ]
    },
    {
     "name": "stdout",
     "output_type": "stream",
     "text": [
      "Epoch 55, loss: 37667843.140897\n"
     ]
    },
    {
     "name": "stderr",
     "output_type": "stream",
     "text": [
      "\n",
      "100%|███████████████████████████████████████████████████| 30/30 [00:00<00:00, 104.30it/s]\u001b[A\n",
      " 57%|█████████████████████████████                      | 57/100 [00:17<00:12,  3.41it/s]\n",
      "  0%|                                                             | 0/30 [00:00<?, ?it/s]\u001b[A\n",
      " 43%|██████████████████████                             | 13/30 [00:00<00:00, 120.53it/s]\u001b[A"
     ]
    },
    {
     "name": "stdout",
     "output_type": "stream",
     "text": [
      "Epoch 56, loss: 40397497.982615\n"
     ]
    },
    {
     "name": "stderr",
     "output_type": "stream",
     "text": [
      "\n",
      "100%|███████████████████████████████████████████████████| 30/30 [00:00<00:00, 108.84it/s]\u001b[A\n",
      " 58%|█████████████████████████████▌                     | 58/100 [00:18<00:12,  3.44it/s]\n",
      "  0%|                                                             | 0/30 [00:00<?, ?it/s]\u001b[A\n",
      " 33%|█████████████████▎                                  | 10/30 [00:00<00:00, 92.71it/s]\u001b[A"
     ]
    },
    {
     "name": "stdout",
     "output_type": "stream",
     "text": [
      "Epoch 57, loss: 48800183.145905\n"
     ]
    },
    {
     "name": "stderr",
     "output_type": "stream",
     "text": [
      "\n",
      " 63%|████████████████████████████████▉                   | 19/30 [00:00<00:00, 88.65it/s]\u001b[A\n",
      "100%|████████████████████████████████████████████████████| 30/30 [00:00<00:00, 83.43it/s]\u001b[A\n",
      " 59%|██████████████████████████████                     | 59/100 [00:18<00:12,  3.21it/s]\n",
      "  0%|                                                             | 0/30 [00:00<?, ?it/s]\u001b[A\n",
      " 33%|█████████████████▎                                  | 10/30 [00:00<00:00, 92.70it/s]\u001b[A"
     ]
    },
    {
     "name": "stdout",
     "output_type": "stream",
     "text": [
      "Epoch 58, loss: 41387796.915395\n"
     ]
    },
    {
     "name": "stderr",
     "output_type": "stream",
     "text": [
      "\n",
      " 63%|████████████████████████████████▉                   | 19/30 [00:00<00:00, 89.71it/s]\u001b[A\n",
      "100%|████████████████████████████████████████████████████| 30/30 [00:00<00:00, 85.34it/s]\u001b[A\n",
      " 60%|██████████████████████████████▌                    | 60/100 [00:18<00:12,  3.08it/s]\n",
      "  0%|                                                             | 0/30 [00:00<?, ?it/s]\u001b[A\n",
      " 37%|██████████████████▋                                | 11/30 [00:00<00:00, 105.91it/s]\u001b[A"
     ]
    },
    {
     "name": "stdout",
     "output_type": "stream",
     "text": [
      "Epoch 59, loss: 38339820.885294\n"
     ]
    },
    {
     "name": "stderr",
     "output_type": "stream",
     "text": [
      "\n",
      "100%|███████████████████████████████████████████████████| 30/30 [00:00<00:00, 105.77it/s]\u001b[A\n",
      " 61%|███████████████████████████████                    | 61/100 [00:19<00:12,  3.19it/s]\n",
      "  0%|                                                             | 0/30 [00:00<?, ?it/s]\u001b[A\n",
      " 37%|██████████████████▋                                | 11/30 [00:00<00:00, 101.95it/s]\u001b[A"
     ]
    },
    {
     "name": "stdout",
     "output_type": "stream",
     "text": [
      "Epoch 60, loss: 44687604.036075\n"
     ]
    },
    {
     "name": "stderr",
     "output_type": "stream",
     "text": [
      "\n",
      "100%|███████████████████████████████████████████████████| 30/30 [00:00<00:00, 104.31it/s]\u001b[A\n",
      " 62%|███████████████████████████████▌                   | 62/100 [00:19<00:11,  3.25it/s]\n",
      "  0%|                                                             | 0/30 [00:00<?, ?it/s]\u001b[A\n",
      " 43%|██████████████████████                             | 13/30 [00:00<00:00, 120.49it/s]\u001b[A"
     ]
    },
    {
     "name": "stdout",
     "output_type": "stream",
     "text": [
      "Epoch 61, loss: 37395241.937818\n"
     ]
    },
    {
     "name": "stderr",
     "output_type": "stream",
     "text": [
      "\n",
      " 70%|███████████████████████████████████▋               | 21/30 [00:00<00:00, 101.48it/s]\u001b[A\n",
      "100%|████████████████████████████████████████████████████| 30/30 [00:00<00:00, 90.48it/s]\u001b[A\n",
      " 63%|████████████████████████████████▏                  | 63/100 [00:19<00:11,  3.15it/s]\n",
      "  0%|                                                             | 0/30 [00:00<?, ?it/s]\u001b[A\n",
      " 27%|██████████████▏                                      | 8/30 [00:00<00:00, 74.17it/s]\u001b[A"
     ]
    },
    {
     "name": "stdout",
     "output_type": "stream",
     "text": [
      "Epoch 62, loss: 42969534.964617\n"
     ]
    },
    {
     "name": "stderr",
     "output_type": "stream",
     "text": [
      "\n",
      " 53%|███████████████████████████▋                        | 16/30 [00:00<00:00, 75.00it/s]\u001b[A\n",
      "100%|████████████████████████████████████████████████████| 30/30 [00:00<00:00, 75.10it/s]\u001b[A\n",
      " 64%|████████████████████████████████▋                  | 64/100 [00:20<00:12,  2.91it/s]\n",
      "  0%|                                                             | 0/30 [00:00<?, ?it/s]\u001b[A\n",
      " 27%|██████████████▏                                      | 8/30 [00:00<00:00, 74.17it/s]\u001b[A"
     ]
    },
    {
     "name": "stdout",
     "output_type": "stream",
     "text": [
      "Epoch 63, loss: 44879889.680699\n"
     ]
    },
    {
     "name": "stderr",
     "output_type": "stream",
     "text": [
      "\n",
      " 53%|███████████████████████████▋                        | 16/30 [00:00<00:00, 75.00it/s]\u001b[A\n",
      "100%|████████████████████████████████████████████████████| 30/30 [00:00<00:00, 75.10it/s]\u001b[A\n",
      " 65%|█████████████████████████████████▏                 | 65/100 [00:20<00:12,  2.77it/s]\n",
      "  0%|                                                             | 0/30 [00:00<?, ?it/s]\u001b[A\n",
      " 27%|██████████████▏                                      | 8/30 [00:00<00:00, 77.03it/s]\u001b[A"
     ]
    },
    {
     "name": "stdout",
     "output_type": "stream",
     "text": [
      "Epoch 64, loss: 40529998.346820\n"
     ]
    },
    {
     "name": "stderr",
     "output_type": "stream",
     "text": [
      "\n",
      " 53%|███████████████████████████▋                        | 16/30 [00:00<00:00, 76.15it/s]\u001b[A\n",
      "100%|████████████████████████████████████████████████████| 30/30 [00:00<00:00, 75.85it/s]\u001b[A\n",
      " 66%|█████████████████████████████████▋                 | 66/100 [00:20<00:12,  2.68it/s]\n",
      "  0%|                                                             | 0/30 [00:00<?, ?it/s]\u001b[A\n",
      " 27%|██████████████▏                                      | 8/30 [00:00<00:00, 74.16it/s]\u001b[A"
     ]
    },
    {
     "name": "stdout",
     "output_type": "stream",
     "text": [
      "Epoch 65, loss: 49427733.451622\n"
     ]
    },
    {
     "name": "stderr",
     "output_type": "stream",
     "text": [
      "\n",
      " 53%|███████████████████████████▋                        | 16/30 [00:00<00:00, 73.34it/s]\u001b[A\n",
      "100%|████████████████████████████████████████████████████| 30/30 [00:00<00:00, 74.36it/s]\u001b[A\n",
      " 67%|██████████████████████████████████▏                | 67/100 [00:21<00:12,  2.61it/s]\n",
      "  0%|                                                             | 0/30 [00:00<?, ?it/s]\u001b[A\n",
      " 30%|███████████████▉                                     | 9/30 [00:00<00:00, 77.69it/s]\u001b[A"
     ]
    },
    {
     "name": "stdout",
     "output_type": "stream",
     "text": [
      "Epoch 66, loss: 45804639.712756\n"
     ]
    },
    {
     "name": "stderr",
     "output_type": "stream",
     "text": [
      "\n",
      " 60%|███████████████████████████████▏                    | 18/30 [00:00<00:00, 78.50it/s]\u001b[A\n",
      "100%|████████████████████████████████████████████████████| 30/30 [00:00<00:00, 80.74it/s]\u001b[A\n",
      " 68%|██████████████████████████████████▋                | 68/100 [00:21<00:12,  2.62it/s]\n",
      "  0%|                                                             | 0/30 [00:00<?, ?it/s]\u001b[A\n",
      " 30%|███████████████▉                                     | 9/30 [00:00<00:00, 80.44it/s]\u001b[A"
     ]
    },
    {
     "name": "stdout",
     "output_type": "stream",
     "text": [
      "Epoch 67, loss: 46725069.124672\n"
     ]
    },
    {
     "name": "stderr",
     "output_type": "stream",
     "text": [
      "\n",
      "100%|████████████████████████████████████████████████████| 30/30 [00:00<00:00, 96.28it/s]\u001b[A\n",
      " 69%|███████████████████████████████████▏               | 69/100 [00:22<00:11,  2.76it/s]\n",
      "  0%|                                                             | 0/30 [00:00<?, ?it/s]\u001b[A\n",
      " 40%|████████████████████▍                              | 12/30 [00:00<00:00, 111.25it/s]\u001b[A"
     ]
    },
    {
     "name": "stdout",
     "output_type": "stream",
     "text": [
      "Epoch 68, loss: 55908308.443480\n"
     ]
    },
    {
     "name": "stderr",
     "output_type": "stream",
     "text": [
      "\n",
      "100%|███████████████████████████████████████████████████| 30/30 [00:00<00:00, 104.31it/s]\u001b[A\n",
      " 70%|███████████████████████████████████▋               | 70/100 [00:22<00:10,  2.93it/s]\n",
      "  0%|                                                             | 0/30 [00:00<?, ?it/s]\u001b[A\n",
      " 40%|████████████████████▍                              | 12/30 [00:00<00:00, 111.23it/s]\u001b[A"
     ]
    },
    {
     "name": "stdout",
     "output_type": "stream",
     "text": [
      "Epoch 69, loss: 44733862.634807\n"
     ]
    },
    {
     "name": "stderr",
     "output_type": "stream",
     "text": [
      "\n",
      "100%|███████████████████████████████████████████████████| 30/30 [00:00<00:00, 102.88it/s]\u001b[A\n",
      " 71%|████████████████████████████████████▏              | 71/100 [00:22<00:09,  3.05it/s]\n",
      "  0%|                                                             | 0/30 [00:00<?, ?it/s]\u001b[A\n",
      " 37%|██████████████████▋                                | 11/30 [00:00<00:00, 101.98it/s]\u001b[A"
     ]
    },
    {
     "name": "stdout",
     "output_type": "stream",
     "text": [
      "Epoch 70, loss: 40826929.183646\n"
     ]
    },
    {
     "name": "stderr",
     "output_type": "stream",
     "text": [
      "\n",
      "100%|███████████████████████████████████████████████████| 30/30 [00:00<00:00, 101.49it/s]\u001b[A\n",
      " 72%|████████████████████████████████████▋              | 72/100 [00:22<00:08,  3.13it/s]\n",
      "  0%|                                                             | 0/30 [00:00<?, ?it/s]\u001b[A\n",
      " 40%|████████████████████▍                              | 12/30 [00:00<00:00, 111.26it/s]\u001b[A"
     ]
    },
    {
     "name": "stdout",
     "output_type": "stream",
     "text": [
      "Epoch 71, loss: 53101815.627645\n"
     ]
    },
    {
     "name": "stderr",
     "output_type": "stream",
     "text": [
      "\n",
      "100%|███████████████████████████████████████████████████| 30/30 [00:00<00:00, 107.27it/s]\u001b[A\n",
      " 73%|█████████████████████████████████████▏             | 73/100 [00:23<00:08,  3.24it/s]\n",
      "  0%|                                                             | 0/30 [00:00<?, ?it/s]\u001b[A\n",
      " 40%|████████████████████▍                              | 12/30 [00:00<00:00, 107.29it/s]\u001b[A"
     ]
    },
    {
     "name": "stdout",
     "output_type": "stream",
     "text": [
      "Epoch 72, loss: 48870526.257198\n"
     ]
    },
    {
     "name": "stderr",
     "output_type": "stream",
     "text": [
      "\n",
      "100%|███████████████████████████████████████████████████| 30/30 [00:00<00:00, 104.31it/s]\u001b[A\n",
      " 74%|█████████████████████████████████████▋             | 74/100 [00:23<00:07,  3.30it/s]\n",
      "  0%|                                                             | 0/30 [00:00<?, ?it/s]\u001b[A\n",
      " 30%|███████████████▉                                     | 9/30 [00:00<00:00, 86.65it/s]\u001b[A"
     ]
    },
    {
     "name": "stdout",
     "output_type": "stream",
     "text": [
      "Epoch 73, loss: 53035672.264870\n"
     ]
    },
    {
     "name": "stderr",
     "output_type": "stream",
     "text": [
      "\n",
      " 60%|███████████████████████████████▏                    | 18/30 [00:00<00:00, 84.70it/s]\u001b[A\n",
      "100%|████████████████████████████████████████████████████| 30/30 [00:00<00:00, 84.38it/s]\u001b[A\n",
      " 75%|██████████████████████████████████████▎            | 75/100 [00:23<00:08,  3.11it/s]\n",
      "  0%|                                                             | 0/30 [00:00<?, ?it/s]\u001b[A\n",
      " 37%|██████████████████▋                                | 11/30 [00:00<00:00, 101.99it/s]\u001b[A"
     ]
    },
    {
     "name": "stdout",
     "output_type": "stream",
     "text": [
      "Epoch 74, loss: 48323007.464595\n"
     ]
    },
    {
     "name": "stderr",
     "output_type": "stream",
     "text": [
      "\n",
      "100%|████████████████████████████████████████████████████| 30/30 [00:00<00:00, 95.06it/s]\u001b[A\n",
      " 76%|██████████████████████████████████████▊            | 76/100 [00:24<00:07,  3.12it/s]\n",
      "  0%|                                                             | 0/30 [00:00<?, ?it/s]\u001b[A\n",
      " 33%|█████████████████▎                                  | 10/30 [00:00<00:00, 96.28it/s]\u001b[A"
     ]
    },
    {
     "name": "stdout",
     "output_type": "stream",
     "text": [
      "Epoch 75, loss: 47155627.701265\n"
     ]
    },
    {
     "name": "stderr",
     "output_type": "stream",
     "text": [
      "\n",
      " 67%|██████████████████████████████████▋                 | 20/30 [00:00<00:00, 95.19it/s]\u001b[A\n",
      "100%|████████████████████████████████████████████████████| 30/30 [00:00<00:00, 93.88it/s]\u001b[A\n",
      " 77%|███████████████████████████████████████▎           | 77/100 [00:24<00:07,  3.11it/s]\n",
      "  0%|                                                             | 0/30 [00:00<?, ?it/s]\u001b[A\n",
      " 33%|█████████████████▎                                  | 10/30 [00:00<00:00, 92.71it/s]\u001b[A"
     ]
    },
    {
     "name": "stdout",
     "output_type": "stream",
     "text": [
      "Epoch 76, loss: 57794374.961215\n"
     ]
    },
    {
     "name": "stderr",
     "output_type": "stream",
     "text": [
      "\n",
      " 67%|██████████████████████████████████▋                 | 20/30 [00:00<00:00, 90.70it/s]\u001b[A\n",
      "100%|████████████████████████████████████████████████████| 30/30 [00:00<00:00, 80.75it/s]\u001b[A\n",
      " 78%|███████████████████████████████████████▊           | 78/100 [00:24<00:07,  2.95it/s]\n",
      "  0%|                                                             | 0/30 [00:00<?, ?it/s]\u001b[A\n",
      " 27%|██████████████▏                                      | 8/30 [00:00<00:00, 69.03it/s]\u001b[A"
     ]
    },
    {
     "name": "stdout",
     "output_type": "stream",
     "text": [
      "Epoch 77, loss: 66579174.077639\n"
     ]
    },
    {
     "name": "stderr",
     "output_type": "stream",
     "text": [
      "\n",
      " 53%|███████████████████████████▋                        | 16/30 [00:00<00:00, 71.26it/s]\u001b[A\n",
      "100%|████████████████████████████████████████████████████| 30/30 [00:00<00:00, 72.91it/s]\u001b[A\n",
      " 79%|████████████████████████████████████████▎          | 79/100 [00:25<00:07,  2.76it/s]\n",
      "  0%|                                                             | 0/30 [00:00<?, ?it/s]\u001b[A\n",
      " 30%|███████████████▉                                     | 9/30 [00:00<00:00, 83.44it/s]\u001b[A"
     ]
    },
    {
     "name": "stdout",
     "output_type": "stream",
     "text": [
      "Epoch 78, loss: 53137669.781367\n"
     ]
    },
    {
     "name": "stderr",
     "output_type": "stream",
     "text": [
      "\n",
      " 60%|███████████████████████████████▏                    | 18/30 [00:00<00:00, 83.44it/s]\u001b[A\n",
      "100%|████████████████████████████████████████████████████| 30/30 [00:00<00:00, 87.33it/s]\u001b[A\n",
      " 80%|████████████████████████████████████████▊          | 80/100 [00:25<00:07,  2.80it/s]\n",
      "  0%|                                                             | 0/30 [00:00<?, ?it/s]\u001b[A\n",
      " 33%|█████████████████▎                                  | 10/30 [00:00<00:00, 92.69it/s]\u001b[A"
     ]
    },
    {
     "name": "stdout",
     "output_type": "stream",
     "text": [
      "Epoch 79, loss: 60497306.310636\n"
     ]
    },
    {
     "name": "stderr",
     "output_type": "stream",
     "text": [
      "\n",
      " 67%|██████████████████████████████████▋                 | 20/30 [00:00<00:00, 92.70it/s]\u001b[A\n",
      "100%|████████████████████████████████████████████████████| 30/30 [00:00<00:00, 91.59it/s]\u001b[A\n",
      " 81%|█████████████████████████████████████████▎         | 81/100 [00:26<00:06,  2.86it/s]\n",
      "  0%|                                                             | 0/30 [00:00<?, ?it/s]\u001b[A\n",
      " 27%|██████████████▏                                      | 8/30 [00:00<00:00, 74.17it/s]\u001b[A"
     ]
    },
    {
     "name": "stdout",
     "output_type": "stream",
     "text": [
      "Epoch 80, loss: 60438757.619744\n"
     ]
    },
    {
     "name": "stderr",
     "output_type": "stream",
     "text": [
      "\n",
      " 53%|███████████████████████████▋                        | 16/30 [00:00<00:00, 74.17it/s]\u001b[A\n",
      "100%|████████████████████████████████████████████████████| 30/30 [00:00<00:00, 79.04it/s]\u001b[A\n",
      " 82%|█████████████████████████████████████████▊         | 82/100 [00:26<00:06,  2.77it/s]\n",
      "  0%|                                                             | 0/30 [00:00<?, ?it/s]\u001b[A\n",
      " 30%|███████████████▉                                     | 9/30 [00:00<00:00, 80.43it/s]\u001b[A"
     ]
    },
    {
     "name": "stdout",
     "output_type": "stream",
     "text": [
      "Epoch 81, loss: 52208285.325193\n"
     ]
    },
    {
     "name": "stderr",
     "output_type": "stream",
     "text": [
      "\n",
      " 57%|█████████████████████████████▍                      | 17/30 [00:00<00:00, 79.39it/s]\u001b[A\n",
      "100%|████████████████████████████████████████████████████| 30/30 [00:00<00:00, 79.05it/s]\u001b[A\n",
      " 83%|██████████████████████████████████████████▎        | 83/100 [00:26<00:06,  2.71it/s]\n",
      "  0%|                                                             | 0/30 [00:00<?, ?it/s]\u001b[A\n",
      " 30%|███████████████▉                                     | 9/30 [00:00<00:00, 80.47it/s]\u001b[A"
     ]
    },
    {
     "name": "stdout",
     "output_type": "stream",
     "text": [
      "Epoch 82, loss: 58580699.038259\n"
     ]
    },
    {
     "name": "stderr",
     "output_type": "stream",
     "text": [
      "\n",
      " 57%|█████████████████████████████▍                      | 17/30 [00:00<00:00, 78.47it/s]\u001b[A\n",
      "100%|████████████████████████████████████████████████████| 30/30 [00:00<00:00, 76.63it/s]\u001b[A\n",
      " 84%|██████████████████████████████████████████▊        | 84/100 [00:27<00:06,  2.65it/s]\n",
      "  0%|                                                             | 0/30 [00:00<?, ?it/s]\u001b[A\n",
      " 33%|█████████████████▎                                  | 10/30 [00:00<00:00, 92.71it/s]\u001b[A"
     ]
    },
    {
     "name": "stdout",
     "output_type": "stream",
     "text": [
      "Epoch 83, loss: 66824937.386758\n"
     ]
    },
    {
     "name": "stderr",
     "output_type": "stream",
     "text": [
      "\n",
      "100%|████████████████████████████████████████████████████| 30/30 [00:00<00:00, 97.54it/s]\u001b[A\n",
      " 85%|███████████████████████████████████████████▎       | 85/100 [00:27<00:05,  2.80it/s]\n",
      "  0%|                                                             | 0/30 [00:00<?, ?it/s]\u001b[A\n",
      " 40%|████████████████████▍                              | 12/30 [00:00<00:00, 115.50it/s]\u001b[A"
     ]
    },
    {
     "name": "stdout",
     "output_type": "stream",
     "text": [
      "Epoch 84, loss: 57358434.421563\n"
     ]
    },
    {
     "name": "stderr",
     "output_type": "stream",
     "text": [
      "\n",
      "100%|████████████████████████████████████████████████████| 30/30 [00:00<00:00, 97.53it/s]\u001b[A\n",
      " 86%|███████████████████████████████████████████▊       | 86/100 [00:27<00:04,  2.91it/s]\n",
      "  0%|                                                             | 0/30 [00:00<?, ?it/s]\u001b[A\n",
      " 37%|██████████████████▋                                | 11/30 [00:00<00:00, 101.99it/s]\u001b[A"
     ]
    },
    {
     "name": "stdout",
     "output_type": "stream",
     "text": [
      "Epoch 85, loss: 57345372.730816\n"
     ]
    },
    {
     "name": "stderr",
     "output_type": "stream",
     "text": [
      "\n",
      "100%|███████████████████████████████████████████████████| 30/30 [00:00<00:00, 100.14it/s]\u001b[A\n",
      " 87%|████████████████████████████████████████████▎      | 87/100 [00:28<00:04,  3.00it/s]\n",
      "  0%|                                                             | 0/30 [00:00<?, ?it/s]\u001b[A\n",
      " 43%|██████████████████████                             | 13/30 [00:00<00:00, 120.53it/s]\u001b[A"
     ]
    },
    {
     "name": "stdout",
     "output_type": "stream",
     "text": [
      "Epoch 86, loss: 68494938.325581\n"
     ]
    },
    {
     "name": "stderr",
     "output_type": "stream",
     "text": [
      "\n",
      "100%|███████████████████████████████████████████████████| 30/30 [00:00<00:00, 102.86it/s]\u001b[A\n",
      " 88%|████████████████████████████████████████████▉      | 88/100 [00:28<00:03,  3.10it/s]\n",
      "  0%|                                                             | 0/30 [00:00<?, ?it/s]\u001b[A\n",
      " 27%|██████████████▏                                      | 8/30 [00:00<00:00, 77.03it/s]\u001b[A"
     ]
    },
    {
     "name": "stdout",
     "output_type": "stream",
     "text": [
      "Epoch 87, loss: 61795752.997216\n"
     ]
    },
    {
     "name": "stderr",
     "output_type": "stream",
     "text": [
      "\n",
      " 63%|████████████████████████████████▉                   | 19/30 [00:00<00:00, 83.13it/s]\u001b[A\n",
      "100%|████████████████████████████████████████████████████| 30/30 [00:00<00:00, 92.39it/s]\u001b[A\n",
      " 89%|█████████████████████████████████████████████▍     | 89/100 [00:28<00:03,  3.07it/s]\n",
      "  0%|                                                             | 0/30 [00:00<?, ?it/s]\u001b[A\n",
      " 40%|████████████████████▍                              | 12/30 [00:00<00:00, 111.27it/s]\u001b[A"
     ]
    },
    {
     "name": "stdout",
     "output_type": "stream",
     "text": [
      "Epoch 88, loss: 59785107.065242\n"
     ]
    },
    {
     "name": "stderr",
     "output_type": "stream",
     "text": [
      "\n",
      "100%|████████████████████████████████████████████████████| 30/30 [00:00<00:00, 95.06it/s]\u001b[A\n",
      " 90%|█████████████████████████████████████████████▉     | 90/100 [00:29<00:03,  3.09it/s]\n",
      "  0%|                                                             | 0/30 [00:00<?, ?it/s]\u001b[A\n",
      " 30%|███████████████▉                                     | 9/30 [00:00<00:00, 80.45it/s]\u001b[A"
     ]
    },
    {
     "name": "stdout",
     "output_type": "stream",
     "text": [
      "Epoch 89, loss: 65548171.043422\n"
     ]
    },
    {
     "name": "stderr",
     "output_type": "stream",
     "text": [
      "\n",
      " 63%|████████████████████████████████▉                   | 19/30 [00:00<00:00, 82.95it/s]\u001b[A\n",
      "100%|████████████████████████████████████████████████████| 30/30 [00:00<00:00, 89.41it/s]\u001b[A\n",
      " 91%|██████████████████████████████████████████████▍    | 91/100 [00:29<00:02,  3.03it/s]\n",
      "  0%|                                                             | 0/30 [00:00<?, ?it/s]\u001b[A\n",
      " 37%|██████████████████▋                                | 11/30 [00:00<00:00, 101.99it/s]\u001b[A"
     ]
    },
    {
     "name": "stdout",
     "output_type": "stream",
     "text": [
      "Epoch 90, loss: 54110684.032686\n"
     ]
    },
    {
     "name": "stderr",
     "output_type": "stream",
     "text": [
      "\n",
      " 70%|████████████████████████████████████▍               | 21/30 [00:00<00:00, 96.72it/s]\u001b[A\n",
      "100%|████████████████████████████████████████████████████| 30/30 [00:00<00:00, 88.35it/s]\u001b[A\n",
      " 92%|██████████████████████████████████████████████▉    | 92/100 [00:29<00:02,  2.98it/s]\n",
      "  0%|                                                             | 0/30 [00:00<?, ?it/s]\u001b[A\n",
      " 23%|████████████▎                                        | 7/30 [00:00<00:00, 67.40it/s]\u001b[A"
     ]
    },
    {
     "name": "stdout",
     "output_type": "stream",
     "text": [
      "Epoch 91, loss: 60782500.573258\n"
     ]
    },
    {
     "name": "stderr",
     "output_type": "stream",
     "text": [
      "\n",
      " 60%|███████████████████████████████▏                    | 18/30 [00:00<00:00, 74.42it/s]\u001b[A\n",
      "100%|████████████████████████████████████████████████████| 30/30 [00:00<00:00, 86.32it/s]\u001b[A\n",
      " 93%|███████████████████████████████████████████████▍   | 93/100 [00:30<00:02,  2.94it/s]\n",
      "  0%|                                                             | 0/30 [00:00<?, ?it/s]\u001b[A\n",
      " 37%|██████████████████▋                                | 11/30 [00:00<00:00, 105.92it/s]\u001b[A"
     ]
    },
    {
     "name": "stdout",
     "output_type": "stream",
     "text": [
      "Epoch 92, loss: 72682898.731944\n"
     ]
    },
    {
     "name": "stderr",
     "output_type": "stream",
     "text": [
      "\n",
      " 63%|████████████████████████████████▉                   | 19/30 [00:00<00:00, 93.86it/s]\u001b[A\n",
      "100%|████████████████████████████████████████████████████| 30/30 [00:00<00:00, 82.53it/s]\u001b[A\n",
      " 94%|███████████████████████████████████████████████▉   | 94/100 [00:30<00:02,  2.86it/s]\n",
      "  0%|                                                             | 0/30 [00:00<?, ?it/s]\u001b[A\n",
      " 37%|██████████████████▋                                | 11/30 [00:00<00:00, 101.98it/s]\u001b[A"
     ]
    },
    {
     "name": "stdout",
     "output_type": "stream",
     "text": [
      "Epoch 93, loss: 60214627.277685\n"
     ]
    },
    {
     "name": "stderr",
     "output_type": "stream",
     "text": [
      "\n",
      "100%|███████████████████████████████████████████████████| 30/30 [00:00<00:00, 100.13it/s]\u001b[A\n",
      " 95%|████████████████████████████████████████████████▍  | 95/100 [00:30<00:01,  2.98it/s]\n",
      "  0%|                                                             | 0/30 [00:00<?, ?it/s]\u001b[A\n",
      " 30%|███████████████▉                                     | 9/30 [00:00<00:00, 80.46it/s]\u001b[A"
     ]
    },
    {
     "name": "stdout",
     "output_type": "stream",
     "text": [
      "Epoch 94, loss: 66210956.078271\n"
     ]
    },
    {
     "name": "stderr",
     "output_type": "stream",
     "text": [
      "\n",
      " 63%|████████████████████████████████▉                   | 19/30 [00:00<00:00, 82.95it/s]\u001b[A\n",
      "100%|████████████████████████████████████████████████████| 30/30 [00:00<00:00, 90.48it/s]\u001b[A\n",
      " 96%|████████████████████████████████████████████████▉  | 96/100 [00:31<00:01,  2.98it/s]\n",
      "  0%|                                                             | 0/30 [00:00<?, ?it/s]\u001b[A\n",
      " 37%|██████████████████▋                                | 11/30 [00:00<00:00, 105.93it/s]\u001b[A"
     ]
    },
    {
     "name": "stdout",
     "output_type": "stream",
     "text": [
      "Epoch 95, loss: 64506388.213416\n"
     ]
    },
    {
     "name": "stderr",
     "output_type": "stream",
     "text": [
      "\n",
      " 70%|███████████████████████████████████▋               | 21/30 [00:00<00:00, 102.84it/s]\u001b[A\n",
      "100%|████████████████████████████████████████████████████| 30/30 [00:00<00:00, 91.59it/s]\u001b[A\n",
      " 97%|█████████████████████████████████████████████████▍ | 97/100 [00:31<00:01,  2.99it/s]\n",
      "  0%|                                                             | 0/30 [00:00<?, ?it/s]\u001b[A\n",
      " 27%|██████████████▏                                      | 8/30 [00:00<00:00, 77.03it/s]\u001b[A"
     ]
    },
    {
     "name": "stdout",
     "output_type": "stream",
     "text": [
      "Epoch 96, loss: 64047449.358233\n"
     ]
    },
    {
     "name": "stderr",
     "output_type": "stream",
     "text": [
      "\n",
      " 60%|███████████████████████████████▏                    | 18/30 [00:00<00:00, 80.36it/s]\u001b[A\n",
      "100%|████████████████████████████████████████████████████| 30/30 [00:00<00:00, 87.32it/s]\u001b[A\n",
      " 98%|█████████████████████████████████████████████████▉ | 98/100 [00:31<00:00,  2.96it/s]\n",
      "  0%|                                                             | 0/30 [00:00<?, ?it/s]\u001b[A\n",
      " 37%|██████████████████▋                                | 11/30 [00:00<00:00, 101.99it/s]\u001b[A"
     ]
    },
    {
     "name": "stdout",
     "output_type": "stream",
     "text": [
      "Epoch 97, loss: 73993821.107275\n"
     ]
    },
    {
     "name": "stderr",
     "output_type": "stream",
     "text": [
      "\n",
      " 63%|████████████████████████████████▉                   | 19/30 [00:00<00:00, 91.67it/s]\u001b[A\n",
      "100%|████████████████████████████████████████████████████| 30/30 [00:00<00:00, 85.34it/s]\u001b[A\n",
      " 99%|██████████████████████████████████████████████████▍| 99/100 [00:32<00:00,  2.91it/s]\n",
      "  0%|                                                             | 0/30 [00:00<?, ?it/s]\u001b[A\n",
      " 37%|███████████████████                                 | 11/30 [00:00<00:00, 98.34it/s]\u001b[A"
     ]
    },
    {
     "name": "stdout",
     "output_type": "stream",
     "text": [
      "Epoch 98, loss: 61417647.710817\n"
     ]
    },
    {
     "name": "stderr",
     "output_type": "stream",
     "text": [
      "\n",
      "100%|███████████████████████████████████████████████████| 30/30 [00:00<00:00, 101.48it/s]\u001b[A\n",
      "100%|██████████████████████████████████████████████████| 100/100 [00:32<00:00,  3.08it/s]\n",
      "  0%|                                                            | 0/100 [00:00<?, ?it/s]\n",
      "  0%|                                                             | 0/30 [00:00<?, ?it/s]\u001b[A\n",
      " 33%|█████████████████▎                                  | 10/30 [00:00<00:00, 89.42it/s]\u001b[A"
     ]
    },
    {
     "name": "stdout",
     "output_type": "stream",
     "text": [
      "Epoch 99, loss: 65597643.486522\n"
     ]
    },
    {
     "name": "stderr",
     "output_type": "stream",
     "text": [
      "\n",
      " 60%|███████████████████████████████▏                    | 18/30 [00:00<00:00, 85.30it/s]\u001b[A\n",
      "100%|████████████████████████████████████████████████████| 30/30 [00:00<00:00, 84.39it/s]\u001b[A\n",
      "  1%|▌                                                   | 1/100 [00:00<00:35,  2.78it/s]\n",
      "  0%|                                                             | 0/30 [00:00<?, ?it/s]\u001b[A\n",
      " 37%|██████████████████▋                                | 11/30 [00:00<00:00, 101.96it/s]\u001b[A"
     ]
    },
    {
     "name": "stdout",
     "output_type": "stream",
     "text": [
      "Epoch 0, loss: 3025043.894638\n"
     ]
    },
    {
     "name": "stderr",
     "output_type": "stream",
     "text": [
      "\n",
      "100%|████████████████████████████████████████████████████| 30/30 [00:00<00:00, 98.81it/s]\u001b[A\n",
      "  2%|█                                                   | 2/100 [00:00<00:33,  2.91it/s]\n",
      "  0%|                                                             | 0/30 [00:00<?, ?it/s]\u001b[A\n",
      " 30%|███████████████▉                                     | 9/30 [00:00<00:00, 80.46it/s]\u001b[A"
     ]
    },
    {
     "name": "stdout",
     "output_type": "stream",
     "text": [
      "Epoch 1, loss: 3451176.235914\n"
     ]
    },
    {
     "name": "stderr",
     "output_type": "stream",
     "text": [
      "\n",
      " 60%|███████████████████████████████▏                    | 18/30 [00:00<00:00, 79.60it/s]\u001b[A\n",
      "100%|████████████████████████████████████████████████████| 30/30 [00:00<00:00, 87.32it/s]\u001b[A\n",
      "  3%|█▌                                                  | 3/100 [00:01<00:33,  2.90it/s]\n",
      "  0%|                                                             | 0/30 [00:00<?, ?it/s]\u001b[A\n",
      " 37%|██████████████████▋                                | 11/30 [00:00<00:00, 105.92it/s]\u001b[A"
     ]
    },
    {
     "name": "stdout",
     "output_type": "stream",
     "text": [
      "Epoch 2, loss: 3462253.924048\n"
     ]
    },
    {
     "name": "stderr",
     "output_type": "stream",
     "text": [
      "\n",
      " 70%|███████████████████████████████████▋               | 21/30 [00:00<00:00, 100.35it/s]\u001b[A\n",
      "100%|████████████████████████████████████████████████████| 30/30 [00:00<00:00, 89.39it/s]\u001b[A\n",
      "  4%|██                                                  | 4/100 [00:01<00:32,  2.91it/s]\n",
      "  0%|                                                             | 0/30 [00:00<?, ?it/s]\u001b[A\n",
      " 30%|███████████████▉                                     | 9/30 [00:00<00:00, 80.46it/s]\u001b[A"
     ]
    },
    {
     "name": "stdout",
     "output_type": "stream",
     "text": [
      "Epoch 3, loss: 4494456.789070\n"
     ]
    },
    {
     "name": "stderr",
     "output_type": "stream",
     "text": [
      "\n",
      " 63%|████████████████████████████████▉                   | 19/30 [00:00<00:00, 83.78it/s]\u001b[A\n",
      "100%|████████████████████████████████████████████████████| 30/30 [00:00<00:00, 90.48it/s]\u001b[A\n",
      "  5%|██▌                                                 | 5/100 [00:01<00:32,  2.93it/s]\n",
      "  0%|                                                             | 0/30 [00:00<?, ?it/s]\u001b[A\n",
      " 37%|██████████████████▋                                | 11/30 [00:00<00:00, 101.99it/s]\u001b[A"
     ]
    },
    {
     "name": "stdout",
     "output_type": "stream",
     "text": [
      "Epoch 4, loss: 5998350.543101\n"
     ]
    },
    {
     "name": "stderr",
     "output_type": "stream",
     "text": [
      "\n",
      " 63%|████████████████████████████████▉                   | 19/30 [00:00<00:00, 92.95it/s]\u001b[A\n",
      "100%|████████████████████████████████████████████████████| 30/30 [00:00<00:00, 87.33it/s]\u001b[A\n",
      "  6%|███                                                 | 6/100 [00:02<00:32,  2.92it/s]\n",
      "  0%|                                                             | 0/30 [00:00<?, ?it/s]\u001b[A\n",
      " 33%|█████████████████▎                                  | 10/30 [00:00<00:00, 92.72it/s]\u001b[A"
     ]
    },
    {
     "name": "stdout",
     "output_type": "stream",
     "text": [
      "Epoch 5, loss: 5809056.980288\n"
     ]
    },
    {
     "name": "stderr",
     "output_type": "stream",
     "text": [
      "\n",
      "100%|████████████████████████████████████████████████████| 30/30 [00:00<00:00, 97.53it/s]\u001b[A\n",
      "  7%|███▋                                                | 7/100 [00:02<00:31,  3.00it/s]\n",
      "  0%|                                                             | 0/30 [00:00<?, ?it/s]\u001b[A\n",
      " 37%|██████████████████▋                                | 11/30 [00:00<00:00, 105.91it/s]\u001b[A"
     ]
    },
    {
     "name": "stdout",
     "output_type": "stream",
     "text": [
      "Epoch 6, loss: 6975804.479480\n"
     ]
    },
    {
     "name": "stderr",
     "output_type": "stream",
     "text": [
      "\n",
      " 67%|██████████████████████████████████▋                 | 20/30 [00:00<00:00, 99.29it/s]\u001b[A\n",
      "100%|████████████████████████████████████████████████████| 30/30 [00:00<00:00, 91.57it/s]\u001b[A\n",
      "  8%|████▏                                               | 8/100 [00:02<00:30,  2.99it/s]\n",
      "  0%|                                                             | 0/30 [00:00<?, ?it/s]\u001b[A\n",
      " 33%|█████████████████▎                                  | 10/30 [00:00<00:00, 92.72it/s]\u001b[A"
     ]
    },
    {
     "name": "stdout",
     "output_type": "stream",
     "text": [
      "Epoch 7, loss: 6977268.142983\n"
     ]
    },
    {
     "name": "stderr",
     "output_type": "stream",
     "text": [
      "\n",
      " 67%|██████████████████████████████████▋                 | 20/30 [00:00<00:00, 92.72it/s]\u001b[A\n",
      "100%|████████████████████████████████████████████████████| 30/30 [00:00<00:00, 93.87it/s]\u001b[A\n",
      "  9%|████▋                                               | 9/100 [00:03<00:30,  3.01it/s]\n",
      "  0%|                                                             | 0/30 [00:00<?, ?it/s]\u001b[A\n",
      " 40%|████████████████████▍                              | 12/30 [00:00<00:00, 107.28it/s]\u001b[A"
     ]
    },
    {
     "name": "stdout",
     "output_type": "stream",
     "text": [
      "Epoch 8, loss: 7280612.107947\n"
     ]
    },
    {
     "name": "stderr",
     "output_type": "stream",
     "text": [
      "\n",
      " 70%|████████████████████████████████████▍               | 21/30 [00:00<00:00, 98.82it/s]\u001b[A\n",
      "100%|████████████████████████████████████████████████████| 30/30 [00:00<00:00, 88.35it/s]\u001b[A\n",
      " 10%|█████                                              | 10/100 [00:03<00:30,  2.98it/s]\n",
      "  0%|                                                             | 0/30 [00:00<?, ?it/s]\u001b[A\n",
      " 37%|██████████████████▋                                | 11/30 [00:00<00:00, 101.99it/s]\u001b[A"
     ]
    },
    {
     "name": "stdout",
     "output_type": "stream",
     "text": [
      "Epoch 9, loss: 8545337.471352\n"
     ]
    },
    {
     "name": "stderr",
     "output_type": "stream",
     "text": [
      "\n",
      "100%|████████████████████████████████████████████████████| 30/30 [00:00<00:00, 97.53it/s]\u001b[A\n",
      " 11%|█████▌                                             | 11/100 [00:03<00:29,  3.05it/s]\n",
      "  0%|                                                             | 0/30 [00:00<?, ?it/s]\u001b[A\n",
      " 37%|██████████████████▋                                | 11/30 [00:00<00:00, 101.98it/s]\u001b[A"
     ]
    },
    {
     "name": "stdout",
     "output_type": "stream",
     "text": [
      "Epoch 10, loss: 10823589.213701\n"
     ]
    },
    {
     "name": "stderr",
     "output_type": "stream",
     "text": [
      "\n",
      " 70%|███████████████████████████████████▋               | 21/30 [00:00<00:00, 100.20it/s]\u001b[A\n",
      "100%|████████████████████████████████████████████████████| 30/30 [00:00<00:00, 93.87it/s]\u001b[A\n",
      " 12%|██████                                             | 12/100 [00:03<00:28,  3.05it/s]\n",
      "  0%|                                                             | 0/30 [00:00<?, ?it/s]\u001b[A\n",
      " 40%|████████████████████▍                              | 12/30 [00:00<00:00, 107.28it/s]\u001b[A"
     ]
    },
    {
     "name": "stdout",
     "output_type": "stream",
     "text": [
      "Epoch 11, loss: 9340562.967134\n"
     ]
    },
    {
     "name": "stderr",
     "output_type": "stream",
     "text": [
      "\n",
      "100%|███████████████████████████████████████████████████| 30/30 [00:00<00:00, 101.49it/s]\u001b[A\n",
      " 13%|██████▋                                            | 13/100 [00:04<00:27,  3.12it/s]\n",
      "  0%|                                                             | 0/30 [00:00<?, ?it/s]\u001b[A\n",
      " 37%|██████████████████▋                                | 11/30 [00:00<00:00, 105.91it/s]\u001b[A"
     ]
    },
    {
     "name": "stdout",
     "output_type": "stream",
     "text": [
      "Epoch 12, loss: 11081444.974021\n"
     ]
    },
    {
     "name": "stderr",
     "output_type": "stream",
     "text": [
      "\n",
      " 73%|█████████████████████████████████████▍             | 22/30 [00:00<00:00, 104.70it/s]\u001b[A\n",
      "100%|████████████████████████████████████████████████████| 30/30 [00:00<00:00, 95.05it/s]\u001b[A\n",
      " 14%|███████▏                                           | 14/100 [00:04<00:27,  3.11it/s]\n",
      "  0%|                                                             | 0/30 [00:00<?, ?it/s]\u001b[A\n",
      " 30%|███████████████▉                                     | 9/30 [00:00<00:00, 86.66it/s]\u001b[A"
     ]
    },
    {
     "name": "stdout",
     "output_type": "stream",
     "text": [
      "Epoch 13, loss: 11791072.404686\n"
     ]
    },
    {
     "name": "stderr",
     "output_type": "stream",
     "text": [
      "\n",
      " 63%|████████████████████████████████▉                   | 19/30 [00:00<00:00, 89.34it/s]\u001b[A\n",
      "100%|████████████████████████████████████████████████████| 30/30 [00:00<00:00, 92.72it/s]\u001b[A\n",
      " 15%|███████▋                                           | 15/100 [00:04<00:27,  3.09it/s]\n",
      "  0%|                                                             | 0/30 [00:00<?, ?it/s]\u001b[A\n",
      " 37%|██████████████████▋                                | 11/30 [00:00<00:00, 101.99it/s]\u001b[A"
     ]
    },
    {
     "name": "stdout",
     "output_type": "stream",
     "text": [
      "Epoch 14, loss: 8798506.310435\n"
     ]
    },
    {
     "name": "stderr",
     "output_type": "stream",
     "text": [
      "\n",
      "100%|████████████████████████████████████████████████████| 30/30 [00:00<00:00, 98.82it/s]\u001b[A\n",
      " 16%|████████▏                                          | 16/100 [00:05<00:26,  3.13it/s]\n",
      "  0%|                                                             | 0/30 [00:00<?, ?it/s]\u001b[A\n",
      " 37%|██████████████████▋                                | 11/30 [00:00<00:00, 105.91it/s]\u001b[A"
     ]
    },
    {
     "name": "stdout",
     "output_type": "stream",
     "text": [
      "Epoch 15, loss: 11417526.649413\n"
     ]
    },
    {
     "name": "stderr",
     "output_type": "stream",
     "text": [
      "\n",
      " 63%|████████████████████████████████▉                   | 19/30 [00:00<00:00, 95.19it/s]\u001b[A\n",
      "100%|████████████████████████████████████████████████████| 30/30 [00:00<00:00, 89.40it/s]\u001b[A\n",
      " 17%|████████▋                                          | 17/100 [00:05<00:27,  3.06it/s]\n",
      "  0%|                                                             | 0/30 [00:00<?, ?it/s]\u001b[A\n",
      " 30%|███████████████▉                                     | 9/30 [00:00<00:00, 86.66it/s]\u001b[A"
     ]
    },
    {
     "name": "stdout",
     "output_type": "stream",
     "text": [
      "Epoch 16, loss: 13278890.413565\n"
     ]
    },
    {
     "name": "stderr",
     "output_type": "stream",
     "text": [
      "\n",
      " 63%|████████████████████████████████▉                   | 19/30 [00:00<00:00, 89.34it/s]\u001b[A\n",
      "100%|████████████████████████████████████████████████████| 30/30 [00:00<00:00, 95.05it/s]\u001b[A\n",
      " 18%|█████████▏                                         | 18/100 [00:05<00:26,  3.08it/s]\n",
      "  0%|                                                             | 0/30 [00:00<?, ?it/s]\u001b[A\n",
      " 37%|██████████████████▋                                | 11/30 [00:00<00:00, 101.99it/s]\u001b[A"
     ]
    },
    {
     "name": "stdout",
     "output_type": "stream",
     "text": [
      "Epoch 17, loss: 13225132.762865\n"
     ]
    },
    {
     "name": "stderr",
     "output_type": "stream",
     "text": [
      "\n",
      "100%|████████████████████████████████████████████████████| 30/30 [00:00<00:00, 98.74it/s]\u001b[A\n",
      " 19%|█████████▋                                         | 19/100 [00:06<00:25,  3.12it/s]\n",
      "  0%|                                                             | 0/30 [00:00<?, ?it/s]\u001b[A\n",
      " 30%|███████████████▉                                     | 9/30 [00:00<00:00, 86.63it/s]\u001b[A"
     ]
    },
    {
     "name": "stdout",
     "output_type": "stream",
     "text": [
      "Epoch 18, loss: 14325613.827957\n"
     ]
    },
    {
     "name": "stderr",
     "output_type": "stream",
     "text": [
      "\n",
      " 60%|███████████████████████████████▏                    | 18/30 [00:00<00:00, 86.64it/s]\u001b[A\n",
      "100%|████████████████████████████████████████████████████| 30/30 [00:00<00:00, 84.38it/s]\u001b[A\n",
      " 20%|██████████▏                                        | 20/100 [00:06<00:26,  3.00it/s]\n",
      "  0%|                                                             | 0/30 [00:00<?, ?it/s]\u001b[A\n",
      " 30%|███████████████▉                                     | 9/30 [00:00<00:00, 83.44it/s]\u001b[A"
     ]
    },
    {
     "name": "stdout",
     "output_type": "stream",
     "text": [
      "Epoch 19, loss: 18065447.513903\n"
     ]
    },
    {
     "name": "stderr",
     "output_type": "stream",
     "text": [
      "\n",
      "100%|████████████████████████████████████████████████████| 30/30 [00:00<00:00, 95.06it/s]\u001b[A\n",
      " 21%|██████████▋                                        | 21/100 [00:06<00:26,  3.04it/s]\n",
      "  0%|                                                             | 0/30 [00:00<?, ?it/s]\u001b[A\n",
      " 37%|██████████████████▋                                | 11/30 [00:00<00:00, 105.88it/s]\u001b[A"
     ]
    },
    {
     "name": "stdout",
     "output_type": "stream",
     "text": [
      "Epoch 20, loss: 15368348.287112\n"
     ]
    },
    {
     "name": "stderr",
     "output_type": "stream",
     "text": [
      "\n",
      "100%|███████████████████████████████████████████████████| 30/30 [00:00<00:00, 105.77it/s]\u001b[A\n",
      " 22%|███████████▏                                       | 22/100 [00:07<00:24,  3.14it/s]\n",
      "  0%|                                                             | 0/30 [00:00<?, ?it/s]\u001b[A\n",
      " 40%|████████████████████▍                              | 12/30 [00:00<00:00, 111.28it/s]\u001b[A"
     ]
    },
    {
     "name": "stdout",
     "output_type": "stream",
     "text": [
      "Epoch 21, loss: 19382567.346624\n"
     ]
    },
    {
     "name": "stderr",
     "output_type": "stream",
     "text": [
      "\n",
      "100%|████████████████████████████████████████████████████| 30/30 [00:00<00:00, 98.82it/s]\u001b[A\n",
      " 23%|███████████▋                                       | 23/100 [00:07<00:24,  3.18it/s]\n",
      "  0%|                                                             | 0/30 [00:00<?, ?it/s]\u001b[A\n",
      " 30%|███████████████▉                                     | 9/30 [00:00<00:00, 77.70it/s]\u001b[A"
     ]
    },
    {
     "name": "stdout",
     "output_type": "stream",
     "text": [
      "Epoch 22, loss: 16279498.635215\n"
     ]
    },
    {
     "name": "stderr",
     "output_type": "stream",
     "text": [
      "\n",
      " 57%|█████████████████████████████▍                      | 17/30 [00:00<00:00, 76.61it/s]\u001b[A\n",
      "100%|████████████████████████████████████████████████████| 30/30 [00:00<00:00, 75.86it/s]\u001b[A\n",
      " 24%|████████████▏                                      | 24/100 [00:07<00:25,  2.94it/s]\n",
      "  0%|                                                             | 0/30 [00:00<?, ?it/s]\u001b[A\n",
      " 33%|█████████████████▎                                  | 10/30 [00:00<00:00, 92.72it/s]\u001b[A"
     ]
    },
    {
     "name": "stdout",
     "output_type": "stream",
     "text": [
      "Epoch 23, loss: 22471544.610684\n"
     ]
    },
    {
     "name": "stderr",
     "output_type": "stream",
     "text": [
      "\n",
      " 67%|██████████████████████████████████▋                 | 20/30 [00:00<00:00, 92.72it/s]\u001b[A\n",
      "100%|████████████████████████████████████████████████████| 30/30 [00:00<00:00, 85.34it/s]\u001b[A\n",
      " 25%|████████████▊                                      | 25/100 [00:08<00:25,  2.90it/s]\n",
      "  0%|                                                             | 0/30 [00:00<?, ?it/s]\u001b[A\n",
      " 27%|██████████████▏                                      | 8/30 [00:00<00:00, 77.02it/s]\u001b[A"
     ]
    },
    {
     "name": "stdout",
     "output_type": "stream",
     "text": [
      "Epoch 24, loss: 18786612.962172\n"
     ]
    },
    {
     "name": "stderr",
     "output_type": "stream",
     "text": [
      "\n",
      " 53%|███████████████████████████▋                        | 16/30 [00:00<00:00, 76.14it/s]\u001b[A\n",
      "100%|████████████████████████████████████████████████████| 30/30 [00:00<00:00, 78.23it/s]\u001b[A\n",
      " 26%|█████████████▎                                     | 26/100 [00:08<00:26,  2.80it/s]\n",
      "  0%|                                                             | 0/30 [00:00<?, ?it/s]\u001b[A\n",
      " 30%|███████████████▉                                     | 9/30 [00:00<00:00, 80.44it/s]\u001b[A"
     ]
    },
    {
     "name": "stdout",
     "output_type": "stream",
     "text": [
      "Epoch 25, loss: 15563532.470753\n"
     ]
    },
    {
     "name": "stderr",
     "output_type": "stream",
     "text": [
      "\n",
      " 57%|█████████████████████████████▍                      | 17/30 [00:00<00:00, 79.39it/s]\u001b[A\n",
      "100%|████████████████████████████████████████████████████| 30/30 [00:00<00:00, 79.05it/s]\u001b[A\n",
      " 27%|█████████████▊                                     | 27/100 [00:09<00:26,  2.74it/s]\n",
      "  0%|                                                             | 0/30 [00:00<?, ?it/s]\u001b[A\n",
      " 30%|███████████████▉                                     | 9/30 [00:00<00:00, 83.44it/s]\u001b[A"
     ]
    },
    {
     "name": "stdout",
     "output_type": "stream",
     "text": [
      "Epoch 26, loss: 20514711.127006\n"
     ]
    },
    {
     "name": "stderr",
     "output_type": "stream",
     "text": [
      "\n",
      " 57%|█████████████████████████████▍                      | 17/30 [00:00<00:00, 81.41it/s]\u001b[A\n",
      "100%|████████████████████████████████████████████████████| 30/30 [00:00<00:00, 78.23it/s]\u001b[A\n",
      " 28%|██████████████▎                                    | 28/100 [00:09<00:26,  2.68it/s]\n",
      "  0%|                                                             | 0/30 [00:00<?, ?it/s]\u001b[A\n",
      " 30%|███████████████▉                                     | 9/30 [00:00<00:00, 80.46it/s]\u001b[A"
     ]
    },
    {
     "name": "stdout",
     "output_type": "stream",
     "text": [
      "Epoch 27, loss: 21940135.191391\n"
     ]
    },
    {
     "name": "stderr",
     "output_type": "stream",
     "text": [
      "\n",
      " 57%|█████████████████████████████▍                      | 17/30 [00:00<00:00, 78.47it/s]\u001b[A\n",
      "100%|████████████████████████████████████████████████████| 30/30 [00:00<00:00, 81.63it/s]\u001b[A\n",
      " 29%|██████████████▊                                    | 29/100 [00:09<00:26,  2.68it/s]\n",
      "  0%|                                                             | 0/30 [00:00<?, ?it/s]\u001b[A\n",
      " 37%|██████████████████▋                                | 11/30 [00:00<00:00, 105.91it/s]\u001b[A"
     ]
    },
    {
     "name": "stdout",
     "output_type": "stream",
     "text": [
      "Epoch 28, loss: 20631014.785191\n"
     ]
    },
    {
     "name": "stderr",
     "output_type": "stream",
     "text": [
      "\n",
      "100%|████████████████████████████████████████████████████| 30/30 [00:00<00:00, 97.53it/s]\u001b[A\n",
      " 30%|███████████████▎                                   | 30/100 [00:10<00:24,  2.82it/s]\n",
      "  0%|                                                             | 0/30 [00:00<?, ?it/s]\u001b[A\n",
      " 27%|██████████████▏                                      | 8/30 [00:00<00:00, 76.98it/s]\u001b[A"
     ]
    },
    {
     "name": "stdout",
     "output_type": "stream",
     "text": [
      "Epoch 29, loss: 23472690.380575\n"
     ]
    },
    {
     "name": "stderr",
     "output_type": "stream",
     "text": [
      "\n",
      " 57%|█████████████████████████████▍                      | 17/30 [00:00<00:00, 78.01it/s]\u001b[A\n",
      "100%|████████████████████████████████████████████████████| 30/30 [00:00<00:00, 82.52it/s]\u001b[A\n",
      " 31%|███████████████▊                                   | 31/100 [00:10<00:24,  2.78it/s]\n",
      "  0%|                                                             | 0/30 [00:00<?, ?it/s]\u001b[A\n",
      " 33%|█████████████████▎                                  | 10/30 [00:00<00:00, 96.28it/s]\u001b[A"
     ]
    },
    {
     "name": "stdout",
     "output_type": "stream",
     "text": [
      "Epoch 30, loss: 21273161.319078\n"
     ]
    },
    {
     "name": "stderr",
     "output_type": "stream",
     "text": [
      "\n",
      " 63%|████████████████████████████████▉                   | 19/30 [00:00<00:00, 90.92it/s]\u001b[A\n",
      "100%|████████████████████████████████████████████████████| 30/30 [00:00<00:00, 82.52it/s]\u001b[A\n",
      " 32%|████████████████▎                                  | 32/100 [00:10<00:24,  2.75it/s]\n",
      "  0%|                                                             | 0/30 [00:00<?, ?it/s]\u001b[A\n",
      " 27%|██████████████▏                                      | 8/30 [00:00<00:00, 77.02it/s]\u001b[A"
     ]
    },
    {
     "name": "stdout",
     "output_type": "stream",
     "text": [
      "Epoch 31, loss: 22436332.292605\n"
     ]
    },
    {
     "name": "stderr",
     "output_type": "stream",
     "text": [
      "\n",
      " 53%|███████████████████████████▋                        | 16/30 [00:00<00:00, 76.15it/s]\u001b[A\n",
      "100%|████████████████████████████████████████████████████| 30/30 [00:00<00:00, 75.10it/s]\u001b[A\n",
      " 33%|████████████████▊                                  | 33/100 [00:11<00:25,  2.66it/s]\n",
      "  0%|                                                             | 0/30 [00:00<?, ?it/s]\u001b[A\n",
      " 27%|██████████████▏                                      | 8/30 [00:00<00:00, 77.02it/s]\u001b[A"
     ]
    },
    {
     "name": "stdout",
     "output_type": "stream",
     "text": [
      "Epoch 32, loss: 20659147.827580\n"
     ]
    },
    {
     "name": "stderr",
     "output_type": "stream",
     "text": [
      "\n",
      " 53%|███████████████████████████▋                        | 16/30 [00:00<00:00, 76.14it/s]\u001b[A\n",
      "100%|████████████████████████████████████████████████████| 30/30 [00:00<00:00, 75.85it/s]\u001b[A\n",
      " 34%|█████████████████▎                                 | 34/100 [00:11<00:25,  2.60it/s]\n",
      "  0%|                                                             | 0/30 [00:00<?, ?it/s]\u001b[A\n",
      " 27%|██████████████▏                                      | 8/30 [00:00<00:00, 77.02it/s]\u001b[A"
     ]
    },
    {
     "name": "stdout",
     "output_type": "stream",
     "text": [
      "Epoch 33, loss: 21812970.705631\n"
     ]
    },
    {
     "name": "stderr",
     "output_type": "stream",
     "text": [
      "\n",
      " 53%|███████████████████████████▋                        | 16/30 [00:00<00:00, 77.01it/s]\u001b[A\n",
      "100%|████████████████████████████████████████████████████| 30/30 [00:00<00:00, 82.53it/s]\u001b[A\n",
      " 35%|█████████████████▊                                 | 35/100 [00:12<00:24,  2.64it/s]\n",
      "  0%|                                                             | 0/30 [00:00<?, ?it/s]\u001b[A\n",
      " 33%|█████████████████▎                                  | 10/30 [00:00<00:00, 96.28it/s]\u001b[A"
     ]
    },
    {
     "name": "stdout",
     "output_type": "stream",
     "text": [
      "Epoch 34, loss: 24439837.848902\n"
     ]
    },
    {
     "name": "stderr",
     "output_type": "stream",
     "text": [
      "\n",
      "100%|████████████████████████████████████████████████████| 30/30 [00:00<00:00, 97.53it/s]\u001b[A\n",
      " 36%|██████████████████▎                                | 36/100 [00:12<00:23,  2.78it/s]\n",
      "  0%|                                                             | 0/30 [00:00<?, ?it/s]\u001b[A\n",
      " 37%|██████████████████▋                                | 11/30 [00:00<00:00, 101.95it/s]\u001b[A"
     ]
    },
    {
     "name": "stdout",
     "output_type": "stream",
     "text": [
      "Epoch 35, loss: 24709984.141798\n"
     ]
    },
    {
     "name": "stderr",
     "output_type": "stream",
     "text": [
      "\n",
      "100%|████████████████████████████████████████████████████| 30/30 [00:00<00:00, 98.40it/s]\u001b[A\n",
      " 37%|██████████████████▊                                | 37/100 [00:12<00:21,  2.90it/s]\n",
      "  0%|                                                             | 0/30 [00:00<?, ?it/s]\u001b[A\n",
      " 33%|█████████████████▎                                  | 10/30 [00:00<00:00, 96.28it/s]\u001b[A\n"
     ]
    },
    {
     "name": "stdout",
     "output_type": "stream",
     "text": [
      "Epoch 36, loss: 24839981.628631\n"
     ]
    },
    {
     "name": "stderr",
     "output_type": "stream",
     "text": [
      "100%|███████████████████████████████████████████████████| 30/30 [00:00<00:00, 101.49it/s]\u001b[A\n",
      " 38%|███████████████████▍                               | 38/100 [00:12<00:20,  3.02it/s]\n",
      "  0%|                                                             | 0/30 [00:00<?, ?it/s]\u001b[A\n",
      " 37%|██████████████████▋                                | 11/30 [00:00<00:00, 105.91it/s]\u001b[A"
     ]
    },
    {
     "name": "stdout",
     "output_type": "stream",
     "text": [
      "Epoch 37, loss: 24829434.440049\n"
     ]
    },
    {
     "name": "stderr",
     "output_type": "stream",
     "text": [
      "\n",
      "100%|████████████████████████████████████████████████████| 30/30 [00:00<00:00, 98.82it/s]\u001b[A\n",
      " 39%|███████████████████▉                               | 39/100 [00:13<00:19,  3.07it/s]\n",
      "  0%|                                                             | 0/30 [00:00<?, ?it/s]\u001b[A\n",
      " 40%|████████████████████▍                              | 12/30 [00:00<00:00, 115.54it/s]\u001b[A"
     ]
    },
    {
     "name": "stdout",
     "output_type": "stream",
     "text": [
      "Epoch 38, loss: 27554659.507719\n"
     ]
    },
    {
     "name": "stderr",
     "output_type": "stream",
     "text": [
      "\n",
      "100%|███████████████████████████████████████████████████| 30/30 [00:00<00:00, 101.49it/s]\u001b[A\n",
      " 40%|████████████████████▍                              | 40/100 [00:13<00:19,  3.15it/s]\n",
      "  0%|                                                             | 0/30 [00:00<?, ?it/s]\u001b[A\n",
      " 30%|███████████████▉                                     | 9/30 [00:00<00:00, 83.44it/s]\u001b[A"
     ]
    },
    {
     "name": "stdout",
     "output_type": "stream",
     "text": [
      "Epoch 39, loss: 27187669.978319\n"
     ]
    },
    {
     "name": "stderr",
     "output_type": "stream",
     "text": [
      "\n",
      " 57%|█████████████████████████████▍                      | 17/30 [00:00<00:00, 80.43it/s]\u001b[A\n",
      "100%|████████████████████████████████████████████████████| 30/30 [00:00<00:00, 77.42it/s]\u001b[A\n",
      " 41%|████████████████████▉                              | 41/100 [00:13<00:20,  2.93it/s]\n",
      "  0%|                                                             | 0/30 [00:00<?, ?it/s]\u001b[A\n",
      " 27%|██████████████▏                                      | 8/30 [00:00<00:00, 77.03it/s]\u001b[A"
     ]
    },
    {
     "name": "stdout",
     "output_type": "stream",
     "text": [
      "Epoch 40, loss: 34113612.521723\n"
     ]
    },
    {
     "name": "stderr",
     "output_type": "stream",
     "text": [
      "\n",
      " 53%|███████████████████████████▋                        | 16/30 [00:00<00:00, 76.15it/s]\u001b[A\n",
      "100%|████████████████████████████████████████████████████| 30/30 [00:00<00:00, 74.36it/s]\u001b[A\n",
      " 42%|█████████████████████▍                             | 42/100 [00:14<00:21,  2.76it/s]\n",
      "  0%|                                                             | 0/30 [00:00<?, ?it/s]\u001b[A\n",
      " 30%|███████████████▉                                     | 9/30 [00:00<00:00, 77.69it/s]\u001b[A"
     ]
    },
    {
     "name": "stdout",
     "output_type": "stream",
     "text": [
      "Epoch 41, loss: 34414788.481738\n"
     ]
    },
    {
     "name": "stderr",
     "output_type": "stream",
     "text": [
      "\n",
      " 57%|█████████████████████████████▍                      | 17/30 [00:00<00:00, 75.73it/s]\u001b[A\n",
      "100%|████████████████████████████████████████████████████| 30/30 [00:00<00:00, 74.36it/s]\u001b[A\n",
      " 43%|█████████████████████▉                             | 43/100 [00:14<00:21,  2.66it/s]\n",
      "  0%|                                                             | 0/30 [00:00<?, ?it/s]\u001b[A\n",
      " 30%|███████████████▉                                     | 9/30 [00:00<00:00, 77.68it/s]\u001b[A"
     ]
    },
    {
     "name": "stdout",
     "output_type": "stream",
     "text": [
      "Epoch 42, loss: 33508012.573975\n"
     ]
    },
    {
     "name": "stderr",
     "output_type": "stream",
     "text": [
      "\n",
      " 57%|█████████████████████████████▍                      | 17/30 [00:00<00:00, 77.49it/s]\u001b[A\n",
      "100%|████████████████████████████████████████████████████| 30/30 [00:00<00:00, 75.10it/s]\u001b[A\n",
      " 44%|██████████████████████▍                            | 44/100 [00:15<00:21,  2.60it/s]\n",
      "  0%|                                                             | 0/30 [00:00<?, ?it/s]\u001b[A\n",
      " 33%|█████████████████▎                                  | 10/30 [00:00<00:00, 89.40it/s]\u001b[A"
     ]
    },
    {
     "name": "stdout",
     "output_type": "stream",
     "text": [
      "Epoch 43, loss: 31754815.067468\n"
     ]
    },
    {
     "name": "stderr",
     "output_type": "stream",
     "text": [
      "\n",
      " 67%|██████████████████████████████████▋                 | 20/30 [00:00<00:00, 91.36it/s]\u001b[A\n",
      "100%|████████████████████████████████████████████████████| 30/30 [00:00<00:00, 88.35it/s]\u001b[A\n",
      " 45%|██████████████████████▉                            | 45/100 [00:15<00:20,  2.68it/s]\n",
      "  0%|                                                             | 0/30 [00:00<?, ?it/s]\u001b[A\n",
      " 37%|██████████████████▋                                | 11/30 [00:00<00:00, 105.93it/s]\u001b[A"
     ]
    },
    {
     "name": "stdout",
     "output_type": "stream",
     "text": [
      "Epoch 44, loss: 30750153.246910\n"
     ]
    },
    {
     "name": "stderr",
     "output_type": "stream",
     "text": [
      "\n",
      "100%|███████████████████████████████████████████████████| 30/30 [00:00<00:00, 102.88it/s]\u001b[A\n",
      " 46%|███████████████████████▍                           | 46/100 [00:15<00:18,  2.85it/s]\n",
      "  0%|                                                             | 0/30 [00:00<?, ?it/s]\u001b[A\n",
      " 37%|██████████████████▋                                | 11/30 [00:00<00:00, 101.99it/s]\u001b[A"
     ]
    },
    {
     "name": "stdout",
     "output_type": "stream",
     "text": [
      "Epoch 45, loss: 32343149.354037\n"
     ]
    },
    {
     "name": "stderr",
     "output_type": "stream",
     "text": [
      "\n",
      "100%|███████████████████████████████████████████████████| 30/30 [00:00<00:00, 102.87it/s]\u001b[A\n",
      " 47%|███████████████████████▉                           | 47/100 [00:16<00:17,  2.98it/s]\n",
      "  0%|                                                             | 0/30 [00:00<?, ?it/s]\u001b[A\n",
      " 40%|████████████████████▍                              | 12/30 [00:00<00:00, 111.23it/s]\u001b[A"
     ]
    },
    {
     "name": "stdout",
     "output_type": "stream",
     "text": [
      "Epoch 46, loss: 32760311.348945\n"
     ]
    },
    {
     "name": "stderr",
     "output_type": "stream",
     "text": [
      "\n",
      "100%|███████████████████████████████████████████████████| 30/30 [00:00<00:00, 108.58it/s]\u001b[A\n",
      " 48%|████████████████████████▍                          | 48/100 [00:16<00:16,  3.14it/s]\n",
      "  0%|                                                             | 0/30 [00:00<?, ?it/s]\u001b[A\n",
      " 40%|████████████████████▍                              | 12/30 [00:00<00:00, 107.28it/s]\u001b[A"
     ]
    },
    {
     "name": "stdout",
     "output_type": "stream",
     "text": [
      "Epoch 47, loss: 40669530.346646\n"
     ]
    },
    {
     "name": "stderr",
     "output_type": "stream",
     "text": [
      "\n",
      "100%|███████████████████████████████████████████████████| 30/30 [00:00<00:00, 104.30it/s]\u001b[A\n",
      " 49%|████████████████████████▉                          | 49/100 [00:16<00:15,  3.22it/s]\n",
      "  0%|                                                             | 0/30 [00:00<?, ?it/s]\u001b[A\n",
      " 37%|██████████████████▋                                | 11/30 [00:00<00:00, 101.98it/s]\u001b[A"
     ]
    },
    {
     "name": "stdout",
     "output_type": "stream",
     "text": [
      "Epoch 48, loss: 32292036.042662\n"
     ]
    },
    {
     "name": "stderr",
     "output_type": "stream",
     "text": [
      "\n",
      "100%|███████████████████████████████████████████████████| 30/30 [00:00<00:00, 102.87it/s]\u001b[A\n",
      " 50%|█████████████████████████▌                         | 50/100 [00:17<00:15,  3.27it/s]\n",
      "  0%|                                                             | 0/30 [00:00<?, ?it/s]\u001b[A\n",
      " 40%|████████████████████▍                              | 12/30 [00:00<00:00, 115.54it/s]\u001b[A"
     ]
    },
    {
     "name": "stdout",
     "output_type": "stream",
     "text": [
      "Epoch 49, loss: 30741748.647752\n"
     ]
    },
    {
     "name": "stderr",
     "output_type": "stream",
     "text": [
      "\n",
      "100%|███████████████████████████████████████████████████| 30/30 [00:00<00:00, 105.79it/s]\u001b[A\n",
      " 51%|██████████████████████████                         | 51/100 [00:17<00:14,  3.33it/s]\n",
      "  0%|                                                             | 0/30 [00:00<?, ?it/s]\u001b[A\n",
      " 40%|████████████████████▍                              | 12/30 [00:00<00:00, 111.27it/s]\u001b[A"
     ]
    },
    {
     "name": "stdout",
     "output_type": "stream",
     "text": [
      "Epoch 50, loss: 36583976.124690\n"
     ]
    },
    {
     "name": "stderr",
     "output_type": "stream",
     "text": [
      "\n",
      "100%|███████████████████████████████████████████████████| 30/30 [00:00<00:00, 105.78it/s]\u001b[A\n",
      " 52%|██████████████████████████▌                        | 52/100 [00:17<00:14,  3.37it/s]\n",
      "  0%|                                                             | 0/30 [00:00<?, ?it/s]\u001b[A\n",
      " 37%|██████████████████▋                                | 11/30 [00:00<00:00, 105.91it/s]\u001b[A"
     ]
    },
    {
     "name": "stdout",
     "output_type": "stream",
     "text": [
      "Epoch 51, loss: 33233808.215950\n"
     ]
    },
    {
     "name": "stderr",
     "output_type": "stream",
     "text": [
      "\n",
      "100%|███████████████████████████████████████████████████| 30/30 [00:00<00:00, 104.29it/s]\u001b[A\n",
      " 53%|███████████████████████████                        | 53/100 [00:17<00:13,  3.37it/s]\n",
      "  0%|                                                             | 0/30 [00:00<?, ?it/s]\u001b[A\n",
      " 40%|████████████████████▍                              | 12/30 [00:00<00:00, 107.29it/s]\u001b[A"
     ]
    },
    {
     "name": "stdout",
     "output_type": "stream",
     "text": [
      "Epoch 52, loss: 38778263.940535\n"
     ]
    },
    {
     "name": "stderr",
     "output_type": "stream",
     "text": [
      "\n",
      "100%|███████████████████████████████████████████████████| 30/30 [00:00<00:00, 100.11it/s]\u001b[A\n",
      " 54%|███████████████████████████▌                       | 54/100 [00:18<00:13,  3.35it/s]\n",
      "  0%|                                                             | 0/30 [00:00<?, ?it/s]\u001b[A\n",
      " 40%|████████████████████▍                              | 12/30 [00:00<00:00, 115.54it/s]\u001b[A"
     ]
    },
    {
     "name": "stdout",
     "output_type": "stream",
     "text": [
      "Epoch 53, loss: 45239952.890982\n"
     ]
    },
    {
     "name": "stderr",
     "output_type": "stream",
     "text": [
      "\n",
      "100%|███████████████████████████████████████████████████| 30/30 [00:00<00:00, 105.77it/s]\u001b[A\n",
      " 55%|████████████████████████████                       | 55/100 [00:18<00:13,  3.36it/s]\n",
      "  0%|                                                             | 0/30 [00:00<?, ?it/s]\u001b[A\n",
      " 37%|██████████████████▋                                | 11/30 [00:00<00:00, 105.91it/s]\u001b[A"
     ]
    },
    {
     "name": "stdout",
     "output_type": "stream",
     "text": [
      "Epoch 54, loss: 36480047.605311\n"
     ]
    },
    {
     "name": "stderr",
     "output_type": "stream",
     "text": [
      "\n",
      "100%|███████████████████████████████████████████████████| 30/30 [00:00<00:00, 101.49it/s]\u001b[A\n",
      " 56%|████████████████████████████▌                      | 56/100 [00:18<00:13,  3.35it/s]\n",
      "  0%|                                                             | 0/30 [00:00<?, ?it/s]\u001b[A\n",
      " 37%|██████████████████▋                                | 11/30 [00:00<00:00, 105.88it/s]\u001b[A"
     ]
    },
    {
     "name": "stdout",
     "output_type": "stream",
     "text": [
      "Epoch 55, loss: 41003300.610525\n"
     ]
    },
    {
     "name": "stderr",
     "output_type": "stream",
     "text": [
      "\n",
      "100%|███████████████████████████████████████████████████| 30/30 [00:00<00:00, 100.13it/s]\u001b[A\n",
      " 57%|█████████████████████████████                      | 57/100 [00:19<00:12,  3.34it/s]\n",
      "  0%|                                                             | 0/30 [00:00<?, ?it/s]\u001b[A\n",
      " 40%|████████████████████▍                              | 12/30 [00:00<00:00, 107.29it/s]\u001b[A"
     ]
    },
    {
     "name": "stdout",
     "output_type": "stream",
     "text": [
      "Epoch 56, loss: 39879714.866512\n"
     ]
    },
    {
     "name": "stderr",
     "output_type": "stream",
     "text": [
      "\n",
      "100%|███████████████████████████████████████████████████| 30/30 [00:00<00:00, 100.13it/s]\u001b[A\n",
      " 58%|█████████████████████████████▌                     | 58/100 [00:19<00:12,  3.32it/s]\n",
      "  0%|                                                             | 0/30 [00:00<?, ?it/s]\u001b[A\n",
      " 40%|████████████████████▍                              | 12/30 [00:00<00:00, 115.48it/s]\u001b[A"
     ]
    },
    {
     "name": "stdout",
     "output_type": "stream",
     "text": [
      "Epoch 57, loss: 43132625.912021\n"
     ]
    },
    {
     "name": "stderr",
     "output_type": "stream",
     "text": [
      "\n",
      "100%|███████████████████████████████████████████████████| 30/30 [00:00<00:00, 107.29it/s]\u001b[A\n",
      " 59%|██████████████████████████████                     | 59/100 [00:19<00:12,  3.38it/s]\n",
      "  0%|                                                             | 0/30 [00:00<?, ?it/s]\u001b[A\n",
      " 40%|████████████████████▍                              | 12/30 [00:00<00:00, 115.54it/s]\u001b[A"
     ]
    },
    {
     "name": "stdout",
     "output_type": "stream",
     "text": [
      "Epoch 58, loss: 41460378.319071\n"
     ]
    },
    {
     "name": "stderr",
     "output_type": "stream",
     "text": [
      "\n",
      "100%|███████████████████████████████████████████████████| 30/30 [00:00<00:00, 107.28it/s]\u001b[A\n",
      " 60%|██████████████████████████████▌                    | 60/100 [00:19<00:11,  3.41it/s]\n",
      "  0%|                                                             | 0/30 [00:00<?, ?it/s]\u001b[A\n",
      " 40%|████████████████████▍                              | 12/30 [00:00<00:00, 115.49it/s]\u001b[A"
     ]
    },
    {
     "name": "stdout",
     "output_type": "stream",
     "text": [
      "Epoch 59, loss: 41669544.352743\n"
     ]
    },
    {
     "name": "stderr",
     "output_type": "stream",
     "text": [
      "\n",
      "100%|███████████████████████████████████████████████████| 30/30 [00:00<00:00, 105.76it/s]\u001b[A\n",
      " 61%|███████████████████████████████                    | 61/100 [00:20<00:11,  3.43it/s]\n",
      "  0%|                                                             | 0/30 [00:00<?, ?it/s]\u001b[A\n",
      " 40%|████████████████████▍                              | 12/30 [00:00<00:00, 115.54it/s]\u001b[A"
     ]
    },
    {
     "name": "stdout",
     "output_type": "stream",
     "text": [
      "Epoch 60, loss: 43192485.778559\n"
     ]
    },
    {
     "name": "stderr",
     "output_type": "stream",
     "text": [
      "\n",
      "100%|███████████████████████████████████████████████████| 30/30 [00:00<00:00, 107.27it/s]\u001b[A\n",
      " 62%|███████████████████████████████▌                   | 62/100 [00:20<00:10,  3.46it/s]\n",
      "  0%|                                                             | 0/30 [00:00<?, ?it/s]\u001b[A\n",
      " 40%|████████████████████▍                              | 12/30 [00:00<00:00, 115.54it/s]\u001b[A"
     ]
    },
    {
     "name": "stdout",
     "output_type": "stream",
     "text": [
      "Epoch 61, loss: 39032125.079564\n"
     ]
    },
    {
     "name": "stderr",
     "output_type": "stream",
     "text": [
      "\n",
      "100%|███████████████████████████████████████████████████| 30/30 [00:00<00:00, 107.27it/s]\u001b[A\n",
      " 63%|████████████████████████████████▏                  | 63/100 [00:20<00:10,  3.48it/s]\n",
      "  0%|                                                             | 0/30 [00:00<?, ?it/s]\u001b[A\n",
      " 40%|████████████████████▍                              | 12/30 [00:00<00:00, 111.25it/s]\u001b[A"
     ]
    },
    {
     "name": "stdout",
     "output_type": "stream",
     "text": [
      "Epoch 62, loss: 42501954.180293\n"
     ]
    },
    {
     "name": "stderr",
     "output_type": "stream",
     "text": [
      "\n",
      "100%|███████████████████████████████████████████████████| 30/30 [00:00<00:00, 105.77it/s]\u001b[A\n",
      " 64%|████████████████████████████████▋                  | 64/100 [00:21<00:10,  3.48it/s]\n",
      "  0%|                                                             | 0/30 [00:00<?, ?it/s]\u001b[A\n",
      " 40%|████████████████████▍                              | 12/30 [00:00<00:00, 111.26it/s]\u001b[A"
     ]
    },
    {
     "name": "stdout",
     "output_type": "stream",
     "text": [
      "Epoch 63, loss: 45043100.411639\n"
     ]
    },
    {
     "name": "stderr",
     "output_type": "stream",
     "text": [
      "\n",
      "100%|███████████████████████████████████████████████████| 30/30 [00:00<00:00, 101.48it/s]\u001b[A\n",
      " 65%|█████████████████████████████████▏                 | 65/100 [00:21<00:10,  3.43it/s]\n",
      "  0%|                                                             | 0/30 [00:00<?, ?it/s]\u001b[A\n",
      " 37%|██████████████████▋                                | 11/30 [00:00<00:00, 105.91it/s]\u001b[A"
     ]
    },
    {
     "name": "stdout",
     "output_type": "stream",
     "text": [
      "Epoch 64, loss: 48105561.920916\n"
     ]
    },
    {
     "name": "stderr",
     "output_type": "stream",
     "text": [
      "\n",
      "100%|████████████████████████████████████████████████████| 30/30 [00:00<00:00, 95.06it/s]\u001b[A\n",
      " 66%|█████████████████████████████████▋                 | 66/100 [00:21<00:10,  3.34it/s]\n",
      "  0%|                                                             | 0/30 [00:00<?, ?it/s]\u001b[A\n",
      " 37%|███████████████████                                 | 11/30 [00:00<00:00, 98.34it/s]\u001b[A"
     ]
    },
    {
     "name": "stdout",
     "output_type": "stream",
     "text": [
      "Epoch 65, loss: 48108474.511136\n"
     ]
    },
    {
     "name": "stderr",
     "output_type": "stream",
     "text": [
      "\n",
      "100%|████████████████████████████████████████████████████| 30/30 [00:00<00:00, 93.86it/s]\u001b[A\n",
      " 67%|██████████████████████████████████▏                | 67/100 [00:22<00:10,  3.26it/s]\n",
      "  0%|                                                             | 0/30 [00:00<?, ?it/s]\u001b[A\n",
      " 33%|█████████████████▎                                  | 10/30 [00:00<00:00, 96.28it/s]\u001b[A"
     ]
    },
    {
     "name": "stdout",
     "output_type": "stream",
     "text": [
      "Epoch 66, loss: 47717951.220958\n"
     ]
    },
    {
     "name": "stderr",
     "output_type": "stream",
     "text": [
      "\n",
      " 67%|██████████████████████████████████▋                 | 20/30 [00:00<00:00, 95.18it/s]\u001b[A\n",
      "100%|████████████████████████████████████████████████████| 30/30 [00:00<00:00, 93.88it/s]\u001b[A\n",
      " 68%|██████████████████████████████████▋                | 68/100 [00:22<00:10,  3.18it/s]\n",
      "  0%|                                                             | 0/30 [00:00<?, ?it/s]\u001b[A\n",
      " 33%|█████████████████▎                                  | 10/30 [00:00<00:00, 96.28it/s]\u001b[A"
     ]
    },
    {
     "name": "stdout",
     "output_type": "stream",
     "text": [
      "Epoch 67, loss: 53153140.035587\n"
     ]
    },
    {
     "name": "stderr",
     "output_type": "stream",
     "text": [
      "\n",
      " 67%|██████████████████████████████████▋                 | 20/30 [00:00<00:00, 96.28it/s]\u001b[A\n",
      "100%|████████████████████████████████████████████████████| 30/30 [00:00<00:00, 95.06it/s]\u001b[A\n",
      " 69%|███████████████████████████████████▏               | 69/100 [00:22<00:09,  3.17it/s]\n",
      "  0%|                                                             | 0/30 [00:00<?, ?it/s]\u001b[A\n",
      " 33%|█████████████████▎                                  | 10/30 [00:00<00:00, 96.28it/s]\u001b[A"
     ]
    },
    {
     "name": "stdout",
     "output_type": "stream",
     "text": [
      "Epoch 68, loss: 38097777.452399\n"
     ]
    },
    {
     "name": "stderr",
     "output_type": "stream",
     "text": [
      "\n",
      " 67%|██████████████████████████████████▋                 | 20/30 [00:00<00:00, 95.18it/s]\u001b[A\n",
      "100%|████████████████████████████████████████████████████| 30/30 [00:00<00:00, 92.72it/s]\u001b[A\n",
      " 70%|███████████████████████████████████▋               | 70/100 [00:23<00:09,  3.12it/s]\n",
      "  0%|                                                             | 0/30 [00:00<?, ?it/s]\u001b[A\n",
      " 33%|█████████████████▎                                  | 10/30 [00:00<00:00, 92.73it/s]\u001b[A"
     ]
    },
    {
     "name": "stdout",
     "output_type": "stream",
     "text": [
      "Epoch 69, loss: 55859258.373569\n"
     ]
    },
    {
     "name": "stderr",
     "output_type": "stream",
     "text": [
      "\n",
      " 67%|██████████████████████████████████▋                 | 20/30 [00:00<00:00, 91.71it/s]\u001b[A\n",
      "100%|████████████████████████████████████████████████████| 30/30 [00:00<00:00, 91.59it/s]\u001b[A\n",
      " 71%|████████████████████████████████████▏              | 71/100 [00:23<00:09,  3.07it/s]\n",
      "  0%|                                                             | 0/30 [00:00<?, ?it/s]\u001b[A\n",
      " 33%|█████████████████▎                                  | 10/30 [00:00<00:00, 96.29it/s]\u001b[A"
     ]
    },
    {
     "name": "stdout",
     "output_type": "stream",
     "text": [
      "Epoch 70, loss: 43780163.160101\n"
     ]
    },
    {
     "name": "stderr",
     "output_type": "stream",
     "text": [
      "\n",
      "100%|███████████████████████████████████████████████████| 30/30 [00:00<00:00, 101.46it/s]\u001b[A\n",
      " 72%|████████████████████████████████████▋              | 72/100 [00:23<00:08,  3.14it/s]\n",
      "  0%|                                                             | 0/30 [00:00<?, ?it/s]\u001b[A\n",
      " 37%|██████████████████▋                                | 11/30 [00:00<00:00, 105.91it/s]\u001b[A\n"
     ]
    },
    {
     "name": "stdout",
     "output_type": "stream",
     "text": [
      "Epoch 71, loss: 51041185.280735\n"
     ]
    },
    {
     "name": "stderr",
     "output_type": "stream",
     "text": [
      "100%|███████████████████████████████████████████████████| 30/30 [00:00<00:00, 101.48it/s]\u001b[A\n",
      " 73%|█████████████████████████████████████▏             | 73/100 [00:23<00:08,  3.20it/s]\n",
      "  0%|                                                             | 0/30 [00:00<?, ?it/s]\u001b[A\n",
      " 40%|████████████████████▍                              | 12/30 [00:00<00:00, 115.54it/s]\u001b[A"
     ]
    },
    {
     "name": "stdout",
     "output_type": "stream",
     "text": [
      "Epoch 72, loss: 44725451.614954\n"
     ]
    },
    {
     "name": "stderr",
     "output_type": "stream",
     "text": [
      "\n",
      "100%|███████████████████████████████████████████████████| 30/30 [00:00<00:00, 105.77it/s]\u001b[A\n",
      " 74%|█████████████████████████████████████▋             | 74/100 [00:24<00:07,  3.28it/s]\n",
      "  0%|                                                             | 0/30 [00:00<?, ?it/s]\u001b[A\n",
      " 40%|████████████████████▍                              | 12/30 [00:00<00:00, 111.26it/s]\u001b[A"
     ]
    },
    {
     "name": "stdout",
     "output_type": "stream",
     "text": [
      "Epoch 73, loss: 52034207.263792\n"
     ]
    },
    {
     "name": "stderr",
     "output_type": "stream",
     "text": [
      "\n",
      "100%|███████████████████████████████████████████████████| 30/30 [00:00<00:00, 102.88it/s]\u001b[A\n",
      " 75%|██████████████████████████████████████▎            | 75/100 [00:24<00:07,  3.31it/s]\n",
      "  0%|                                                             | 0/30 [00:00<?, ?it/s]\u001b[A\n",
      " 43%|██████████████████████                             | 13/30 [00:00<00:00, 120.52it/s]\u001b[A"
     ]
    },
    {
     "name": "stdout",
     "output_type": "stream",
     "text": [
      "Epoch 74, loss: 51567958.380766\n"
     ]
    },
    {
     "name": "stderr",
     "output_type": "stream",
     "text": [
      "\n",
      "100%|███████████████████████████████████████████████████| 30/30 [00:00<00:00, 107.28it/s]\u001b[A\n",
      " 76%|██████████████████████████████████████▊            | 76/100 [00:24<00:07,  3.37it/s]\n",
      "  0%|                                                             | 0/30 [00:00<?, ?it/s]\u001b[A\n",
      " 40%|████████████████████▍                              | 12/30 [00:00<00:00, 115.53it/s]\u001b[A"
     ]
    },
    {
     "name": "stdout",
     "output_type": "stream",
     "text": [
      "Epoch 75, loss: 51421956.667831\n"
     ]
    },
    {
     "name": "stderr",
     "output_type": "stream",
     "text": [
      "\n",
      "100%|███████████████████████████████████████████████████| 30/30 [00:00<00:00, 102.87it/s]\u001b[A\n",
      " 77%|███████████████████████████████████████▎           | 77/100 [00:25<00:06,  3.37it/s]\n",
      "  0%|                                                             | 0/30 [00:00<?, ?it/s]\u001b[A\n",
      " 40%|████████████████████▍                              | 12/30 [00:00<00:00, 111.26it/s]\u001b[A"
     ]
    },
    {
     "name": "stdout",
     "output_type": "stream",
     "text": [
      "Epoch 76, loss: 49634355.874313\n"
     ]
    },
    {
     "name": "stderr",
     "output_type": "stream",
     "text": [
      "\n",
      "100%|███████████████████████████████████████████████████| 30/30 [00:00<00:00, 100.13it/s]\u001b[A\n",
      " 78%|███████████████████████████████████████▊           | 78/100 [00:25<00:06,  3.35it/s]\n",
      "  0%|                                                             | 0/30 [00:00<?, ?it/s]\u001b[A\n",
      " 37%|██████████████████▋                                | 11/30 [00:00<00:00, 105.92it/s]\u001b[A"
     ]
    },
    {
     "name": "stdout",
     "output_type": "stream",
     "text": [
      "Epoch 77, loss: 58314274.175510\n"
     ]
    },
    {
     "name": "stderr",
     "output_type": "stream",
     "text": [
      "\n",
      "100%|███████████████████████████████████████████████████| 30/30 [00:00<00:00, 102.88it/s]\u001b[A\n",
      " 79%|████████████████████████████████████████▎          | 79/100 [00:25<00:06,  3.36it/s]\n",
      "  0%|                                                             | 0/30 [00:00<?, ?it/s]\u001b[A\n",
      " 37%|██████████████████▋                                | 11/30 [00:00<00:00, 105.91it/s]\u001b[A"
     ]
    },
    {
     "name": "stdout",
     "output_type": "stream",
     "text": [
      "Epoch 78, loss: 56225836.021478\n"
     ]
    },
    {
     "name": "stderr",
     "output_type": "stream",
     "text": [
      "\n",
      "100%|████████████████████████████████████████████████████| 30/30 [00:00<00:00, 98.82it/s]\u001b[A\n",
      " 80%|████████████████████████████████████████▊          | 80/100 [00:26<00:06,  3.33it/s]\n",
      "  0%|                                                             | 0/30 [00:00<?, ?it/s]\u001b[A\n",
      " 40%|████████████████████▍                              | 12/30 [00:00<00:00, 115.55it/s]\u001b[A"
     ]
    },
    {
     "name": "stdout",
     "output_type": "stream",
     "text": [
      "Epoch 79, loss: 58202370.629543\n"
     ]
    },
    {
     "name": "stderr",
     "output_type": "stream",
     "text": [
      "\n",
      "100%|███████████████████████████████████████████████████| 30/30 [00:00<00:00, 104.30it/s]\u001b[A\n",
      " 81%|█████████████████████████████████████████▎         | 81/100 [00:26<00:05,  3.36it/s]\n",
      "  0%|                                                             | 0/30 [00:00<?, ?it/s]\u001b[A\n",
      " 40%|████████████████████▍                              | 12/30 [00:00<00:00, 115.51it/s]\u001b[A"
     ]
    },
    {
     "name": "stdout",
     "output_type": "stream",
     "text": [
      "Epoch 80, loss: 52496096.580151\n"
     ]
    },
    {
     "name": "stderr",
     "output_type": "stream",
     "text": [
      "\n",
      "100%|███████████████████████████████████████████████████| 30/30 [00:00<00:00, 107.28it/s]\u001b[A\n",
      " 82%|█████████████████████████████████████████▊         | 82/100 [00:26<00:05,  3.41it/s]\n",
      "  0%|                                                             | 0/30 [00:00<?, ?it/s]\u001b[A\n",
      " 40%|████████████████████▍                              | 12/30 [00:00<00:00, 115.50it/s]\u001b[A"
     ]
    },
    {
     "name": "stdout",
     "output_type": "stream",
     "text": [
      "Epoch 81, loss: 50529973.824771\n"
     ]
    },
    {
     "name": "stderr",
     "output_type": "stream",
     "text": [
      "\n",
      "100%|███████████████████████████████████████████████████| 30/30 [00:00<00:00, 107.29it/s]\u001b[A\n",
      " 83%|██████████████████████████████████████████▎        | 83/100 [00:26<00:04,  3.44it/s]\n",
      "  0%|                                                             | 0/30 [00:00<?, ?it/s]\u001b[A\n",
      " 40%|████████████████████▍                              | 12/30 [00:00<00:00, 115.50it/s]\u001b[A"
     ]
    },
    {
     "name": "stdout",
     "output_type": "stream",
     "text": [
      "Epoch 82, loss: 56841321.852312\n"
     ]
    },
    {
     "name": "stderr",
     "output_type": "stream",
     "text": [
      "\n",
      "100%|███████████████████████████████████████████████████| 30/30 [00:00<00:00, 104.30it/s]\u001b[A\n",
      " 84%|██████████████████████████████████████████▊        | 84/100 [00:27<00:04,  3.44it/s]\n",
      "  0%|                                                             | 0/30 [00:00<?, ?it/s]\u001b[A\n",
      " 37%|██████████████████▋                                | 11/30 [00:00<00:00, 105.91it/s]\u001b[A"
     ]
    },
    {
     "name": "stdout",
     "output_type": "stream",
     "text": [
      "Epoch 83, loss: 55576851.993868\n"
     ]
    },
    {
     "name": "stderr",
     "output_type": "stream",
     "text": [
      "\n",
      "100%|███████████████████████████████████████████████████| 30/30 [00:00<00:00, 104.28it/s]\u001b[A\n",
      " 85%|███████████████████████████████████████████▎       | 85/100 [00:27<00:04,  3.43it/s]\n",
      "  0%|                                                             | 0/30 [00:00<?, ?it/s]\u001b[A\n",
      " 37%|██████████████████▋                                | 11/30 [00:00<00:00, 105.88it/s]\u001b[A"
     ]
    },
    {
     "name": "stdout",
     "output_type": "stream",
     "text": [
      "Epoch 84, loss: 53057878.995247\n"
     ]
    },
    {
     "name": "stderr",
     "output_type": "stream",
     "text": [
      "\n",
      "100%|████████████████████████████████████████████████████| 30/30 [00:00<00:00, 98.81it/s]\u001b[A\n",
      " 86%|███████████████████████████████████████████▊       | 86/100 [00:27<00:04,  3.38it/s]\n",
      "  0%|                                                             | 0/30 [00:00<?, ?it/s]\u001b[A\n",
      " 37%|██████████████████▋                                | 11/30 [00:00<00:00, 101.98it/s]\u001b[A"
     ]
    },
    {
     "name": "stdout",
     "output_type": "stream",
     "text": [
      "Epoch 85, loss: 70498862.033611\n"
     ]
    },
    {
     "name": "stderr",
     "output_type": "stream",
     "text": [
      "\n",
      "100%|███████████████████████████████████████████████████| 30/30 [00:00<00:00, 100.12it/s]\u001b[A\n",
      " 87%|████████████████████████████████████████████▎      | 87/100 [00:28<00:03,  3.35it/s]\n",
      "  0%|                                                             | 0/30 [00:00<?, ?it/s]\u001b[A\n",
      " 40%|████████████████████▍                              | 12/30 [00:00<00:00, 107.30it/s]\u001b[A"
     ]
    },
    {
     "name": "stdout",
     "output_type": "stream",
     "text": [
      "Epoch 86, loss: 59563567.992551\n"
     ]
    },
    {
     "name": "stderr",
     "output_type": "stream",
     "text": [
      "\n",
      "100%|████████████████████████████████████████████████████| 30/30 [00:00<00:00, 98.82it/s]\u001b[A\n",
      " 88%|████████████████████████████████████████████▉      | 88/100 [00:28<00:03,  3.31it/s]\n",
      "  0%|                                                             | 0/30 [00:00<?, ?it/s]\u001b[A\n",
      " 40%|████████████████████▍                              | 12/30 [00:00<00:00, 111.26it/s]\u001b[A"
     ]
    },
    {
     "name": "stdout",
     "output_type": "stream",
     "text": [
      "Epoch 87, loss: 55951390.368352\n"
     ]
    },
    {
     "name": "stderr",
     "output_type": "stream",
     "text": [
      "\n",
      "100%|███████████████████████████████████████████████████| 30/30 [00:00<00:00, 101.48it/s]\u001b[A\n",
      " 89%|█████████████████████████████████████████████▍     | 89/100 [00:28<00:03,  3.32it/s]\n",
      "  0%|                                                             | 0/30 [00:00<?, ?it/s]\u001b[A\n",
      " 40%|████████████████████▍                              | 12/30 [00:00<00:00, 111.27it/s]\u001b[A"
     ]
    },
    {
     "name": "stdout",
     "output_type": "stream",
     "text": [
      "Epoch 88, loss: 58438839.401989\n"
     ]
    },
    {
     "name": "stderr",
     "output_type": "stream",
     "text": [
      "\n",
      "100%|███████████████████████████████████████████████████| 30/30 [00:00<00:00, 104.30it/s]\u001b[A\n",
      " 90%|█████████████████████████████████████████████▉     | 90/100 [00:28<00:02,  3.35it/s]\n",
      "  0%|                                                             | 0/30 [00:00<?, ?it/s]\u001b[A\n",
      " 43%|██████████████████████                             | 13/30 [00:00<00:00, 120.53it/s]\u001b[A"
     ]
    },
    {
     "name": "stdout",
     "output_type": "stream",
     "text": [
      "Epoch 89, loss: 61952957.990469\n"
     ]
    },
    {
     "name": "stderr",
     "output_type": "stream",
     "text": [
      "\n",
      "100%|███████████████████████████████████████████████████| 30/30 [00:00<00:00, 102.88it/s]\u001b[A\n",
      " 91%|██████████████████████████████████████████████▍    | 91/100 [00:29<00:02,  3.35it/s]\n",
      "  0%|                                                             | 0/30 [00:00<?, ?it/s]\u001b[A\n",
      " 40%|████████████████████▍                              | 12/30 [00:00<00:00, 115.54it/s]\u001b[A"
     ]
    },
    {
     "name": "stdout",
     "output_type": "stream",
     "text": [
      "Epoch 90, loss: 56988695.316342\n"
     ]
    },
    {
     "name": "stderr",
     "output_type": "stream",
     "text": [
      "\n",
      "100%|███████████████████████████████████████████████████| 30/30 [00:00<00:00, 105.77it/s]\u001b[A\n",
      " 92%|██████████████████████████████████████████████▉    | 92/100 [00:29<00:02,  3.38it/s]\n",
      "  0%|                                                             | 0/30 [00:00<?, ?it/s]\u001b[A\n",
      " 40%|████████████████████▍                              | 12/30 [00:00<00:00, 115.54it/s]\u001b[A"
     ]
    },
    {
     "name": "stdout",
     "output_type": "stream",
     "text": [
      "Epoch 91, loss: 59289213.634441\n"
     ]
    },
    {
     "name": "stderr",
     "output_type": "stream",
     "text": [
      "\n",
      "100%|███████████████████████████████████████████████████| 30/30 [00:00<00:00, 105.41it/s]\u001b[A\n",
      " 93%|███████████████████████████████████████████████▍   | 93/100 [00:29<00:02,  3.41it/s]\n",
      "  0%|                                                             | 0/30 [00:00<?, ?it/s]\u001b[A\n",
      " 37%|██████████████████▋                                | 11/30 [00:00<00:00, 105.91it/s]\u001b[A"
     ]
    },
    {
     "name": "stdout",
     "output_type": "stream",
     "text": [
      "Epoch 92, loss: 68630793.556272\n"
     ]
    },
    {
     "name": "stderr",
     "output_type": "stream",
     "text": [
      "\n",
      "100%|███████████████████████████████████████████████████| 30/30 [00:00<00:00, 104.31it/s]\u001b[A\n",
      " 94%|███████████████████████████████████████████████▉   | 94/100 [00:30<00:01,  3.40it/s]\n",
      "  0%|                                                             | 0/30 [00:00<?, ?it/s]\u001b[A\n",
      " 37%|██████████████████▋                                | 11/30 [00:00<00:00, 101.98it/s]\u001b[A"
     ]
    },
    {
     "name": "stdout",
     "output_type": "stream",
     "text": [
      "Epoch 93, loss: 58297726.913139\n"
     ]
    },
    {
     "name": "stderr",
     "output_type": "stream",
     "text": [
      "\n",
      "100%|████████████████████████████████████████████████████| 30/30 [00:00<00:00, 97.53it/s]\u001b[A\n",
      " 95%|████████████████████████████████████████████████▍  | 95/100 [00:30<00:01,  3.33it/s]\n",
      "  0%|                                                             | 0/30 [00:00<?, ?it/s]\u001b[A\n",
      " 40%|████████████████████▍                              | 12/30 [00:00<00:00, 111.26it/s]\u001b[A"
     ]
    },
    {
     "name": "stdout",
     "output_type": "stream",
     "text": [
      "Epoch 94, loss: 62386391.222594\n"
     ]
    },
    {
     "name": "stderr",
     "output_type": "stream",
     "text": [
      "\n",
      "100%|███████████████████████████████████████████████████| 30/30 [00:00<00:00, 102.88it/s]\u001b[A\n",
      " 96%|████████████████████████████████████████████████▉  | 96/100 [00:30<00:01,  3.34it/s]\n",
      "  0%|                                                             | 0/30 [00:00<?, ?it/s]\u001b[A\n",
      " 40%|████████████████████▍                              | 12/30 [00:00<00:00, 115.53it/s]\u001b[A"
     ]
    },
    {
     "name": "stdout",
     "output_type": "stream",
     "text": [
      "Epoch 95, loss: 61044838.958658\n"
     ]
    },
    {
     "name": "stderr",
     "output_type": "stream",
     "text": [
      "\n",
      "100%|███████████████████████████████████████████████████| 30/30 [00:00<00:00, 102.88it/s]\u001b[A\n",
      " 97%|█████████████████████████████████████████████████▍ | 97/100 [00:31<00:00,  3.34it/s]\n",
      "  0%|                                                             | 0/30 [00:00<?, ?it/s]\u001b[A\n",
      " 40%|████████████████████▍                              | 12/30 [00:00<00:00, 111.26it/s]\u001b[A"
     ]
    },
    {
     "name": "stdout",
     "output_type": "stream",
     "text": [
      "Epoch 96, loss: 65120159.614355\n"
     ]
    },
    {
     "name": "stderr",
     "output_type": "stream",
     "text": [
      "\n",
      "100%|████████████████████████████████████████████████████| 30/30 [00:00<00:00, 99.99it/s]\u001b[A\n",
      " 98%|█████████████████████████████████████████████████▉ | 98/100 [00:31<00:00,  3.33it/s]\n",
      "  0%|                                                             | 0/30 [00:00<?, ?it/s]\u001b[A\n",
      " 40%|████████████████████▍                              | 12/30 [00:00<00:00, 111.26it/s]\u001b[A"
     ]
    },
    {
     "name": "stdout",
     "output_type": "stream",
     "text": [
      "Epoch 97, loss: 78788866.379080\n"
     ]
    },
    {
     "name": "stderr",
     "output_type": "stream",
     "text": [
      "\n",
      "100%|████████████████████████████████████████████████████| 30/30 [00:00<00:00, 97.53it/s]\u001b[A\n",
      " 99%|██████████████████████████████████████████████████▍| 99/100 [00:31<00:00,  3.28it/s]\n",
      "  0%|                                                             | 0/30 [00:00<?, ?it/s]\u001b[A\n",
      " 37%|██████████████████▋                                | 11/30 [00:00<00:00, 105.86it/s]\u001b[A"
     ]
    },
    {
     "name": "stdout",
     "output_type": "stream",
     "text": [
      "Epoch 98, loss: 61201710.542255\n"
     ]
    },
    {
     "name": "stderr",
     "output_type": "stream",
     "text": [
      "\n",
      "100%|███████████████████████████████████████████████████| 30/30 [00:00<00:00, 101.49it/s]\u001b[A\n",
      "100%|██████████████████████████████████████████████████| 100/100 [00:31<00:00,  3.13it/s]\n",
      "  0%|                                                            | 0/100 [00:00<?, ?it/s]\n",
      "  0%|                                                             | 0/30 [00:00<?, ?it/s]\u001b[A\n",
      " 37%|██████████████████▋                                | 11/30 [00:00<00:00, 108.68it/s]\u001b[A"
     ]
    },
    {
     "name": "stdout",
     "output_type": "stream",
     "text": [
      "Epoch 99, loss: 73581144.520336\n"
     ]
    },
    {
     "name": "stderr",
     "output_type": "stream",
     "text": [
      "\n",
      "100%|███████████████████████████████████████████████████| 30/30 [00:00<00:00, 103.82it/s]\u001b[A\n",
      "  1%|▌                                                   | 1/100 [00:00<00:28,  3.41it/s]\n",
      "  0%|                                                             | 0/30 [00:00<?, ?it/s]\u001b[A\n",
      " 40%|████████████████████▍                              | 12/30 [00:00<00:00, 111.24it/s]\u001b[A"
     ]
    },
    {
     "name": "stdout",
     "output_type": "stream",
     "text": [
      "Epoch 0, loss: 2779913.646147\n"
     ]
    },
    {
     "name": "stderr",
     "output_type": "stream",
     "text": [
      "\n",
      "100%|███████████████████████████████████████████████████| 30/30 [00:00<00:00, 101.49it/s]\u001b[A\n",
      "  2%|█                                                   | 2/100 [00:00<00:29,  3.38it/s]\n",
      "  0%|                                                             | 0/30 [00:00<?, ?it/s]\u001b[A\n",
      " 37%|██████████████████▋                                | 11/30 [00:00<00:00, 105.91it/s]\u001b[A"
     ]
    },
    {
     "name": "stdout",
     "output_type": "stream",
     "text": [
      "Epoch 1, loss: 3296582.694710\n"
     ]
    },
    {
     "name": "stderr",
     "output_type": "stream",
     "text": [
      "\n",
      "100%|███████████████████████████████████████████████████| 30/30 [00:00<00:00, 100.13it/s]\u001b[A\n",
      "  3%|█▌                                                  | 3/100 [00:00<00:29,  3.34it/s]\n",
      "  0%|                                                             | 0/30 [00:00<?, ?it/s]\u001b[A\n",
      " 40%|████████████████████▍                              | 12/30 [00:00<00:00, 107.28it/s]\u001b[A"
     ]
    },
    {
     "name": "stdout",
     "output_type": "stream",
     "text": [
      "Epoch 2, loss: 3299835.716755\n"
     ]
    },
    {
     "name": "stderr",
     "output_type": "stream",
     "text": [
      "\n",
      "100%|███████████████████████████████████████████████████| 30/30 [00:00<00:00, 101.47it/s]\u001b[A\n",
      "  4%|██                                                  | 4/100 [00:01<00:28,  3.34it/s]\n",
      "  0%|                                                             | 0/30 [00:00<?, ?it/s]\u001b[A\n",
      " 40%|████████████████████▍                              | 12/30 [00:00<00:00, 111.27it/s]\u001b[A"
     ]
    },
    {
     "name": "stdout",
     "output_type": "stream",
     "text": [
      "Epoch 3, loss: 4187506.409448\n"
     ]
    },
    {
     "name": "stderr",
     "output_type": "stream",
     "text": [
      "\n",
      "100%|███████████████████████████████████████████████████| 30/30 [00:00<00:00, 100.14it/s]\u001b[A\n",
      "  5%|██▌                                                 | 5/100 [00:01<00:28,  3.32it/s]\n",
      "  0%|                                                             | 0/30 [00:00<?, ?it/s]\u001b[A\n",
      " 37%|██████████████████▋                                | 11/30 [00:00<00:00, 105.91it/s]\u001b[A\n"
     ]
    },
    {
     "name": "stdout",
     "output_type": "stream",
     "text": [
      "Epoch 4, loss: 6765216.439752\n"
     ]
    },
    {
     "name": "stderr",
     "output_type": "stream",
     "text": [
      "100%|███████████████████████████████████████████████████| 30/30 [00:00<00:00, 102.88it/s]\u001b[A\n",
      "  6%|███                                                 | 6/100 [00:01<00:28,  3.34it/s]\n",
      "  0%|                                                             | 0/30 [00:00<?, ?it/s]\u001b[A\n",
      " 37%|██████████████████▋                                | 11/30 [00:00<00:00, 105.91it/s]\u001b[A"
     ]
    },
    {
     "name": "stdout",
     "output_type": "stream",
     "text": [
      "Epoch 5, loss: 6269068.901564\n"
     ]
    },
    {
     "name": "stderr",
     "output_type": "stream",
     "text": [
      "\n",
      "100%|████████████████████████████████████████████████████| 30/30 [00:00<00:00, 98.64it/s]\u001b[A\n",
      "  7%|███▋                                                | 7/100 [00:02<00:28,  3.31it/s]\n",
      "  0%|                                                             | 0/30 [00:00<?, ?it/s]\u001b[A\n",
      " 40%|████████████████████▍                              | 12/30 [00:00<00:00, 107.29it/s]\u001b[A"
     ]
    },
    {
     "name": "stdout",
     "output_type": "stream",
     "text": [
      "Epoch 6, loss: 7082677.646391\n"
     ]
    },
    {
     "name": "stderr",
     "output_type": "stream",
     "text": [
      "\n",
      "100%|███████████████████████████████████████████████████| 30/30 [00:00<00:00, 101.49it/s]\u001b[A\n",
      "  8%|████▏                                               | 8/100 [00:02<00:27,  3.31it/s]\n",
      "  0%|                                                             | 0/30 [00:00<?, ?it/s]\u001b[A\n",
      " 40%|████████████████████▍                              | 12/30 [00:00<00:00, 115.50it/s]\u001b[A"
     ]
    },
    {
     "name": "stdout",
     "output_type": "stream",
     "text": [
      "Epoch 7, loss: 6597606.318758\n"
     ]
    },
    {
     "name": "stderr",
     "output_type": "stream",
     "text": [
      "\n",
      "100%|███████████████████████████████████████████████████| 30/30 [00:00<00:00, 103.89it/s]\u001b[A\n",
      "  9%|████▋                                               | 9/100 [00:02<00:27,  3.34it/s]\n",
      "  0%|                                                             | 0/30 [00:00<?, ?it/s]\u001b[A\n",
      " 40%|████████████████████▍                              | 12/30 [00:00<00:00, 115.54it/s]\u001b[A"
     ]
    },
    {
     "name": "stdout",
     "output_type": "stream",
     "text": [
      "Epoch 8, loss: 7563717.098234\n"
     ]
    },
    {
     "name": "stderr",
     "output_type": "stream",
     "text": [
      "\n",
      "100%|███████████████████████████████████████████████████| 30/30 [00:00<00:00, 101.49it/s]\u001b[A\n",
      " 10%|█████                                              | 10/100 [00:03<00:26,  3.34it/s]\n",
      "  0%|                                                             | 0/30 [00:00<?, ?it/s]\u001b[A\n",
      " 40%|████████████████████▍                              | 12/30 [00:00<00:00, 111.26it/s]\u001b[A"
     ]
    },
    {
     "name": "stdout",
     "output_type": "stream",
     "text": [
      "Epoch 9, loss: 9549594.713770\n"
     ]
    },
    {
     "name": "stderr",
     "output_type": "stream",
     "text": [
      "\n",
      "100%|███████████████████████████████████████████████████| 30/30 [00:00<00:00, 101.49it/s]\u001b[A\n",
      " 11%|█████▌                                             | 11/100 [00:03<00:26,  3.32it/s]\n",
      "  0%|                                                             | 0/30 [00:00<?, ?it/s]\u001b[A\n",
      " 40%|████████████████████▍                              | 12/30 [00:00<00:00, 115.52it/s]\u001b[A"
     ]
    },
    {
     "name": "stdout",
     "output_type": "stream",
     "text": [
      "Epoch 10, loss: 10909574.894649\n"
     ]
    },
    {
     "name": "stderr",
     "output_type": "stream",
     "text": [
      "\n",
      "100%|███████████████████████████████████████████████████| 30/30 [00:00<00:00, 104.31it/s]\u001b[A\n",
      " 12%|██████                                             | 12/100 [00:03<00:26,  3.36it/s]\n",
      "  0%|                                                             | 0/30 [00:00<?, ?it/s]\u001b[A\n",
      " 40%|████████████████████▍                              | 12/30 [00:00<00:00, 115.54it/s]\u001b[A"
     ]
    },
    {
     "name": "stdout",
     "output_type": "stream",
     "text": [
      "Epoch 11, loss: 8121804.116418\n"
     ]
    },
    {
     "name": "stderr",
     "output_type": "stream",
     "text": [
      "\n",
      "100%|███████████████████████████████████████████████████| 30/30 [00:00<00:00, 102.88it/s]\u001b[A\n",
      " 13%|██████▋                                            | 13/100 [00:03<00:25,  3.36it/s]\n",
      "  0%|                                                             | 0/30 [00:00<?, ?it/s]\u001b[A\n",
      " 40%|████████████████████▍                              | 12/30 [00:00<00:00, 115.54it/s]\u001b[A"
     ]
    },
    {
     "name": "stdout",
     "output_type": "stream",
     "text": [
      "Epoch 12, loss: 10807902.327755\n"
     ]
    },
    {
     "name": "stderr",
     "output_type": "stream",
     "text": [
      "\n",
      "100%|███████████████████████████████████████████████████| 30/30 [00:00<00:00, 104.31it/s]\u001b[A\n",
      " 14%|███████▏                                           | 14/100 [00:04<00:25,  3.38it/s]\n",
      "  0%|                                                             | 0/30 [00:00<?, ?it/s]\u001b[A\n",
      " 40%|████████████████████▍                              | 12/30 [00:00<00:00, 111.27it/s]\u001b[A"
     ]
    },
    {
     "name": "stdout",
     "output_type": "stream",
     "text": [
      "Epoch 13, loss: 9888174.890203\n"
     ]
    },
    {
     "name": "stderr",
     "output_type": "stream",
     "text": [
      "\n",
      "100%|███████████████████████████████████████████████████| 30/30 [00:00<00:00, 101.49it/s]\u001b[A\n",
      " 15%|███████▋                                           | 15/100 [00:04<00:25,  3.37it/s]\n",
      "  0%|                                                             | 0/30 [00:00<?, ?it/s]\u001b[A\n",
      " 33%|█████████████████▎                                  | 10/30 [00:00<00:00, 92.66it/s]\u001b[A"
     ]
    },
    {
     "name": "stdout",
     "output_type": "stream",
     "text": [
      "Epoch 14, loss: 10108727.965434\n"
     ]
    },
    {
     "name": "stderr",
     "output_type": "stream",
     "text": [
      "\n",
      " 60%|███████████████████████████████▏                    | 18/30 [00:00<00:00, 86.22it/s]\u001b[A\n",
      "100%|████████████████████████████████████████████████████| 30/30 [00:00<00:00, 79.89it/s]\u001b[A\n",
      " 16%|████████▏                                          | 16/100 [00:04<00:27,  3.11it/s]\n",
      "  0%|                                                             | 0/30 [00:00<?, ?it/s]\u001b[A\n",
      " 27%|██████████████▏                                      | 8/30 [00:00<00:00, 77.03it/s]\u001b[A"
     ]
    },
    {
     "name": "stdout",
     "output_type": "stream",
     "text": [
      "Epoch 15, loss: 11682653.381200\n"
     ]
    },
    {
     "name": "stderr",
     "output_type": "stream",
     "text": [
      "\n",
      " 53%|███████████████████████████▋                        | 16/30 [00:00<00:00, 76.15it/s]\u001b[A\n",
      "100%|████████████████████████████████████████████████████| 30/30 [00:00<00:00, 74.36it/s]\u001b[A\n",
      " 17%|████████▋                                          | 17/100 [00:05<00:28,  2.88it/s]\n",
      "  0%|                                                             | 0/30 [00:00<?, ?it/s]\u001b[A\n",
      " 30%|███████████████▉                                     | 9/30 [00:00<00:00, 77.69it/s]\u001b[A"
     ]
    },
    {
     "name": "stdout",
     "output_type": "stream",
     "text": [
      "Epoch 16, loss: 11520079.080133\n"
     ]
    },
    {
     "name": "stderr",
     "output_type": "stream",
     "text": [
      "\n",
      " 60%|███████████████████████████████▏                    | 18/30 [00:00<00:00, 77.69it/s]\u001b[A\n",
      "100%|████████████████████████████████████████████████████| 30/30 [00:00<00:00, 77.42it/s]\u001b[A\n",
      " 18%|█████████▏                                         | 18/100 [00:05<00:29,  2.76it/s]\n",
      "  0%|                                                             | 0/30 [00:00<?, ?it/s]\u001b[A\n",
      " 27%|██████████████▏                                      | 8/30 [00:00<00:00, 77.02it/s]\u001b[A"
     ]
    },
    {
     "name": "stdout",
     "output_type": "stream",
     "text": [
      "Epoch 17, loss: 10747252.657795\n"
     ]
    },
    {
     "name": "stderr",
     "output_type": "stream",
     "text": [
      "\n",
      " 53%|███████████████████████████▋                        | 16/30 [00:00<00:00, 77.02it/s]\u001b[A\n",
      "100%|████████████████████████████████████████████████████| 30/30 [00:00<00:00, 76.63it/s]\u001b[A\n",
      " 19%|█████████▋                                         | 19/100 [00:06<00:30,  2.69it/s]\n",
      "  0%|                                                             | 0/30 [00:00<?, ?it/s]\u001b[A\n",
      " 30%|███████████████▉                                     | 9/30 [00:00<00:00, 77.68it/s]\u001b[A"
     ]
    },
    {
     "name": "stdout",
     "output_type": "stream",
     "text": [
      "Epoch 18, loss: 16364753.641612\n"
     ]
    },
    {
     "name": "stderr",
     "output_type": "stream",
     "text": [
      "\n",
      " 57%|█████████████████████████████▍                      | 17/30 [00:00<00:00, 76.59it/s]\u001b[A\n",
      "100%|████████████████████████████████████████████████████| 30/30 [00:00<00:00, 76.63it/s]\u001b[A\n",
      " 20%|██████████▏                                        | 20/100 [00:06<00:30,  2.64it/s]\n",
      "  0%|                                                             | 0/30 [00:00<?, ?it/s]\u001b[A\n",
      " 30%|███████████████▉                                     | 9/30 [00:00<00:00, 83.43it/s]\u001b[A"
     ]
    },
    {
     "name": "stdout",
     "output_type": "stream",
     "text": [
      "Epoch 19, loss: 12454821.005696\n"
     ]
    },
    {
     "name": "stderr",
     "output_type": "stream",
     "text": [
      "\n",
      " 57%|█████████████████████████████▍                      | 17/30 [00:00<00:00, 81.41it/s]\u001b[A\n",
      "100%|████████████████████████████████████████████████████| 30/30 [00:00<00:00, 79.05it/s]\u001b[A\n",
      " 21%|██████████▋                                        | 21/100 [00:06<00:30,  2.63it/s]\n",
      "  0%|                                                             | 0/30 [00:00<?, ?it/s]\u001b[A\n",
      " 30%|███████████████▉                                     | 9/30 [00:00<00:00, 83.43it/s]\u001b[A"
     ]
    },
    {
     "name": "stdout",
     "output_type": "stream",
     "text": [
      "Epoch 20, loss: 13502819.815452\n"
     ]
    },
    {
     "name": "stderr",
     "output_type": "stream",
     "text": [
      "\n",
      " 57%|█████████████████████████████▍                      | 17/30 [00:00<00:00, 81.41it/s]\u001b[A\n",
      "100%|████████████████████████████████████████████████████| 30/30 [00:00<00:00, 77.42it/s]\u001b[A\n",
      " 22%|███████████▏                                       | 22/100 [00:07<00:30,  2.60it/s]\n",
      "  0%|                                                             | 0/30 [00:00<?, ?it/s]\u001b[A\n",
      " 27%|██████████████▏                                      | 8/30 [00:00<00:00, 77.00it/s]\u001b[A"
     ]
    },
    {
     "name": "stdout",
     "output_type": "stream",
     "text": [
      "Epoch 21, loss: 16396177.865447\n"
     ]
    },
    {
     "name": "stderr",
     "output_type": "stream",
     "text": [
      "\n",
      " 53%|███████████████████████████▋                        | 16/30 [00:00<00:00, 76.13it/s]\u001b[A\n",
      "100%|████████████████████████████████████████████████████| 30/30 [00:00<00:00, 75.86it/s]\u001b[A\n",
      " 23%|███████████▋                                       | 23/100 [00:07<00:29,  2.58it/s]\n",
      "  0%|                                                             | 0/30 [00:00<?, ?it/s]\u001b[A\n",
      " 33%|█████████████████▎                                  | 10/30 [00:00<00:00, 96.28it/s]\u001b[A"
     ]
    },
    {
     "name": "stdout",
     "output_type": "stream",
     "text": [
      "Epoch 22, loss: 17017988.481973\n"
     ]
    },
    {
     "name": "stderr",
     "output_type": "stream",
     "text": [
      "\n",
      "100%|████████████████████████████████████████████████████| 30/30 [00:00<00:00, 98.81it/s]\u001b[A\n",
      " 24%|████████████▏                                      | 24/100 [00:07<00:27,  2.75it/s]\n",
      "  0%|                                                             | 0/30 [00:00<?, ?it/s]\u001b[A\n",
      " 37%|██████████████████▋                                | 11/30 [00:00<00:00, 105.91it/s]\u001b[A"
     ]
    },
    {
     "name": "stdout",
     "output_type": "stream",
     "text": [
      "Epoch 23, loss: 17171835.057529\n"
     ]
    },
    {
     "name": "stderr",
     "output_type": "stream",
     "text": [
      "\n",
      "100%|███████████████████████████████████████████████████| 30/30 [00:00<00:00, 100.13it/s]\u001b[A\n",
      " 25%|████████████▊                                      | 25/100 [00:08<00:26,  2.88it/s]\n",
      "  0%|                                                             | 0/30 [00:00<?, ?it/s]\u001b[A\n",
      " 37%|██████████████████▋                                | 11/30 [00:00<00:00, 105.91it/s]\u001b[A"
     ]
    },
    {
     "name": "stdout",
     "output_type": "stream",
     "text": [
      "Epoch 24, loss: 20417752.803208\n"
     ]
    },
    {
     "name": "stderr",
     "output_type": "stream",
     "text": [
      "\n",
      "100%|████████████████████████████████████████████████████| 30/30 [00:00<00:00, 96.28it/s]\u001b[A\n",
      " 26%|█████████████▎                                     | 26/100 [00:08<00:24,  2.96it/s]\n",
      "  0%|                                                             | 0/30 [00:00<?, ?it/s]\u001b[A\n",
      " 30%|███████████████▉                                     | 9/30 [00:00<00:00, 86.65it/s]\u001b[A"
     ]
    },
    {
     "name": "stdout",
     "output_type": "stream",
     "text": [
      "Epoch 25, loss: 16769991.176104\n"
     ]
    },
    {
     "name": "stderr",
     "output_type": "stream",
     "text": [
      "\n",
      " 63%|████████████████████████████████▉                   | 19/30 [00:00<00:00, 88.39it/s]\u001b[A\n",
      "100%|████████████████████████████████████████████████████| 30/30 [00:00<00:00, 87.32it/s]\u001b[A\n",
      " 27%|█████████████▊                                     | 27/100 [00:08<00:24,  2.94it/s]\n",
      "  0%|                                                             | 0/30 [00:00<?, ?it/s]\u001b[A\n",
      " 30%|███████████████▉                                     | 9/30 [00:00<00:00, 83.44it/s]\u001b[A"
     ]
    },
    {
     "name": "stdout",
     "output_type": "stream",
     "text": [
      "Epoch 26, loss: 18482680.750193\n"
     ]
    },
    {
     "name": "stderr",
     "output_type": "stream",
     "text": [
      "\n",
      " 63%|████████████████████████████████▉                   | 19/30 [00:00<00:00, 85.15it/s]\u001b[A\n",
      "100%|████████████████████████████████████████████████████| 30/30 [00:00<00:00, 84.38it/s]\u001b[A\n",
      " 28%|██████████████▎                                    | 28/100 [00:09<00:24,  2.89it/s]\n",
      "  0%|                                                             | 0/30 [00:00<?, ?it/s]\u001b[A\n",
      " 33%|█████████████████▎                                  | 10/30 [00:00<00:00, 92.72it/s]\u001b[A"
     ]
    },
    {
     "name": "stdout",
     "output_type": "stream",
     "text": [
      "Epoch 27, loss: 22138143.979314\n"
     ]
    },
    {
     "name": "stderr",
     "output_type": "stream",
     "text": [
      "\n",
      "100%|████████████████████████████████████████████████████| 30/30 [00:00<00:00, 96.28it/s]\u001b[A\n",
      " 29%|██████████████▊                                    | 29/100 [00:09<00:23,  2.97it/s]\n",
      "  0%|                                                             | 0/30 [00:00<?, ?it/s]\u001b[A\n",
      " 40%|████████████████████▍                              | 12/30 [00:00<00:00, 111.25it/s]\u001b[A"
     ]
    },
    {
     "name": "stdout",
     "output_type": "stream",
     "text": [
      "Epoch 28, loss: 21257545.146671\n"
     ]
    },
    {
     "name": "stderr",
     "output_type": "stream",
     "text": [
      "\n",
      "100%|███████████████████████████████████████████████████| 30/30 [00:00<00:00, 105.77it/s]\u001b[A\n",
      " 30%|███████████████▎                                   | 30/100 [00:09<00:22,  3.10it/s]\n",
      "  0%|                                                             | 0/30 [00:00<?, ?it/s]\u001b[A\n",
      " 40%|████████████████████▍                              | 12/30 [00:00<00:00, 111.26it/s]\u001b[A"
     ]
    },
    {
     "name": "stdout",
     "output_type": "stream",
     "text": [
      "Epoch 29, loss: 21073788.699411\n"
     ]
    },
    {
     "name": "stderr",
     "output_type": "stream",
     "text": [
      "\n",
      "100%|███████████████████████████████████████████████████| 30/30 [00:00<00:00, 102.88it/s]\u001b[A\n",
      " 31%|███████████████▊                                   | 31/100 [00:10<00:21,  3.18it/s]\n",
      "  0%|                                                             | 0/30 [00:00<?, ?it/s]\u001b[A\n",
      " 37%|██████████████████▋                                | 11/30 [00:00<00:00, 102.00it/s]\u001b[A"
     ]
    },
    {
     "name": "stdout",
     "output_type": "stream",
     "text": [
      "Epoch 30, loss: 22694099.868182\n"
     ]
    },
    {
     "name": "stderr",
     "output_type": "stream",
     "text": [
      "\n",
      "100%|███████████████████████████████████████████████████| 30/30 [00:00<00:00, 102.88it/s]\u001b[A\n",
      " 32%|████████████████▎                                  | 32/100 [00:10<00:20,  3.24it/s]\n",
      "  0%|                                                             | 0/30 [00:00<?, ?it/s]\u001b[A\n",
      " 40%|████████████████████▍                              | 12/30 [00:00<00:00, 111.26it/s]\u001b[A"
     ]
    },
    {
     "name": "stdout",
     "output_type": "stream",
     "text": [
      "Epoch 31, loss: 24049685.583388\n"
     ]
    },
    {
     "name": "stderr",
     "output_type": "stream",
     "text": [
      "\n",
      "100%|███████████████████████████████████████████████████| 30/30 [00:00<00:00, 105.78it/s]\u001b[A\n",
      " 33%|████████████████▊                                  | 33/100 [00:10<00:20,  3.31it/s]\n",
      "  0%|                                                             | 0/30 [00:00<?, ?it/s]\u001b[A\n",
      " 37%|██████████████████▋                                | 11/30 [00:00<00:00, 101.99it/s]\u001b[A"
     ]
    },
    {
     "name": "stdout",
     "output_type": "stream",
     "text": [
      "Epoch 32, loss: 22898282.144008\n"
     ]
    },
    {
     "name": "stderr",
     "output_type": "stream",
     "text": [
      "\n",
      "100%|███████████████████████████████████████████████████| 30/30 [00:00<00:00, 101.49it/s]\u001b[A\n",
      " 34%|█████████████████▎                                 | 34/100 [00:11<00:19,  3.32it/s]\n",
      "  0%|                                                             | 0/30 [00:00<?, ?it/s]\u001b[A\n",
      " 40%|████████████████████▍                              | 12/30 [00:00<00:00, 111.26it/s]\u001b[A"
     ]
    },
    {
     "name": "stdout",
     "output_type": "stream",
     "text": [
      "Epoch 33, loss: 23752567.443285\n"
     ]
    },
    {
     "name": "stderr",
     "output_type": "stream",
     "text": [
      "\n",
      "100%|███████████████████████████████████████████████████| 30/30 [00:00<00:00, 107.28it/s]\u001b[A\n",
      " 35%|█████████████████▊                                 | 35/100 [00:11<00:19,  3.38it/s]\n",
      "  0%|                                                             | 0/30 [00:00<?, ?it/s]\u001b[A\n",
      " 40%|████████████████████▍                              | 12/30 [00:00<00:00, 111.26it/s]\u001b[A"
     ]
    },
    {
     "name": "stdout",
     "output_type": "stream",
     "text": [
      "Epoch 34, loss: 23441919.292731\n"
     ]
    },
    {
     "name": "stderr",
     "output_type": "stream",
     "text": [
      "\n",
      "100%|███████████████████████████████████████████████████| 30/30 [00:00<00:00, 104.31it/s]\u001b[A\n",
      " 36%|██████████████████▎                                | 36/100 [00:11<00:18,  3.39it/s]\n",
      "  0%|                                                             | 0/30 [00:00<?, ?it/s]\u001b[A\n",
      " 40%|████████████████████▍                              | 12/30 [00:00<00:00, 111.26it/s]\u001b[A"
     ]
    },
    {
     "name": "stdout",
     "output_type": "stream",
     "text": [
      "Epoch 35, loss: 26691549.098891\n"
     ]
    },
    {
     "name": "stderr",
     "output_type": "stream",
     "text": [
      "\n",
      "100%|███████████████████████████████████████████████████| 30/30 [00:00<00:00, 104.30it/s]\u001b[A\n",
      " 37%|██████████████████▊                                | 37/100 [00:11<00:18,  3.40it/s]\n",
      "  0%|                                                             | 0/30 [00:00<?, ?it/s]\u001b[A\n",
      " 37%|██████████████████▋                                | 11/30 [00:00<00:00, 109.41it/s]\u001b[A"
     ]
    },
    {
     "name": "stdout",
     "output_type": "stream",
     "text": [
      "Epoch 36, loss: 24220831.869137\n"
     ]
    },
    {
     "name": "stderr",
     "output_type": "stream",
     "text": [
      "\n",
      "100%|███████████████████████████████████████████████████| 30/30 [00:00<00:00, 102.49it/s]\u001b[A\n",
      " 38%|███████████████████▍                               | 38/100 [00:12<00:18,  3.39it/s]\n",
      "  0%|                                                             | 0/30 [00:00<?, ?it/s]\u001b[A\n",
      " 37%|██████████████████▋                                | 11/30 [00:00<00:00, 105.91it/s]\u001b[A"
     ]
    },
    {
     "name": "stdout",
     "output_type": "stream",
     "text": [
      "Epoch 37, loss: 22661888.191616\n"
     ]
    },
    {
     "name": "stderr",
     "output_type": "stream",
     "text": [
      "\n",
      "100%|███████████████████████████████████████████████████| 30/30 [00:00<00:00, 101.49it/s]\u001b[A\n",
      " 39%|███████████████████▉                               | 39/100 [00:12<00:18,  3.38it/s]\n",
      "  0%|                                                             | 0/30 [00:00<?, ?it/s]\u001b[A\n",
      " 40%|████████████████████▍                              | 12/30 [00:00<00:00, 111.26it/s]\u001b[A"
     ]
    },
    {
     "name": "stdout",
     "output_type": "stream",
     "text": [
      "Epoch 38, loss: 26564440.105437\n"
     ]
    },
    {
     "name": "stderr",
     "output_type": "stream",
     "text": [
      "\n",
      "100%|███████████████████████████████████████████████████| 30/30 [00:00<00:00, 101.48it/s]\u001b[A\n",
      " 40%|████████████████████▍                              | 40/100 [00:12<00:17,  3.35it/s]\n",
      "  0%|                                                             | 0/30 [00:00<?, ?it/s]\u001b[A\n",
      " 37%|██████████████████▋                                | 11/30 [00:00<00:00, 105.90it/s]\u001b[A"
     ]
    },
    {
     "name": "stdout",
     "output_type": "stream",
     "text": [
      "Epoch 39, loss: 26824151.150068\n"
     ]
    },
    {
     "name": "stderr",
     "output_type": "stream",
     "text": [
      "\n",
      "100%|███████████████████████████████████████████████████| 30/30 [00:00<00:00, 102.87it/s]\u001b[A\n",
      " 41%|████████████████████▉                              | 41/100 [00:13<00:17,  3.37it/s]\n",
      "  0%|                                                             | 0/30 [00:00<?, ?it/s]\u001b[A\n",
      " 37%|██████████████████▋                                | 11/30 [00:00<00:00, 105.93it/s]\u001b[A"
     ]
    },
    {
     "name": "stdout",
     "output_type": "stream",
     "text": [
      "Epoch 40, loss: 33200516.010612\n"
     ]
    },
    {
     "name": "stderr",
     "output_type": "stream",
     "text": [
      "\n",
      "100%|███████████████████████████████████████████████████| 30/30 [00:00<00:00, 101.49it/s]\u001b[A\n",
      " 42%|█████████████████████▍                             | 42/100 [00:13<00:17,  3.35it/s]\n",
      "  0%|                                                             | 0/30 [00:00<?, ?it/s]\u001b[A\n",
      " 37%|██████████████████▋                                | 11/30 [00:00<00:00, 101.99it/s]\u001b[A"
     ]
    },
    {
     "name": "stdout",
     "output_type": "stream",
     "text": [
      "Epoch 41, loss: 30752236.639453\n"
     ]
    },
    {
     "name": "stderr",
     "output_type": "stream",
     "text": [
      "\n",
      "100%|███████████████████████████████████████████████████| 30/30 [00:00<00:00, 101.49it/s]\u001b[A\n",
      " 43%|█████████████████████▉                             | 43/100 [00:13<00:17,  3.33it/s]\n",
      "  0%|                                                             | 0/30 [00:00<?, ?it/s]\u001b[A\n",
      " 37%|██████████████████▋                                | 11/30 [00:00<00:00, 101.96it/s]\u001b[A"
     ]
    },
    {
     "name": "stdout",
     "output_type": "stream",
     "text": [
      "Epoch 42, loss: 31128692.135024\n"
     ]
    },
    {
     "name": "stderr",
     "output_type": "stream",
     "text": [
      "\n",
      "100%|████████████████████████████████████████████████████| 30/30 [00:00<00:00, 97.53it/s]\u001b[A\n",
      " 44%|██████████████████████▍                            | 44/100 [00:14<00:17,  3.28it/s]\n",
      "  0%|                                                             | 0/30 [00:00<?, ?it/s]\u001b[A\n",
      " 40%|████████████████████▍                              | 12/30 [00:00<00:00, 115.50it/s]\u001b[A"
     ]
    },
    {
     "name": "stdout",
     "output_type": "stream",
     "text": [
      "Epoch 43, loss: 32978471.376690\n"
     ]
    },
    {
     "name": "stderr",
     "output_type": "stream",
     "text": [
      "\n",
      "100%|███████████████████████████████████████████████████| 30/30 [00:00<00:00, 105.78it/s]\u001b[A\n",
      " 45%|██████████████████████▉                            | 45/100 [00:14<00:16,  3.34it/s]\n",
      "  0%|                                                             | 0/30 [00:00<?, ?it/s]\u001b[A\n",
      " 37%|██████████████████▋                                | 11/30 [00:00<00:00, 105.90it/s]\u001b[A"
     ]
    },
    {
     "name": "stdout",
     "output_type": "stream",
     "text": [
      "Epoch 44, loss: 29420878.887951\n"
     ]
    },
    {
     "name": "stderr",
     "output_type": "stream",
     "text": [
      "\n",
      "100%|███████████████████████████████████████████████████| 30/30 [00:00<00:00, 102.86it/s]\u001b[A\n",
      " 46%|███████████████████████▍                           | 46/100 [00:14<00:16,  3.35it/s]\n",
      "  0%|                                                             | 0/30 [00:00<?, ?it/s]\u001b[A\n",
      " 37%|██████████████████▋                                | 11/30 [00:00<00:00, 105.85it/s]\u001b[A"
     ]
    },
    {
     "name": "stdout",
     "output_type": "stream",
     "text": [
      "Epoch 45, loss: 29864387.847673\n"
     ]
    },
    {
     "name": "stderr",
     "output_type": "stream",
     "text": [
      "\n",
      "100%|███████████████████████████████████████████████████| 30/30 [00:00<00:00, 102.88it/s]\u001b[A\n",
      " 47%|███████████████████████▉                           | 47/100 [00:14<00:15,  3.35it/s]\n",
      "  0%|                                                             | 0/30 [00:00<?, ?it/s]\u001b[A\n",
      " 37%|██████████████████▋                                | 11/30 [00:00<00:00, 105.91it/s]\u001b[A"
     ]
    },
    {
     "name": "stdout",
     "output_type": "stream",
     "text": [
      "Epoch 46, loss: 30673371.331258\n"
     ]
    },
    {
     "name": "stderr",
     "output_type": "stream",
     "text": [
      "\n",
      "100%|████████████████████████████████████████████████████| 30/30 [00:00<00:00, 98.81it/s]\u001b[A\n",
      " 48%|████████████████████████▍                          | 48/100 [00:15<00:15,  3.32it/s]\n",
      "  0%|                                                             | 0/30 [00:00<?, ?it/s]\u001b[A\n",
      " 37%|██████████████████▋                                | 11/30 [00:00<00:00, 101.87it/s]\u001b[A"
     ]
    },
    {
     "name": "stdout",
     "output_type": "stream",
     "text": [
      "Epoch 47, loss: 34312347.479132\n"
     ]
    },
    {
     "name": "stderr",
     "output_type": "stream",
     "text": [
      "\n",
      "100%|███████████████████████████████████████████████████| 30/30 [00:00<00:00, 100.12it/s]\u001b[A\n",
      " 49%|████████████████████████▉                          | 49/100 [00:15<00:15,  3.31it/s]\n",
      "  0%|                                                             | 0/30 [00:00<?, ?it/s]\u001b[A\n",
      " 37%|██████████████████▋                                | 11/30 [00:00<00:00, 101.98it/s]\u001b[A"
     ]
    },
    {
     "name": "stdout",
     "output_type": "stream",
     "text": [
      "Epoch 48, loss: 33667009.483371\n"
     ]
    },
    {
     "name": "stderr",
     "output_type": "stream",
     "text": [
      "\n",
      "100%|████████████████████████████████████████████████████| 30/30 [00:00<00:00, 98.82it/s]\u001b[A\n",
      " 50%|█████████████████████████▌                         | 50/100 [00:15<00:15,  3.29it/s]\n",
      "  0%|                                                             | 0/30 [00:00<?, ?it/s]\u001b[A\n",
      " 40%|████████████████████▍                              | 12/30 [00:00<00:00, 111.22it/s]\u001b[A"
     ]
    },
    {
     "name": "stdout",
     "output_type": "stream",
     "text": [
      "Epoch 49, loss: 33744447.181043\n"
     ]
    },
    {
     "name": "stderr",
     "output_type": "stream",
     "text": [
      "\n",
      "100%|███████████████████████████████████████████████████| 30/30 [00:00<00:00, 104.30it/s]\u001b[A\n",
      " 51%|██████████████████████████                         | 51/100 [00:16<00:14,  3.32it/s]\n",
      "  0%|                                                             | 0/30 [00:00<?, ?it/s]\u001b[A\n",
      " 40%|████████████████████▍                              | 12/30 [00:00<00:00, 107.28it/s]\u001b[A"
     ]
    },
    {
     "name": "stdout",
     "output_type": "stream",
     "text": [
      "Epoch 50, loss: 33721905.157697\n"
     ]
    },
    {
     "name": "stderr",
     "output_type": "stream",
     "text": [
      "\n",
      "100%|███████████████████████████████████████████████████| 30/30 [00:00<00:00, 102.88it/s]\u001b[A\n",
      " 52%|██████████████████████████▌                        | 52/100 [00:16<00:14,  3.35it/s]\n",
      "  0%|                                                             | 0/30 [00:00<?, ?it/s]\u001b[A\n",
      " 40%|████████████████████▍                              | 12/30 [00:00<00:00, 111.26it/s]\u001b[A"
     ]
    },
    {
     "name": "stdout",
     "output_type": "stream",
     "text": [
      "Epoch 51, loss: 40265376.070723\n"
     ]
    },
    {
     "name": "stderr",
     "output_type": "stream",
     "text": [
      "\n",
      "100%|███████████████████████████████████████████████████| 30/30 [00:00<00:00, 101.47it/s]\u001b[A\n",
      " 53%|███████████████████████████                        | 53/100 [00:16<00:14,  3.32it/s]\n",
      "  0%|                                                             | 0/30 [00:00<?, ?it/s]\u001b[A\n",
      " 40%|████████████████████▍                              | 12/30 [00:00<00:00, 111.27it/s]\u001b[A"
     ]
    },
    {
     "name": "stdout",
     "output_type": "stream",
     "text": [
      "Epoch 52, loss: 37580455.314068\n"
     ]
    },
    {
     "name": "stderr",
     "output_type": "stream",
     "text": [
      "\n",
      "100%|███████████████████████████████████████████████████| 30/30 [00:00<00:00, 105.76it/s]\u001b[A\n",
      " 54%|███████████████████████████▌                       | 54/100 [00:17<00:13,  3.37it/s]\n",
      "  0%|                                                             | 0/30 [00:00<?, ?it/s]\u001b[A\n",
      " 40%|████████████████████▍                              | 12/30 [00:00<00:00, 115.54it/s]\u001b[A"
     ]
    },
    {
     "name": "stdout",
     "output_type": "stream",
     "text": [
      "Epoch 53, loss: 37482037.661469\n"
     ]
    },
    {
     "name": "stderr",
     "output_type": "stream",
     "text": [
      "\n",
      "100%|███████████████████████████████████████████████████| 30/30 [00:00<00:00, 102.88it/s]\u001b[A\n",
      " 55%|████████████████████████████                       | 55/100 [00:17<00:13,  3.37it/s]\n",
      "  0%|                                                             | 0/30 [00:00<?, ?it/s]\u001b[A\n",
      " 40%|████████████████████▍                              | 12/30 [00:00<00:00, 115.54it/s]\u001b[A"
     ]
    },
    {
     "name": "stdout",
     "output_type": "stream",
     "text": [
      "Epoch 54, loss: 38937533.298282\n"
     ]
    },
    {
     "name": "stderr",
     "output_type": "stream",
     "text": [
      "\n",
      "100%|███████████████████████████████████████████████████| 30/30 [00:00<00:00, 101.47it/s]\u001b[A\n",
      " 56%|████████████████████████████▌                      | 56/100 [00:17<00:13,  3.35it/s]\n",
      "  0%|                                                             | 0/30 [00:00<?, ?it/s]\u001b[A\n",
      " 40%|████████████████████▍                              | 12/30 [00:00<00:00, 115.53it/s]\u001b[A"
     ]
    },
    {
     "name": "stdout",
     "output_type": "stream",
     "text": [
      "Epoch 55, loss: 42404894.367106\n"
     ]
    },
    {
     "name": "stderr",
     "output_type": "stream",
     "text": [
      "\n",
      "100%|███████████████████████████████████████████████████| 30/30 [00:00<00:00, 102.87it/s]\u001b[A\n",
      " 57%|█████████████████████████████                      | 57/100 [00:17<00:12,  3.36it/s]\n",
      "  0%|                                                             | 0/30 [00:00<?, ?it/s]\u001b[A\n",
      " 40%|████████████████████▍                              | 12/30 [00:00<00:00, 115.53it/s]\u001b[A"
     ]
    },
    {
     "name": "stdout",
     "output_type": "stream",
     "text": [
      "Epoch 56, loss: 40903184.684072\n"
     ]
    },
    {
     "name": "stderr",
     "output_type": "stream",
     "text": [
      "\n",
      "100%|███████████████████████████████████████████████████| 30/30 [00:00<00:00, 104.30it/s]\u001b[A\n",
      " 58%|█████████████████████████████▌                     | 58/100 [00:18<00:12,  3.35it/s]\n",
      "  0%|                                                             | 0/30 [00:00<?, ?it/s]\u001b[A\n",
      " 37%|██████████████████▋                                | 11/30 [00:00<00:00, 101.50it/s]\u001b[A"
     ]
    },
    {
     "name": "stdout",
     "output_type": "stream",
     "text": [
      "Epoch 57, loss: 42768105.888076\n"
     ]
    },
    {
     "name": "stderr",
     "output_type": "stream",
     "text": [
      "\n",
      "100%|███████████████████████████████████████████████████| 30/30 [00:00<00:00, 101.31it/s]\u001b[A\n",
      " 59%|██████████████████████████████                     | 59/100 [00:18<00:12,  3.36it/s]\n",
      "  0%|                                                             | 0/30 [00:00<?, ?it/s]\u001b[A\n",
      " 37%|██████████████████▋                                | 11/30 [00:00<00:00, 101.99it/s]\u001b[A"
     ]
    },
    {
     "name": "stdout",
     "output_type": "stream",
     "text": [
      "Epoch 58, loss: 41436405.823966\n"
     ]
    },
    {
     "name": "stderr",
     "output_type": "stream",
     "text": [
      "\n",
      "100%|███████████████████████████████████████████████████| 30/30 [00:00<00:00, 100.13it/s]\u001b[A\n",
      " 60%|██████████████████████████████▌                    | 60/100 [00:18<00:11,  3.34it/s]\n",
      "  0%|                                                             | 0/30 [00:00<?, ?it/s]\u001b[A\n",
      " 37%|██████████████████▋                                | 11/30 [00:00<00:00, 105.91it/s]\u001b[A"
     ]
    },
    {
     "name": "stdout",
     "output_type": "stream",
     "text": [
      "Epoch 59, loss: 37493294.356973\n"
     ]
    },
    {
     "name": "stderr",
     "output_type": "stream",
     "text": [
      "\n",
      "100%|███████████████████████████████████████████████████| 30/30 [00:00<00:00, 102.88it/s]\u001b[A\n",
      " 61%|███████████████████████████████                    | 61/100 [00:19<00:11,  3.35it/s]\n",
      "  0%|                                                             | 0/30 [00:00<?, ?it/s]\u001b[A\n",
      " 37%|██████████████████▋                                | 11/30 [00:00<00:00, 105.91it/s]\u001b[A"
     ]
    },
    {
     "name": "stdout",
     "output_type": "stream",
     "text": [
      "Epoch 60, loss: 42498984.463112\n"
     ]
    },
    {
     "name": "stderr",
     "output_type": "stream",
     "text": [
      "\n",
      "100%|███████████████████████████████████████████████████| 30/30 [00:00<00:00, 100.13it/s]\u001b[A\n",
      " 62%|███████████████████████████████▌                   | 62/100 [00:19<00:11,  3.32it/s]\n",
      "  0%|                                                             | 0/30 [00:00<?, ?it/s]\u001b[A\n",
      " 33%|█████████████████▎                                  | 10/30 [00:00<00:00, 96.28it/s]\u001b[A"
     ]
    },
    {
     "name": "stdout",
     "output_type": "stream",
     "text": [
      "Epoch 61, loss: 43596386.321462\n"
     ]
    },
    {
     "name": "stderr",
     "output_type": "stream",
     "text": [
      "\n",
      " 67%|██████████████████████████████████▋                 | 20/30 [00:00<00:00, 96.28it/s]\u001b[A\n",
      "100%|████████████████████████████████████████████████████| 30/30 [00:00<00:00, 95.06it/s]\u001b[A\n",
      " 63%|████████████████████████████████▏                  | 63/100 [00:19<00:11,  3.26it/s]\n",
      "  0%|                                                             | 0/30 [00:00<?, ?it/s]\u001b[A\n",
      " 33%|█████████████████▎                                  | 10/30 [00:00<00:00, 89.40it/s]\u001b[A"
     ]
    },
    {
     "name": "stdout",
     "output_type": "stream",
     "text": [
      "Epoch 62, loss: 35419973.759468\n"
     ]
    },
    {
     "name": "stderr",
     "output_type": "stream",
     "text": [
      "\n",
      " 67%|██████████████████████████████████▋                 | 20/30 [00:00<00:00, 90.37it/s]\u001b[A\n",
      "100%|████████████████████████████████████████████████████| 30/30 [00:00<00:00, 90.48it/s]\u001b[A\n",
      " 64%|████████████████████████████████▋                  | 64/100 [00:20<00:11,  3.16it/s]\n",
      "  0%|                                                             | 0/30 [00:00<?, ?it/s]\u001b[A\n",
      " 33%|█████████████████▎                                  | 10/30 [00:00<00:00, 96.28it/s]\u001b[A"
     ]
    },
    {
     "name": "stdout",
     "output_type": "stream",
     "text": [
      "Epoch 63, loss: 43965928.887181\n"
     ]
    },
    {
     "name": "stderr",
     "output_type": "stream",
     "text": [
      "\n",
      " 63%|████████████████████████████████▉                   | 19/30 [00:00<00:00, 93.18it/s]\u001b[A\n",
      "100%|████████████████████████████████████████████████████| 30/30 [00:00<00:00, 91.58it/s]\u001b[A\n",
      " 65%|█████████████████████████████████▏                 | 65/100 [00:20<00:11,  3.12it/s]\n",
      "  0%|                                                             | 0/30 [00:00<?, ?it/s]\u001b[A\n",
      " 33%|█████████████████▎                                  | 10/30 [00:00<00:00, 92.69it/s]\u001b[A"
     ]
    },
    {
     "name": "stdout",
     "output_type": "stream",
     "text": [
      "Epoch 64, loss: 42651615.075192\n"
     ]
    },
    {
     "name": "stderr",
     "output_type": "stream",
     "text": [
      "\n",
      " 67%|██████████████████████████████████▋                 | 20/30 [00:00<00:00, 91.69it/s]\u001b[A\n",
      "100%|████████████████████████████████████████████████████| 30/30 [00:00<00:00, 90.48it/s]\u001b[A\n",
      " 66%|█████████████████████████████████▋                 | 66/100 [00:20<00:11,  3.07it/s]\n",
      "  0%|                                                             | 0/30 [00:00<?, ?it/s]\u001b[A\n",
      " 30%|███████████████▉                                     | 9/30 [00:00<00:00, 86.65it/s]\u001b[A"
     ]
    },
    {
     "name": "stdout",
     "output_type": "stream",
     "text": [
      "Epoch 65, loss: 41721826.241564\n"
     ]
    },
    {
     "name": "stderr",
     "output_type": "stream",
     "text": [
      "\n",
      " 63%|████████████████████████████████▉                   | 19/30 [00:00<00:00, 89.33it/s]\u001b[A\n",
      "100%|████████████████████████████████████████████████████| 30/30 [00:00<00:00, 91.59it/s]\u001b[A\n",
      " 67%|██████████████████████████████████▏                | 67/100 [00:21<00:10,  3.04it/s]\n",
      "  0%|                                                             | 0/30 [00:00<?, ?it/s]\u001b[A\n",
      " 33%|█████████████████▎                                  | 10/30 [00:00<00:00, 92.69it/s]\u001b[A"
     ]
    },
    {
     "name": "stdout",
     "output_type": "stream",
     "text": [
      "Epoch 66, loss: 50490677.537247\n"
     ]
    },
    {
     "name": "stderr",
     "output_type": "stream",
     "text": [
      "\n",
      " 63%|████████████████████████████████▉                   | 19/30 [00:00<00:00, 88.65it/s]\u001b[A\n",
      "100%|████████████████████████████████████████████████████| 30/30 [00:00<00:00, 90.48it/s]\u001b[A\n",
      " 68%|██████████████████████████████████▋                | 68/100 [00:21<00:10,  3.03it/s]\n",
      "  0%|                                                             | 0/30 [00:00<?, ?it/s]\u001b[A\n",
      " 30%|███████████████▉                                     | 9/30 [00:00<00:00, 80.46it/s]\u001b[A"
     ]
    },
    {
     "name": "stdout",
     "output_type": "stream",
     "text": [
      "Epoch 67, loss: 51578834.204627\n"
     ]
    },
    {
     "name": "stderr",
     "output_type": "stream",
     "text": [
      "\n",
      " 63%|████████████████████████████████▉                   | 19/30 [00:00<00:00, 84.52it/s]\u001b[A\n",
      "100%|████████████████████████████████████████████████████| 30/30 [00:00<00:00, 91.49it/s]\u001b[A\n",
      " 69%|███████████████████████████████████▏               | 69/100 [00:21<00:10,  3.02it/s]\n",
      "  0%|                                                             | 0/30 [00:00<?, ?it/s]\u001b[A\n",
      " 37%|██████████████████▋                                | 11/30 [00:00<00:00, 101.99it/s]\u001b[A"
     ]
    },
    {
     "name": "stdout",
     "output_type": "stream",
     "text": [
      "Epoch 68, loss: 46890112.005206\n"
     ]
    },
    {
     "name": "stderr",
     "output_type": "stream",
     "text": [
      "\n",
      "100%|███████████████████████████████████████████████████| 30/30 [00:00<00:00, 100.13it/s]\u001b[A\n",
      " 70%|███████████████████████████████████▋               | 70/100 [00:22<00:09,  3.09it/s]\n",
      "  0%|                                                             | 0/30 [00:00<?, ?it/s]\u001b[A\n",
      " 40%|████████████████████▍                              | 12/30 [00:00<00:00, 111.24it/s]\u001b[A"
     ]
    },
    {
     "name": "stdout",
     "output_type": "stream",
     "text": [
      "Epoch 69, loss: 38691296.679698\n"
     ]
    },
    {
     "name": "stderr",
     "output_type": "stream",
     "text": [
      "\n",
      "100%|███████████████████████████████████████████████████| 30/30 [00:00<00:00, 101.49it/s]\u001b[A\n",
      " 71%|████████████████████████████████████▏              | 71/100 [00:22<00:09,  3.15it/s]\n",
      "  0%|                                                             | 0/30 [00:00<?, ?it/s]\u001b[A\n",
      " 37%|██████████████████▋                                | 11/30 [00:00<00:00, 105.88it/s]\u001b[A"
     ]
    },
    {
     "name": "stdout",
     "output_type": "stream",
     "text": [
      "Epoch 70, loss: 42104777.973324\n"
     ]
    },
    {
     "name": "stderr",
     "output_type": "stream",
     "text": [
      "\n",
      "100%|███████████████████████████████████████████████████| 30/30 [00:00<00:00, 102.88it/s]\u001b[A\n",
      " 72%|████████████████████████████████████▋              | 72/100 [00:22<00:08,  3.20it/s]\n",
      "  0%|                                                             | 0/30 [00:00<?, ?it/s]\u001b[A\n",
      " 37%|██████████████████▋                                | 11/30 [00:00<00:00, 105.88it/s]\u001b[A"
     ]
    },
    {
     "name": "stdout",
     "output_type": "stream",
     "text": [
      "Epoch 71, loss: 54457799.975833\n"
     ]
    },
    {
     "name": "stderr",
     "output_type": "stream",
     "text": [
      "\n",
      "100%|███████████████████████████████████████████████████| 30/30 [00:00<00:00, 101.49it/s]\u001b[A\n",
      " 73%|█████████████████████████████████████▏             | 73/100 [00:22<00:08,  3.24it/s]\n",
      "  0%|                                                             | 0/30 [00:00<?, ?it/s]\u001b[A\n",
      " 37%|██████████████████▋                                | 11/30 [00:00<00:00, 105.91it/s]\u001b[A"
     ]
    },
    {
     "name": "stdout",
     "output_type": "stream",
     "text": [
      "Epoch 72, loss: 46342683.296492\n"
     ]
    },
    {
     "name": "stderr",
     "output_type": "stream",
     "text": [
      "\n",
      "100%|████████████████████████████████████████████████████| 30/30 [00:00<00:00, 98.81it/s]\u001b[A\n",
      " 74%|█████████████████████████████████████▋             | 74/100 [00:23<00:08,  3.23it/s]\n",
      "  0%|                                                             | 0/30 [00:00<?, ?it/s]\u001b[A\n",
      " 37%|██████████████████▋                                | 11/30 [00:00<00:00, 105.94it/s]\u001b[A"
     ]
    },
    {
     "name": "stdout",
     "output_type": "stream",
     "text": [
      "Epoch 73, loss: 53066511.760597\n"
     ]
    },
    {
     "name": "stderr",
     "output_type": "stream",
     "text": [
      "\n",
      "100%|████████████████████████████████████████████████████| 30/30 [00:00<00:00, 98.83it/s]\u001b[A\n",
      " 75%|██████████████████████████████████████▎            | 75/100 [00:23<00:07,  3.24it/s]\n",
      "  0%|                                                             | 0/30 [00:00<?, ?it/s]\u001b[A\n",
      " 37%|██████████████████▋                                | 11/30 [00:00<00:00, 101.99it/s]\u001b[A"
     ]
    },
    {
     "name": "stdout",
     "output_type": "stream",
     "text": [
      "Epoch 74, loss: 49826133.620769\n"
     ]
    },
    {
     "name": "stderr",
     "output_type": "stream",
     "text": [
      "\n",
      "100%|███████████████████████████████████████████████████| 30/30 [00:00<00:00, 100.13it/s]\u001b[A\n",
      " 76%|██████████████████████████████████████▊            | 76/100 [00:23<00:07,  3.27it/s]\n",
      "  0%|                                                             | 0/30 [00:00<?, ?it/s]\u001b[A\n",
      " 37%|██████████████████▋                                | 11/30 [00:00<00:00, 105.91it/s]\u001b[A"
     ]
    },
    {
     "name": "stdout",
     "output_type": "stream",
     "text": [
      "Epoch 75, loss: 53821555.967826\n"
     ]
    },
    {
     "name": "stderr",
     "output_type": "stream",
     "text": [
      "\n",
      "100%|███████████████████████████████████████████████████| 30/30 [00:00<00:00, 102.87it/s]\u001b[A\n",
      " 77%|███████████████████████████████████████▎           | 77/100 [00:24<00:06,  3.30it/s]\n",
      "  0%|                                                             | 0/30 [00:00<?, ?it/s]\u001b[A\n",
      " 37%|██████████████████▋                                | 11/30 [00:00<00:00, 101.96it/s]\u001b[A"
     ]
    },
    {
     "name": "stdout",
     "output_type": "stream",
     "text": [
      "Epoch 76, loss: 53910180.262309\n"
     ]
    },
    {
     "name": "stderr",
     "output_type": "stream",
     "text": [
      "\n",
      "100%|████████████████████████████████████████████████████| 30/30 [00:00<00:00, 98.80it/s]\u001b[A\n",
      " 78%|███████████████████████████████████████▊           | 78/100 [00:24<00:06,  3.29it/s]\n",
      "  0%|                                                             | 0/30 [00:00<?, ?it/s]\u001b[A\n",
      " 40%|████████████████████▍                              | 12/30 [00:00<00:00, 111.23it/s]\u001b[A"
     ]
    },
    {
     "name": "stdout",
     "output_type": "stream",
     "text": [
      "Epoch 77, loss: 55949430.950141\n"
     ]
    },
    {
     "name": "stderr",
     "output_type": "stream",
     "text": [
      "\n",
      "100%|███████████████████████████████████████████████████| 30/30 [00:00<00:00, 102.88it/s]\u001b[A\n",
      " 79%|████████████████████████████████████████▎          | 79/100 [00:24<00:06,  3.31it/s]\n",
      "  0%|                                                             | 0/30 [00:00<?, ?it/s]\u001b[A\n",
      " 40%|████████████████████▍                              | 12/30 [00:00<00:00, 111.28it/s]\u001b[A"
     ]
    },
    {
     "name": "stdout",
     "output_type": "stream",
     "text": [
      "Epoch 78, loss: 59326717.165276\n"
     ]
    },
    {
     "name": "stderr",
     "output_type": "stream",
     "text": [
      "\n",
      "100%|███████████████████████████████████████████████████| 30/30 [00:00<00:00, 102.88it/s]\u001b[A\n",
      " 80%|████████████████████████████████████████▊          | 80/100 [00:25<00:06,  3.32it/s]\n",
      "  0%|                                                             | 0/30 [00:00<?, ?it/s]\u001b[A\n",
      " 40%|████████████████████▍                              | 12/30 [00:00<00:00, 115.54it/s]\u001b[A"
     ]
    },
    {
     "name": "stdout",
     "output_type": "stream",
     "text": [
      "Epoch 79, loss: 55818303.015821\n"
     ]
    },
    {
     "name": "stderr",
     "output_type": "stream",
     "text": [
      "\n",
      "100%|███████████████████████████████████████████████████| 30/30 [00:00<00:00, 105.77it/s]\u001b[A\n",
      " 81%|█████████████████████████████████████████▎         | 81/100 [00:25<00:05,  3.37it/s]\n",
      "  0%|                                                             | 0/30 [00:00<?, ?it/s]\u001b[A\n",
      " 40%|████████████████████▍                              | 12/30 [00:00<00:00, 115.53it/s]\u001b[A"
     ]
    },
    {
     "name": "stdout",
     "output_type": "stream",
     "text": [
      "Epoch 80, loss: 53242199.254175\n"
     ]
    },
    {
     "name": "stderr",
     "output_type": "stream",
     "text": [
      "\n",
      "100%|███████████████████████████████████████████████████| 30/30 [00:00<00:00, 102.88it/s]\u001b[A\n",
      " 82%|█████████████████████████████████████████▊         | 82/100 [00:25<00:05,  3.37it/s]\n",
      "  0%|                                                             | 0/30 [00:00<?, ?it/s]\u001b[A\n",
      " 40%|████████████████████▍                              | 12/30 [00:00<00:00, 111.27it/s]\u001b[A"
     ]
    },
    {
     "name": "stdout",
     "output_type": "stream",
     "text": [
      "Epoch 81, loss: 47671797.317715\n"
     ]
    },
    {
     "name": "stderr",
     "output_type": "stream",
     "text": [
      "\n",
      "100%|███████████████████████████████████████████████████| 30/30 [00:00<00:00, 101.49it/s]\u001b[A\n",
      " 83%|██████████████████████████████████████████▎        | 83/100 [00:25<00:05,  3.36it/s]\n",
      "  0%|                                                             | 0/30 [00:00<?, ?it/s]\u001b[A\n",
      " 40%|████████████████████▍                              | 12/30 [00:00<00:00, 107.26it/s]\u001b[A"
     ]
    },
    {
     "name": "stdout",
     "output_type": "stream",
     "text": [
      "Epoch 82, loss: 59008619.460478\n"
     ]
    },
    {
     "name": "stderr",
     "output_type": "stream",
     "text": [
      "\n",
      "100%|███████████████████████████████████████████████████| 30/30 [00:00<00:00, 102.87it/s]\u001b[A\n",
      " 84%|██████████████████████████████████████████▊        | 84/100 [00:26<00:04,  3.35it/s]\n",
      "  0%|                                                             | 0/30 [00:00<?, ?it/s]\u001b[A\n",
      " 40%|████████████████████▍                              | 12/30 [00:00<00:00, 115.54it/s]\u001b[A"
     ]
    },
    {
     "name": "stdout",
     "output_type": "stream",
     "text": [
      "Epoch 83, loss: 59697724.428286\n"
     ]
    },
    {
     "name": "stderr",
     "output_type": "stream",
     "text": [
      "\n",
      "100%|███████████████████████████████████████████████████| 30/30 [00:00<00:00, 102.88it/s]\u001b[A\n",
      " 85%|███████████████████████████████████████████▎       | 85/100 [00:26<00:04,  3.36it/s]\n",
      "  0%|                                                             | 0/30 [00:00<?, ?it/s]\u001b[A\n",
      " 37%|██████████████████▋                                | 11/30 [00:00<00:00, 101.99it/s]\u001b[A"
     ]
    },
    {
     "name": "stdout",
     "output_type": "stream",
     "text": [
      "Epoch 84, loss: 63373193.799742\n"
     ]
    },
    {
     "name": "stderr",
     "output_type": "stream",
     "text": [
      "\n",
      "100%|███████████████████████████████████████████████████| 30/30 [00:00<00:00, 101.47it/s]\u001b[A\n",
      " 86%|███████████████████████████████████████████▊       | 86/100 [00:26<00:04,  3.36it/s]\n",
      "  0%|                                                             | 0/30 [00:00<?, ?it/s]\u001b[A\n",
      " 37%|██████████████████▋                                | 11/30 [00:00<00:00, 101.94it/s]\u001b[A"
     ]
    },
    {
     "name": "stdout",
     "output_type": "stream",
     "text": [
      "Epoch 85, loss: 57074189.390358\n"
     ]
    },
    {
     "name": "stderr",
     "output_type": "stream",
     "text": [
      "\n",
      "100%|███████████████████████████████████████████████████| 30/30 [00:00<00:00, 102.87it/s]\u001b[A\n",
      " 87%|████████████████████████████████████████████▎      | 87/100 [00:27<00:03,  3.35it/s]\n",
      "  0%|                                                             | 0/30 [00:00<?, ?it/s]\u001b[A\n",
      " 40%|████████████████████▍                              | 12/30 [00:00<00:00, 111.23it/s]\u001b[A"
     ]
    },
    {
     "name": "stdout",
     "output_type": "stream",
     "text": [
      "Epoch 86, loss: 62653048.905335\n"
     ]
    },
    {
     "name": "stderr",
     "output_type": "stream",
     "text": [
      "\n",
      "100%|███████████████████████████████████████████████████| 30/30 [00:00<00:00, 104.30it/s]\u001b[A\n",
      " 88%|████████████████████████████████████████████▉      | 88/100 [00:27<00:03,  3.37it/s]\n",
      "  0%|                                                             | 0/30 [00:00<?, ?it/s]\u001b[A\n",
      " 37%|██████████████████▋                                | 11/30 [00:00<00:00, 105.85it/s]\u001b[A"
     ]
    },
    {
     "name": "stdout",
     "output_type": "stream",
     "text": [
      "Epoch 87, loss: 65036259.620200\n"
     ]
    },
    {
     "name": "stderr",
     "output_type": "stream",
     "text": [
      "\n",
      "100%|███████████████████████████████████████████████████| 30/30 [00:00<00:00, 104.31it/s]\u001b[A\n",
      " 89%|█████████████████████████████████████████████▍     | 89/100 [00:27<00:03,  3.38it/s]\n",
      "  0%|                                                             | 0/30 [00:00<?, ?it/s]\u001b[A\n",
      " 40%|████████████████████▍                              | 12/30 [00:00<00:00, 111.25it/s]\u001b[A"
     ]
    },
    {
     "name": "stdout",
     "output_type": "stream",
     "text": [
      "Epoch 88, loss: 53094924.792314\n"
     ]
    },
    {
     "name": "stderr",
     "output_type": "stream",
     "text": [
      "\n",
      "100%|███████████████████████████████████████████████████| 30/30 [00:00<00:00, 100.12it/s]\u001b[A\n",
      " 90%|█████████████████████████████████████████████▉     | 90/100 [00:28<00:02,  3.35it/s]\n",
      "  0%|                                                             | 0/30 [00:00<?, ?it/s]\u001b[A\n",
      " 37%|██████████████████▋                                | 11/30 [00:00<00:00, 105.88it/s]\u001b[A"
     ]
    },
    {
     "name": "stdout",
     "output_type": "stream",
     "text": [
      "Epoch 89, loss: 53785686.332420\n"
     ]
    },
    {
     "name": "stderr",
     "output_type": "stream",
     "text": [
      "\n",
      "100%|███████████████████████████████████████████████████| 30/30 [00:00<00:00, 101.48it/s]\u001b[A\n",
      " 91%|██████████████████████████████████████████████▍    | 91/100 [00:28<00:02,  3.35it/s]\n",
      "  0%|                                                             | 0/30 [00:00<?, ?it/s]\u001b[A\n",
      " 37%|██████████████████▋                                | 11/30 [00:00<00:00, 101.93it/s]\u001b[A"
     ]
    },
    {
     "name": "stdout",
     "output_type": "stream",
     "text": [
      "Epoch 90, loss: 62214949.376226\n"
     ]
    },
    {
     "name": "stderr",
     "output_type": "stream",
     "text": [
      "\n",
      "100%|███████████████████████████████████████████████████| 30/30 [00:00<00:00, 101.47it/s]\u001b[A\n",
      " 92%|██████████████████████████████████████████████▉    | 92/100 [00:28<00:02,  3.34it/s]\n",
      "  0%|                                                             | 0/30 [00:00<?, ?it/s]\u001b[A\n",
      " 37%|██████████████████▋                                | 11/30 [00:00<00:00, 101.99it/s]\u001b[A"
     ]
    },
    {
     "name": "stdout",
     "output_type": "stream",
     "text": [
      "Epoch 91, loss: 60366429.323921\n"
     ]
    },
    {
     "name": "stderr",
     "output_type": "stream",
     "text": [
      "\n",
      "100%|████████████████████████████████████████████████████| 30/30 [00:00<00:00, 97.52it/s]\u001b[A\n",
      " 93%|███████████████████████████████████████████████▍   | 93/100 [00:28<00:02,  3.30it/s]\n",
      "  0%|                                                             | 0/30 [00:00<?, ?it/s]\u001b[A\n",
      " 37%|██████████████████▋                                | 11/30 [00:00<00:00, 105.88it/s]\u001b[A"
     ]
    },
    {
     "name": "stdout",
     "output_type": "stream",
     "text": [
      "Epoch 92, loss: 62895163.468483\n"
     ]
    },
    {
     "name": "stderr",
     "output_type": "stream",
     "text": [
      "\n",
      "100%|███████████████████████████████████████████████████| 30/30 [00:00<00:00, 101.48it/s]\u001b[A\n",
      " 94%|███████████████████████████████████████████████▉   | 94/100 [00:29<00:01,  3.31it/s]\n",
      "  0%|                                                             | 0/30 [00:00<?, ?it/s]\u001b[A\n",
      " 40%|████████████████████▍                              | 12/30 [00:00<00:00, 111.26it/s]\u001b[A"
     ]
    },
    {
     "name": "stdout",
     "output_type": "stream",
     "text": [
      "Epoch 93, loss: 67320804.590993\n"
     ]
    },
    {
     "name": "stderr",
     "output_type": "stream",
     "text": [
      "\n",
      "100%|███████████████████████████████████████████████████| 30/30 [00:00<00:00, 105.77it/s]\u001b[A\n",
      " 95%|████████████████████████████████████████████████▍  | 95/100 [00:29<00:01,  3.36it/s]\n",
      "  0%|                                                             | 0/30 [00:00<?, ?it/s]\u001b[A\n",
      " 40%|████████████████████▍                              | 12/30 [00:00<00:00, 111.26it/s]\u001b[A"
     ]
    },
    {
     "name": "stdout",
     "output_type": "stream",
     "text": [
      "Epoch 94, loss: 59656112.321856\n"
     ]
    },
    {
     "name": "stderr",
     "output_type": "stream",
     "text": [
      "\n",
      "100%|███████████████████████████████████████████████████| 30/30 [00:00<00:00, 105.77it/s]\u001b[A\n",
      " 96%|████████████████████████████████████████████████▉  | 96/100 [00:29<00:01,  3.38it/s]\n",
      "  0%|                                                             | 0/30 [00:00<?, ?it/s]\u001b[A\n",
      " 40%|████████████████████▍                              | 12/30 [00:00<00:00, 115.54it/s]\u001b[A"
     ]
    },
    {
     "name": "stdout",
     "output_type": "stream",
     "text": [
      "Epoch 95, loss: 65151649.879398\n"
     ]
    },
    {
     "name": "stderr",
     "output_type": "stream",
     "text": [
      "\n",
      "100%|███████████████████████████████████████████████████| 30/30 [00:00<00:00, 102.87it/s]\u001b[A\n",
      " 97%|█████████████████████████████████████████████████▍ | 97/100 [00:30<00:00,  3.40it/s]\n",
      "  0%|                                                             | 0/30 [00:00<?, ?it/s]\u001b[A\n",
      " 40%|████████████████████▍                              | 12/30 [00:00<00:00, 111.26it/s]\u001b[A"
     ]
    },
    {
     "name": "stdout",
     "output_type": "stream",
     "text": [
      "Epoch 96, loss: 59675896.886487\n"
     ]
    },
    {
     "name": "stderr",
     "output_type": "stream",
     "text": [
      "\n",
      "100%|███████████████████████████████████████████████████| 30/30 [00:00<00:00, 101.49it/s]\u001b[A\n",
      " 98%|█████████████████████████████████████████████████▉ | 98/100 [00:30<00:00,  3.35it/s]\n",
      "  0%|                                                             | 0/30 [00:00<?, ?it/s]\u001b[A\n",
      " 40%|████████████████████▍                              | 12/30 [00:00<00:00, 107.30it/s]\u001b[A"
     ]
    },
    {
     "name": "stdout",
     "output_type": "stream",
     "text": [
      "Epoch 97, loss: 65515934.864859\n"
     ]
    },
    {
     "name": "stderr",
     "output_type": "stream",
     "text": [
      "\n",
      "100%|███████████████████████████████████████████████████| 30/30 [00:00<00:00, 102.88it/s]\u001b[A\n",
      " 99%|██████████████████████████████████████████████████▍| 99/100 [00:30<00:00,  3.36it/s]\n",
      "  0%|                                                             | 0/30 [00:00<?, ?it/s]\u001b[A\n",
      " 37%|██████████████████▋                                | 11/30 [00:00<00:00, 105.88it/s]\u001b[A"
     ]
    },
    {
     "name": "stdout",
     "output_type": "stream",
     "text": [
      "Epoch 98, loss: 70706276.576696\n"
     ]
    },
    {
     "name": "stderr",
     "output_type": "stream",
     "text": [
      "\n",
      "100%|███████████████████████████████████████████████████| 30/30 [00:00<00:00, 102.86it/s]\u001b[A\n",
      "100%|██████████████████████████████████████████████████| 100/100 [00:31<00:00,  3.22it/s]\n",
      "  0%|                                                            | 0/100 [00:00<?, ?it/s]\n",
      "  0%|                                                             | 0/30 [00:00<?, ?it/s]\u001b[A\n",
      " 33%|█████████████████▎                                  | 10/30 [00:00<00:00, 96.28it/s]\u001b[A"
     ]
    },
    {
     "name": "stdout",
     "output_type": "stream",
     "text": [
      "Epoch 99, loss: 60361365.361121\n"
     ]
    },
    {
     "name": "stderr",
     "output_type": "stream",
     "text": [
      "\n",
      "100%|████████████████████████████████████████████████████| 30/30 [00:00<00:00, 98.81it/s]\u001b[A\n",
      "  1%|▌                                                   | 1/100 [00:00<00:30,  3.25it/s]\n",
      "  0%|                                                             | 0/30 [00:00<?, ?it/s]\u001b[A\n",
      " 37%|███████████████████                                 | 11/30 [00:00<00:00, 98.34it/s]\u001b[A"
     ]
    },
    {
     "name": "stdout",
     "output_type": "stream",
     "text": [
      "Epoch 0, loss: 2761378.966782\n"
     ]
    },
    {
     "name": "stderr",
     "output_type": "stream",
     "text": [
      "\n",
      "100%|███████████████████████████████████████████████████| 30/30 [00:00<00:00, 100.12it/s]\u001b[A\n",
      "  2%|█                                                   | 2/100 [00:00<00:30,  3.26it/s]\n",
      "  0%|                                                             | 0/30 [00:00<?, ?it/s]\u001b[A\n",
      " 33%|█████████████████▎                                  | 10/30 [00:00<00:00, 96.28it/s]\u001b[A\n"
     ]
    },
    {
     "name": "stdout",
     "output_type": "stream",
     "text": [
      "Epoch 1, loss: 2700300.685092\n"
     ]
    },
    {
     "name": "stderr",
     "output_type": "stream",
     "text": [
      "100%|███████████████████████████████████████████████████| 30/30 [00:00<00:00, 101.47it/s]\u001b[A\n",
      "  3%|█▌                                                  | 3/100 [00:00<00:29,  3.29it/s]\n",
      "  0%|                                                             | 0/30 [00:00<?, ?it/s]\u001b[A\n",
      " 37%|███████████████████                                 | 11/30 [00:00<00:00, 98.34it/s]\u001b[A"
     ]
    },
    {
     "name": "stdout",
     "output_type": "stream",
     "text": [
      "Epoch 2, loss: 2743748.076899\n"
     ]
    },
    {
     "name": "stderr",
     "output_type": "stream",
     "text": [
      "\n",
      "100%|████████████████████████████████████████████████████| 30/30 [00:00<00:00, 98.81it/s]\u001b[A\n",
      "  4%|██                                                  | 4/100 [00:01<00:29,  3.28it/s]\n",
      "  0%|                                                             | 0/30 [00:00<?, ?it/s]\u001b[A\n",
      " 37%|██████████████████▋                                | 11/30 [00:00<00:00, 109.62it/s]\u001b[A\n"
     ]
    },
    {
     "name": "stdout",
     "output_type": "stream",
     "text": [
      "Epoch 3, loss: 2608593.767641\n"
     ]
    },
    {
     "name": "stderr",
     "output_type": "stream",
     "text": [
      "100%|███████████████████████████████████████████████████| 30/30 [00:00<00:00, 102.71it/s]\u001b[A\n",
      "  5%|██▌                                                 | 5/100 [00:01<00:28,  3.29it/s]\n",
      "  0%|                                                             | 0/30 [00:00<?, ?it/s]\u001b[A\n",
      " 37%|██████████████████▋                                | 11/30 [00:00<00:00, 105.91it/s]\u001b[A"
     ]
    },
    {
     "name": "stdout",
     "output_type": "stream",
     "text": [
      "Epoch 4, loss: 2761523.375067\n"
     ]
    },
    {
     "name": "stderr",
     "output_type": "stream",
     "text": [
      "\n",
      "100%|███████████████████████████████████████████████████| 30/30 [00:00<00:00, 102.88it/s]\u001b[A\n",
      "  6%|███                                                 | 6/100 [00:01<00:28,  3.32it/s]\n",
      "  0%|                                                             | 0/30 [00:00<?, ?it/s]\u001b[A\n",
      " 37%|██████████████████▋                                | 11/30 [00:00<00:00, 101.99it/s]\u001b[A"
     ]
    },
    {
     "name": "stdout",
     "output_type": "stream",
     "text": [
      "Epoch 5, loss: 3022965.202138\n"
     ]
    },
    {
     "name": "stderr",
     "output_type": "stream",
     "text": [
      "\n",
      "100%|████████████████████████████████████████████████████| 30/30 [00:00<00:00, 97.53it/s]\u001b[A\n",
      "  7%|███▋                                                | 7/100 [00:02<00:28,  3.29it/s]\n",
      "  0%|                                                             | 0/30 [00:00<?, ?it/s]\u001b[A\n",
      " 37%|██████████████████▋                                | 11/30 [00:00<00:00, 101.98it/s]\u001b[A"
     ]
    },
    {
     "name": "stdout",
     "output_type": "stream",
     "text": [
      "Epoch 6, loss: 2738574.123718\n"
     ]
    },
    {
     "name": "stderr",
     "output_type": "stream",
     "text": [
      "\n",
      "100%|███████████████████████████████████████████████████| 30/30 [00:00<00:00, 101.49it/s]\u001b[A\n",
      "  8%|████▏                                               | 8/100 [00:02<00:27,  3.30it/s]\n",
      "  0%|                                                             | 0/30 [00:00<?, ?it/s]\u001b[A\n",
      " 33%|█████████████████▎                                  | 10/30 [00:00<00:00, 96.28it/s]\u001b[A"
     ]
    },
    {
     "name": "stdout",
     "output_type": "stream",
     "text": [
      "Epoch 7, loss: 2822711.175534\n"
     ]
    },
    {
     "name": "stderr",
     "output_type": "stream",
     "text": [
      "\n",
      "100%|████████████████████████████████████████████████████| 30/30 [00:00<00:00, 98.82it/s]\u001b[A\n",
      "  9%|████▋                                               | 9/100 [00:02<00:27,  3.29it/s]\n",
      "  0%|                                                             | 0/30 [00:00<?, ?it/s]\u001b[A\n",
      " 37%|██████████████████▋                                | 11/30 [00:00<00:00, 101.99it/s]\u001b[A"
     ]
    },
    {
     "name": "stdout",
     "output_type": "stream",
     "text": [
      "Epoch 8, loss: 2942289.068435\n"
     ]
    },
    {
     "name": "stderr",
     "output_type": "stream",
     "text": [
      "\n",
      "100%|████████████████████████████████████████████████████| 30/30 [00:00<00:00, 98.82it/s]\u001b[A\n",
      " 10%|█████                                              | 10/100 [00:03<00:27,  3.28it/s]\n",
      "  0%|                                                             | 0/30 [00:00<?, ?it/s]\u001b[A\n",
      " 37%|██████████████████▋                                | 11/30 [00:00<00:00, 105.91it/s]\u001b[A"
     ]
    },
    {
     "name": "stdout",
     "output_type": "stream",
     "text": [
      "Epoch 9, loss: 2872369.671942\n"
     ]
    },
    {
     "name": "stderr",
     "output_type": "stream",
     "text": [
      "\n",
      "100%|███████████████████████████████████████████████████| 30/30 [00:00<00:00, 102.88it/s]\u001b[A\n",
      " 11%|█████▌                                             | 11/100 [00:03<00:26,  3.31it/s]\n",
      "  0%|                                                             | 0/30 [00:00<?, ?it/s]\u001b[A\n",
      " 37%|██████████████████▋                                | 11/30 [00:00<00:00, 101.99it/s]\u001b[A"
     ]
    },
    {
     "name": "stdout",
     "output_type": "stream",
     "text": [
      "Epoch 10, loss: 3000749.247167\n"
     ]
    },
    {
     "name": "stderr",
     "output_type": "stream",
     "text": [
      "\n",
      "100%|███████████████████████████████████████████████████| 30/30 [00:00<00:00, 101.48it/s]\u001b[A\n",
      " 12%|██████                                             | 12/100 [00:03<00:26,  3.32it/s]\n",
      "  0%|                                                             | 0/30 [00:00<?, ?it/s]\u001b[A\n",
      " 40%|████████████████████▍                              | 12/30 [00:00<00:00, 111.26it/s]\u001b[A"
     ]
    },
    {
     "name": "stdout",
     "output_type": "stream",
     "text": [
      "Epoch 11, loss: 2863003.542822\n"
     ]
    },
    {
     "name": "stderr",
     "output_type": "stream",
     "text": [
      "\n",
      "100%|███████████████████████████████████████████████████| 30/30 [00:00<00:00, 104.30it/s]\u001b[A\n",
      " 13%|██████▋                                            | 13/100 [00:03<00:25,  3.35it/s]\n",
      "  0%|                                                             | 0/30 [00:00<?, ?it/s]\u001b[A\n",
      " 37%|██████████████████▋                                | 11/30 [00:00<00:00, 105.91it/s]\u001b[A"
     ]
    },
    {
     "name": "stdout",
     "output_type": "stream",
     "text": [
      "Epoch 12, loss: 3112632.209966\n"
     ]
    },
    {
     "name": "stderr",
     "output_type": "stream",
     "text": [
      "\n",
      "100%|███████████████████████████████████████████████████| 30/30 [00:00<00:00, 102.88it/s]\u001b[A\n",
      " 14%|███████▏                                           | 14/100 [00:04<00:25,  3.36it/s]\n",
      "  0%|                                                             | 0/30 [00:00<?, ?it/s]\u001b[A\n",
      " 37%|██████████████████▋                                | 11/30 [00:00<00:00, 105.91it/s]\u001b[A"
     ]
    },
    {
     "name": "stdout",
     "output_type": "stream",
     "text": [
      "Epoch 13, loss: 2892319.325386\n"
     ]
    },
    {
     "name": "stderr",
     "output_type": "stream",
     "text": [
      "\n",
      "100%|████████████████████████████████████████████████████| 30/30 [00:00<00:00, 98.81it/s]\u001b[A\n",
      " 15%|███████▋                                           | 15/100 [00:04<00:25,  3.33it/s]\n",
      "  0%|                                                             | 0/30 [00:00<?, ?it/s]\u001b[A\n",
      " 40%|████████████████████▍                              | 12/30 [00:00<00:00, 111.26it/s]\u001b[A"
     ]
    },
    {
     "name": "stdout",
     "output_type": "stream",
     "text": [
      "Epoch 14, loss: 3413716.075626\n"
     ]
    },
    {
     "name": "stderr",
     "output_type": "stream",
     "text": [
      "\n",
      "100%|███████████████████████████████████████████████████| 30/30 [00:00<00:00, 100.11it/s]\u001b[A\n",
      " 16%|████████▏                                          | 16/100 [00:04<00:25,  3.32it/s]\n",
      "  0%|                                                             | 0/30 [00:00<?, ?it/s]\u001b[A\n",
      " 37%|██████████████████▋                                | 11/30 [00:00<00:00, 105.91it/s]\u001b[A"
     ]
    },
    {
     "name": "stdout",
     "output_type": "stream",
     "text": [
      "Epoch 15, loss: 3141819.291408\n"
     ]
    },
    {
     "name": "stderr",
     "output_type": "stream",
     "text": [
      "\n",
      "100%|███████████████████████████████████████████████████| 30/30 [00:00<00:00, 100.13it/s]\u001b[A\n",
      " 17%|████████▋                                          | 17/100 [00:05<00:25,  3.31it/s]\n",
      "  0%|                                                             | 0/30 [00:00<?, ?it/s]\u001b[A\n",
      " 37%|██████████████████▋                                | 11/30 [00:00<00:00, 105.94it/s]\u001b[A"
     ]
    },
    {
     "name": "stdout",
     "output_type": "stream",
     "text": [
      "Epoch 16, loss: 3199477.395577\n"
     ]
    },
    {
     "name": "stderr",
     "output_type": "stream",
     "text": [
      "\n",
      "100%|███████████████████████████████████████████████████| 30/30 [00:00<00:00, 101.50it/s]\u001b[A\n",
      " 18%|█████████▏                                         | 18/100 [00:05<00:24,  3.32it/s]\n",
      "  0%|                                                             | 0/30 [00:00<?, ?it/s]\u001b[A\n",
      " 40%|████████████████████▍                              | 12/30 [00:00<00:00, 111.26it/s]\u001b[A"
     ]
    },
    {
     "name": "stdout",
     "output_type": "stream",
     "text": [
      "Epoch 17, loss: 3050770.251832\n"
     ]
    },
    {
     "name": "stderr",
     "output_type": "stream",
     "text": [
      "\n",
      "100%|███████████████████████████████████████████████████| 30/30 [00:00<00:00, 101.49it/s]\u001b[A\n",
      " 19%|█████████▋                                         | 19/100 [00:05<00:24,  3.31it/s]\n",
      "  0%|                                                             | 0/30 [00:00<?, ?it/s]\u001b[A\n",
      " 37%|██████████████████▋                                | 11/30 [00:00<00:00, 105.91it/s]\u001b[A"
     ]
    },
    {
     "name": "stdout",
     "output_type": "stream",
     "text": [
      "Epoch 18, loss: 2917061.477868\n"
     ]
    },
    {
     "name": "stderr",
     "output_type": "stream",
     "text": [
      "\n",
      "100%|███████████████████████████████████████████████████| 30/30 [00:00<00:00, 105.77it/s]\u001b[A\n",
      " 20%|██████████▏                                        | 20/100 [00:06<00:23,  3.35it/s]\n",
      "  0%|                                                             | 0/30 [00:00<?, ?it/s]\u001b[A\n",
      " 37%|██████████████████▋                                | 11/30 [00:00<00:00, 105.91it/s]\u001b[A"
     ]
    },
    {
     "name": "stdout",
     "output_type": "stream",
     "text": [
      "Epoch 19, loss: 3270480.469571\n"
     ]
    },
    {
     "name": "stderr",
     "output_type": "stream",
     "text": [
      "\n",
      "100%|███████████████████████████████████████████████████| 30/30 [00:00<00:00, 102.88it/s]\u001b[A\n",
      " 21%|██████████▋                                        | 21/100 [00:06<00:23,  3.36it/s]\n",
      "  0%|                                                             | 0/30 [00:00<?, ?it/s]\u001b[A\n",
      " 37%|██████████████████▋                                | 11/30 [00:00<00:00, 105.91it/s]\u001b[A"
     ]
    },
    {
     "name": "stdout",
     "output_type": "stream",
     "text": [
      "Epoch 20, loss: 3096613.869727\n"
     ]
    },
    {
     "name": "stderr",
     "output_type": "stream",
     "text": [
      "\n",
      "100%|███████████████████████████████████████████████████| 30/30 [00:00<00:00, 101.49it/s]\u001b[A\n",
      " 22%|███████████▏                                       | 22/100 [00:06<00:23,  3.35it/s]\n",
      "  0%|                                                             | 0/30 [00:00<?, ?it/s]\u001b[A\n",
      " 37%|██████████████████▋                                | 11/30 [00:00<00:00, 101.98it/s]\u001b[A"
     ]
    },
    {
     "name": "stdout",
     "output_type": "stream",
     "text": [
      "Epoch 21, loss: 3284386.088778\n"
     ]
    },
    {
     "name": "stderr",
     "output_type": "stream",
     "text": [
      "\n",
      "100%|███████████████████████████████████████████████████| 30/30 [00:00<00:00, 100.13it/s]\u001b[A\n",
      " 23%|███████████▋                                       | 23/100 [00:06<00:23,  3.33it/s]\n",
      "  0%|                                                             | 0/30 [00:00<?, ?it/s]\u001b[A\n",
      " 37%|██████████████████▋                                | 11/30 [00:00<00:00, 101.99it/s]\u001b[A"
     ]
    },
    {
     "name": "stdout",
     "output_type": "stream",
     "text": [
      "Epoch 22, loss: 3374207.285205\n"
     ]
    },
    {
     "name": "stderr",
     "output_type": "stream",
     "text": [
      "\n",
      "100%|███████████████████████████████████████████████████| 30/30 [00:00<00:00, 100.13it/s]\u001b[A\n",
      " 24%|████████████▏                                      | 24/100 [00:07<00:22,  3.32it/s]\n",
      "  0%|                                                             | 0/30 [00:00<?, ?it/s]\u001b[A\n",
      " 40%|████████████████████▍                              | 12/30 [00:00<00:00, 111.26it/s]\u001b[A"
     ]
    },
    {
     "name": "stdout",
     "output_type": "stream",
     "text": [
      "Epoch 23, loss: 3652984.675442\n"
     ]
    },
    {
     "name": "stderr",
     "output_type": "stream",
     "text": [
      "\n",
      "100%|███████████████████████████████████████████████████| 30/30 [00:00<00:00, 101.49it/s]\u001b[A\n",
      " 25%|████████████▊                                      | 25/100 [00:07<00:22,  3.33it/s]\n",
      "  0%|                                                             | 0/30 [00:00<?, ?it/s]\u001b[A\n",
      " 40%|████████████████████▍                              | 12/30 [00:00<00:00, 111.26it/s]\u001b[A"
     ]
    },
    {
     "name": "stdout",
     "output_type": "stream",
     "text": [
      "Epoch 24, loss: 3363504.564713\n"
     ]
    },
    {
     "name": "stderr",
     "output_type": "stream",
     "text": [
      "\n",
      "100%|███████████████████████████████████████████████████| 30/30 [00:00<00:00, 104.31it/s]\u001b[A\n",
      " 26%|█████████████▎                                     | 26/100 [00:07<00:22,  3.34it/s]\n",
      "  0%|                                                             | 0/30 [00:00<?, ?it/s]\u001b[A\n",
      " 37%|██████████████████▋                                | 11/30 [00:00<00:00, 105.91it/s]\u001b[A"
     ]
    },
    {
     "name": "stdout",
     "output_type": "stream",
     "text": [
      "Epoch 25, loss: 3914271.251892\n"
     ]
    },
    {
     "name": "stderr",
     "output_type": "stream",
     "text": [
      "\n",
      "100%|███████████████████████████████████████████████████| 30/30 [00:00<00:00, 102.22it/s]\u001b[A\n",
      " 27%|█████████████▊                                     | 27/100 [00:08<00:21,  3.35it/s]\n",
      "  0%|                                                             | 0/30 [00:00<?, ?it/s]\u001b[A\n",
      " 37%|██████████████████▋                                | 11/30 [00:00<00:00, 101.96it/s]\u001b[A"
     ]
    },
    {
     "name": "stdout",
     "output_type": "stream",
     "text": [
      "Epoch 26, loss: 3714760.057017\n"
     ]
    },
    {
     "name": "stderr",
     "output_type": "stream",
     "text": [
      "\n",
      "100%|████████████████████████████████████████████████████| 30/30 [00:00<00:00, 97.52it/s]\u001b[A\n",
      " 28%|██████████████▎                                    | 28/100 [00:08<00:21,  3.31it/s]\n",
      "  0%|                                                             | 0/30 [00:00<?, ?it/s]\u001b[A\n",
      " 40%|████████████████████▍                              | 12/30 [00:00<00:00, 115.54it/s]\u001b[A"
     ]
    },
    {
     "name": "stdout",
     "output_type": "stream",
     "text": [
      "Epoch 27, loss: 3686609.710609\n"
     ]
    },
    {
     "name": "stderr",
     "output_type": "stream",
     "text": [
      "\n",
      "100%|███████████████████████████████████████████████████| 30/30 [00:00<00:00, 102.88it/s]\u001b[A\n",
      " 29%|██████████████▊                                    | 29/100 [00:08<00:21,  3.32it/s]\n",
      "  0%|                                                             | 0/30 [00:00<?, ?it/s]\u001b[A\n",
      " 37%|██████████████████▋                                | 11/30 [00:00<00:00, 105.89it/s]\u001b[A\n"
     ]
    },
    {
     "name": "stdout",
     "output_type": "stream",
     "text": [
      "Epoch 28, loss: 3782287.485279\n"
     ]
    },
    {
     "name": "stderr",
     "output_type": "stream",
     "text": [
      "100%|███████████████████████████████████████████████████| 30/30 [00:00<00:00, 101.49it/s]\u001b[A\n",
      " 30%|███████████████▎                                   | 30/100 [00:09<00:21,  3.32it/s]\n",
      "  0%|                                                             | 0/30 [00:00<?, ?it/s]\u001b[A\n",
      " 37%|██████████████████▋                                | 11/30 [00:00<00:00, 105.43it/s]\u001b[A"
     ]
    },
    {
     "name": "stdout",
     "output_type": "stream",
     "text": [
      "Epoch 29, loss: 3790178.578874\n"
     ]
    },
    {
     "name": "stderr",
     "output_type": "stream",
     "text": [
      "\n",
      "100%|████████████████████████████████████████████████████| 30/30 [00:00<00:00, 99.99it/s]\u001b[A\n",
      " 31%|███████████████▊                                   | 31/100 [00:09<00:20,  3.31it/s]\n",
      "  0%|                                                             | 0/30 [00:00<?, ?it/s]\u001b[A\n",
      " 37%|██████████████████▋                                | 11/30 [00:00<00:00, 105.91it/s]\u001b[A"
     ]
    },
    {
     "name": "stdout",
     "output_type": "stream",
     "text": [
      "Epoch 30, loss: 4328233.090526\n"
     ]
    },
    {
     "name": "stderr",
     "output_type": "stream",
     "text": [
      "\n",
      "100%|███████████████████████████████████████████████████| 30/30 [00:00<00:00, 102.88it/s]\u001b[A\n",
      " 32%|████████████████▎                                  | 32/100 [00:09<00:20,  3.33it/s]\n",
      "  0%|                                                             | 0/30 [00:00<?, ?it/s]\u001b[A\n",
      " 37%|██████████████████▋                                | 11/30 [00:00<00:00, 101.99it/s]\u001b[A"
     ]
    },
    {
     "name": "stdout",
     "output_type": "stream",
     "text": [
      "Epoch 31, loss: 4110379.263685\n"
     ]
    },
    {
     "name": "stderr",
     "output_type": "stream",
     "text": [
      "\n",
      "100%|████████████████████████████████████████████████████| 30/30 [00:00<00:00, 97.53it/s]\u001b[A\n",
      " 33%|████████████████▊                                  | 33/100 [00:09<00:20,  3.28it/s]\n",
      "  0%|                                                             | 0/30 [00:00<?, ?it/s]\u001b[A\n",
      " 37%|██████████████████▋                                | 11/30 [00:00<00:00, 105.91it/s]\u001b[A"
     ]
    },
    {
     "name": "stdout",
     "output_type": "stream",
     "text": [
      "Epoch 32, loss: 4167740.916318\n"
     ]
    },
    {
     "name": "stderr",
     "output_type": "stream",
     "text": [
      "\n",
      "100%|███████████████████████████████████████████████████| 30/30 [00:00<00:00, 100.13it/s]\u001b[A\n",
      " 34%|█████████████████▎                                 | 34/100 [00:10<00:20,  3.29it/s]\n",
      "  0%|                                                             | 0/30 [00:00<?, ?it/s]\u001b[A\n",
      " 40%|████████████████████▍                              | 12/30 [00:00<00:00, 115.53it/s]\u001b[A"
     ]
    },
    {
     "name": "stdout",
     "output_type": "stream",
     "text": [
      "Epoch 33, loss: 3975315.689949\n"
     ]
    },
    {
     "name": "stderr",
     "output_type": "stream",
     "text": [
      "\n",
      "100%|███████████████████████████████████████████████████| 30/30 [00:00<00:00, 105.77it/s]\u001b[A\n",
      " 35%|█████████████████▊                                 | 35/100 [00:10<00:19,  3.34it/s]\n",
      "  0%|                                                             | 0/30 [00:00<?, ?it/s]\u001b[A\n",
      " 37%|██████████████████▋                                | 11/30 [00:00<00:00, 105.92it/s]\u001b[A"
     ]
    },
    {
     "name": "stdout",
     "output_type": "stream",
     "text": [
      "Epoch 34, loss: 3988786.499996\n"
     ]
    },
    {
     "name": "stderr",
     "output_type": "stream",
     "text": [
      "\n",
      "100%|███████████████████████████████████████████████████| 30/30 [00:00<00:00, 101.49it/s]\u001b[A\n",
      " 36%|██████████████████▎                                | 36/100 [00:10<00:19,  3.34it/s]\n",
      "  0%|                                                             | 0/30 [00:00<?, ?it/s]\u001b[A\n",
      " 40%|████████████████████▍                              | 12/30 [00:00<00:00, 115.54it/s]\u001b[A"
     ]
    },
    {
     "name": "stdout",
     "output_type": "stream",
     "text": [
      "Epoch 35, loss: 3992256.621435\n"
     ]
    },
    {
     "name": "stderr",
     "output_type": "stream",
     "text": [
      "\n",
      "100%|███████████████████████████████████████████████████| 30/30 [00:00<00:00, 102.88it/s]\u001b[A\n",
      " 37%|██████████████████▊                                | 37/100 [00:11<00:18,  3.34it/s]\n",
      "  0%|                                                             | 0/30 [00:00<?, ?it/s]\u001b[A\n",
      " 40%|████████████████████▍                              | 12/30 [00:00<00:00, 111.26it/s]\u001b[A"
     ]
    },
    {
     "name": "stdout",
     "output_type": "stream",
     "text": [
      "Epoch 36, loss: 4223154.287998\n"
     ]
    },
    {
     "name": "stderr",
     "output_type": "stream",
     "text": [
      "\n",
      "100%|███████████████████████████████████████████████████| 30/30 [00:00<00:00, 105.77it/s]\u001b[A\n",
      " 38%|███████████████████▍                               | 38/100 [00:11<00:18,  3.37it/s]\n",
      "  0%|                                                             | 0/30 [00:00<?, ?it/s]\u001b[A\n",
      " 40%|████████████████████▍                              | 12/30 [00:00<00:00, 111.27it/s]\u001b[A"
     ]
    },
    {
     "name": "stdout",
     "output_type": "stream",
     "text": [
      "Epoch 37, loss: 4594095.719133\n"
     ]
    },
    {
     "name": "stderr",
     "output_type": "stream",
     "text": [
      "\n",
      "100%|███████████████████████████████████████████████████| 30/30 [00:00<00:00, 104.31it/s]\u001b[A\n",
      " 39%|███████████████████▉                               | 39/100 [00:11<00:18,  3.37it/s]\n",
      "  0%|                                                             | 0/30 [00:00<?, ?it/s]\u001b[A\n",
      " 33%|█████████████████▎                                  | 10/30 [00:00<00:00, 96.28it/s]\u001b[A"
     ]
    },
    {
     "name": "stdout",
     "output_type": "stream",
     "text": [
      "Epoch 38, loss: 4301327.614919\n"
     ]
    },
    {
     "name": "stderr",
     "output_type": "stream",
     "text": [
      "\n",
      "100%|████████████████████████████████████████████████████| 30/30 [00:00<00:00, 97.52it/s]\u001b[A\n",
      " 40%|████████████████████▍                              | 40/100 [00:12<00:17,  3.33it/s]\n",
      "  0%|                                                             | 0/30 [00:00<?, ?it/s]\u001b[A\n",
      " 37%|██████████████████▋                                | 11/30 [00:00<00:00, 105.91it/s]\u001b[A"
     ]
    },
    {
     "name": "stdout",
     "output_type": "stream",
     "text": [
      "Epoch 39, loss: 5220947.599031\n"
     ]
    },
    {
     "name": "stderr",
     "output_type": "stream",
     "text": [
      "\n",
      "100%|███████████████████████████████████████████████████| 30/30 [00:00<00:00, 100.13it/s]\u001b[A\n",
      " 41%|████████████████████▉                              | 41/100 [00:12<00:17,  3.32it/s]\n",
      "  0%|                                                             | 0/30 [00:00<?, ?it/s]\u001b[A\n",
      " 40%|████████████████████▍                              | 12/30 [00:00<00:00, 111.26it/s]\u001b[A"
     ]
    },
    {
     "name": "stdout",
     "output_type": "stream",
     "text": [
      "Epoch 40, loss: 5102004.415803\n"
     ]
    },
    {
     "name": "stderr",
     "output_type": "stream",
     "text": [
      "\n",
      "100%|███████████████████████████████████████████████████| 30/30 [00:00<00:00, 100.13it/s]\u001b[A\n",
      " 42%|█████████████████████▍                             | 42/100 [00:12<00:17,  3.31it/s]\n",
      "  0%|                                                             | 0/30 [00:00<?, ?it/s]\u001b[A\n",
      " 40%|████████████████████▍                              | 12/30 [00:00<00:00, 115.54it/s]\u001b[A"
     ]
    },
    {
     "name": "stdout",
     "output_type": "stream",
     "text": [
      "Epoch 41, loss: 4602888.837813\n"
     ]
    },
    {
     "name": "stderr",
     "output_type": "stream",
     "text": [
      "\n",
      "100%|███████████████████████████████████████████████████| 30/30 [00:00<00:00, 105.75it/s]\u001b[A\n",
      " 43%|█████████████████████▉                             | 43/100 [00:12<00:16,  3.36it/s]\n",
      "  0%|                                                             | 0/30 [00:00<?, ?it/s]\u001b[A\n",
      " 40%|████████████████████▍                              | 12/30 [00:00<00:00, 111.26it/s]\u001b[A"
     ]
    },
    {
     "name": "stdout",
     "output_type": "stream",
     "text": [
      "Epoch 42, loss: 4456446.482350\n"
     ]
    },
    {
     "name": "stderr",
     "output_type": "stream",
     "text": [
      "\n",
      "100%|███████████████████████████████████████████████████| 30/30 [00:00<00:00, 100.13it/s]\u001b[A\n",
      " 44%|██████████████████████▍                            | 44/100 [00:13<00:16,  3.33it/s]\n",
      "  0%|                                                             | 0/30 [00:00<?, ?it/s]\u001b[A\n",
      " 40%|████████████████████▍                              | 12/30 [00:00<00:00, 115.52it/s]\u001b[A"
     ]
    },
    {
     "name": "stdout",
     "output_type": "stream",
     "text": [
      "Epoch 43, loss: 4642301.299058\n"
     ]
    },
    {
     "name": "stderr",
     "output_type": "stream",
     "text": [
      "\n",
      "100%|████████████████████████████████████████████████████| 30/30 [00:00<00:00, 99.94it/s]\u001b[A\n",
      " 45%|██████████████████████▉                            | 45/100 [00:13<00:16,  3.32it/s]\n",
      "  0%|                                                             | 0/30 [00:00<?, ?it/s]\u001b[A\n",
      " 33%|█████████████████▎                                  | 10/30 [00:00<00:00, 96.28it/s]\u001b[A"
     ]
    },
    {
     "name": "stdout",
     "output_type": "stream",
     "text": [
      "Epoch 44, loss: 4921952.972029\n"
     ]
    },
    {
     "name": "stderr",
     "output_type": "stream",
     "text": [
      "\n",
      "100%|████████████████████████████████████████████████████| 30/30 [00:00<00:00, 96.28it/s]\u001b[A\n",
      " 46%|███████████████████████▍                           | 46/100 [00:13<00:16,  3.27it/s]\n",
      "  0%|                                                             | 0/30 [00:00<?, ?it/s]\u001b[A\n",
      " 37%|███████████████████                                 | 11/30 [00:00<00:00, 98.35it/s]\u001b[A"
     ]
    },
    {
     "name": "stdout",
     "output_type": "stream",
     "text": [
      "Epoch 45, loss: 4906733.111829\n"
     ]
    },
    {
     "name": "stderr",
     "output_type": "stream",
     "text": [
      "\n",
      "100%|███████████████████████████████████████████████████| 30/30 [00:00<00:00, 104.31it/s]\u001b[A\n",
      " 47%|███████████████████████▉                           | 47/100 [00:14<00:16,  3.30it/s]\n",
      "  0%|                                                             | 0/30 [00:00<?, ?it/s]\u001b[A\n",
      " 40%|████████████████████▍                              | 12/30 [00:00<00:00, 115.48it/s]\u001b[A"
     ]
    },
    {
     "name": "stdout",
     "output_type": "stream",
     "text": [
      "Epoch 46, loss: 4872120.107147\n"
     ]
    },
    {
     "name": "stderr",
     "output_type": "stream",
     "text": [
      "\n",
      " 67%|██████████████████████████████████                 | 20/30 [00:00<00:00, 100.45it/s]\u001b[A\n",
      "100%|████████████████████████████████████████████████████| 30/30 [00:00<00:00, 87.33it/s]\u001b[A\n",
      " 48%|████████████████████████▍                          | 48/100 [00:14<00:16,  3.16it/s]\n",
      "  0%|                                                             | 0/30 [00:00<?, ?it/s]\u001b[A\n",
      " 27%|██████████████▏                                      | 8/30 [00:00<00:00, 77.02it/s]\u001b[A"
     ]
    },
    {
     "name": "stdout",
     "output_type": "stream",
     "text": [
      "Epoch 47, loss: 5224642.627878\n"
     ]
    },
    {
     "name": "stderr",
     "output_type": "stream",
     "text": [
      "\n",
      " 50%|██████████████████████████                          | 15/30 [00:00<00:00, 73.86it/s]\u001b[A\n",
      "100%|████████████████████████████████████████████████████| 30/30 [00:00<00:00, 73.63it/s]\u001b[A\n",
      " 49%|████████████████████████▉                          | 49/100 [00:14<00:17,  2.89it/s]\n",
      "  0%|                                                             | 0/30 [00:00<?, ?it/s]\u001b[A\n",
      " 27%|██████████████▏                                      | 8/30 [00:00<00:00, 77.03it/s]\u001b[A"
     ]
    },
    {
     "name": "stdout",
     "output_type": "stream",
     "text": [
      "Epoch 48, loss: 4853190.303260\n"
     ]
    },
    {
     "name": "stderr",
     "output_type": "stream",
     "text": [
      "\n",
      " 53%|███████████████████████████▋                        | 16/30 [00:00<00:00, 76.15it/s]\u001b[A\n",
      "100%|████████████████████████████████████████████████████| 30/30 [00:00<00:00, 74.36it/s]\u001b[A\n",
      " 50%|█████████████████████████▌                         | 50/100 [00:15<00:18,  2.73it/s]\n",
      "  0%|                                                             | 0/30 [00:00<?, ?it/s]\u001b[A\n",
      " 27%|██████████████▏                                      | 8/30 [00:00<00:00, 76.99it/s]\u001b[A"
     ]
    },
    {
     "name": "stdout",
     "output_type": "stream",
     "text": [
      "Epoch 49, loss: 4731909.386077\n"
     ]
    },
    {
     "name": "stderr",
     "output_type": "stream",
     "text": [
      "\n",
      " 53%|███████████████████████████▋                        | 16/30 [00:00<00:00, 76.13it/s]\u001b[A\n",
      "100%|████████████████████████████████████████████████████| 30/30 [00:00<00:00, 75.09it/s]\u001b[A\n",
      " 51%|██████████████████████████                         | 51/100 [00:15<00:18,  2.64it/s]\n",
      "  0%|                                                             | 0/30 [00:00<?, ?it/s]\u001b[A\n",
      " 27%|██████████████▏                                      | 8/30 [00:00<00:00, 77.02it/s]\u001b[A"
     ]
    },
    {
     "name": "stdout",
     "output_type": "stream",
     "text": [
      "Epoch 50, loss: 4864362.284840\n"
     ]
    },
    {
     "name": "stderr",
     "output_type": "stream",
     "text": [
      "\n",
      " 53%|███████████████████████████▋                        | 16/30 [00:00<00:00, 76.14it/s]\u001b[A\n",
      "100%|████████████████████████████████████████████████████| 30/30 [00:00<00:00, 75.10it/s]\u001b[A\n",
      " 52%|██████████████████████████▌                        | 52/100 [00:16<00:18,  2.59it/s]\n",
      "  0%|                                                             | 0/30 [00:00<?, ?it/s]\u001b[A\n",
      " 27%|██████████████▏                                      | 8/30 [00:00<00:00, 76.99it/s]\u001b[A"
     ]
    },
    {
     "name": "stdout",
     "output_type": "stream",
     "text": [
      "Epoch 51, loss: 5333286.383640\n"
     ]
    },
    {
     "name": "stderr",
     "output_type": "stream",
     "text": [
      "\n",
      " 50%|██████████████████████████                          | 15/30 [00:00<00:00, 73.85it/s]\u001b[A\n",
      "100%|████████████████████████████████████████████████████| 30/30 [00:00<00:00, 73.62it/s]\u001b[A\n",
      " 53%|███████████████████████████                        | 53/100 [00:16<00:18,  2.53it/s]\n",
      "  0%|                                                             | 0/30 [00:00<?, ?it/s]\u001b[A\n",
      " 27%|██████████████▏                                      | 8/30 [00:00<00:00, 74.17it/s]\u001b[A"
     ]
    },
    {
     "name": "stdout",
     "output_type": "stream",
     "text": [
      "Epoch 52, loss: 4635271.194555\n"
     ]
    },
    {
     "name": "stderr",
     "output_type": "stream",
     "text": [
      "\n",
      " 53%|███████████████████████████▋                        | 16/30 [00:00<00:00, 73.36it/s]\u001b[A\n",
      "100%|████████████████████████████████████████████████████| 30/30 [00:00<00:00, 72.91it/s]\u001b[A\n",
      " 54%|███████████████████████████▌                       | 54/100 [00:16<00:18,  2.49it/s]\n",
      "  0%|                                                             | 0/30 [00:00<?, ?it/s]\u001b[A\n",
      " 27%|██████████████▏                                      | 8/30 [00:00<00:00, 74.17it/s]\u001b[A"
     ]
    },
    {
     "name": "stdout",
     "output_type": "stream",
     "text": [
      "Epoch 53, loss: 5038566.091372\n"
     ]
    },
    {
     "name": "stderr",
     "output_type": "stream",
     "text": [
      "\n",
      " 50%|██████████████████████████                          | 15/30 [00:00<00:00, 72.00it/s]\u001b[A\n",
      "100%|████████████████████████████████████████████████████| 30/30 [00:00<00:00, 70.85it/s]\u001b[A\n",
      " 55%|████████████████████████████                       | 55/100 [00:17<00:18,  2.44it/s]\n",
      "  0%|                                                             | 0/30 [00:00<?, ?it/s]\u001b[A\n",
      " 33%|█████████████████▎                                  | 10/30 [00:00<00:00, 92.71it/s]\u001b[A"
     ]
    },
    {
     "name": "stdout",
     "output_type": "stream",
     "text": [
      "Epoch 54, loss: 5435299.286172\n"
     ]
    },
    {
     "name": "stderr",
     "output_type": "stream",
     "text": [
      "\n",
      "100%|███████████████████████████████████████████████████| 30/30 [00:00<00:00, 100.13it/s]\u001b[A\n",
      " 56%|████████████████████████████▌                      | 56/100 [00:17<00:16,  2.65it/s]\n",
      "  0%|                                                             | 0/30 [00:00<?, ?it/s]\u001b[A\n",
      " 40%|████████████████████▍                              | 12/30 [00:00<00:00, 115.47it/s]\u001b[A"
     ]
    },
    {
     "name": "stdout",
     "output_type": "stream",
     "text": [
      "Epoch 55, loss: 5801345.364561\n"
     ]
    },
    {
     "name": "stderr",
     "output_type": "stream",
     "text": [
      "\n",
      " 77%|███████████████████████████████████████            | 23/30 [00:00<00:00, 111.09it/s]\u001b[A\n",
      "100%|████████████████████████████████████████████████████| 30/30 [00:00<00:00, 92.70it/s]\u001b[A\n",
      " 57%|█████████████████████████████                      | 57/100 [00:18<00:15,  2.76it/s]\n",
      "  0%|                                                             | 0/30 [00:00<?, ?it/s]\u001b[A\n",
      " 27%|██████████████▏                                      | 8/30 [00:00<00:00, 74.17it/s]\u001b[A"
     ]
    },
    {
     "name": "stdout",
     "output_type": "stream",
     "text": [
      "Epoch 56, loss: 5721358.483153\n"
     ]
    },
    {
     "name": "stderr",
     "output_type": "stream",
     "text": [
      "\n",
      " 53%|███████████████████████████▋                        | 16/30 [00:00<00:00, 73.35it/s]\u001b[A\n",
      " 77%|███████████████████████████████████████▊            | 23/30 [00:00<00:00, 71.46it/s]\u001b[A\n",
      "100%|████████████████████████████████████████████████████| 30/30 [00:00<00:00, 68.90it/s]\u001b[A\n",
      " 58%|█████████████████████████████▌                     | 58/100 [00:18<00:16,  2.58it/s]\n",
      "  0%|                                                             | 0/30 [00:00<?, ?it/s]\u001b[A\n",
      " 23%|████████████▎                                        | 7/30 [00:00<00:00, 67.39it/s]\u001b[A"
     ]
    },
    {
     "name": "stdout",
     "output_type": "stream",
     "text": [
      "Epoch 57, loss: 5342972.741152\n"
     ]
    },
    {
     "name": "stderr",
     "output_type": "stream",
     "text": [
      "\n",
      " 47%|████████████████████████▎                           | 14/30 [00:00<00:00, 67.39it/s]\u001b[A\n",
      "100%|████████████████████████████████████████████████████| 30/30 [00:00<00:00, 79.04it/s]\u001b[A\n",
      " 59%|██████████████████████████████                     | 59/100 [00:18<00:15,  2.58it/s]\n",
      "  0%|                                                             | 0/30 [00:00<?, ?it/s]\u001b[A\n",
      " 27%|██████████████▏                                      | 8/30 [00:00<00:00, 77.03it/s]\u001b[A"
     ]
    },
    {
     "name": "stdout",
     "output_type": "stream",
     "text": [
      "Epoch 58, loss: 5327774.271694\n"
     ]
    },
    {
     "name": "stderr",
     "output_type": "stream",
     "text": [
      "\n",
      " 53%|███████████████████████████▋                        | 16/30 [00:00<00:00, 75.28it/s]\u001b[A\n",
      "100%|████████████████████████████████████████████████████| 30/30 [00:00<00:00, 76.63it/s]\u001b[A\n",
      " 60%|██████████████████████████████▌                    | 60/100 [00:19<00:15,  2.57it/s]\n",
      "  0%|                                                             | 0/30 [00:00<?, ?it/s]\u001b[A\n",
      " 27%|██████████████▏                                      | 8/30 [00:00<00:00, 77.02it/s]\u001b[A"
     ]
    },
    {
     "name": "stdout",
     "output_type": "stream",
     "text": [
      "Epoch 59, loss: 5697041.879778\n"
     ]
    },
    {
     "name": "stderr",
     "output_type": "stream",
     "text": [
      "\n",
      " 60%|███████████████████████████████▏                    | 18/30 [00:00<00:00, 80.36it/s]\u001b[A\n",
      "100%|████████████████████████████████████████████████████| 30/30 [00:00<00:00, 82.53it/s]\u001b[A\n",
      " 61%|███████████████████████████████                    | 61/100 [00:19<00:14,  2.60it/s]\n",
      "  0%|                                                             | 0/30 [00:00<?, ?it/s]\u001b[A\n",
      " 27%|██████████████▏                                      | 8/30 [00:00<00:00, 74.16it/s]\u001b[A"
     ]
    },
    {
     "name": "stdout",
     "output_type": "stream",
     "text": [
      "Epoch 60, loss: 6457249.051779\n"
     ]
    },
    {
     "name": "stderr",
     "output_type": "stream",
     "text": [
      "\n",
      " 50%|██████████████████████████                          | 15/30 [00:00<00:00, 71.99it/s]\u001b[A\n",
      "100%|████████████████████████████████████████████████████| 30/30 [00:00<00:00, 75.85it/s]\u001b[A\n",
      " 62%|███████████████████████████████▌                   | 62/100 [00:20<00:14,  2.56it/s]\n",
      "  0%|                                                             | 0/30 [00:00<?, ?it/s]\u001b[A\n",
      " 27%|██████████████▏                                      | 8/30 [00:00<00:00, 69.06it/s]\u001b[A"
     ]
    },
    {
     "name": "stdout",
     "output_type": "stream",
     "text": [
      "Epoch 61, loss: 5873509.002712\n"
     ]
    },
    {
     "name": "stderr",
     "output_type": "stream",
     "text": [
      "\n",
      " 57%|█████████████████████████████▍                      | 17/30 [00:00<00:00, 72.13it/s]\u001b[A\n",
      "100%|████████████████████████████████████████████████████| 30/30 [00:00<00:00, 75.10it/s]\u001b[A\n",
      " 63%|████████████████████████████████▏                  | 63/100 [00:20<00:14,  2.54it/s]\n",
      "  0%|                                                             | 0/30 [00:00<?, ?it/s]\u001b[A\n",
      " 30%|███████████████▉                                     | 9/30 [00:00<00:00, 83.44it/s]\u001b[A"
     ]
    },
    {
     "name": "stdout",
     "output_type": "stream",
     "text": [
      "Epoch 62, loss: 6668543.965720\n"
     ]
    },
    {
     "name": "stderr",
     "output_type": "stream",
     "text": [
      "\n",
      " 67%|██████████████████████████████████▋                 | 20/30 [00:00<00:00, 88.26it/s]\u001b[A\n",
      "100%|████████████████████████████████████████████████████| 30/30 [00:00<00:00, 91.59it/s]\u001b[A\n",
      " 64%|████████████████████████████████▋                  | 64/100 [00:20<00:13,  2.66it/s]\n",
      "  0%|                                                             | 0/30 [00:00<?, ?it/s]\u001b[A\n",
      " 37%|██████████████████▋                                | 11/30 [00:00<00:00, 105.91it/s]\u001b[A"
     ]
    },
    {
     "name": "stdout",
     "output_type": "stream",
     "text": [
      "Epoch 63, loss: 5228971.373068\n"
     ]
    },
    {
     "name": "stderr",
     "output_type": "stream",
     "text": [
      "\n",
      "100%|███████████████████████████████████████████████████| 30/30 [00:00<00:00, 105.77it/s]\u001b[A\n",
      " 65%|█████████████████████████████████▏                 | 65/100 [00:21<00:12,  2.87it/s]\n",
      "  0%|                                                             | 0/30 [00:00<?, ?it/s]\u001b[A\n",
      " 43%|██████████████████████                             | 13/30 [00:00<00:00, 120.49it/s]\u001b[A"
     ]
    },
    {
     "name": "stdout",
     "output_type": "stream",
     "text": [
      "Epoch 64, loss: 6448165.323690\n"
     ]
    },
    {
     "name": "stderr",
     "output_type": "stream",
     "text": [
      "\n",
      "100%|███████████████████████████████████████████████████| 30/30 [00:00<00:00, 105.76it/s]\u001b[A\n",
      " 66%|█████████████████████████████████▋                 | 66/100 [00:21<00:11,  3.02it/s]\n",
      "  0%|                                                             | 0/30 [00:00<?, ?it/s]\u001b[A\n",
      " 37%|██████████████████▋                                | 11/30 [00:00<00:00, 101.94it/s]\u001b[A"
     ]
    },
    {
     "name": "stdout",
     "output_type": "stream",
     "text": [
      "Epoch 65, loss: 5949724.344456\n"
     ]
    },
    {
     "name": "stderr",
     "output_type": "stream",
     "text": [
      "\n",
      "100%|███████████████████████████████████████████████████| 30/30 [00:00<00:00, 105.76it/s]\u001b[A\n",
      " 67%|██████████████████████████████████▏                | 67/100 [00:21<00:10,  3.14it/s]\n",
      "  0%|                                                             | 0/30 [00:00<?, ?it/s]\u001b[A\n",
      " 43%|██████████████████████                             | 13/30 [00:00<00:00, 120.48it/s]\u001b[A"
     ]
    },
    {
     "name": "stdout",
     "output_type": "stream",
     "text": [
      "Epoch 66, loss: 6111852.418867\n"
     ]
    },
    {
     "name": "stderr",
     "output_type": "stream",
     "text": [
      "\n",
      "100%|███████████████████████████████████████████████████| 30/30 [00:00<00:00, 108.83it/s]\u001b[A\n",
      " 68%|██████████████████████████████████▋                | 68/100 [00:21<00:09,  3.24it/s]\n",
      "  0%|                                                             | 0/30 [00:00<?, ?it/s]\u001b[A\n",
      " 43%|██████████████████████                             | 13/30 [00:00<00:00, 120.49it/s]\u001b[A"
     ]
    },
    {
     "name": "stdout",
     "output_type": "stream",
     "text": [
      "Epoch 67, loss: 6550309.450699\n"
     ]
    },
    {
     "name": "stderr",
     "output_type": "stream",
     "text": [
      "\n",
      "100%|███████████████████████████████████████████████████| 30/30 [00:00<00:00, 110.42it/s]\u001b[A\n",
      " 69%|███████████████████████████████████▏               | 69/100 [00:22<00:09,  3.35it/s]\n",
      "  0%|                                                             | 0/30 [00:00<?, ?it/s]\u001b[A\n",
      " 43%|██████████████████████                             | 13/30 [00:00<00:00, 120.49it/s]\u001b[A"
     ]
    },
    {
     "name": "stdout",
     "output_type": "stream",
     "text": [
      "Epoch 68, loss: 6514349.577670\n"
     ]
    },
    {
     "name": "stderr",
     "output_type": "stream",
     "text": [
      "\n",
      "100%|███████████████████████████████████████████████████| 30/30 [00:00<00:00, 107.27it/s]\u001b[A\n",
      " 70%|███████████████████████████████████▋               | 70/100 [00:22<00:08,  3.40it/s]\n",
      "  0%|                                                             | 0/30 [00:00<?, ?it/s]\u001b[A\n",
      " 37%|██████████████████▋                                | 11/30 [00:00<00:00, 101.95it/s]\u001b[A"
     ]
    },
    {
     "name": "stdout",
     "output_type": "stream",
     "text": [
      "Epoch 69, loss: 6249429.996134\n"
     ]
    },
    {
     "name": "stderr",
     "output_type": "stream",
     "text": [
      "\n",
      "100%|███████████████████████████████████████████████████| 30/30 [00:00<00:00, 100.13it/s]\u001b[A\n",
      " 71%|████████████████████████████████████▏              | 71/100 [00:22<00:08,  3.37it/s]\n",
      "  0%|                                                             | 0/30 [00:00<?, ?it/s]\u001b[A\n",
      " 43%|██████████████████████                             | 13/30 [00:00<00:00, 120.53it/s]\u001b[A"
     ]
    },
    {
     "name": "stdout",
     "output_type": "stream",
     "text": [
      "Epoch 70, loss: 6881008.166266\n"
     ]
    },
    {
     "name": "stderr",
     "output_type": "stream",
     "text": [
      "\n",
      "100%|███████████████████████████████████████████████████| 30/30 [00:00<00:00, 110.44it/s]\u001b[A\n",
      " 72%|████████████████████████████████████▋              | 72/100 [00:23<00:08,  3.44it/s]\n",
      "  0%|                                                             | 0/30 [00:00<?, ?it/s]\u001b[A\n",
      " 40%|████████████████████▍                              | 12/30 [00:00<00:00, 115.48it/s]\u001b[A\n"
     ]
    },
    {
     "name": "stdout",
     "output_type": "stream",
     "text": [
      "Epoch 71, loss: 6609794.706029\n"
     ]
    },
    {
     "name": "stderr",
     "output_type": "stream",
     "text": [
      "100%|███████████████████████████████████████████████████| 30/30 [00:00<00:00, 110.42it/s]\u001b[A\n",
      " 73%|█████████████████████████████████████▏             | 73/100 [00:23<00:07,  3.51it/s]\n",
      "  0%|                                                             | 0/30 [00:00<?, ?it/s]\u001b[A\n",
      " 43%|██████████████████████                             | 13/30 [00:00<00:00, 120.53it/s]\u001b[A"
     ]
    },
    {
     "name": "stdout",
     "output_type": "stream",
     "text": [
      "Epoch 72, loss: 7079338.221780\n"
     ]
    },
    {
     "name": "stderr",
     "output_type": "stream",
     "text": [
      "\n",
      "100%|███████████████████████████████████████████████████| 30/30 [00:00<00:00, 108.84it/s]\u001b[A\n",
      " 74%|█████████████████████████████████████▋             | 74/100 [00:23<00:07,  3.53it/s]\n",
      "  0%|                                                             | 0/30 [00:00<?, ?it/s]\u001b[A\n",
      " 40%|████████████████████▍                              | 12/30 [00:00<00:00, 115.54it/s]\u001b[A"
     ]
    },
    {
     "name": "stdout",
     "output_type": "stream",
     "text": [
      "Epoch 73, loss: 5501464.252785\n"
     ]
    },
    {
     "name": "stderr",
     "output_type": "stream",
     "text": [
      "\n",
      "100%|███████████████████████████████████████████████████| 30/30 [00:00<00:00, 107.27it/s]\u001b[A\n",
      " 75%|██████████████████████████████████████▎            | 75/100 [00:23<00:07,  3.51it/s]\n",
      "  0%|                                                             | 0/30 [00:00<?, ?it/s]\u001b[A\n",
      " 40%|████████████████████▍                              | 12/30 [00:00<00:00, 115.58it/s]\u001b[A"
     ]
    },
    {
     "name": "stdout",
     "output_type": "stream",
     "text": [
      "Epoch 74, loss: 5782471.138024\n"
     ]
    },
    {
     "name": "stderr",
     "output_type": "stream",
     "text": [
      "\n",
      "100%|███████████████████████████████████████████████████| 30/30 [00:00<00:00, 105.79it/s]\u001b[A\n",
      " 76%|██████████████████████████████████████▊            | 76/100 [00:24<00:06,  3.52it/s]\n",
      "  0%|                                                             | 0/30 [00:00<?, ?it/s]\u001b[A\n",
      " 33%|█████████████████▎                                  | 10/30 [00:00<00:00, 92.72it/s]\u001b[A"
     ]
    },
    {
     "name": "stdout",
     "output_type": "stream",
     "text": [
      "Epoch 75, loss: 6254819.752140\n"
     ]
    },
    {
     "name": "stderr",
     "output_type": "stream",
     "text": [
      "\n",
      "100%|████████████████████████████████████████████████████| 30/30 [00:00<00:00, 98.80it/s]\u001b[A\n",
      " 77%|███████████████████████████████████████▎           | 77/100 [00:24<00:06,  3.43it/s]\n",
      "  0%|                                                             | 0/30 [00:00<?, ?it/s]\u001b[A\n",
      " 37%|██████████████████▋                                | 11/30 [00:00<00:00, 101.93it/s]\u001b[A"
     ]
    },
    {
     "name": "stdout",
     "output_type": "stream",
     "text": [
      "Epoch 76, loss: 6724791.097751\n"
     ]
    },
    {
     "name": "stderr",
     "output_type": "stream",
     "text": [
      "\n",
      "100%|███████████████████████████████████████████████████| 30/30 [00:00<00:00, 104.29it/s]\u001b[A\n",
      " 78%|███████████████████████████████████████▊           | 78/100 [00:24<00:06,  3.42it/s]\n",
      "  0%|                                                             | 0/30 [00:00<?, ?it/s]\u001b[A\n",
      " 40%|████████████████████▍                              | 12/30 [00:00<00:00, 111.26it/s]\u001b[A"
     ]
    },
    {
     "name": "stdout",
     "output_type": "stream",
     "text": [
      "Epoch 77, loss: 6376021.063410\n"
     ]
    },
    {
     "name": "stderr",
     "output_type": "stream",
     "text": [
      "\n",
      "100%|███████████████████████████████████████████████████| 30/30 [00:00<00:00, 102.88it/s]\u001b[A\n",
      " 79%|████████████████████████████████████████▎          | 79/100 [00:25<00:06,  3.41it/s]\n",
      "  0%|                                                             | 0/30 [00:00<?, ?it/s]\u001b[A\n",
      " 37%|███████████████████                                 | 11/30 [00:00<00:00, 98.34it/s]\u001b[A"
     ]
    },
    {
     "name": "stdout",
     "output_type": "stream",
     "text": [
      "Epoch 78, loss: 7917447.586961\n"
     ]
    },
    {
     "name": "stderr",
     "output_type": "stream",
     "text": [
      "\n",
      "100%|████████████████████████████████████████████████████| 30/30 [00:00<00:00, 95.06it/s]\u001b[A\n",
      " 80%|████████████████████████████████████████▊          | 80/100 [00:25<00:06,  3.33it/s]\n",
      "  0%|                                                             | 0/30 [00:00<?, ?it/s]\u001b[A\n",
      " 33%|█████████████████▎                                  | 10/30 [00:00<00:00, 96.28it/s]\u001b[A"
     ]
    },
    {
     "name": "stdout",
     "output_type": "stream",
     "text": [
      "Epoch 79, loss: 6641934.202767\n"
     ]
    },
    {
     "name": "stderr",
     "output_type": "stream",
     "text": [
      "\n",
      " 67%|██████████████████████████████████▋                 | 20/30 [00:00<00:00, 94.11it/s]\u001b[A\n",
      "100%|████████████████████████████████████████████████████| 30/30 [00:00<00:00, 91.58it/s]\u001b[A\n",
      " 81%|█████████████████████████████████████████▎         | 81/100 [00:25<00:05,  3.22it/s]\n",
      "  0%|                                                             | 0/30 [00:00<?, ?it/s]\u001b[A\n",
      " 33%|█████████████████▎                                  | 10/30 [00:00<00:00, 92.71it/s]\u001b[A"
     ]
    },
    {
     "name": "stdout",
     "output_type": "stream",
     "text": [
      "Epoch 80, loss: 6362636.277618\n"
     ]
    },
    {
     "name": "stderr",
     "output_type": "stream",
     "text": [
      "\n",
      "100%|████████████████████████████████████████████████████| 30/30 [00:00<00:00, 95.05it/s]\u001b[A\n",
      " 82%|█████████████████████████████████████████▊         | 82/100 [00:26<00:05,  3.19it/s]\n",
      "  0%|                                                             | 0/30 [00:00<?, ?it/s]\u001b[A\n",
      " 37%|██████████████████▋                                | 11/30 [00:00<00:00, 105.86it/s]\u001b[A"
     ]
    },
    {
     "name": "stdout",
     "output_type": "stream",
     "text": [
      "Epoch 81, loss: 6835326.073746\n"
     ]
    },
    {
     "name": "stderr",
     "output_type": "stream",
     "text": [
      "\n",
      "100%|███████████████████████████████████████████████████| 30/30 [00:00<00:00, 101.49it/s]\u001b[A\n",
      " 83%|██████████████████████████████████████████▎        | 83/100 [00:26<00:05,  3.23it/s]\n",
      "  0%|                                                             | 0/30 [00:00<?, ?it/s]\u001b[A\n",
      " 40%|████████████████████▍                              | 12/30 [00:00<00:00, 111.22it/s]\u001b[A"
     ]
    },
    {
     "name": "stdout",
     "output_type": "stream",
     "text": [
      "Epoch 82, loss: 7762283.834466\n"
     ]
    },
    {
     "name": "stderr",
     "output_type": "stream",
     "text": [
      "\n",
      "100%|███████████████████████████████████████████████████| 30/30 [00:00<00:00, 102.88it/s]\u001b[A\n",
      " 84%|██████████████████████████████████████████▊        | 84/100 [00:26<00:04,  3.28it/s]\n",
      "  0%|                                                             | 0/30 [00:00<?, ?it/s]\u001b[A\n",
      " 43%|██████████████████████                             | 13/30 [00:00<00:00, 120.53it/s]\u001b[A"
     ]
    },
    {
     "name": "stdout",
     "output_type": "stream",
     "text": [
      "Epoch 83, loss: 7796223.572608\n"
     ]
    },
    {
     "name": "stderr",
     "output_type": "stream",
     "text": [
      "\n",
      "100%|███████████████████████████████████████████████████| 30/30 [00:00<00:00, 107.27it/s]\u001b[A\n",
      " 85%|███████████████████████████████████████████▎       | 85/100 [00:26<00:04,  3.33it/s]\n",
      "  0%|                                                             | 0/30 [00:00<?, ?it/s]\u001b[A\n",
      " 37%|██████████████████▋                                | 11/30 [00:00<00:00, 101.99it/s]\u001b[A"
     ]
    },
    {
     "name": "stdout",
     "output_type": "stream",
     "text": [
      "Epoch 84, loss: 6995776.273036\n"
     ]
    },
    {
     "name": "stderr",
     "output_type": "stream",
     "text": [
      "\n",
      "100%|███████████████████████████████████████████████████| 30/30 [00:00<00:00, 104.29it/s]\u001b[A\n",
      " 86%|███████████████████████████████████████████▊       | 86/100 [00:27<00:04,  3.36it/s]\n",
      "  0%|                                                             | 0/30 [00:00<?, ?it/s]\u001b[A\n",
      " 40%|████████████████████▍                              | 12/30 [00:00<00:00, 111.22it/s]\u001b[A"
     ]
    },
    {
     "name": "stdout",
     "output_type": "stream",
     "text": [
      "Epoch 85, loss: 6727261.966268\n"
     ]
    },
    {
     "name": "stderr",
     "output_type": "stream",
     "text": [
      "\n",
      "100%|███████████████████████████████████████████████████| 30/30 [00:00<00:00, 101.47it/s]\u001b[A\n",
      " 87%|████████████████████████████████████████████▎      | 87/100 [00:27<00:03,  3.35it/s]\n",
      "  0%|                                                             | 0/30 [00:00<?, ?it/s]\u001b[A\n",
      " 40%|████████████████████▍                              | 12/30 [00:00<00:00, 115.54it/s]\u001b[A"
     ]
    },
    {
     "name": "stdout",
     "output_type": "stream",
     "text": [
      "Epoch 86, loss: 6590073.759541\n"
     ]
    },
    {
     "name": "stderr",
     "output_type": "stream",
     "text": [
      "\n",
      "100%|███████████████████████████████████████████████████| 30/30 [00:00<00:00, 107.29it/s]\u001b[A\n",
      " 88%|████████████████████████████████████████████▉      | 88/100 [00:27<00:03,  3.40it/s]\n",
      "  0%|                                                             | 0/30 [00:00<?, ?it/s]\u001b[A\n",
      " 37%|██████████████████▋                                | 11/30 [00:00<00:00, 101.95it/s]\u001b[A"
     ]
    },
    {
     "name": "stdout",
     "output_type": "stream",
     "text": [
      "Epoch 87, loss: 7739390.041726\n"
     ]
    },
    {
     "name": "stderr",
     "output_type": "stream",
     "text": [
      "\n",
      " 73%|█████████████████████████████████████▍             | 22/30 [00:00<00:00, 100.85it/s]\u001b[A\n",
      "100%|████████████████████████████████████████████████████| 30/30 [00:00<00:00, 91.59it/s]\u001b[A\n",
      " 89%|█████████████████████████████████████████████▍     | 89/100 [00:28<00:03,  3.28it/s]\n",
      "  0%|                                                             | 0/30 [00:00<?, ?it/s]\u001b[A\n",
      " 30%|███████████████▉                                     | 9/30 [00:00<00:00, 83.44it/s]\u001b[A"
     ]
    },
    {
     "name": "stdout",
     "output_type": "stream",
     "text": [
      "Epoch 88, loss: 7510744.553594\n"
     ]
    },
    {
     "name": "stderr",
     "output_type": "stream",
     "text": [
      "\n",
      " 60%|███████████████████████████████▏                    | 18/30 [00:00<00:00, 84.38it/s]\u001b[A\n",
      "100%|████████████████████████████████████████████████████| 30/30 [00:00<00:00, 89.39it/s]\u001b[A\n",
      " 90%|█████████████████████████████████████████████▉     | 90/100 [00:28<00:03,  3.16it/s]\n",
      "  0%|                                                             | 0/30 [00:00<?, ?it/s]\u001b[A\n",
      " 30%|███████████████▉                                     | 9/30 [00:00<00:00, 80.46it/s]\u001b[A"
     ]
    },
    {
     "name": "stdout",
     "output_type": "stream",
     "text": [
      "Epoch 89, loss: 8267925.630066\n"
     ]
    },
    {
     "name": "stderr",
     "output_type": "stream",
     "text": [
      "\n",
      "100%|████████████████████████████████████████████████████| 30/30 [00:00<00:00, 95.06it/s]\u001b[A\n",
      " 91%|██████████████████████████████████████████████▍    | 91/100 [00:28<00:02,  3.15it/s]\n",
      "  0%|                                                             | 0/30 [00:00<?, ?it/s]\u001b[A\n",
      " 37%|██████████████████▋                                | 11/30 [00:00<00:00, 101.99it/s]\u001b[A"
     ]
    },
    {
     "name": "stdout",
     "output_type": "stream",
     "text": [
      "Epoch 90, loss: 7373514.563168\n"
     ]
    },
    {
     "name": "stderr",
     "output_type": "stream",
     "text": [
      "\n",
      "100%|████████████████████████████████████████████████████| 30/30 [00:00<00:00, 98.82it/s]\u001b[A\n",
      " 92%|██████████████████████████████████████████████▉    | 92/100 [00:29<00:02,  3.18it/s]\n",
      "  0%|                                                             | 0/30 [00:00<?, ?it/s]\u001b[A\n",
      " 40%|████████████████████▍                              | 12/30 [00:00<00:00, 115.48it/s]\u001b[A"
     ]
    },
    {
     "name": "stdout",
     "output_type": "stream",
     "text": [
      "Epoch 91, loss: 8176022.771620\n"
     ]
    },
    {
     "name": "stderr",
     "output_type": "stream",
     "text": [
      "\n",
      "100%|███████████████████████████████████████████████████| 30/30 [00:00<00:00, 104.30it/s]\u001b[A\n",
      " 93%|███████████████████████████████████████████████▍   | 93/100 [00:29<00:02,  3.25it/s]\n",
      "  0%|                                                             | 0/30 [00:00<?, ?it/s]\u001b[A\n",
      " 40%|████████████████████▍                              | 12/30 [00:00<00:00, 115.48it/s]\u001b[A"
     ]
    },
    {
     "name": "stdout",
     "output_type": "stream",
     "text": [
      "Epoch 92, loss: 8331253.699276\n"
     ]
    },
    {
     "name": "stderr",
     "output_type": "stream",
     "text": [
      "\n",
      "100%|███████████████████████████████████████████████████| 30/30 [00:00<00:00, 107.27it/s]\u001b[A\n",
      " 94%|███████████████████████████████████████████████▉   | 94/100 [00:29<00:01,  3.33it/s]\n",
      "  0%|                                                             | 0/30 [00:00<?, ?it/s]\u001b[A\n",
      " 40%|████████████████████▍                              | 12/30 [00:00<00:00, 111.25it/s]\u001b[A"
     ]
    },
    {
     "name": "stdout",
     "output_type": "stream",
     "text": [
      "Epoch 93, loss: 6453410.454604\n"
     ]
    },
    {
     "name": "stderr",
     "output_type": "stream",
     "text": [
      "\n",
      "100%|███████████████████████████████████████████████████| 30/30 [00:00<00:00, 104.29it/s]\u001b[A\n",
      " 95%|████████████████████████████████████████████████▍  | 95/100 [00:29<00:01,  3.36it/s]\n",
      "  0%|                                                             | 0/30 [00:00<?, ?it/s]\u001b[A\n",
      " 40%|████████████████████▍                              | 12/30 [00:00<00:00, 115.53it/s]\u001b[A"
     ]
    },
    {
     "name": "stdout",
     "output_type": "stream",
     "text": [
      "Epoch 94, loss: 8038589.946447\n"
     ]
    },
    {
     "name": "stderr",
     "output_type": "stream",
     "text": [
      "\n",
      "100%|███████████████████████████████████████████████████| 30/30 [00:00<00:00, 104.31it/s]\u001b[A\n",
      " 96%|████████████████████████████████████████████████▉  | 96/100 [00:30<00:01,  3.38it/s]\n",
      "  0%|                                                             | 0/30 [00:00<?, ?it/s]\u001b[A\n",
      " 37%|██████████████████▋                                | 11/30 [00:00<00:00, 105.87it/s]\u001b[A"
     ]
    },
    {
     "name": "stdout",
     "output_type": "stream",
     "text": [
      "Epoch 95, loss: 8314911.643419\n"
     ]
    },
    {
     "name": "stderr",
     "output_type": "stream",
     "text": [
      "\n",
      "100%|███████████████████████████████████████████████████| 30/30 [00:00<00:00, 105.76it/s]\u001b[A\n",
      " 97%|█████████████████████████████████████████████████▍ | 97/100 [00:30<00:00,  3.41it/s]\n",
      "  0%|                                                             | 0/30 [00:00<?, ?it/s]\u001b[A\n",
      " 40%|████████████████████▍                              | 12/30 [00:00<00:00, 111.22it/s]\u001b[A"
     ]
    },
    {
     "name": "stdout",
     "output_type": "stream",
     "text": [
      "Epoch 96, loss: 7964156.175135\n"
     ]
    },
    {
     "name": "stderr",
     "output_type": "stream",
     "text": [
      "\n",
      "100%|███████████████████████████████████████████████████| 30/30 [00:00<00:00, 102.88it/s]\u001b[A\n",
      " 98%|█████████████████████████████████████████████████▉ | 98/100 [00:30<00:00,  3.40it/s]\n",
      "  0%|                                                             | 0/30 [00:00<?, ?it/s]\u001b[A\n",
      " 37%|██████████████████▋                                | 11/30 [00:00<00:00, 105.86it/s]\u001b[A"
     ]
    },
    {
     "name": "stdout",
     "output_type": "stream",
     "text": [
      "Epoch 97, loss: 7873086.787570\n"
     ]
    },
    {
     "name": "stderr",
     "output_type": "stream",
     "text": [
      "\n",
      "100%|███████████████████████████████████████████████████| 30/30 [00:00<00:00, 102.88it/s]\u001b[A\n",
      " 99%|██████████████████████████████████████████████████▍| 99/100 [00:31<00:00,  3.40it/s]\n",
      "  0%|                                                             | 0/30 [00:00<?, ?it/s]\u001b[A\n",
      " 40%|████████████████████▍                              | 12/30 [00:00<00:00, 111.25it/s]\u001b[A"
     ]
    },
    {
     "name": "stdout",
     "output_type": "stream",
     "text": [
      "Epoch 98, loss: 7855737.599832\n"
     ]
    },
    {
     "name": "stderr",
     "output_type": "stream",
     "text": [
      "\n",
      "100%|███████████████████████████████████████████████████| 30/30 [00:00<00:00, 105.78it/s]\u001b[A\n",
      "100%|██████████████████████████████████████████████████| 100/100 [00:31<00:00,  3.18it/s]\n",
      "  0%|                                                            | 0/100 [00:00<?, ?it/s]\n",
      "  0%|                                                             | 0/30 [00:00<?, ?it/s]\u001b[A\n",
      " 37%|██████████████████▋                                | 11/30 [00:00<00:00, 101.93it/s]\u001b[A"
     ]
    },
    {
     "name": "stdout",
     "output_type": "stream",
     "text": [
      "Epoch 99, loss: 8778898.782458\n"
     ]
    },
    {
     "name": "stderr",
     "output_type": "stream",
     "text": [
      "\n",
      "100%|███████████████████████████████████████████████████| 30/30 [00:00<00:00, 102.86it/s]\u001b[A\n",
      "  1%|▌                                                   | 1/100 [00:00<00:29,  3.38it/s]\n",
      "  0%|                                                             | 0/30 [00:00<?, ?it/s]\u001b[A\n",
      " 43%|██████████████████████                             | 13/30 [00:00<00:00, 120.53it/s]\u001b[A"
     ]
    },
    {
     "name": "stdout",
     "output_type": "stream",
     "text": [
      "Epoch 0, loss: 2854663.973024\n"
     ]
    },
    {
     "name": "stderr",
     "output_type": "stream",
     "text": [
      "\n",
      "100%|███████████████████████████████████████████████████| 30/30 [00:00<00:00, 110.43it/s]\u001b[A\n",
      "  2%|█                                                   | 2/100 [00:00<00:28,  3.44it/s]\n",
      "  0%|                                                             | 0/30 [00:00<?, ?it/s]\u001b[A\n",
      " 43%|██████████████████████                             | 13/30 [00:00<00:00, 120.47it/s]\u001b[A"
     ]
    },
    {
     "name": "stdout",
     "output_type": "stream",
     "text": [
      "Epoch 1, loss: 2676229.538370\n"
     ]
    },
    {
     "name": "stderr",
     "output_type": "stream",
     "text": [
      "\n",
      "100%|███████████████████████████████████████████████████| 30/30 [00:00<00:00, 108.84it/s]\u001b[A\n",
      "  3%|█▌                                                  | 3/100 [00:00<00:27,  3.48it/s]\n",
      "  0%|                                                             | 0/30 [00:00<?, ?it/s]\u001b[A\n",
      " 37%|██████████████████▋                                | 11/30 [00:00<00:00, 105.86it/s]\u001b[A"
     ]
    },
    {
     "name": "stdout",
     "output_type": "stream",
     "text": [
      "Epoch 2, loss: 2773934.714001\n"
     ]
    },
    {
     "name": "stderr",
     "output_type": "stream",
     "text": [
      "\n",
      "100%|███████████████████████████████████████████████████| 30/30 [00:00<00:00, 101.47it/s]\u001b[A\n",
      "  4%|██                                                  | 4/100 [00:01<00:27,  3.43it/s]\n",
      "  0%|                                                             | 0/30 [00:00<?, ?it/s]\u001b[A\n",
      " 40%|████████████████████▍                              | 12/30 [00:00<00:00, 111.26it/s]\u001b[A"
     ]
    },
    {
     "name": "stdout",
     "output_type": "stream",
     "text": [
      "Epoch 3, loss: 2906771.965447\n"
     ]
    },
    {
     "name": "stderr",
     "output_type": "stream",
     "text": [
      "\n",
      "100%|███████████████████████████████████████████████████| 30/30 [00:00<00:00, 108.83it/s]\u001b[A\n",
      "  5%|██▌                                                 | 5/100 [00:01<00:27,  3.46it/s]\n",
      "  0%|                                                             | 0/30 [00:00<?, ?it/s]\u001b[A\n",
      " 43%|██████████████████████                             | 13/30 [00:00<00:00, 120.53it/s]\u001b[A"
     ]
    },
    {
     "name": "stdout",
     "output_type": "stream",
     "text": [
      "Epoch 4, loss: 3021719.510519\n"
     ]
    },
    {
     "name": "stderr",
     "output_type": "stream",
     "text": [
      "\n",
      "100%|███████████████████████████████████████████████████| 30/30 [00:00<00:00, 108.84it/s]\u001b[A\n",
      "  6%|███                                                 | 6/100 [00:01<00:26,  3.51it/s]\n",
      "  0%|                                                             | 0/30 [00:00<?, ?it/s]\u001b[A\n",
      " 43%|██████████████████████                             | 13/30 [00:00<00:00, 120.53it/s]\u001b[A"
     ]
    },
    {
     "name": "stdout",
     "output_type": "stream",
     "text": [
      "Epoch 5, loss: 2862821.132413\n"
     ]
    },
    {
     "name": "stderr",
     "output_type": "stream",
     "text": [
      "\n",
      "100%|███████████████████████████████████████████████████| 30/30 [00:00<00:00, 105.75it/s]\u001b[A\n",
      "  7%|███▋                                                | 7/100 [00:02<00:26,  3.50it/s]\n",
      "  0%|                                                             | 0/30 [00:00<?, ?it/s]\u001b[A\n",
      " 37%|███████████████████                                 | 11/30 [00:00<00:00, 98.34it/s]\u001b[A"
     ]
    },
    {
     "name": "stdout",
     "output_type": "stream",
     "text": [
      "Epoch 6, loss: 2880697.230986\n"
     ]
    },
    {
     "name": "stderr",
     "output_type": "stream",
     "text": [
      "\n",
      " 70%|████████████████████████████████████▍               | 21/30 [00:00<00:00, 96.58it/s]\u001b[A\n",
      "100%|████████████████████████████████████████████████████| 30/30 [00:00<00:00, 91.59it/s]\u001b[A\n",
      "  8%|████▏                                               | 8/100 [00:02<00:27,  3.34it/s]\n",
      "  0%|                                                             | 0/30 [00:00<?, ?it/s]\u001b[A\n",
      " 37%|██████████████████▋                                | 11/30 [00:00<00:00, 101.99it/s]\u001b[A"
     ]
    },
    {
     "name": "stdout",
     "output_type": "stream",
     "text": [
      "Epoch 7, loss: 2917019.756781\n"
     ]
    },
    {
     "name": "stderr",
     "output_type": "stream",
     "text": [
      "\n",
      "100%|███████████████████████████████████████████████████| 30/30 [00:00<00:00, 104.30it/s]\u001b[A\n",
      "  9%|████▋                                               | 9/100 [00:02<00:27,  3.37it/s]\n",
      "  0%|                                                             | 0/30 [00:00<?, ?it/s]\u001b[A\n",
      " 33%|█████████████████▎                                  | 10/30 [00:00<00:00, 89.40it/s]\u001b[A"
     ]
    },
    {
     "name": "stdout",
     "output_type": "stream",
     "text": [
      "Epoch 8, loss: 2878464.762298\n"
     ]
    },
    {
     "name": "stderr",
     "output_type": "stream",
     "text": [
      "\n",
      "100%|████████████████████████████████████████████████████| 30/30 [00:00<00:00, 97.53it/s]\u001b[A\n",
      " 10%|█████                                              | 10/100 [00:02<00:27,  3.32it/s]\n",
      "  0%|                                                             | 0/30 [00:00<?, ?it/s]\u001b[A\n",
      " 30%|███████████████▉                                     | 9/30 [00:00<00:00, 86.64it/s]\u001b[A"
     ]
    },
    {
     "name": "stdout",
     "output_type": "stream",
     "text": [
      "Epoch 9, loss: 3078326.737755\n"
     ]
    },
    {
     "name": "stderr",
     "output_type": "stream",
     "text": [
      "\n",
      " 60%|███████████████████████████████▏                    | 18/30 [00:00<00:00, 86.65it/s]\u001b[A\n",
      "100%|████████████████████████████████████████████████████| 30/30 [00:00<00:00, 91.59it/s]\u001b[A\n",
      " 11%|█████▌                                             | 11/100 [00:03<00:27,  3.22it/s]\n",
      "  0%|                                                             | 0/30 [00:00<?, ?it/s]\u001b[A\n",
      " 30%|███████████████▉                                     | 9/30 [00:00<00:00, 83.44it/s]\u001b[A"
     ]
    },
    {
     "name": "stdout",
     "output_type": "stream",
     "text": [
      "Epoch 10, loss: 2993988.708813\n"
     ]
    },
    {
     "name": "stderr",
     "output_type": "stream",
     "text": [
      "\n",
      "100%|████████████████████████████████████████████████████| 30/30 [00:00<00:00, 97.52it/s]\u001b[A\n",
      " 12%|██████                                             | 12/100 [00:03<00:27,  3.22it/s]\n",
      "  0%|                                                             | 0/30 [00:00<?, ?it/s]\u001b[A\n",
      " 37%|██████████████████▋                                | 11/30 [00:00<00:00, 101.94it/s]\u001b[A"
     ]
    },
    {
     "name": "stdout",
     "output_type": "stream",
     "text": [
      "Epoch 11, loss: 3142161.108785\n"
     ]
    },
    {
     "name": "stderr",
     "output_type": "stream",
     "text": [
      "\n",
      "100%|████████████████████████████████████████████████████| 30/30 [00:00<00:00, 97.52it/s]\u001b[A\n",
      " 13%|██████▋                                            | 13/100 [00:03<00:27,  3.21it/s]\n",
      "  0%|                                                             | 0/30 [00:00<?, ?it/s]\u001b[A\n",
      " 40%|████████████████████▍                              | 12/30 [00:00<00:00, 111.21it/s]\u001b[A"
     ]
    },
    {
     "name": "stdout",
     "output_type": "stream",
     "text": [
      "Epoch 12, loss: 3003740.094248\n"
     ]
    },
    {
     "name": "stderr",
     "output_type": "stream",
     "text": [
      "\n",
      "100%|███████████████████████████████████████████████████| 30/30 [00:00<00:00, 101.47it/s]\u001b[A\n",
      " 14%|███████▏                                           | 14/100 [00:04<00:26,  3.25it/s]\n",
      "  0%|                                                             | 0/30 [00:00<?, ?it/s]\u001b[A\n",
      " 40%|████████████████████▍                              | 12/30 [00:00<00:00, 115.49it/s]\u001b[A\n"
     ]
    },
    {
     "name": "stdout",
     "output_type": "stream",
     "text": [
      "Epoch 13, loss: 3055475.587968\n"
     ]
    },
    {
     "name": "stderr",
     "output_type": "stream",
     "text": [
      "100%|███████████████████████████████████████████████████| 30/30 [00:00<00:00, 107.28it/s]\u001b[A\n",
      " 15%|███████▋                                           | 15/100 [00:04<00:25,  3.33it/s]\n",
      "  0%|                                                             | 0/30 [00:00<?, ?it/s]\u001b[A\n",
      " 40%|████████████████████▍                              | 12/30 [00:00<00:00, 115.48it/s]\u001b[A"
     ]
    },
    {
     "name": "stdout",
     "output_type": "stream",
     "text": [
      "Epoch 14, loss: 3214598.971038\n"
     ]
    },
    {
     "name": "stderr",
     "output_type": "stream",
     "text": [
      "\n",
      "100%|███████████████████████████████████████████████████| 30/30 [00:00<00:00, 107.29it/s]\u001b[A\n",
      " 16%|████████▏                                          | 16/100 [00:04<00:24,  3.39it/s]\n",
      "  0%|                                                             | 0/30 [00:00<?, ?it/s]\u001b[A\n",
      " 37%|██████████████████▋                                | 11/30 [00:00<00:00, 105.86it/s]\u001b[A"
     ]
    },
    {
     "name": "stdout",
     "output_type": "stream",
     "text": [
      "Epoch 15, loss: 3307865.062500\n"
     ]
    },
    {
     "name": "stderr",
     "output_type": "stream",
     "text": [
      "\n",
      "100%|████████████████████████████████████████████████████| 30/30 [00:00<00:00, 96.28it/s]\u001b[A\n",
      " 17%|████████▋                                          | 17/100 [00:05<00:25,  3.32it/s]\n",
      "  0%|                                                             | 0/30 [00:00<?, ?it/s]\u001b[A\n",
      " 33%|█████████████████▎                                  | 10/30 [00:00<00:00, 92.72it/s]\u001b[A"
     ]
    },
    {
     "name": "stdout",
     "output_type": "stream",
     "text": [
      "Epoch 16, loss: 3253414.749778\n"
     ]
    },
    {
     "name": "stderr",
     "output_type": "stream",
     "text": [
      "\n",
      "100%|███████████████████████████████████████████████████| 30/30 [00:00<00:00, 100.12it/s]\u001b[A\n",
      " 18%|█████████▏                                         | 18/100 [00:05<00:24,  3.31it/s]\n",
      "  0%|                                                             | 0/30 [00:00<?, ?it/s]\u001b[A\n",
      " 40%|████████████████████▍                              | 12/30 [00:00<00:00, 111.22it/s]\u001b[A"
     ]
    },
    {
     "name": "stdout",
     "output_type": "stream",
     "text": [
      "Epoch 17, loss: 3452656.639856\n"
     ]
    },
    {
     "name": "stderr",
     "output_type": "stream",
     "text": [
      "\n",
      "100%|███████████████████████████████████████████████████| 30/30 [00:00<00:00, 102.88it/s]\u001b[A\n",
      " 19%|█████████▋                                         | 19/100 [00:05<00:24,  3.33it/s]\n",
      "  0%|                                                             | 0/30 [00:00<?, ?it/s]\u001b[A\n",
      " 40%|████████████████████▍                              | 12/30 [00:00<00:00, 115.54it/s]\u001b[A"
     ]
    },
    {
     "name": "stdout",
     "output_type": "stream",
     "text": [
      "Epoch 18, loss: 3567987.662710\n"
     ]
    },
    {
     "name": "stderr",
     "output_type": "stream",
     "text": [
      "\n",
      "100%|███████████████████████████████████████████████████| 30/30 [00:00<00:00, 107.27it/s]\u001b[A\n",
      " 20%|██████████▏                                        | 20/100 [00:05<00:23,  3.39it/s]\n",
      "  0%|                                                             | 0/30 [00:00<?, ?it/s]\u001b[A\n",
      " 40%|████████████████████▍                              | 12/30 [00:00<00:00, 115.53it/s]\u001b[A"
     ]
    },
    {
     "name": "stdout",
     "output_type": "stream",
     "text": [
      "Epoch 19, loss: 3156758.136646\n"
     ]
    },
    {
     "name": "stderr",
     "output_type": "stream",
     "text": [
      "\n",
      "100%|███████████████████████████████████████████████████| 30/30 [00:00<00:00, 107.27it/s]\u001b[A\n",
      " 21%|██████████▋                                        | 21/100 [00:06<00:23,  3.43it/s]\n",
      "  0%|                                                             | 0/30 [00:00<?, ?it/s]\u001b[A\n",
      " 43%|██████████████████████                             | 13/30 [00:00<00:00, 120.48it/s]\u001b[A"
     ]
    },
    {
     "name": "stdout",
     "output_type": "stream",
     "text": [
      "Epoch 20, loss: 3347212.353749\n"
     ]
    },
    {
     "name": "stderr",
     "output_type": "stream",
     "text": [
      "\n",
      "100%|███████████████████████████████████████████████████| 30/30 [00:00<00:00, 110.44it/s]\u001b[A\n",
      " 22%|███████████▏                                       | 22/100 [00:06<00:22,  3.49it/s]\n",
      "  0%|                                                             | 0/30 [00:00<?, ?it/s]\u001b[A\n",
      " 40%|████████████████████▍                              | 12/30 [00:00<00:00, 111.21it/s]\u001b[A"
     ]
    },
    {
     "name": "stdout",
     "output_type": "stream",
     "text": [
      "Epoch 21, loss: 3519133.315407\n"
     ]
    },
    {
     "name": "stderr",
     "output_type": "stream",
     "text": [
      "\n",
      "100%|███████████████████████████████████████████████████| 30/30 [00:00<00:00, 107.27it/s]\u001b[A\n",
      " 23%|███████████▋                                       | 23/100 [00:06<00:22,  3.48it/s]\n",
      "  0%|                                                             | 0/30 [00:00<?, ?it/s]\u001b[A\n",
      " 40%|████████████████████▍                              | 12/30 [00:00<00:00, 111.24it/s]\u001b[A"
     ]
    },
    {
     "name": "stdout",
     "output_type": "stream",
     "text": [
      "Epoch 22, loss: 3097176.419745\n"
     ]
    },
    {
     "name": "stderr",
     "output_type": "stream",
     "text": [
      "\n",
      "100%|███████████████████████████████████████████████████| 30/30 [00:00<00:00, 105.78it/s]\u001b[A\n",
      " 24%|████████████▏                                      | 24/100 [00:07<00:21,  3.50it/s]\n",
      "  0%|                                                             | 0/30 [00:00<?, ?it/s]\u001b[A\n",
      " 40%|████████████████████▍                              | 12/30 [00:00<00:00, 115.51it/s]\u001b[A"
     ]
    },
    {
     "name": "stdout",
     "output_type": "stream",
     "text": [
      "Epoch 23, loss: 3402957.267903\n"
     ]
    },
    {
     "name": "stderr",
     "output_type": "stream",
     "text": [
      "\n",
      "100%|███████████████████████████████████████████████████| 30/30 [00:00<00:00, 107.29it/s]\u001b[A\n",
      " 25%|████████████▊                                      | 25/100 [00:07<00:21,  3.50it/s]\n",
      "  0%|                                                             | 0/30 [00:00<?, ?it/s]\u001b[A\n",
      " 40%|████████████████████▍                              | 12/30 [00:00<00:00, 111.22it/s]\u001b[A"
     ]
    },
    {
     "name": "stdout",
     "output_type": "stream",
     "text": [
      "Epoch 24, loss: 3743122.708704\n"
     ]
    },
    {
     "name": "stderr",
     "output_type": "stream",
     "text": [
      "\n",
      "100%|███████████████████████████████████████████████████| 30/30 [00:00<00:00, 104.31it/s]\u001b[A\n",
      " 26%|█████████████▎                                     | 26/100 [00:07<00:21,  3.48it/s]\n",
      "  0%|                                                             | 0/30 [00:00<?, ?it/s]\u001b[A\n",
      " 40%|████████████████████▍                              | 12/30 [00:00<00:00, 115.54it/s]\u001b[A"
     ]
    },
    {
     "name": "stdout",
     "output_type": "stream",
     "text": [
      "Epoch 25, loss: 3925101.889155\n"
     ]
    },
    {
     "name": "stderr",
     "output_type": "stream",
     "text": [
      "\n",
      "100%|███████████████████████████████████████████████████| 30/30 [00:00<00:00, 107.27it/s]\u001b[A\n",
      " 27%|█████████████▊                                     | 27/100 [00:07<00:20,  3.49it/s]\n",
      "  0%|                                                             | 0/30 [00:00<?, ?it/s]\u001b[A\n",
      " 43%|██████████████████████                             | 13/30 [00:00<00:00, 120.53it/s]\u001b[A"
     ]
    },
    {
     "name": "stdout",
     "output_type": "stream",
     "text": [
      "Epoch 26, loss: 3490125.579618\n"
     ]
    },
    {
     "name": "stderr",
     "output_type": "stream",
     "text": [
      "\n",
      "100%|███████████████████████████████████████████████████| 30/30 [00:00<00:00, 108.84it/s]\u001b[A\n",
      " 28%|██████████████▎                                    | 28/100 [00:08<00:20,  3.50it/s]\n",
      "  0%|                                                             | 0/30 [00:00<?, ?it/s]\u001b[A\n",
      " 43%|██████████████████████                             | 13/30 [00:00<00:00, 120.53it/s]\u001b[A"
     ]
    },
    {
     "name": "stdout",
     "output_type": "stream",
     "text": [
      "Epoch 27, loss: 3830302.370116\n"
     ]
    },
    {
     "name": "stderr",
     "output_type": "stream",
     "text": [
      "\n",
      "100%|███████████████████████████████████████████████████| 30/30 [00:00<00:00, 108.82it/s]\u001b[A\n",
      " 29%|██████████████▊                                    | 29/100 [00:08<00:20,  3.53it/s]\n",
      "  0%|                                                             | 0/30 [00:00<?, ?it/s]\u001b[A\n",
      " 37%|██████████████████▋                                | 11/30 [00:00<00:00, 101.94it/s]\u001b[A"
     ]
    },
    {
     "name": "stdout",
     "output_type": "stream",
     "text": [
      "Epoch 28, loss: 3662111.819254\n"
     ]
    },
    {
     "name": "stderr",
     "output_type": "stream",
     "text": [
      "\n",
      "100%|███████████████████████████████████████████████████| 30/30 [00:00<00:00, 102.86it/s]\u001b[A\n",
      " 30%|███████████████▎                                   | 30/100 [00:08<00:20,  3.48it/s]\n",
      "  0%|                                                             | 0/30 [00:00<?, ?it/s]\u001b[A\n",
      " 43%|██████████████████████                             | 13/30 [00:00<00:00, 120.48it/s]\u001b[A"
     ]
    },
    {
     "name": "stdout",
     "output_type": "stream",
     "text": [
      "Epoch 29, loss: 3792141.783049\n"
     ]
    },
    {
     "name": "stderr",
     "output_type": "stream",
     "text": [
      "\n",
      "100%|███████████████████████████████████████████████████| 30/30 [00:00<00:00, 110.44it/s]\u001b[A\n",
      " 31%|███████████████▊                                   | 31/100 [00:09<00:19,  3.52it/s]\n",
      "  0%|                                                             | 0/30 [00:00<?, ?it/s]\u001b[A\n",
      " 40%|████████████████████▍                              | 12/30 [00:00<00:00, 115.54it/s]\u001b[A"
     ]
    },
    {
     "name": "stdout",
     "output_type": "stream",
     "text": [
      "Epoch 30, loss: 3937705.181754\n"
     ]
    },
    {
     "name": "stderr",
     "output_type": "stream",
     "text": [
      "\n",
      "100%|███████████████████████████████████████████████████| 30/30 [00:00<00:00, 108.84it/s]\u001b[A\n",
      " 32%|████████████████▎                                  | 32/100 [00:09<00:19,  3.52it/s]\n",
      "  0%|                                                             | 0/30 [00:00<?, ?it/s]\u001b[A\n",
      " 43%|██████████████████████                             | 13/30 [00:00<00:00, 120.52it/s]\u001b[A"
     ]
    },
    {
     "name": "stdout",
     "output_type": "stream",
     "text": [
      "Epoch 31, loss: 4010769.244945\n"
     ]
    },
    {
     "name": "stderr",
     "output_type": "stream",
     "text": [
      "\n",
      "100%|███████████████████████████████████████████████████| 30/30 [00:00<00:00, 108.83it/s]\u001b[A\n",
      " 33%|████████████████▊                                  | 33/100 [00:09<00:18,  3.54it/s]\n",
      "  0%|                                                             | 0/30 [00:00<?, ?it/s]\u001b[A\n",
      " 40%|████████████████████▍                              | 12/30 [00:00<00:00, 115.48it/s]\u001b[A"
     ]
    },
    {
     "name": "stdout",
     "output_type": "stream",
     "text": [
      "Epoch 32, loss: 3812842.506565\n"
     ]
    },
    {
     "name": "stderr",
     "output_type": "stream",
     "text": [
      "\n",
      "100%|███████████████████████████████████████████████████| 30/30 [00:00<00:00, 105.76it/s]\u001b[A\n",
      " 34%|█████████████████▎                                 | 34/100 [00:09<00:18,  3.52it/s]\n",
      "  0%|                                                             | 0/30 [00:00<?, ?it/s]\u001b[A\n",
      " 43%|██████████████████████                             | 13/30 [00:00<00:00, 120.47it/s]\u001b[A"
     ]
    },
    {
     "name": "stdout",
     "output_type": "stream",
     "text": [
      "Epoch 33, loss: 3630894.436220\n"
     ]
    },
    {
     "name": "stderr",
     "output_type": "stream",
     "text": [
      "\n",
      "100%|███████████████████████████████████████████████████| 30/30 [00:00<00:00, 108.83it/s]\u001b[A\n",
      " 35%|█████████████████▊                                 | 35/100 [00:10<00:18,  3.54it/s]\n",
      "  0%|                                                             | 0/30 [00:00<?, ?it/s]\u001b[A\n",
      " 37%|██████████████████▋                                | 11/30 [00:00<00:00, 105.91it/s]\u001b[A"
     ]
    },
    {
     "name": "stdout",
     "output_type": "stream",
     "text": [
      "Epoch 34, loss: 3949021.858641\n"
     ]
    },
    {
     "name": "stderr",
     "output_type": "stream",
     "text": [
      "\n",
      "100%|███████████████████████████████████████████████████| 30/30 [00:00<00:00, 107.28it/s]\u001b[A\n",
      " 36%|██████████████████▎                                | 36/100 [00:10<00:18,  3.52it/s]\n",
      "  0%|                                                             | 0/30 [00:00<?, ?it/s]\u001b[A\n",
      " 40%|████████████████████▍                              | 12/30 [00:00<00:00, 115.48it/s]\u001b[A"
     ]
    },
    {
     "name": "stdout",
     "output_type": "stream",
     "text": [
      "Epoch 35, loss: 4088478.442167\n"
     ]
    },
    {
     "name": "stderr",
     "output_type": "stream",
     "text": [
      "\n",
      "100%|███████████████████████████████████████████████████| 30/30 [00:00<00:00, 108.84it/s]\u001b[A\n",
      " 37%|██████████████████▊                                | 37/100 [00:10<00:17,  3.55it/s]\n",
      "  0%|                                                             | 0/30 [00:00<?, ?it/s]\u001b[A\n",
      " 40%|████████████████████▍                              | 12/30 [00:00<00:00, 115.54it/s]\u001b[A"
     ]
    },
    {
     "name": "stdout",
     "output_type": "stream",
     "text": [
      "Epoch 36, loss: 4523983.697775\n"
     ]
    },
    {
     "name": "stderr",
     "output_type": "stream",
     "text": [
      "\n",
      "100%|███████████████████████████████████████████████████| 30/30 [00:00<00:00, 107.28it/s]\u001b[A\n",
      " 38%|███████████████████▍                               | 38/100 [00:11<00:17,  3.54it/s]\n",
      "  0%|                                                             | 0/30 [00:00<?, ?it/s]\u001b[A\n",
      " 37%|███████████████████                                 | 11/30 [00:00<00:00, 94.47it/s]\u001b[A"
     ]
    },
    {
     "name": "stdout",
     "output_type": "stream",
     "text": [
      "Epoch 37, loss: 4257693.525494\n"
     ]
    },
    {
     "name": "stderr",
     "output_type": "stream",
     "text": [
      "\n",
      "100%|████████████████████████████████████████████████████| 30/30 [00:00<00:00, 95.05it/s]\u001b[A\n",
      " 39%|███████████████████▉                               | 39/100 [00:11<00:17,  3.41it/s]\n",
      "  0%|                                                             | 0/30 [00:00<?, ?it/s]\u001b[A\n",
      " 40%|████████████████████▍                              | 12/30 [00:00<00:00, 111.26it/s]\u001b[A"
     ]
    },
    {
     "name": "stdout",
     "output_type": "stream",
     "text": [
      "Epoch 38, loss: 4043691.071902\n"
     ]
    },
    {
     "name": "stderr",
     "output_type": "stream",
     "text": [
      "\n",
      "100%|███████████████████████████████████████████████████| 30/30 [00:00<00:00, 105.79it/s]\u001b[A\n",
      " 40%|████████████████████▍                              | 40/100 [00:11<00:17,  3.44it/s]\n",
      "  0%|                                                             | 0/30 [00:00<?, ?it/s]\u001b[A\n",
      " 37%|██████████████████▋                                | 11/30 [00:00<00:00, 101.98it/s]\u001b[A"
     ]
    },
    {
     "name": "stdout",
     "output_type": "stream",
     "text": [
      "Epoch 39, loss: 4348075.987096\n"
     ]
    },
    {
     "name": "stderr",
     "output_type": "stream",
     "text": [
      "\n",
      "100%|███████████████████████████████████████████████████| 30/30 [00:00<00:00, 102.86it/s]\u001b[A\n",
      " 41%|████████████████████▉                              | 41/100 [00:11<00:17,  3.42it/s]\n",
      "  0%|                                                             | 0/30 [00:00<?, ?it/s]\u001b[A\n",
      " 40%|████████████████████▍                              | 12/30 [00:00<00:00, 115.52it/s]\u001b[A"
     ]
    },
    {
     "name": "stdout",
     "output_type": "stream",
     "text": [
      "Epoch 40, loss: 4651084.368013\n"
     ]
    },
    {
     "name": "stderr",
     "output_type": "stream",
     "text": [
      "\n",
      "100%|███████████████████████████████████████████████████| 30/30 [00:00<00:00, 110.42it/s]\u001b[A\n",
      " 42%|█████████████████████▍                             | 42/100 [00:12<00:16,  3.48it/s]\n",
      "  0%|                                                             | 0/30 [00:00<?, ?it/s]\u001b[A\n",
      " 40%|████████████████████▍                              | 12/30 [00:00<00:00, 115.53it/s]\u001b[A"
     ]
    },
    {
     "name": "stdout",
     "output_type": "stream",
     "text": [
      "Epoch 41, loss: 4629119.512505\n"
     ]
    },
    {
     "name": "stderr",
     "output_type": "stream",
     "text": [
      "\n",
      "100%|███████████████████████████████████████████████████| 30/30 [00:00<00:00, 108.84it/s]\u001b[A\n",
      " 43%|█████████████████████▉                             | 43/100 [00:12<00:16,  3.50it/s]\n",
      "  0%|                                                             | 0/30 [00:00<?, ?it/s]\u001b[A\n",
      " 40%|████████████████████▍                              | 12/30 [00:00<00:00, 111.26it/s]\u001b[A"
     ]
    },
    {
     "name": "stdout",
     "output_type": "stream",
     "text": [
      "Epoch 42, loss: 4628642.817407\n"
     ]
    },
    {
     "name": "stderr",
     "output_type": "stream",
     "text": [
      "\n",
      "100%|███████████████████████████████████████████████████| 30/30 [00:00<00:00, 101.49it/s]\u001b[A\n",
      " 44%|██████████████████████▍                            | 44/100 [00:12<00:16,  3.46it/s]\n",
      "  0%|                                                             | 0/30 [00:00<?, ?it/s]\u001b[A\n",
      " 33%|█████████████████▎                                  | 10/30 [00:00<00:00, 96.28it/s]\u001b[A"
     ]
    },
    {
     "name": "stdout",
     "output_type": "stream",
     "text": [
      "Epoch 43, loss: 4642798.049934\n"
     ]
    },
    {
     "name": "stderr",
     "output_type": "stream",
     "text": [
      "\n",
      " 67%|██████████████████████████████████▋                 | 20/30 [00:00<00:00, 96.28it/s]\u001b[A\n",
      "100%|████████████████████████████████████████████████████| 30/30 [00:00<00:00, 96.28it/s]\u001b[A\n",
      " 45%|██████████████████████▉                            | 45/100 [00:13<00:16,  3.35it/s]\n",
      "  0%|                                                             | 0/30 [00:00<?, ?it/s]\u001b[A\n",
      " 40%|████████████████████▍                              | 12/30 [00:00<00:00, 115.53it/s]\u001b[A"
     ]
    },
    {
     "name": "stdout",
     "output_type": "stream",
     "text": [
      "Epoch 44, loss: 4707941.526823\n"
     ]
    },
    {
     "name": "stderr",
     "output_type": "stream",
     "text": [
      "\n",
      "100%|███████████████████████████████████████████████████| 30/30 [00:00<00:00, 107.27it/s]\u001b[A\n",
      " 46%|███████████████████████▍                           | 46/100 [00:13<00:15,  3.40it/s]\n",
      "  0%|                                                             | 0/30 [00:00<?, ?it/s]\u001b[A\n",
      " 43%|██████████████████████                             | 13/30 [00:00<00:00, 120.49it/s]\u001b[A"
     ]
    },
    {
     "name": "stdout",
     "output_type": "stream",
     "text": [
      "Epoch 45, loss: 4689905.834647\n"
     ]
    },
    {
     "name": "stderr",
     "output_type": "stream",
     "text": [
      "\n",
      "100%|███████████████████████████████████████████████████| 30/30 [00:00<00:00, 110.42it/s]\u001b[A\n",
      " 47%|███████████████████████▉                           | 47/100 [00:13<00:15,  3.47it/s]\n",
      "  0%|                                                             | 0/30 [00:00<?, ?it/s]\u001b[A\n",
      " 40%|████████████████████▍                              | 12/30 [00:00<00:00, 115.54it/s]\u001b[A"
     ]
    },
    {
     "name": "stdout",
     "output_type": "stream",
     "text": [
      "Epoch 46, loss: 4817482.450468\n"
     ]
    },
    {
     "name": "stderr",
     "output_type": "stream",
     "text": [
      "\n",
      "100%|███████████████████████████████████████████████████| 30/30 [00:00<00:00, 110.43it/s]\u001b[A\n",
      " 48%|████████████████████████▍                          | 48/100 [00:13<00:14,  3.50it/s]\n",
      "  0%|                                                             | 0/30 [00:00<?, ?it/s]\u001b[A\n",
      " 40%|████████████████████▍                              | 12/30 [00:00<00:00, 115.54it/s]\u001b[A"
     ]
    },
    {
     "name": "stdout",
     "output_type": "stream",
     "text": [
      "Epoch 47, loss: 5158533.468349\n"
     ]
    },
    {
     "name": "stderr",
     "output_type": "stream",
     "text": [
      "\n",
      "100%|███████████████████████████████████████████████████| 30/30 [00:00<00:00, 107.26it/s]\u001b[A\n",
      " 49%|████████████████████████▉                          | 49/100 [00:14<00:14,  3.51it/s]\n",
      "  0%|                                                             | 0/30 [00:00<?, ?it/s]\u001b[A\n",
      " 33%|█████████████████▎                                  | 10/30 [00:00<00:00, 96.28it/s]\u001b[A"
     ]
    },
    {
     "name": "stdout",
     "output_type": "stream",
     "text": [
      "Epoch 48, loss: 5078861.552756\n"
     ]
    },
    {
     "name": "stderr",
     "output_type": "stream",
     "text": [
      "\n",
      "100%|███████████████████████████████████████████████████| 30/30 [00:00<00:00, 107.29it/s]\u001b[A\n",
      " 50%|█████████████████████████▌                         | 50/100 [00:14<00:14,  3.51it/s]\n",
      "  0%|                                                             | 0/30 [00:00<?, ?it/s]\u001b[A\n",
      " 40%|████████████████████▍                              | 12/30 [00:00<00:00, 115.49it/s]\u001b[A"
     ]
    },
    {
     "name": "stdout",
     "output_type": "stream",
     "text": [
      "Epoch 49, loss: 4803947.182320\n"
     ]
    },
    {
     "name": "stderr",
     "output_type": "stream",
     "text": [
      "\n",
      "100%|███████████████████████████████████████████████████| 30/30 [00:00<00:00, 110.42it/s]\u001b[A\n",
      " 51%|██████████████████████████                         | 51/100 [00:14<00:13,  3.56it/s]\n",
      "  0%|                                                             | 0/30 [00:00<?, ?it/s]\u001b[A\n",
      " 40%|████████████████████▍                              | 12/30 [00:00<00:00, 111.21it/s]\u001b[A"
     ]
    },
    {
     "name": "stdout",
     "output_type": "stream",
     "text": [
      "Epoch 50, loss: 5136803.311340\n"
     ]
    },
    {
     "name": "stderr",
     "output_type": "stream",
     "text": [
      "\n",
      "100%|███████████████████████████████████████████████████| 30/30 [00:00<00:00, 110.42it/s]\u001b[A\n",
      " 52%|██████████████████████████▌                        | 52/100 [00:15<00:13,  3.58it/s]\n",
      "  0%|                                                             | 0/30 [00:00<?, ?it/s]\u001b[A\n",
      " 43%|██████████████████████                             | 13/30 [00:00<00:00, 120.47it/s]\u001b[A"
     ]
    },
    {
     "name": "stdout",
     "output_type": "stream",
     "text": [
      "Epoch 51, loss: 4985094.619247\n"
     ]
    },
    {
     "name": "stderr",
     "output_type": "stream",
     "text": [
      "\n",
      "100%|███████████████████████████████████████████████████| 30/30 [00:00<00:00, 112.07it/s]\u001b[A\n",
      " 53%|███████████████████████████                        | 53/100 [00:15<00:13,  3.61it/s]\n",
      "  0%|                                                             | 0/30 [00:00<?, ?it/s]\u001b[A\n",
      " 43%|██████████████████████                             | 13/30 [00:00<00:00, 120.48it/s]\u001b[A"
     ]
    },
    {
     "name": "stdout",
     "output_type": "stream",
     "text": [
      "Epoch 52, loss: 4929251.944071\n"
     ]
    },
    {
     "name": "stderr",
     "output_type": "stream",
     "text": [
      "\n",
      "100%|███████████████████████████████████████████████████| 30/30 [00:00<00:00, 107.28it/s]\u001b[A\n",
      " 54%|███████████████████████████▌                       | 54/100 [00:15<00:12,  3.59it/s]\n",
      "  0%|                                                             | 0/30 [00:00<?, ?it/s]\u001b[A\n",
      " 37%|██████████████████▋                                | 11/30 [00:00<00:00, 101.99it/s]\u001b[A"
     ]
    },
    {
     "name": "stdout",
     "output_type": "stream",
     "text": [
      "Epoch 53, loss: 5220994.148622\n"
     ]
    },
    {
     "name": "stderr",
     "output_type": "stream",
     "text": [
      "\n",
      "100%|███████████████████████████████████████████████████| 30/30 [00:00<00:00, 101.05it/s]\u001b[A\n",
      " 55%|████████████████████████████                       | 55/100 [00:15<00:12,  3.49it/s]\n",
      "  0%|                                                             | 0/30 [00:00<?, ?it/s]\u001b[A\n",
      " 40%|████████████████████▍                              | 12/30 [00:00<00:00, 113.87it/s]\u001b[A"
     ]
    },
    {
     "name": "stdout",
     "output_type": "stream",
     "text": [
      "Epoch 54, loss: 5369960.523899\n"
     ]
    },
    {
     "name": "stderr",
     "output_type": "stream",
     "text": [
      "\n",
      "100%|███████████████████████████████████████████████████| 30/30 [00:00<00:00, 109.83it/s]\u001b[A\n",
      " 56%|████████████████████████████▌                      | 56/100 [00:16<00:12,  3.51it/s]\n",
      "  0%|                                                             | 0/30 [00:00<?, ?it/s]\u001b[A\n",
      " 40%|████████████████████▍                              | 12/30 [00:00<00:00, 115.51it/s]\u001b[A"
     ]
    },
    {
     "name": "stdout",
     "output_type": "stream",
     "text": [
      "Epoch 55, loss: 5623034.436077\n"
     ]
    },
    {
     "name": "stderr",
     "output_type": "stream",
     "text": [
      "\n",
      "100%|███████████████████████████████████████████████████| 30/30 [00:00<00:00, 105.75it/s]\u001b[A\n",
      " 57%|█████████████████████████████                      | 57/100 [00:16<00:12,  3.51it/s]\n",
      "  0%|                                                             | 0/30 [00:00<?, ?it/s]\u001b[A\n",
      " 40%|████████████████████▍                              | 12/30 [00:00<00:00, 115.49it/s]\u001b[A"
     ]
    },
    {
     "name": "stdout",
     "output_type": "stream",
     "text": [
      "Epoch 56, loss: 5089410.426241\n"
     ]
    },
    {
     "name": "stderr",
     "output_type": "stream",
     "text": [
      "\n",
      "100%|███████████████████████████████████████████████████| 30/30 [00:00<00:00, 108.81it/s]\u001b[A\n",
      " 58%|█████████████████████████████▌                     | 58/100 [00:16<00:11,  3.53it/s]\n",
      "  0%|                                                             | 0/30 [00:00<?, ?it/s]\u001b[A\n",
      " 40%|████████████████████▍                              | 12/30 [00:00<00:00, 115.53it/s]\u001b[A"
     ]
    },
    {
     "name": "stdout",
     "output_type": "stream",
     "text": [
      "Epoch 57, loss: 5286756.575237\n"
     ]
    },
    {
     "name": "stderr",
     "output_type": "stream",
     "text": [
      "\n",
      "100%|███████████████████████████████████████████████████| 30/30 [00:00<00:00, 105.77it/s]\u001b[A\n",
      " 59%|██████████████████████████████                     | 59/100 [00:17<00:11,  3.52it/s]\n",
      "  0%|                                                             | 0/30 [00:00<?, ?it/s]\u001b[A\n",
      " 33%|█████████████████▎                                  | 10/30 [00:00<00:00, 96.28it/s]\u001b[A"
     ]
    },
    {
     "name": "stdout",
     "output_type": "stream",
     "text": [
      "Epoch 58, loss: 5807543.477578\n"
     ]
    },
    {
     "name": "stderr",
     "output_type": "stream",
     "text": [
      "\n",
      "100%|████████████████████████████████████████████████████| 30/30 [00:00<00:00, 98.82it/s]\u001b[A\n",
      " 60%|██████████████████████████████▌                    | 60/100 [00:17<00:11,  3.43it/s]\n",
      "  0%|                                                             | 0/30 [00:00<?, ?it/s]\u001b[A\n",
      " 33%|█████████████████▎                                  | 10/30 [00:00<00:00, 92.68it/s]\u001b[A"
     ]
    },
    {
     "name": "stdout",
     "output_type": "stream",
     "text": [
      "Epoch 59, loss: 5476400.969538\n"
     ]
    },
    {
     "name": "stderr",
     "output_type": "stream",
     "text": [
      "\n",
      " 63%|████████████████████████████████▉                   | 19/30 [00:00<00:00, 90.79it/s]\u001b[A\n",
      "100%|████████████████████████████████████████████████████| 30/30 [00:00<00:00, 91.57it/s]\u001b[A\n",
      " 61%|███████████████████████████████                    | 61/100 [00:17<00:11,  3.30it/s]\n",
      "  0%|                                                             | 0/30 [00:00<?, ?it/s]\u001b[A\n",
      " 30%|███████████████▉                                     | 9/30 [00:00<00:00, 86.66it/s]\u001b[A"
     ]
    },
    {
     "name": "stdout",
     "output_type": "stream",
     "text": [
      "Epoch 60, loss: 5771714.741955\n"
     ]
    },
    {
     "name": "stderr",
     "output_type": "stream",
     "text": [
      "\n",
      " 63%|████████████████████████████████▉                   | 19/30 [00:00<00:00, 89.33it/s]\u001b[A\n",
      "100%|████████████████████████████████████████████████████| 30/30 [00:00<00:00, 91.59it/s]\u001b[A\n",
      " 62%|███████████████████████████████▌                   | 62/100 [00:18<00:11,  3.21it/s]\n",
      "  0%|                                                             | 0/30 [00:00<?, ?it/s]\u001b[A\n",
      " 30%|███████████████▉                                     | 9/30 [00:00<00:00, 86.65it/s]\u001b[A"
     ]
    },
    {
     "name": "stdout",
     "output_type": "stream",
     "text": [
      "Epoch 61, loss: 6290471.372007\n"
     ]
    },
    {
     "name": "stderr",
     "output_type": "stream",
     "text": [
      "\n",
      " 67%|██████████████████████████████████▋                 | 20/30 [00:00<00:00, 90.75it/s]\u001b[A\n",
      "100%|████████████████████████████████████████████████████| 30/30 [00:00<00:00, 91.57it/s]\u001b[A\n",
      " 63%|████████████████████████████████▏                  | 63/100 [00:18<00:11,  3.15it/s]\n",
      "  0%|                                                             | 0/30 [00:00<?, ?it/s]\u001b[A\n",
      " 33%|█████████████████▎                                  | 10/30 [00:00<00:00, 96.28it/s]\u001b[A"
     ]
    },
    {
     "name": "stdout",
     "output_type": "stream",
     "text": [
      "Epoch 62, loss: 5563324.289234\n"
     ]
    },
    {
     "name": "stderr",
     "output_type": "stream",
     "text": [
      "\n",
      " 67%|██████████████████████████████████▋                 | 20/30 [00:00<00:00, 95.18it/s]\u001b[A\n",
      "100%|████████████████████████████████████████████████████| 30/30 [00:00<00:00, 93.88it/s]\u001b[A\n",
      " 64%|████████████████████████████████▋                  | 64/100 [00:18<00:11,  3.13it/s]\n",
      "  0%|                                                             | 0/30 [00:00<?, ?it/s]\u001b[A\n",
      " 37%|███████████████████                                 | 11/30 [00:00<00:00, 98.34it/s]\u001b[A"
     ]
    },
    {
     "name": "stdout",
     "output_type": "stream",
     "text": [
      "Epoch 63, loss: 6036054.234429\n"
     ]
    },
    {
     "name": "stderr",
     "output_type": "stream",
     "text": [
      "\n",
      "100%|████████████████████████████████████████████████████| 30/30 [00:00<00:00, 96.27it/s]\u001b[A\n",
      " 65%|█████████████████████████████████▏                 | 65/100 [00:19<00:11,  3.14it/s]\n",
      "  0%|                                                             | 0/30 [00:00<?, ?it/s]\u001b[A\n",
      " 40%|████████████████████▍                              | 12/30 [00:00<00:00, 115.49it/s]\u001b[A"
     ]
    },
    {
     "name": "stdout",
     "output_type": "stream",
     "text": [
      "Epoch 64, loss: 6051805.505496\n"
     ]
    },
    {
     "name": "stderr",
     "output_type": "stream",
     "text": [
      "\n",
      "100%|███████████████████████████████████████████████████| 30/30 [00:00<00:00, 107.27it/s]\u001b[A\n",
      " 66%|█████████████████████████████████▋                 | 66/100 [00:19<00:10,  3.25it/s]\n",
      "  0%|                                                             | 0/30 [00:00<?, ?it/s]\u001b[A\n",
      " 37%|██████████████████▋                                | 11/30 [00:00<00:00, 105.91it/s]\u001b[A"
     ]
    },
    {
     "name": "stdout",
     "output_type": "stream",
     "text": [
      "Epoch 65, loss: 6078759.533089\n"
     ]
    },
    {
     "name": "stderr",
     "output_type": "stream",
     "text": [
      "\n",
      "100%|███████████████████████████████████████████████████| 30/30 [00:00<00:00, 107.28it/s]\u001b[A\n",
      " 67%|██████████████████████████████████▏                | 67/100 [00:19<00:09,  3.33it/s]\n",
      "  0%|                                                             | 0/30 [00:00<?, ?it/s]\u001b[A\n",
      " 40%|████████████████████▍                              | 12/30 [00:00<00:00, 111.22it/s]\u001b[A"
     ]
    },
    {
     "name": "stdout",
     "output_type": "stream",
     "text": [
      "Epoch 66, loss: 6232796.637575\n"
     ]
    },
    {
     "name": "stderr",
     "output_type": "stream",
     "text": [
      "\n",
      "100%|███████████████████████████████████████████████████| 30/30 [00:00<00:00, 105.77it/s]\u001b[A\n",
      " 68%|██████████████████████████████████▋                | 68/100 [00:19<00:09,  3.38it/s]\n",
      "  0%|                                                             | 0/30 [00:00<?, ?it/s]\u001b[A\n",
      " 40%|████████████████████▍                              | 12/30 [00:00<00:00, 111.26it/s]\u001b[A"
     ]
    },
    {
     "name": "stdout",
     "output_type": "stream",
     "text": [
      "Epoch 67, loss: 6889146.537383\n"
     ]
    },
    {
     "name": "stderr",
     "output_type": "stream",
     "text": [
      "\n",
      "100%|███████████████████████████████████████████████████| 30/30 [00:00<00:00, 107.27it/s]\u001b[A\n",
      " 69%|███████████████████████████████████▏               | 69/100 [00:20<00:09,  3.43it/s]\n",
      "  0%|                                                             | 0/30 [00:00<?, ?it/s]\u001b[A\n",
      " 40%|████████████████████▍                              | 12/30 [00:00<00:00, 115.54it/s]\u001b[A"
     ]
    },
    {
     "name": "stdout",
     "output_type": "stream",
     "text": [
      "Epoch 68, loss: 6084302.405927\n"
     ]
    },
    {
     "name": "stderr",
     "output_type": "stream",
     "text": [
      "\n",
      "100%|███████████████████████████████████████████████████| 30/30 [00:00<00:00, 108.82it/s]\u001b[A\n",
      " 70%|███████████████████████████████████▋               | 70/100 [00:20<00:08,  3.47it/s]\n",
      "  0%|                                                             | 0/30 [00:00<?, ?it/s]\u001b[A\n",
      " 43%|██████████████████████                             | 13/30 [00:00<00:00, 120.49it/s]\u001b[A"
     ]
    },
    {
     "name": "stdout",
     "output_type": "stream",
     "text": [
      "Epoch 69, loss: 6225434.395472\n"
     ]
    },
    {
     "name": "stderr",
     "output_type": "stream",
     "text": [
      "\n",
      "100%|███████████████████████████████████████████████████| 30/30 [00:00<00:00, 110.43it/s]\u001b[A\n",
      " 71%|████████████████████████████████████▏              | 71/100 [00:20<00:08,  3.50it/s]\n",
      "  0%|                                                             | 0/30 [00:00<?, ?it/s]\u001b[A\n",
      " 40%|████████████████████▍                              | 12/30 [00:00<00:00, 115.54it/s]\u001b[A"
     ]
    },
    {
     "name": "stdout",
     "output_type": "stream",
     "text": [
      "Epoch 70, loss: 5779313.186992\n"
     ]
    },
    {
     "name": "stderr",
     "output_type": "stream",
     "text": [
      "\n",
      "100%|███████████████████████████████████████████████████| 30/30 [00:00<00:00, 104.30it/s]\u001b[A\n",
      " 72%|████████████████████████████████████▋              | 72/100 [00:20<00:08,  3.49it/s]\n",
      "  0%|                                                             | 0/30 [00:00<?, ?it/s]\u001b[A\n",
      " 40%|████████████████████▍                              | 12/30 [00:00<00:00, 115.48it/s]\u001b[A"
     ]
    },
    {
     "name": "stdout",
     "output_type": "stream",
     "text": [
      "Epoch 71, loss: 6676620.672530\n"
     ]
    },
    {
     "name": "stderr",
     "output_type": "stream",
     "text": [
      "\n",
      "100%|███████████████████████████████████████████████████| 30/30 [00:00<00:00, 108.84it/s]\u001b[A\n",
      " 73%|█████████████████████████████████████▏             | 73/100 [00:21<00:07,  3.52it/s]\n",
      "  0%|                                                             | 0/30 [00:00<?, ?it/s]\u001b[A\n",
      " 43%|██████████████████████                             | 13/30 [00:00<00:00, 120.48it/s]\u001b[A"
     ]
    },
    {
     "name": "stdout",
     "output_type": "stream",
     "text": [
      "Epoch 72, loss: 6075804.196714\n"
     ]
    },
    {
     "name": "stderr",
     "output_type": "stream",
     "text": [
      "\n",
      "100%|███████████████████████████████████████████████████| 30/30 [00:00<00:00, 110.44it/s]\u001b[A\n",
      " 74%|█████████████████████████████████████▋             | 74/100 [00:21<00:07,  3.54it/s]\n",
      "  0%|                                                             | 0/30 [00:00<?, ?it/s]\u001b[A\n",
      " 33%|█████████████████▎                                  | 10/30 [00:00<00:00, 98.39it/s]\u001b[A"
     ]
    },
    {
     "name": "stdout",
     "output_type": "stream",
     "text": [
      "Epoch 73, loss: 7998450.886420\n"
     ]
    },
    {
     "name": "stderr",
     "output_type": "stream",
     "text": [
      "\n",
      "100%|███████████████████████████████████████████████████| 30/30 [00:00<00:00, 105.12it/s]\u001b[A\n",
      " 75%|██████████████████████████████████████▎            | 75/100 [00:21<00:07,  3.50it/s]\n",
      "  0%|                                                             | 0/30 [00:00<?, ?it/s]\u001b[A\n",
      " 40%|████████████████████▍                              | 12/30 [00:00<00:00, 111.26it/s]\u001b[A"
     ]
    },
    {
     "name": "stdout",
     "output_type": "stream",
     "text": [
      "Epoch 74, loss: 6960508.948180\n"
     ]
    },
    {
     "name": "stderr",
     "output_type": "stream",
     "text": [
      "\n",
      "100%|███████████████████████████████████████████████████| 30/30 [00:00<00:00, 104.31it/s]\u001b[A\n",
      " 76%|██████████████████████████████████████▊            | 76/100 [00:22<00:06,  3.49it/s]\n",
      "  0%|                                                             | 0/30 [00:00<?, ?it/s]\u001b[A\n",
      " 40%|████████████████████▍                              | 12/30 [00:00<00:00, 115.54it/s]\u001b[A"
     ]
    },
    {
     "name": "stdout",
     "output_type": "stream",
     "text": [
      "Epoch 75, loss: 6189405.320319\n"
     ]
    },
    {
     "name": "stderr",
     "output_type": "stream",
     "text": [
      "\n",
      "100%|███████████████████████████████████████████████████| 30/30 [00:00<00:00, 110.44it/s]\u001b[A\n",
      " 77%|███████████████████████████████████████▎           | 77/100 [00:22<00:06,  3.55it/s]\n",
      "  0%|                                                             | 0/30 [00:00<?, ?it/s]\u001b[A\n",
      " 43%|██████████████████████                             | 13/30 [00:00<00:00, 120.53it/s]\u001b[A"
     ]
    },
    {
     "name": "stdout",
     "output_type": "stream",
     "text": [
      "Epoch 76, loss: 7359318.166345\n"
     ]
    },
    {
     "name": "stderr",
     "output_type": "stream",
     "text": [
      "\n",
      "100%|███████████████████████████████████████████████████| 30/30 [00:00<00:00, 108.84it/s]\u001b[A\n",
      " 78%|███████████████████████████████████████▊           | 78/100 [00:22<00:06,  3.55it/s]\n",
      "  0%|                                                             | 0/30 [00:00<?, ?it/s]\u001b[A\n",
      " 40%|████████████████████▍                              | 12/30 [00:00<00:00, 115.53it/s]\u001b[A"
     ]
    },
    {
     "name": "stdout",
     "output_type": "stream",
     "text": [
      "Epoch 77, loss: 7044187.380671\n"
     ]
    },
    {
     "name": "stderr",
     "output_type": "stream",
     "text": [
      "\n",
      "100%|███████████████████████████████████████████████████| 30/30 [00:00<00:00, 110.44it/s]\u001b[A\n",
      " 79%|████████████████████████████████████████▎          | 79/100 [00:22<00:05,  3.58it/s]\n",
      "  0%|                                                             | 0/30 [00:00<?, ?it/s]\u001b[A\n",
      " 40%|████████████████████▍                              | 12/30 [00:00<00:00, 111.26it/s]\u001b[A"
     ]
    },
    {
     "name": "stdout",
     "output_type": "stream",
     "text": [
      "Epoch 78, loss: 6402550.106052\n"
     ]
    },
    {
     "name": "stderr",
     "output_type": "stream",
     "text": [
      "\n",
      "100%|███████████████████████████████████████████████████| 30/30 [00:00<00:00, 105.78it/s]\u001b[A\n",
      " 80%|████████████████████████████████████████▊          | 80/100 [00:23<00:05,  3.55it/s]\n",
      "  0%|                                                             | 0/30 [00:00<?, ?it/s]\u001b[A\n",
      " 33%|█████████████████▎                                  | 10/30 [00:00<00:00, 96.28it/s]\u001b[A"
     ]
    },
    {
     "name": "stdout",
     "output_type": "stream",
     "text": [
      "Epoch 79, loss: 6661317.308868\n"
     ]
    },
    {
     "name": "stderr",
     "output_type": "stream",
     "text": [
      "\n",
      "100%|███████████████████████████████████████████████████| 30/30 [00:00<00:00, 104.31it/s]\u001b[A\n",
      " 81%|█████████████████████████████████████████▎         | 81/100 [00:23<00:05,  3.51it/s]\n",
      "  0%|                                                             | 0/30 [00:00<?, ?it/s]\u001b[A\n",
      " 37%|██████████████████▋                                | 11/30 [00:00<00:00, 105.91it/s]\u001b[A"
     ]
    },
    {
     "name": "stdout",
     "output_type": "stream",
     "text": [
      "Epoch 80, loss: 6762667.376446\n"
     ]
    },
    {
     "name": "stderr",
     "output_type": "stream",
     "text": [
      "\n",
      "100%|███████████████████████████████████████████████████| 30/30 [00:00<00:00, 102.88it/s]\u001b[A\n",
      " 82%|█████████████████████████████████████████▊         | 82/100 [00:23<00:05,  3.47it/s]\n",
      "  0%|                                                             | 0/30 [00:00<?, ?it/s]\u001b[A\n",
      " 43%|██████████████████████                             | 13/30 [00:00<00:00, 120.53it/s]\u001b[A"
     ]
    },
    {
     "name": "stdout",
     "output_type": "stream",
     "text": [
      "Epoch 81, loss: 7063330.827934\n"
     ]
    },
    {
     "name": "stderr",
     "output_type": "stream",
     "text": [
      "\n",
      "100%|███████████████████████████████████████████████████| 30/30 [00:00<00:00, 108.84it/s]\u001b[A\n",
      " 83%|██████████████████████████████████████████▎        | 83/100 [00:24<00:04,  3.49it/s]\n",
      "  0%|                                                             | 0/30 [00:00<?, ?it/s]\u001b[A\n",
      " 37%|██████████████████▋                                | 11/30 [00:00<00:00, 101.99it/s]\u001b[A"
     ]
    },
    {
     "name": "stdout",
     "output_type": "stream",
     "text": [
      "Epoch 82, loss: 7241935.154129\n"
     ]
    },
    {
     "name": "stderr",
     "output_type": "stream",
     "text": [
      "\n",
      "100%|███████████████████████████████████████████████████| 30/30 [00:00<00:00, 104.31it/s]\u001b[A\n",
      " 84%|██████████████████████████████████████████▊        | 84/100 [00:24<00:04,  3.48it/s]\n",
      "  0%|                                                             | 0/30 [00:00<?, ?it/s]\u001b[A\n",
      " 40%|████████████████████▍                              | 12/30 [00:00<00:00, 111.26it/s]\u001b[A"
     ]
    },
    {
     "name": "stdout",
     "output_type": "stream",
     "text": [
      "Epoch 83, loss: 7943489.000565\n"
     ]
    },
    {
     "name": "stderr",
     "output_type": "stream",
     "text": [
      "\n",
      "100%|███████████████████████████████████████████████████| 30/30 [00:00<00:00, 108.84it/s]\u001b[A\n",
      " 85%|███████████████████████████████████████████▎       | 85/100 [00:24<00:04,  3.51it/s]\n",
      "  0%|                                                             | 0/30 [00:00<?, ?it/s]\u001b[A\n",
      " 40%|████████████████████▍                              | 12/30 [00:00<00:00, 111.26it/s]\u001b[A"
     ]
    },
    {
     "name": "stdout",
     "output_type": "stream",
     "text": [
      "Epoch 84, loss: 6489206.232879\n"
     ]
    },
    {
     "name": "stderr",
     "output_type": "stream",
     "text": [
      "\n",
      "100%|███████████████████████████████████████████████████| 30/30 [00:00<00:00, 108.84it/s]\u001b[A\n",
      " 86%|███████████████████████████████████████████▊       | 86/100 [00:24<00:03,  3.52it/s]\n",
      "  0%|                                                             | 0/30 [00:00<?, ?it/s]\u001b[A\n",
      " 40%|████████████████████▍                              | 12/30 [00:00<00:00, 115.54it/s]\u001b[A"
     ]
    },
    {
     "name": "stdout",
     "output_type": "stream",
     "text": [
      "Epoch 85, loss: 7078529.840380\n"
     ]
    },
    {
     "name": "stderr",
     "output_type": "stream",
     "text": [
      "\n",
      "100%|███████████████████████████████████████████████████| 30/30 [00:00<00:00, 108.84it/s]\u001b[A\n",
      " 87%|████████████████████████████████████████████▎      | 87/100 [00:25<00:03,  3.55it/s]\n",
      "  0%|                                                             | 0/30 [00:00<?, ?it/s]\u001b[A\n",
      " 40%|████████████████████▍                              | 12/30 [00:00<00:00, 115.54it/s]\u001b[A"
     ]
    },
    {
     "name": "stdout",
     "output_type": "stream",
     "text": [
      "Epoch 86, loss: 7400320.235783\n"
     ]
    },
    {
     "name": "stderr",
     "output_type": "stream",
     "text": [
      "\n",
      "100%|███████████████████████████████████████████████████| 30/30 [00:00<00:00, 107.29it/s]\u001b[A\n",
      " 88%|████████████████████████████████████████████▉      | 88/100 [00:25<00:03,  3.54it/s]\n",
      "  0%|                                                             | 0/30 [00:00<?, ?it/s]\u001b[A\n",
      " 43%|██████████████████████                             | 13/30 [00:00<00:00, 120.53it/s]\u001b[A"
     ]
    },
    {
     "name": "stdout",
     "output_type": "stream",
     "text": [
      "Epoch 87, loss: 6674323.181820\n"
     ]
    },
    {
     "name": "stderr",
     "output_type": "stream",
     "text": [
      "\n",
      "100%|███████████████████████████████████████████████████| 30/30 [00:00<00:00, 108.84it/s]\u001b[A\n",
      " 89%|█████████████████████████████████████████████▍     | 89/100 [00:25<00:03,  3.55it/s]\n",
      "  0%|                                                             | 0/30 [00:00<?, ?it/s]\u001b[A\n",
      " 37%|██████████████████▋                                | 11/30 [00:00<00:00, 101.94it/s]\u001b[A"
     ]
    },
    {
     "name": "stdout",
     "output_type": "stream",
     "text": [
      "Epoch 88, loss: 8029663.899595\n"
     ]
    },
    {
     "name": "stderr",
     "output_type": "stream",
     "text": [
      "\n",
      "100%|███████████████████████████████████████████████████| 30/30 [00:00<00:00, 104.30it/s]\u001b[A\n",
      " 90%|█████████████████████████████████████████████▉     | 90/100 [00:26<00:02,  3.50it/s]\n",
      "  0%|                                                             | 0/30 [00:00<?, ?it/s]\u001b[A\n",
      " 37%|██████████████████▋                                | 11/30 [00:00<00:00, 105.91it/s]\u001b[A"
     ]
    },
    {
     "name": "stdout",
     "output_type": "stream",
     "text": [
      "Epoch 89, loss: 7682405.894592\n"
     ]
    },
    {
     "name": "stderr",
     "output_type": "stream",
     "text": [
      "\n",
      "100%|███████████████████████████████████████████████████| 30/30 [00:00<00:00, 107.29it/s]\u001b[A\n",
      " 91%|██████████████████████████████████████████████▍    | 91/100 [00:26<00:02,  3.49it/s]\n",
      "  0%|                                                             | 0/30 [00:00<?, ?it/s]\u001b[A\n",
      " 40%|████████████████████▍                              | 12/30 [00:00<00:00, 115.54it/s]\u001b[A"
     ]
    },
    {
     "name": "stdout",
     "output_type": "stream",
     "text": [
      "Epoch 90, loss: 8130902.904497\n"
     ]
    },
    {
     "name": "stderr",
     "output_type": "stream",
     "text": [
      "\n",
      "100%|███████████████████████████████████████████████████| 30/30 [00:00<00:00, 110.44it/s]\u001b[A\n",
      " 92%|██████████████████████████████████████████████▉    | 92/100 [00:26<00:02,  3.53it/s]\n",
      "  0%|                                                             | 0/30 [00:00<?, ?it/s]\u001b[A\n",
      " 43%|██████████████████████                             | 13/30 [00:00<00:00, 120.54it/s]\u001b[A"
     ]
    },
    {
     "name": "stdout",
     "output_type": "stream",
     "text": [
      "Epoch 91, loss: 8164815.243671\n"
     ]
    },
    {
     "name": "stderr",
     "output_type": "stream",
     "text": [
      "\n",
      "100%|███████████████████████████████████████████████████| 30/30 [00:00<00:00, 107.29it/s]\u001b[A\n",
      " 93%|███████████████████████████████████████████████▍   | 93/100 [00:26<00:01,  3.53it/s]\n",
      "  0%|                                                             | 0/30 [00:00<?, ?it/s]\u001b[A\n",
      " 33%|█████████████████▎                                  | 10/30 [00:00<00:00, 96.28it/s]\u001b[A"
     ]
    },
    {
     "name": "stdout",
     "output_type": "stream",
     "text": [
      "Epoch 92, loss: 7853309.627551\n"
     ]
    },
    {
     "name": "stderr",
     "output_type": "stream",
     "text": [
      "\n",
      "100%|███████████████████████████████████████████████████| 30/30 [00:00<00:00, 105.77it/s]\u001b[A\n",
      " 94%|███████████████████████████████████████████████▉   | 94/100 [00:27<00:01,  3.51it/s]\n",
      "  0%|                                                             | 0/30 [00:00<?, ?it/s]\u001b[A\n",
      " 37%|██████████████████▋                                | 11/30 [00:00<00:00, 105.91it/s]\u001b[A"
     ]
    },
    {
     "name": "stdout",
     "output_type": "stream",
     "text": [
      "Epoch 93, loss: 7881266.943430\n"
     ]
    },
    {
     "name": "stderr",
     "output_type": "stream",
     "text": [
      "\n",
      "100%|███████████████████████████████████████████████████| 30/30 [00:00<00:00, 104.30it/s]\u001b[A\n",
      " 95%|████████████████████████████████████████████████▍  | 95/100 [00:27<00:01,  3.49it/s]\n",
      "  0%|                                                             | 0/30 [00:00<?, ?it/s]\u001b[A\n",
      " 43%|██████████████████████                             | 13/30 [00:00<00:00, 120.53it/s]\u001b[A"
     ]
    },
    {
     "name": "stdout",
     "output_type": "stream",
     "text": [
      "Epoch 94, loss: 8898520.376298\n"
     ]
    },
    {
     "name": "stderr",
     "output_type": "stream",
     "text": [
      "\n",
      "100%|███████████████████████████████████████████████████| 30/30 [00:00<00:00, 108.84it/s]\u001b[A\n",
      " 96%|████████████████████████████████████████████████▉  | 96/100 [00:27<00:01,  3.51it/s]\n",
      "  0%|                                                             | 0/30 [00:00<?, ?it/s]\u001b[A\n",
      " 43%|██████████████████████                             | 13/30 [00:00<00:00, 125.17it/s]\u001b[A"
     ]
    },
    {
     "name": "stdout",
     "output_type": "stream",
     "text": [
      "Epoch 95, loss: 8197813.432727\n"
     ]
    },
    {
     "name": "stderr",
     "output_type": "stream",
     "text": [
      "\n",
      "100%|███████████████████████████████████████████████████| 30/30 [00:00<00:00, 110.44it/s]\u001b[A\n",
      " 97%|█████████████████████████████████████████████████▍ | 97/100 [00:28<00:00,  3.55it/s]\n",
      "  0%|                                                             | 0/30 [00:00<?, ?it/s]\u001b[A\n",
      " 37%|██████████████████▋                                | 11/30 [00:00<00:00, 101.99it/s]\u001b[A"
     ]
    },
    {
     "name": "stdout",
     "output_type": "stream",
     "text": [
      "Epoch 96, loss: 6656823.463905\n"
     ]
    },
    {
     "name": "stderr",
     "output_type": "stream",
     "text": [
      "\n",
      "100%|███████████████████████████████████████████████████| 30/30 [00:00<00:00, 100.12it/s]\u001b[A\n",
      " 98%|█████████████████████████████████████████████████▉ | 98/100 [00:28<00:00,  3.47it/s]\n",
      "  0%|                                                             | 0/30 [00:00<?, ?it/s]\u001b[A\n",
      " 40%|████████████████████▍                              | 12/30 [00:00<00:00, 111.26it/s]\u001b[A"
     ]
    },
    {
     "name": "stdout",
     "output_type": "stream",
     "text": [
      "Epoch 97, loss: 6937515.472199\n"
     ]
    },
    {
     "name": "stderr",
     "output_type": "stream",
     "text": [
      "\n",
      "100%|███████████████████████████████████████████████████| 30/30 [00:00<00:00, 104.30it/s]\u001b[A\n",
      " 99%|██████████████████████████████████████████████████▍| 99/100 [00:28<00:00,  3.46it/s]\n",
      "  0%|                                                             | 0/30 [00:00<?, ?it/s]\u001b[A\n",
      " 40%|████████████████████▍                              | 12/30 [00:00<00:00, 115.54it/s]\u001b[A"
     ]
    },
    {
     "name": "stdout",
     "output_type": "stream",
     "text": [
      "Epoch 98, loss: 9404034.663155\n"
     ]
    },
    {
     "name": "stderr",
     "output_type": "stream",
     "text": [
      "\n",
      "100%|███████████████████████████████████████████████████| 30/30 [00:00<00:00, 105.77it/s]\u001b[A\n",
      "100%|██████████████████████████████████████████████████| 100/100 [00:28<00:00,  3.45it/s]\n",
      "  0%|                                                            | 0/100 [00:00<?, ?it/s]\n",
      "  0%|                                                             | 0/30 [00:00<?, ?it/s]\u001b[A\n",
      " 40%|████████████████████▍                              | 12/30 [00:00<00:00, 111.26it/s]\u001b[A"
     ]
    },
    {
     "name": "stdout",
     "output_type": "stream",
     "text": [
      "Epoch 99, loss: 8359130.344965\n"
     ]
    },
    {
     "name": "stderr",
     "output_type": "stream",
     "text": [
      "\n",
      "100%|███████████████████████████████████████████████████| 30/30 [00:00<00:00, 107.28it/s]\u001b[A\n",
      "  1%|▌                                                   | 1/100 [00:00<00:27,  3.58it/s]\n",
      "  0%|                                                             | 0/30 [00:00<?, ?it/s]\u001b[A\n",
      " 43%|██████████████████████                             | 13/30 [00:00<00:00, 120.53it/s]\u001b[A"
     ]
    },
    {
     "name": "stdout",
     "output_type": "stream",
     "text": [
      "Epoch 0, loss: 2696042.352917\n"
     ]
    },
    {
     "name": "stderr",
     "output_type": "stream",
     "text": [
      "\n",
      "100%|███████████████████████████████████████████████████| 30/30 [00:00<00:00, 108.84it/s]\u001b[A\n",
      "  2%|█                                                   | 2/100 [00:00<00:27,  3.58it/s]\n",
      "  0%|                                                             | 0/30 [00:00<?, ?it/s]\u001b[A\n",
      " 40%|████████████████████▍                              | 12/30 [00:00<00:00, 115.54it/s]\u001b[A"
     ]
    },
    {
     "name": "stdout",
     "output_type": "stream",
     "text": [
      "Epoch 1, loss: 2532356.199040\n"
     ]
    },
    {
     "name": "stderr",
     "output_type": "stream",
     "text": [
      "\n",
      "100%|███████████████████████████████████████████████████| 30/30 [00:00<00:00, 104.31it/s]\u001b[A\n",
      "  3%|█▌                                                  | 3/100 [00:00<00:27,  3.53it/s]\n",
      "  0%|                                                             | 0/30 [00:00<?, ?it/s]\u001b[A\n",
      " 37%|██████████████████▋                                | 11/30 [00:00<00:00, 101.99it/s]\u001b[A"
     ]
    },
    {
     "name": "stdout",
     "output_type": "stream",
     "text": [
      "Epoch 2, loss: 2642614.042207\n"
     ]
    },
    {
     "name": "stderr",
     "output_type": "stream",
     "text": [
      "\n",
      "100%|███████████████████████████████████████████████████| 30/30 [00:00<00:00, 102.87it/s]\u001b[A\n",
      "  4%|██                                                  | 4/100 [00:01<00:27,  3.49it/s]\n",
      "  0%|                                                             | 0/30 [00:00<?, ?it/s]\u001b[A\n",
      " 40%|████████████████████▍                              | 12/30 [00:00<00:00, 115.54it/s]\u001b[A"
     ]
    },
    {
     "name": "stdout",
     "output_type": "stream",
     "text": [
      "Epoch 3, loss: 2818043.829323\n"
     ]
    },
    {
     "name": "stderr",
     "output_type": "stream",
     "text": [
      "\n",
      "100%|███████████████████████████████████████████████████| 30/30 [00:00<00:00, 110.44it/s]\u001b[A\n",
      "  5%|██▌                                                 | 5/100 [00:01<00:26,  3.53it/s]\n",
      "  0%|                                                             | 0/30 [00:00<?, ?it/s]\u001b[A\n",
      " 40%|████████████████████▍                              | 12/30 [00:00<00:00, 115.54it/s]\u001b[A"
     ]
    },
    {
     "name": "stdout",
     "output_type": "stream",
     "text": [
      "Epoch 4, loss: 2905043.762682\n"
     ]
    },
    {
     "name": "stderr",
     "output_type": "stream",
     "text": [
      "\n",
      "100%|███████████████████████████████████████████████████| 30/30 [00:00<00:00, 108.84it/s]\u001b[A\n",
      "  6%|███                                                 | 6/100 [00:01<00:26,  3.54it/s]\n",
      "  0%|                                                             | 0/30 [00:00<?, ?it/s]\u001b[A\n",
      " 40%|████████████████████▍                              | 12/30 [00:00<00:00, 115.54it/s]\u001b[A"
     ]
    },
    {
     "name": "stdout",
     "output_type": "stream",
     "text": [
      "Epoch 5, loss: 2900889.439187\n"
     ]
    },
    {
     "name": "stderr",
     "output_type": "stream",
     "text": [
      "\n",
      "100%|███████████████████████████████████████████████████| 30/30 [00:00<00:00, 110.44it/s]\u001b[A\n",
      "  7%|███▋                                                | 7/100 [00:01<00:26,  3.55it/s]\n",
      "  0%|                                                             | 0/30 [00:00<?, ?it/s]\u001b[A\n",
      " 40%|████████████████████▍                              | 12/30 [00:00<00:00, 115.54it/s]\u001b[A"
     ]
    },
    {
     "name": "stdout",
     "output_type": "stream",
     "text": [
      "Epoch 6, loss: 2927690.394569\n"
     ]
    },
    {
     "name": "stderr",
     "output_type": "stream",
     "text": [
      "\n",
      "100%|███████████████████████████████████████████████████| 30/30 [00:00<00:00, 108.84it/s]\u001b[A\n",
      "  8%|████▏                                               | 8/100 [00:02<00:25,  3.57it/s]\n",
      "  0%|                                                             | 0/30 [00:00<?, ?it/s]\u001b[A\n",
      " 40%|████████████████████▍                              | 12/30 [00:00<00:00, 111.21it/s]\u001b[A"
     ]
    },
    {
     "name": "stdout",
     "output_type": "stream",
     "text": [
      "Epoch 7, loss: 2770941.329763\n"
     ]
    },
    {
     "name": "stderr",
     "output_type": "stream",
     "text": [
      "\n",
      "100%|███████████████████████████████████████████████████| 30/30 [00:00<00:00, 105.77it/s]\u001b[A\n",
      "  9%|████▋                                               | 9/100 [00:02<00:25,  3.54it/s]\n",
      "  0%|                                                             | 0/30 [00:00<?, ?it/s]\u001b[A\n",
      " 40%|████████████████████▍                              | 12/30 [00:00<00:00, 115.54it/s]\u001b[A"
     ]
    },
    {
     "name": "stdout",
     "output_type": "stream",
     "text": [
      "Epoch 8, loss: 3086667.338421\n"
     ]
    },
    {
     "name": "stderr",
     "output_type": "stream",
     "text": [
      "\n",
      "100%|███████████████████████████████████████████████████| 30/30 [00:00<00:00, 105.77it/s]\u001b[A\n",
      " 10%|█████                                              | 10/100 [00:02<00:25,  3.52it/s]\n",
      "  0%|                                                             | 0/30 [00:00<?, ?it/s]\u001b[A\n",
      " 40%|████████████████████▍                              | 12/30 [00:00<00:00, 115.53it/s]\u001b[A\n"
     ]
    },
    {
     "name": "stdout",
     "output_type": "stream",
     "text": [
      "Epoch 9, loss: 2977271.561957\n"
     ]
    },
    {
     "name": "stderr",
     "output_type": "stream",
     "text": [
      "100%|███████████████████████████████████████████████████| 30/30 [00:00<00:00, 108.29it/s]\u001b[A\n",
      " 11%|█████▌                                             | 11/100 [00:03<00:25,  3.53it/s]\n",
      "  0%|                                                             | 0/30 [00:00<?, ?it/s]\u001b[A\n",
      " 37%|██████████████████▋                                | 11/30 [00:00<00:00, 101.94it/s]\u001b[A"
     ]
    },
    {
     "name": "stdout",
     "output_type": "stream",
     "text": [
      "Epoch 10, loss: 3024318.668416\n"
     ]
    },
    {
     "name": "stderr",
     "output_type": "stream",
     "text": [
      "\n",
      "100%|███████████████████████████████████████████████████| 30/30 [00:00<00:00, 104.31it/s]\u001b[A\n",
      " 12%|██████                                             | 12/100 [00:03<00:25,  3.50it/s]\n",
      "  0%|                                                             | 0/30 [00:00<?, ?it/s]\u001b[A\n",
      " 40%|████████████████████▍                              | 12/30 [00:00<00:00, 115.54it/s]\u001b[A"
     ]
    },
    {
     "name": "stdout",
     "output_type": "stream",
     "text": [
      "Epoch 11, loss: 2932823.504452\n"
     ]
    },
    {
     "name": "stderr",
     "output_type": "stream",
     "text": [
      "\n",
      "100%|████████████████████████████████████████████████████| 30/30 [00:00<00:00, 98.81it/s]\u001b[A\n",
      " 13%|██████▋                                            | 13/100 [00:03<00:25,  3.41it/s]\n",
      "  0%|                                                             | 0/30 [00:00<?, ?it/s]\u001b[A\n",
      " 33%|█████████████████▎                                  | 10/30 [00:00<00:00, 96.28it/s]\u001b[A"
     ]
    },
    {
     "name": "stdout",
     "output_type": "stream",
     "text": [
      "Epoch 12, loss: 3078371.327699\n"
     ]
    },
    {
     "name": "stderr",
     "output_type": "stream",
     "text": [
      "\n",
      " 67%|██████████████████████████████████▋                 | 20/30 [00:00<00:00, 94.11it/s]\u001b[A\n",
      "100%|████████████████████████████████████████████████████| 30/30 [00:00<00:00, 90.48it/s]\u001b[A\n",
      " 14%|███████▏                                           | 14/100 [00:04<00:26,  3.26it/s]\n",
      "  0%|                                                             | 0/30 [00:00<?, ?it/s]\u001b[A\n",
      " 37%|███████████████████                                 | 11/30 [00:00<00:00, 98.38it/s]\u001b[A"
     ]
    },
    {
     "name": "stdout",
     "output_type": "stream",
     "text": [
      "Epoch 13, loss: 2999170.111628\n"
     ]
    },
    {
     "name": "stderr",
     "output_type": "stream",
     "text": [
      "\n",
      "100%|████████████████████████████████████████████████████| 30/30 [00:00<00:00, 97.53it/s]\u001b[A\n",
      " 15%|███████▋                                           | 15/100 [00:04<00:26,  3.25it/s]\n",
      "  0%|                                                             | 0/30 [00:00<?, ?it/s]\u001b[A\n",
      " 33%|█████████████████▎                                  | 10/30 [00:00<00:00, 96.28it/s]\u001b[A"
     ]
    },
    {
     "name": "stdout",
     "output_type": "stream",
     "text": [
      "Epoch 14, loss: 3077213.565490\n"
     ]
    },
    {
     "name": "stderr",
     "output_type": "stream",
     "text": [
      "\n",
      "100%|███████████████████████████████████████████████████| 30/30 [00:00<00:00, 100.12it/s]\u001b[A\n",
      " 16%|████████▏                                          | 16/100 [00:04<00:25,  3.27it/s]\n",
      "  0%|                                                             | 0/30 [00:00<?, ?it/s]\u001b[A\n",
      " 40%|████████████████████▍                              | 12/30 [00:00<00:00, 115.58it/s]\u001b[A"
     ]
    },
    {
     "name": "stdout",
     "output_type": "stream",
     "text": [
      "Epoch 15, loss: 3091979.197832\n"
     ]
    },
    {
     "name": "stderr",
     "output_type": "stream",
     "text": [
      "\n",
      "100%|███████████████████████████████████████████████████| 30/30 [00:00<00:00, 110.44it/s]\u001b[A\n",
      " 17%|████████▋                                          | 17/100 [00:04<00:24,  3.35it/s]\n",
      "  0%|                                                             | 0/30 [00:00<?, ?it/s]\u001b[A\n",
      " 40%|████████████████████▍                              | 12/30 [00:00<00:00, 115.52it/s]\u001b[A"
     ]
    },
    {
     "name": "stdout",
     "output_type": "stream",
     "text": [
      "Epoch 16, loss: 3325172.818414\n"
     ]
    },
    {
     "name": "stderr",
     "output_type": "stream",
     "text": [
      "\n",
      "100%|███████████████████████████████████████████████████| 30/30 [00:00<00:00, 107.28it/s]\u001b[A\n",
      " 18%|█████████▏                                         | 18/100 [00:05<00:23,  3.42it/s]\n",
      "  0%|                                                             | 0/30 [00:00<?, ?it/s]\u001b[A\n",
      " 40%|████████████████████▍                              | 12/30 [00:00<00:00, 111.26it/s]\u001b[A"
     ]
    },
    {
     "name": "stdout",
     "output_type": "stream",
     "text": [
      "Epoch 17, loss: 3264035.647274\n"
     ]
    },
    {
     "name": "stderr",
     "output_type": "stream",
     "text": [
      "\n",
      "100%|███████████████████████████████████████████████████| 30/30 [00:00<00:00, 107.29it/s]\u001b[A\n",
      " 19%|█████████▋                                         | 19/100 [00:05<00:23,  3.46it/s]\n",
      "  0%|                                                             | 0/30 [00:00<?, ?it/s]\u001b[A\n",
      " 40%|████████████████████▍                              | 12/30 [00:00<00:00, 111.22it/s]\u001b[A"
     ]
    },
    {
     "name": "stdout",
     "output_type": "stream",
     "text": [
      "Epoch 18, loss: 3431167.599381\n"
     ]
    },
    {
     "name": "stderr",
     "output_type": "stream",
     "text": [
      "\n",
      "100%|███████████████████████████████████████████████████| 30/30 [00:00<00:00, 105.76it/s]\u001b[A\n",
      " 20%|██████████▏                                        | 20/100 [00:05<00:23,  3.47it/s]\n",
      "  0%|                                                             | 0/30 [00:00<?, ?it/s]\u001b[A\n",
      " 37%|██████████████████▋                                | 11/30 [00:00<00:00, 101.96it/s]\u001b[A"
     ]
    },
    {
     "name": "stdout",
     "output_type": "stream",
     "text": [
      "Epoch 19, loss: 3443841.420538\n"
     ]
    },
    {
     "name": "stderr",
     "output_type": "stream",
     "text": [
      "\n",
      "100%|███████████████████████████████████████████████████| 30/30 [00:00<00:00, 102.89it/s]\u001b[A\n",
      " 21%|██████████▋                                        | 21/100 [00:06<00:22,  3.44it/s]\n",
      "  0%|                                                             | 0/30 [00:00<?, ?it/s]\u001b[A\n",
      " 37%|██████████████████▋                                | 11/30 [00:00<00:00, 101.98it/s]\u001b[A"
     ]
    },
    {
     "name": "stdout",
     "output_type": "stream",
     "text": [
      "Epoch 20, loss: 3275285.025863\n"
     ]
    },
    {
     "name": "stderr",
     "output_type": "stream",
     "text": [
      "\n",
      "100%|███████████████████████████████████████████████████| 30/30 [00:00<00:00, 102.86it/s]\u001b[A\n",
      " 22%|███████████▏                                       | 22/100 [00:06<00:22,  3.42it/s]\n",
      "  0%|                                                             | 0/30 [00:00<?, ?it/s]\u001b[A\n",
      " 43%|██████████████████████                             | 13/30 [00:00<00:00, 120.53it/s]\u001b[A"
     ]
    },
    {
     "name": "stdout",
     "output_type": "stream",
     "text": [
      "Epoch 21, loss: 3320558.392022\n"
     ]
    },
    {
     "name": "stderr",
     "output_type": "stream",
     "text": [
      "\n",
      "100%|███████████████████████████████████████████████████| 30/30 [00:00<00:00, 107.28it/s]\u001b[A\n",
      " 23%|███████████▋                                       | 23/100 [00:06<00:22,  3.45it/s]\n",
      "  0%|                                                             | 0/30 [00:00<?, ?it/s]\u001b[A\n",
      " 40%|████████████████████▍                              | 12/30 [00:00<00:00, 115.56it/s]\u001b[A"
     ]
    },
    {
     "name": "stdout",
     "output_type": "stream",
     "text": [
      "Epoch 22, loss: 3800154.245580\n"
     ]
    },
    {
     "name": "stderr",
     "output_type": "stream",
     "text": [
      "\n",
      "100%|███████████████████████████████████████████████████| 30/30 [00:00<00:00, 108.85it/s]\u001b[A\n",
      " 24%|████████████▏                                      | 24/100 [00:06<00:21,  3.49it/s]\n",
      "  0%|                                                             | 0/30 [00:00<?, ?it/s]\u001b[A\n",
      " 40%|████████████████████▍                              | 12/30 [00:00<00:00, 115.58it/s]\u001b[A"
     ]
    },
    {
     "name": "stdout",
     "output_type": "stream",
     "text": [
      "Epoch 23, loss: 3783829.793550\n"
     ]
    },
    {
     "name": "stderr",
     "output_type": "stream",
     "text": [
      "\n",
      "100%|███████████████████████████████████████████████████| 30/30 [00:00<00:00, 105.77it/s]\u001b[A\n",
      " 25%|████████████▊                                      | 25/100 [00:07<00:21,  3.49it/s]\n",
      "  0%|                                                             | 0/30 [00:00<?, ?it/s]\u001b[A\n",
      " 40%|████████████████████▍                              | 12/30 [00:00<00:00, 111.30it/s]\u001b[A"
     ]
    },
    {
     "name": "stdout",
     "output_type": "stream",
     "text": [
      "Epoch 24, loss: 3622109.187571\n"
     ]
    },
    {
     "name": "stderr",
     "output_type": "stream",
     "text": [
      "\n",
      "100%|███████████████████████████████████████████████████| 30/30 [00:00<00:00, 107.30it/s]\u001b[A\n",
      " 26%|█████████████▎                                     | 26/100 [00:07<00:21,  3.48it/s]\n",
      "  0%|                                                             | 0/30 [00:00<?, ?it/s]\u001b[A\n",
      " 40%|████████████████████▍                              | 12/30 [00:00<00:00, 111.30it/s]\u001b[A"
     ]
    },
    {
     "name": "stdout",
     "output_type": "stream",
     "text": [
      "Epoch 25, loss: 3841970.722425\n"
     ]
    },
    {
     "name": "stderr",
     "output_type": "stream",
     "text": [
      "\n",
      "100%|███████████████████████████████████████████████████| 30/30 [00:00<00:00, 107.30it/s]\u001b[A\n",
      " 27%|█████████████▊                                     | 27/100 [00:07<00:20,  3.50it/s]\n",
      "  0%|                                                             | 0/30 [00:00<?, ?it/s]\u001b[A\n",
      " 37%|██████████████████▋                                | 11/30 [00:00<00:00, 105.95it/s]\u001b[A"
     ]
    },
    {
     "name": "stdout",
     "output_type": "stream",
     "text": [
      "Epoch 26, loss: 3710143.235706\n"
     ]
    },
    {
     "name": "stderr",
     "output_type": "stream",
     "text": [
      "\n",
      "100%|███████████████████████████████████████████████████| 30/30 [00:00<00:00, 102.86it/s]\u001b[A\n",
      " 28%|██████████████▎                                    | 28/100 [00:08<00:20,  3.48it/s]\n",
      "  0%|                                                             | 0/30 [00:00<?, ?it/s]\u001b[A\n",
      " 40%|████████████████████▍                              | 12/30 [00:00<00:00, 115.58it/s]\u001b[A"
     ]
    },
    {
     "name": "stdout",
     "output_type": "stream",
     "text": [
      "Epoch 27, loss: 3929906.197828\n"
     ]
    },
    {
     "name": "stderr",
     "output_type": "stream",
     "text": [
      "\n",
      "100%|███████████████████████████████████████████████████| 30/30 [00:00<00:00, 108.85it/s]\u001b[A\n",
      " 29%|██████████████▊                                    | 29/100 [00:08<00:20,  3.51it/s]\n",
      "  0%|                                                             | 0/30 [00:00<?, ?it/s]\u001b[A\n",
      " 43%|██████████████████████                             | 13/30 [00:00<00:00, 120.48it/s]\u001b[A"
     ]
    },
    {
     "name": "stdout",
     "output_type": "stream",
     "text": [
      "Epoch 28, loss: 3689781.478797\n"
     ]
    },
    {
     "name": "stderr",
     "output_type": "stream",
     "text": [
      "\n",
      "100%|███████████████████████████████████████████████████| 30/30 [00:00<00:00, 107.28it/s]\u001b[A\n",
      " 30%|███████████████▎                                   | 30/100 [00:08<00:19,  3.51it/s]\n",
      "  0%|                                                             | 0/30 [00:00<?, ?it/s]\u001b[A\n",
      " 37%|██████████████████▋                                | 11/30 [00:00<00:00, 105.96it/s]\u001b[A"
     ]
    },
    {
     "name": "stdout",
     "output_type": "stream",
     "text": [
      "Epoch 29, loss: 3775526.609743\n"
     ]
    },
    {
     "name": "stderr",
     "output_type": "stream",
     "text": [
      "\n",
      "100%|███████████████████████████████████████████████████| 30/30 [00:00<00:00, 101.49it/s]\u001b[A\n",
      " 31%|███████████████▊                                   | 31/100 [00:08<00:19,  3.46it/s]\n",
      "  0%|                                                             | 0/30 [00:00<?, ?it/s]\u001b[A\n",
      " 40%|████████████████████▍                              | 12/30 [00:00<00:00, 111.30it/s]\u001b[A"
     ]
    },
    {
     "name": "stdout",
     "output_type": "stream",
     "text": [
      "Epoch 30, loss: 4155457.864455\n"
     ]
    },
    {
     "name": "stderr",
     "output_type": "stream",
     "text": [
      "\n",
      "100%|███████████████████████████████████████████████████| 30/30 [00:00<00:00, 105.79it/s]\u001b[A\n",
      " 32%|████████████████▎                                  | 32/100 [00:09<00:19,  3.45it/s]\n",
      "  0%|                                                             | 0/30 [00:00<?, ?it/s]\u001b[A\n",
      " 37%|██████████████████▋                                | 11/30 [00:00<00:00, 101.95it/s]\u001b[A"
     ]
    },
    {
     "name": "stdout",
     "output_type": "stream",
     "text": [
      "Epoch 31, loss: 3860148.436480\n"
     ]
    },
    {
     "name": "stderr",
     "output_type": "stream",
     "text": [
      "\n",
      "100%|███████████████████████████████████████████████████| 30/30 [00:00<00:00, 101.49it/s]\u001b[A\n",
      " 33%|████████████████▊                                  | 33/100 [00:09<00:19,  3.41it/s]\n",
      "  0%|                                                             | 0/30 [00:00<?, ?it/s]\u001b[A\n",
      " 43%|██████████████████████                             | 13/30 [00:00<00:00, 120.53it/s]\u001b[A"
     ]
    },
    {
     "name": "stdout",
     "output_type": "stream",
     "text": [
      "Epoch 32, loss: 4100331.189525\n"
     ]
    },
    {
     "name": "stderr",
     "output_type": "stream",
     "text": [
      "\n",
      "100%|███████████████████████████████████████████████████| 30/30 [00:00<00:00, 107.27it/s]\u001b[A\n",
      " 34%|█████████████████▎                                 | 34/100 [00:09<00:19,  3.43it/s]\n",
      "  0%|                                                             | 0/30 [00:00<?, ?it/s]\u001b[A\n",
      " 40%|████████████████████▍                              | 12/30 [00:00<00:00, 115.54it/s]\u001b[A"
     ]
    },
    {
     "name": "stdout",
     "output_type": "stream",
     "text": [
      "Epoch 33, loss: 3812091.219218\n"
     ]
    },
    {
     "name": "stderr",
     "output_type": "stream",
     "text": [
      "\n",
      "100%|███████████████████████████████████████████████████| 30/30 [00:00<00:00, 108.84it/s]\u001b[A\n",
      " 35%|█████████████████▊                                 | 35/100 [00:10<00:18,  3.47it/s]\n",
      "  0%|                                                             | 0/30 [00:00<?, ?it/s]\u001b[A\n",
      " 37%|██████████████████▋                                | 11/30 [00:00<00:00, 101.97it/s]\u001b[A"
     ]
    },
    {
     "name": "stdout",
     "output_type": "stream",
     "text": [
      "Epoch 34, loss: 4308553.788152\n"
     ]
    },
    {
     "name": "stderr",
     "output_type": "stream",
     "text": [
      "\n",
      " 63%|████████████████████████████████▉                   | 19/30 [00:00<00:00, 92.96it/s]\u001b[A\n",
      "100%|████████████████████████████████████████████████████| 30/30 [00:00<00:00, 88.35it/s]\u001b[A\n",
      " 36%|██████████████████▎                                | 36/100 [00:10<00:19,  3.28it/s]\n",
      "  0%|                                                             | 0/30 [00:00<?, ?it/s]\u001b[A\n",
      " 37%|██████████████████▋                                | 11/30 [00:00<00:00, 101.99it/s]\u001b[A"
     ]
    },
    {
     "name": "stdout",
     "output_type": "stream",
     "text": [
      "Epoch 35, loss: 3858343.562537\n"
     ]
    },
    {
     "name": "stderr",
     "output_type": "stream",
     "text": [
      "\n",
      "100%|███████████████████████████████████████████████████| 30/30 [00:00<00:00, 101.49it/s]\u001b[A\n",
      " 37%|██████████████████▊                                | 37/100 [00:10<00:19,  3.29it/s]\n",
      "  0%|                                                             | 0/30 [00:00<?, ?it/s]\u001b[A\n",
      " 40%|████████████████████▍                              | 12/30 [00:00<00:00, 111.26it/s]\u001b[A"
     ]
    },
    {
     "name": "stdout",
     "output_type": "stream",
     "text": [
      "Epoch 36, loss: 4492426.863086\n"
     ]
    },
    {
     "name": "stderr",
     "output_type": "stream",
     "text": [
      "\n",
      "100%|███████████████████████████████████████████████████| 30/30 [00:00<00:00, 105.76it/s]\u001b[A\n",
      " 38%|███████████████████▍                               | 38/100 [00:11<00:18,  3.36it/s]\n",
      "  0%|                                                             | 0/30 [00:00<?, ?it/s]\u001b[A\n",
      " 37%|██████████████████▋                                | 11/30 [00:00<00:00, 105.37it/s]\u001b[A"
     ]
    },
    {
     "name": "stdout",
     "output_type": "stream",
     "text": [
      "Epoch 37, loss: 4169276.982618\n"
     ]
    },
    {
     "name": "stderr",
     "output_type": "stream",
     "text": [
      "\n",
      " 67%|██████████████████████████████████▋                 | 20/30 [00:00<00:00, 95.20it/s]\u001b[A\n",
      "100%|████████████████████████████████████████████████████| 30/30 [00:00<00:00, 85.21it/s]\u001b[A\n",
      " 39%|███████████████████▉                               | 39/100 [00:11<00:19,  3.17it/s]\n",
      "  0%|                                                             | 0/30 [00:00<?, ?it/s]\u001b[A\n",
      " 30%|███████████████▉                                     | 9/30 [00:00<00:00, 86.64it/s]\u001b[A"
     ]
    },
    {
     "name": "stdout",
     "output_type": "stream",
     "text": [
      "Epoch 38, loss: 4149395.187662\n"
     ]
    },
    {
     "name": "stderr",
     "output_type": "stream",
     "text": [
      "\n",
      "100%|████████████████████████████████████████████████████| 30/30 [00:00<00:00, 96.28it/s]\u001b[A\n",
      " 40%|████████████████████▍                              | 40/100 [00:11<00:18,  3.17it/s]\n",
      "  0%|                                                             | 0/30 [00:00<?, ?it/s]\u001b[A\n",
      " 40%|████████████████████▍                              | 12/30 [00:00<00:00, 111.26it/s]\u001b[A"
     ]
    },
    {
     "name": "stdout",
     "output_type": "stream",
     "text": [
      "Epoch 39, loss: 4556384.994146\n"
     ]
    },
    {
     "name": "stderr",
     "output_type": "stream",
     "text": [
      "\n",
      "100%|███████████████████████████████████████████████████| 30/30 [00:00<00:00, 105.77it/s]\u001b[A\n",
      " 41%|████████████████████▉                              | 41/100 [00:12<00:18,  3.26it/s]\n",
      "  0%|                                                             | 0/30 [00:00<?, ?it/s]\u001b[A\n",
      " 37%|██████████████████▋                                | 11/30 [00:00<00:00, 105.91it/s]\u001b[A"
     ]
    },
    {
     "name": "stdout",
     "output_type": "stream",
     "text": [
      "Epoch 40, loss: 4238811.656062\n"
     ]
    },
    {
     "name": "stderr",
     "output_type": "stream",
     "text": [
      "\n",
      "100%|███████████████████████████████████████████████████| 30/30 [00:00<00:00, 102.88it/s]\u001b[A\n",
      " 42%|█████████████████████▍                             | 42/100 [00:12<00:17,  3.29it/s]\n",
      "  0%|                                                             | 0/30 [00:00<?, ?it/s]\u001b[A\n",
      " 43%|██████████████████████                             | 13/30 [00:00<00:00, 120.53it/s]\u001b[A"
     ]
    },
    {
     "name": "stdout",
     "output_type": "stream",
     "text": [
      "Epoch 41, loss: 4414055.361662\n"
     ]
    },
    {
     "name": "stderr",
     "output_type": "stream",
     "text": [
      "\n",
      "100%|███████████████████████████████████████████████████| 30/30 [00:00<00:00, 108.84it/s]\u001b[A\n",
      " 43%|█████████████████████▉                             | 43/100 [00:12<00:16,  3.37it/s]\n",
      "  0%|                                                             | 0/30 [00:00<?, ?it/s]\u001b[A\n",
      " 40%|████████████████████▍                              | 12/30 [00:00<00:00, 115.54it/s]\u001b[A"
     ]
    },
    {
     "name": "stdout",
     "output_type": "stream",
     "text": [
      "Epoch 42, loss: 4572026.474154\n"
     ]
    },
    {
     "name": "stderr",
     "output_type": "stream",
     "text": [
      "\n",
      "100%|███████████████████████████████████████████████████| 30/30 [00:00<00:00, 107.28it/s]\u001b[A\n",
      " 44%|██████████████████████▍                            | 44/100 [00:12<00:16,  3.42it/s]\n",
      "  0%|                                                             | 0/30 [00:00<?, ?it/s]\u001b[A\n",
      " 40%|████████████████████▍                              | 12/30 [00:00<00:00, 111.26it/s]\u001b[A"
     ]
    },
    {
     "name": "stdout",
     "output_type": "stream",
     "text": [
      "Epoch 43, loss: 4155699.604216\n"
     ]
    },
    {
     "name": "stderr",
     "output_type": "stream",
     "text": [
      "\n",
      "100%|███████████████████████████████████████████████████| 30/30 [00:00<00:00, 104.31it/s]\u001b[A\n",
      " 45%|██████████████████████▉                            | 45/100 [00:13<00:16,  3.42it/s]\n",
      "  0%|                                                             | 0/30 [00:00<?, ?it/s]\u001b[A\n",
      " 40%|████████████████████▍                              | 12/30 [00:00<00:00, 111.26it/s]\u001b[A"
     ]
    },
    {
     "name": "stdout",
     "output_type": "stream",
     "text": [
      "Epoch 44, loss: 4779042.470466\n"
     ]
    },
    {
     "name": "stderr",
     "output_type": "stream",
     "text": [
      "\n",
      "100%|███████████████████████████████████████████████████| 30/30 [00:00<00:00, 104.30it/s]\u001b[A\n",
      " 46%|███████████████████████▍                           | 46/100 [00:13<00:15,  3.44it/s]\n",
      "  0%|                                                             | 0/30 [00:00<?, ?it/s]\u001b[A\n",
      " 37%|██████████████████▋                                | 11/30 [00:00<00:00, 101.99it/s]\u001b[A"
     ]
    },
    {
     "name": "stdout",
     "output_type": "stream",
     "text": [
      "Epoch 45, loss: 4972933.444577\n"
     ]
    },
    {
     "name": "stderr",
     "output_type": "stream",
     "text": [
      "\n",
      "100%|███████████████████████████████████████████████████| 30/30 [00:00<00:00, 102.88it/s]\u001b[A\n",
      " 47%|███████████████████████▉                           | 47/100 [00:13<00:15,  3.42it/s]\n",
      "  0%|                                                             | 0/30 [00:00<?, ?it/s]\u001b[A\n",
      " 37%|██████████████████▋                                | 11/30 [00:00<00:00, 101.99it/s]\u001b[A"
     ]
    },
    {
     "name": "stdout",
     "output_type": "stream",
     "text": [
      "Epoch 46, loss: 4829444.106457\n"
     ]
    },
    {
     "name": "stderr",
     "output_type": "stream",
     "text": [
      "\n",
      "100%|████████████████████████████████████████████████████| 30/30 [00:00<00:00, 97.53it/s]\u001b[A\n",
      " 48%|████████████████████████▍                          | 48/100 [00:14<00:15,  3.35it/s]\n",
      "  0%|                                                             | 0/30 [00:00<?, ?it/s]\u001b[A\n",
      " 40%|████████████████████▍                              | 12/30 [00:00<00:00, 115.54it/s]\u001b[A"
     ]
    },
    {
     "name": "stdout",
     "output_type": "stream",
     "text": [
      "Epoch 47, loss: 4993845.230776\n"
     ]
    },
    {
     "name": "stderr",
     "output_type": "stream",
     "text": [
      "\n",
      "100%|████████████████████████████████████████████████████| 30/30 [00:00<00:00, 97.53it/s]\u001b[A\n",
      " 49%|████████████████████████▉                          | 49/100 [00:14<00:15,  3.30it/s]\n",
      "  0%|                                                             | 0/30 [00:00<?, ?it/s]\u001b[A\n",
      " 23%|████████████▎                                        | 7/30 [00:00<00:00, 67.40it/s]\u001b[A"
     ]
    },
    {
     "name": "stdout",
     "output_type": "stream",
     "text": [
      "Epoch 48, loss: 5818536.366691\n"
     ]
    },
    {
     "name": "stderr",
     "output_type": "stream",
     "text": [
      "\n",
      " 50%|██████████████████████████                          | 15/30 [00:00<00:00, 70.52it/s]\u001b[A\n",
      "100%|████████████████████████████████████████████████████| 30/30 [00:00<00:00, 84.06it/s]\u001b[A\n",
      " 50%|█████████████████████████▌                         | 50/100 [00:14<00:15,  3.13it/s]\n",
      "  0%|                                                             | 0/30 [00:00<?, ?it/s]\u001b[A\n",
      " 40%|████████████████████▍                              | 12/30 [00:00<00:00, 111.22it/s]\u001b[A"
     ]
    },
    {
     "name": "stdout",
     "output_type": "stream",
     "text": [
      "Epoch 49, loss: 5285655.325912\n"
     ]
    },
    {
     "name": "stderr",
     "output_type": "stream",
     "text": [
      "\n",
      "100%|███████████████████████████████████████████████████| 30/30 [00:00<00:00, 100.12it/s]\u001b[A\n",
      " 51%|██████████████████████████                         | 51/100 [00:15<00:15,  3.18it/s]\n",
      "  0%|                                                             | 0/30 [00:00<?, ?it/s]\u001b[A\n",
      " 37%|██████████████████▋                                | 11/30 [00:00<00:00, 105.90it/s]\u001b[A"
     ]
    },
    {
     "name": "stdout",
     "output_type": "stream",
     "text": [
      "Epoch 50, loss: 5391472.668118\n"
     ]
    },
    {
     "name": "stderr",
     "output_type": "stream",
     "text": [
      "\n",
      "100%|███████████████████████████████████████████████████| 30/30 [00:00<00:00, 100.13it/s]\u001b[A\n",
      " 52%|██████████████████████████▌                        | 52/100 [00:15<00:14,  3.21it/s]\n",
      "  0%|                                                             | 0/30 [00:00<?, ?it/s]\u001b[A\n",
      " 40%|████████████████████▍                              | 12/30 [00:00<00:00, 107.27it/s]\u001b[A"
     ]
    },
    {
     "name": "stdout",
     "output_type": "stream",
     "text": [
      "Epoch 51, loss: 5424696.292105\n"
     ]
    },
    {
     "name": "stderr",
     "output_type": "stream",
     "text": [
      "\n",
      "100%|████████████████████████████████████████████████████| 30/30 [00:00<00:00, 98.80it/s]\u001b[A\n",
      " 53%|███████████████████████████                        | 53/100 [00:15<00:14,  3.22it/s]\n",
      "  0%|                                                             | 0/30 [00:00<?, ?it/s]\u001b[A\n",
      " 30%|███████████████▉                                     | 9/30 [00:00<00:00, 86.65it/s]\u001b[A"
     ]
    },
    {
     "name": "stdout",
     "output_type": "stream",
     "text": [
      "Epoch 52, loss: 5336733.754591\n"
     ]
    },
    {
     "name": "stderr",
     "output_type": "stream",
     "text": [
      "\n",
      " 67%|██████████████████████████████████▋                 | 20/30 [00:00<00:00, 89.86it/s]\u001b[A\n",
      "100%|████████████████████████████████████████████████████| 30/30 [00:00<00:00, 91.59it/s]\u001b[A\n",
      " 54%|███████████████████████████▌                       | 54/100 [00:15<00:14,  3.16it/s]\n",
      "  0%|                                                             | 0/30 [00:00<?, ?it/s]\u001b[A\n",
      " 37%|██████████████████▋                                | 11/30 [00:00<00:00, 105.91it/s]\u001b[A"
     ]
    },
    {
     "name": "stdout",
     "output_type": "stream",
     "text": [
      "Epoch 53, loss: 5931022.213861\n"
     ]
    },
    {
     "name": "stderr",
     "output_type": "stream",
     "text": [
      "\n",
      "100%|███████████████████████████████████████████████████| 30/30 [00:00<00:00, 100.12it/s]\u001b[A\n",
      " 55%|████████████████████████████                       | 55/100 [00:16<00:14,  3.20it/s]\n",
      "  0%|                                                             | 0/30 [00:00<?, ?it/s]\u001b[A\n",
      " 37%|██████████████████▋                                | 11/30 [00:00<00:00, 105.91it/s]\u001b[A"
     ]
    },
    {
     "name": "stdout",
     "output_type": "stream",
     "text": [
      "Epoch 54, loss: 5777237.057027\n"
     ]
    },
    {
     "name": "stderr",
     "output_type": "stream",
     "text": [
      "\n",
      "100%|███████████████████████████████████████████████████| 30/30 [00:00<00:00, 100.12it/s]\u001b[A\n",
      " 56%|████████████████████████████▌                      | 56/100 [00:16<00:13,  3.23it/s]\n",
      "  0%|                                                             | 0/30 [00:00<?, ?it/s]\u001b[A\n",
      " 33%|█████████████████▎                                  | 10/30 [00:00<00:00, 96.28it/s]\u001b[A"
     ]
    },
    {
     "name": "stdout",
     "output_type": "stream",
     "text": [
      "Epoch 55, loss: 5426814.643553\n"
     ]
    },
    {
     "name": "stderr",
     "output_type": "stream",
     "text": [
      "\n",
      "100%|████████████████████████████████████████████████████| 30/30 [00:00<00:00, 97.53it/s]\u001b[A\n",
      " 57%|█████████████████████████████                      | 57/100 [00:16<00:13,  3.22it/s]\n",
      "  0%|                                                             | 0/30 [00:00<?, ?it/s]\u001b[A\n",
      " 30%|███████████████▉                                     | 9/30 [00:00<00:00, 86.65it/s]\u001b[A"
     ]
    },
    {
     "name": "stdout",
     "output_type": "stream",
     "text": [
      "Epoch 56, loss: 5249129.093449\n"
     ]
    },
    {
     "name": "stderr",
     "output_type": "stream",
     "text": [
      "\n",
      " 63%|████████████████████████████████▉                   | 19/30 [00:00<00:00, 89.33it/s]\u001b[A\n",
      "100%|████████████████████████████████████████████████████| 30/30 [00:00<00:00, 92.71it/s]\u001b[A\n",
      " 58%|█████████████████████████████▌                     | 58/100 [00:17<00:13,  3.17it/s]\n",
      "  0%|                                                             | 0/30 [00:00<?, ?it/s]\u001b[A\n",
      " 30%|███████████████▉                                     | 9/30 [00:00<00:00, 86.61it/s]\u001b[A"
     ]
    },
    {
     "name": "stdout",
     "output_type": "stream",
     "text": [
      "Epoch 57, loss: 5562024.498525\n"
     ]
    },
    {
     "name": "stderr",
     "output_type": "stream",
     "text": [
      "\n",
      " 60%|███████████████████████████████▏                    | 18/30 [00:00<00:00, 86.62it/s]\u001b[A\n",
      "100%|████████████████████████████████████████████████████| 30/30 [00:00<00:00, 90.47it/s]\u001b[A\n",
      " 59%|██████████████████████████████                     | 59/100 [00:17<00:13,  3.10it/s]\n",
      "  0%|                                                             | 0/30 [00:00<?, ?it/s]\u001b[A\n",
      " 33%|█████████████████▎                                  | 10/30 [00:00<00:00, 96.28it/s]\u001b[A"
     ]
    },
    {
     "name": "stdout",
     "output_type": "stream",
     "text": [
      "Epoch 58, loss: 5322115.215949\n"
     ]
    },
    {
     "name": "stderr",
     "output_type": "stream",
     "text": [
      "\n",
      "100%|████████████████████████████████████████████████████| 30/30 [00:00<00:00, 97.53it/s]\u001b[A\n",
      " 60%|██████████████████████████████▌                    | 60/100 [00:17<00:12,  3.12it/s]\n",
      "  0%|                                                             | 0/30 [00:00<?, ?it/s]\u001b[A\n",
      " 33%|█████████████████▎                                  | 10/30 [00:00<00:00, 96.26it/s]\u001b[A"
     ]
    },
    {
     "name": "stdout",
     "output_type": "stream",
     "text": [
      "Epoch 59, loss: 5500078.242533\n"
     ]
    },
    {
     "name": "stderr",
     "output_type": "stream",
     "text": [
      "\n",
      " 67%|██████████████████████████████████▋                 | 20/30 [00:00<00:00, 95.18it/s]\u001b[A\n",
      "100%|████████████████████████████████████████████████████| 30/30 [00:00<00:00, 87.32it/s]\u001b[A\n",
      " 61%|███████████████████████████████                    | 61/100 [00:18<00:12,  3.05it/s]\n",
      "  0%|                                                             | 0/30 [00:00<?, ?it/s]\u001b[A\n",
      " 30%|███████████████▉                                     | 9/30 [00:00<00:00, 83.44it/s]\u001b[A"
     ]
    },
    {
     "name": "stdout",
     "output_type": "stream",
     "text": [
      "Epoch 60, loss: 5735881.878238\n"
     ]
    },
    {
     "name": "stderr",
     "output_type": "stream",
     "text": [
      "\n",
      " 63%|████████████████████████████████▉                   | 19/30 [00:00<00:00, 86.03it/s]\u001b[A\n",
      "100%|████████████████████████████████████████████████████| 30/30 [00:00<00:00, 87.32it/s]\u001b[A\n",
      " 62%|███████████████████████████████▌                   | 62/100 [00:18<00:12,  3.00it/s]\n",
      "  0%|                                                             | 0/30 [00:00<?, ?it/s]\u001b[A\n",
      " 30%|███████████████▉                                     | 9/30 [00:00<00:00, 80.46it/s]\u001b[A"
     ]
    },
    {
     "name": "stdout",
     "output_type": "stream",
     "text": [
      "Epoch 61, loss: 5408058.334927\n"
     ]
    },
    {
     "name": "stderr",
     "output_type": "stream",
     "text": [
      "\n",
      " 60%|███████████████████████████████▏                    | 18/30 [00:00<00:00, 81.34it/s]\u001b[A\n",
      "100%|████████████████████████████████████████████████████| 30/30 [00:00<00:00, 85.34it/s]\u001b[A\n",
      " 63%|████████████████████████████████▏                  | 63/100 [00:18<00:12,  2.93it/s]\n",
      "  0%|                                                             | 0/30 [00:00<?, ?it/s]\u001b[A\n",
      " 30%|███████████████▉                                     | 9/30 [00:00<00:00, 83.44it/s]\u001b[A"
     ]
    },
    {
     "name": "stdout",
     "output_type": "stream",
     "text": [
      "Epoch 62, loss: 5828618.035464\n"
     ]
    },
    {
     "name": "stderr",
     "output_type": "stream",
     "text": [
      "\n",
      " 63%|████████████████████████████████▉                   | 19/30 [00:00<00:00, 86.92it/s]\u001b[A\n",
      "100%|████████████████████████████████████████████████████| 30/30 [00:00<00:00, 87.33it/s]\u001b[A\n",
      " 64%|████████████████████████████████▋                  | 64/100 [00:19<00:12,  2.91it/s]\n",
      "  0%|                                                             | 0/30 [00:00<?, ?it/s]\u001b[A\n",
      " 30%|███████████████▉                                     | 9/30 [00:00<00:00, 86.65it/s]\u001b[A"
     ]
    },
    {
     "name": "stdout",
     "output_type": "stream",
     "text": [
      "Epoch 63, loss: 6580216.884086\n"
     ]
    },
    {
     "name": "stderr",
     "output_type": "stream",
     "text": [
      "\n",
      " 60%|███████████████████████████████▏                    | 18/30 [00:00<00:00, 86.65it/s]\u001b[A\n",
      "100%|████████████████████████████████████████████████████| 30/30 [00:00<00:00, 86.32it/s]\u001b[A\n",
      " 65%|█████████████████████████████████▏                 | 65/100 [00:19<00:12,  2.89it/s]\n",
      "  0%|                                                             | 0/30 [00:00<?, ?it/s]\u001b[A\n",
      " 30%|███████████████▉                                     | 9/30 [00:00<00:00, 83.45it/s]\u001b[A"
     ]
    },
    {
     "name": "stdout",
     "output_type": "stream",
     "text": [
      "Epoch 64, loss: 6043522.736946\n"
     ]
    },
    {
     "name": "stderr",
     "output_type": "stream",
     "text": [
      "\n",
      " 63%|████████████████████████████████▉                   | 19/30 [00:00<00:00, 86.03it/s]\u001b[A\n",
      "100%|████████████████████████████████████████████████████| 30/30 [00:00<00:00, 87.32it/s]\u001b[A\n",
      " 66%|█████████████████████████████████▋                 | 66/100 [00:19<00:11,  2.88it/s]\n",
      "  0%|                                                             | 0/30 [00:00<?, ?it/s]\u001b[A\n",
      " 33%|█████████████████▎                                  | 10/30 [00:00<00:00, 92.68it/s]\u001b[A"
     ]
    },
    {
     "name": "stdout",
     "output_type": "stream",
     "text": [
      "Epoch 65, loss: 6408413.396280\n"
     ]
    },
    {
     "name": "stderr",
     "output_type": "stream",
     "text": [
      "\n",
      " 67%|██████████████████████████████████▋                 | 20/30 [00:00<00:00, 93.74it/s]\u001b[A\n",
      "100%|████████████████████████████████████████████████████| 30/30 [00:00<00:00, 95.05it/s]\u001b[A\n",
      " 67%|██████████████████████████████████▏                | 67/100 [00:20<00:11,  2.95it/s]\n",
      "  0%|                                                             | 0/30 [00:00<?, ?it/s]\u001b[A\n",
      " 33%|█████████████████▎                                  | 10/30 [00:00<00:00, 96.31it/s]\u001b[A"
     ]
    },
    {
     "name": "stdout",
     "output_type": "stream",
     "text": [
      "Epoch 66, loss: 6280143.986210\n"
     ]
    },
    {
     "name": "stderr",
     "output_type": "stream",
     "text": [
      "\n",
      "100%|████████████████████████████████████████████████████| 30/30 [00:00<00:00, 98.82it/s]\u001b[A\n",
      " 68%|██████████████████████████████████▋                | 68/100 [00:20<00:10,  3.02it/s]\n",
      "  0%|                                                             | 0/30 [00:00<?, ?it/s]\u001b[A\n",
      " 37%|██████████████████▋                                | 11/30 [00:00<00:00, 101.98it/s]\u001b[A"
     ]
    },
    {
     "name": "stdout",
     "output_type": "stream",
     "text": [
      "Epoch 67, loss: 6407771.702126\n"
     ]
    },
    {
     "name": "stderr",
     "output_type": "stream",
     "text": [
      "\n",
      "100%|████████████████████████████████████████████████████| 30/30 [00:00<00:00, 98.82it/s]\u001b[A\n",
      " 69%|███████████████████████████████████▏               | 69/100 [00:20<00:10,  3.10it/s]\n",
      "  0%|                                                             | 0/30 [00:00<?, ?it/s]\u001b[A\n",
      " 33%|█████████████████▎                                  | 10/30 [00:00<00:00, 96.28it/s]\u001b[A"
     ]
    },
    {
     "name": "stdout",
     "output_type": "stream",
     "text": [
      "Epoch 68, loss: 6462595.689461\n"
     ]
    },
    {
     "name": "stderr",
     "output_type": "stream",
     "text": [
      "\n",
      "100%|███████████████████████████████████████████████████| 30/30 [00:00<00:00, 101.47it/s]\u001b[A\n",
      " 70%|███████████████████████████████████▋               | 70/100 [00:21<00:09,  3.17it/s]\n",
      "  0%|                                                             | 0/30 [00:00<?, ?it/s]\u001b[A\n",
      " 37%|██████████████████▋                                | 11/30 [00:00<00:00, 105.85it/s]\u001b[A"
     ]
    },
    {
     "name": "stdout",
     "output_type": "stream",
     "text": [
      "Epoch 69, loss: 5958276.006475\n"
     ]
    },
    {
     "name": "stderr",
     "output_type": "stream",
     "text": [
      "\n",
      " 67%|██████████████████████████████████▋                 | 20/30 [00:00<00:00, 97.98it/s]\u001b[A\n",
      "100%|████████████████████████████████████████████████████| 30/30 [00:00<00:00, 87.32it/s]\u001b[A\n",
      " 71%|████████████████████████████████████▏              | 71/100 [00:21<00:09,  3.07it/s]\n",
      "  0%|                                                             | 0/30 [00:00<?, ?it/s]\u001b[A\n",
      " 27%|██████████████▏                                      | 8/30 [00:00<00:00, 77.00it/s]\u001b[A"
     ]
    },
    {
     "name": "stdout",
     "output_type": "stream",
     "text": [
      "Epoch 70, loss: 6863337.144654\n"
     ]
    },
    {
     "name": "stderr",
     "output_type": "stream",
     "text": [
      "\n",
      " 57%|█████████████████████████████▍                      | 17/30 [00:00<00:00, 79.26it/s]\u001b[A\n",
      "100%|████████████████████████████████████████████████████| 30/30 [00:00<00:00, 87.72it/s]\u001b[A\n",
      " 72%|████████████████████████████████████▋              | 72/100 [00:21<00:09,  3.01it/s]\n",
      "  0%|                                                             | 0/30 [00:00<?, ?it/s]\u001b[A\n",
      " 37%|██████████████████▋                                | 11/30 [00:00<00:00, 105.91it/s]\u001b[A"
     ]
    },
    {
     "name": "stdout",
     "output_type": "stream",
     "text": [
      "Epoch 71, loss: 6633796.435318\n"
     ]
    },
    {
     "name": "stderr",
     "output_type": "stream",
     "text": [
      "\n",
      " 67%|██████████████████████████████████▋                 | 20/30 [00:00<00:00, 99.29it/s]\u001b[A\n",
      "100%|████████████████████████████████████████████████████| 30/30 [00:00<00:00, 87.32it/s]\u001b[A\n",
      " 73%|█████████████████████████████████████▏             | 73/100 [00:22<00:09,  2.96it/s]\n",
      "  0%|                                                             | 0/30 [00:00<?, ?it/s]\u001b[A\n",
      " 27%|██████████████▏                                      | 8/30 [00:00<00:00, 74.15it/s]\u001b[A"
     ]
    },
    {
     "name": "stdout",
     "output_type": "stream",
     "text": [
      "Epoch 72, loss: 6113530.274620\n"
     ]
    },
    {
     "name": "stderr",
     "output_type": "stream",
     "text": [
      "\n",
      " 53%|███████████████████████████▋                        | 16/30 [00:00<00:00, 74.99it/s]\u001b[A\n",
      "100%|████████████████████████████████████████████████████| 30/30 [00:00<00:00, 80.75it/s]\u001b[A\n",
      " 74%|█████████████████████████████████████▋             | 74/100 [00:22<00:09,  2.86it/s]\n",
      "  0%|                                                             | 0/30 [00:00<?, ?it/s]\u001b[A\n",
      " 40%|████████████████████▍                              | 12/30 [00:00<00:00, 111.26it/s]\u001b[A"
     ]
    },
    {
     "name": "stdout",
     "output_type": "stream",
     "text": [
      "Epoch 73, loss: 6517999.041976\n"
     ]
    },
    {
     "name": "stderr",
     "output_type": "stream",
     "text": [
      "\n",
      " 73%|█████████████████████████████████████▍             | 22/30 [00:00<00:00, 105.96it/s]\u001b[A\n",
      "100%|████████████████████████████████████████████████████| 30/30 [00:00<00:00, 92.45it/s]\u001b[A\n",
      " 75%|██████████████████████████████████████▎            | 75/100 [00:22<00:08,  2.91it/s]\n",
      "  0%|                                                             | 0/30 [00:00<?, ?it/s]\u001b[A\n",
      " 30%|███████████████▉                                     | 9/30 [00:00<00:00, 83.44it/s]\u001b[A"
     ]
    },
    {
     "name": "stdout",
     "output_type": "stream",
     "text": [
      "Epoch 74, loss: 6433832.810336\n"
     ]
    },
    {
     "name": "stderr",
     "output_type": "stream",
     "text": [
      "\n",
      " 57%|█████████████████████████████▍                      | 17/30 [00:00<00:00, 81.39it/s]\u001b[A\n",
      "100%|████████████████████████████████████████████████████| 30/30 [00:00<00:00, 78.23it/s]\u001b[A\n",
      " 76%|██████████████████████████████████████▊            | 76/100 [00:23<00:08,  2.81it/s]\n",
      "  0%|                                                             | 0/30 [00:00<?, ?it/s]\u001b[A\n",
      " 27%|██████████████▏                                      | 8/30 [00:00<00:00, 77.02it/s]\u001b[A"
     ]
    },
    {
     "name": "stdout",
     "output_type": "stream",
     "text": [
      "Epoch 75, loss: 7318145.645586\n"
     ]
    },
    {
     "name": "stderr",
     "output_type": "stream",
     "text": [
      "\n",
      " 53%|███████████████████████████▋                        | 16/30 [00:00<00:00, 76.15it/s]\u001b[A\n",
      "100%|████████████████████████████████████████████████████| 30/30 [00:00<00:00, 75.86it/s]\u001b[A\n",
      " 77%|███████████████████████████████████████▎           | 77/100 [00:23<00:08,  2.70it/s]\n",
      "  0%|                                                             | 0/30 [00:00<?, ?it/s]\u001b[A\n",
      " 27%|██████████████▏                                      | 8/30 [00:00<00:00, 77.02it/s]\u001b[A"
     ]
    },
    {
     "name": "stdout",
     "output_type": "stream",
     "text": [
      "Epoch 76, loss: 7043861.283064\n"
     ]
    },
    {
     "name": "stderr",
     "output_type": "stream",
     "text": [
      "\n",
      " 60%|███████████████████████████████▏                    | 18/30 [00:00<00:00, 81.14it/s]\u001b[A\n",
      "100%|████████████████████████████████████████████████████| 30/30 [00:00<00:00, 85.34it/s]\u001b[A\n",
      " 78%|███████████████████████████████████████▊           | 78/100 [00:24<00:08,  2.73it/s]\n",
      "  0%|                                                             | 0/30 [00:00<?, ?it/s]\u001b[A\n",
      " 33%|█████████████████▎                                  | 10/30 [00:00<00:00, 96.29it/s]\u001b[A"
     ]
    },
    {
     "name": "stdout",
     "output_type": "stream",
     "text": [
      "Epoch 77, loss: 7171794.322496\n"
     ]
    },
    {
     "name": "stderr",
     "output_type": "stream",
     "text": [
      "\n",
      " 67%|██████████████████████████████████▋                 | 20/30 [00:00<00:00, 95.18it/s]\u001b[A\n",
      "100%|████████████████████████████████████████████████████| 30/30 [00:00<00:00, 91.58it/s]\u001b[A\n",
      " 79%|████████████████████████████████████████▎          | 79/100 [00:24<00:07,  2.80it/s]\n",
      "  0%|                                                             | 0/30 [00:00<?, ?it/s]\u001b[A\n",
      " 37%|██████████████████▋                                | 11/30 [00:00<00:00, 101.99it/s]\u001b[A"
     ]
    },
    {
     "name": "stdout",
     "output_type": "stream",
     "text": [
      "Epoch 78, loss: 6940904.192050\n"
     ]
    },
    {
     "name": "stderr",
     "output_type": "stream",
     "text": [
      "\n",
      "100%|███████████████████████████████████████████████████| 30/30 [00:00<00:00, 102.88it/s]\u001b[A\n",
      " 80%|████████████████████████████████████████▊          | 80/100 [00:24<00:06,  2.96it/s]\n",
      "  0%|                                                             | 0/30 [00:00<?, ?it/s]\u001b[A\n",
      " 30%|███████████████▉                                     | 9/30 [00:00<00:00, 86.65it/s]\u001b[A"
     ]
    },
    {
     "name": "stdout",
     "output_type": "stream",
     "text": [
      "Epoch 79, loss: 6367967.657133\n"
     ]
    },
    {
     "name": "stderr",
     "output_type": "stream",
     "text": [
      "\n",
      " 63%|████████████████████████████████▉                   | 19/30 [00:00<00:00, 89.32it/s]\u001b[A\n",
      "100%|████████████████████████████████████████████████████| 30/30 [00:00<00:00, 91.57it/s]\u001b[A\n",
      " 81%|█████████████████████████████████████████▎         | 81/100 [00:25<00:06,  2.98it/s]\n",
      "  0%|                                                             | 0/30 [00:00<?, ?it/s]\u001b[A\n",
      " 33%|█████████████████▎                                  | 10/30 [00:00<00:00, 89.39it/s]\u001b[A"
     ]
    },
    {
     "name": "stdout",
     "output_type": "stream",
     "text": [
      "Epoch 80, loss: 5734015.182686\n"
     ]
    },
    {
     "name": "stderr",
     "output_type": "stream",
     "text": [
      "\n",
      "100%|███████████████████████████████████████████████████| 30/30 [00:00<00:00, 100.13it/s]\u001b[A\n",
      " 82%|█████████████████████████████████████████▊         | 82/100 [00:25<00:05,  3.06it/s]\n",
      "  0%|                                                             | 0/30 [00:00<?, ?it/s]\u001b[A\n",
      " 37%|██████████████████▋                                | 11/30 [00:00<00:00, 105.86it/s]\u001b[A"
     ]
    },
    {
     "name": "stdout",
     "output_type": "stream",
     "text": [
      "Epoch 81, loss: 6758767.925100\n"
     ]
    },
    {
     "name": "stderr",
     "output_type": "stream",
     "text": [
      "\n",
      "100%|███████████████████████████████████████████████████| 30/30 [00:00<00:00, 105.76it/s]\u001b[A\n",
      " 83%|██████████████████████████████████████████▎        | 83/100 [00:25<00:05,  3.18it/s]\n",
      "  0%|                                                             | 0/30 [00:00<?, ?it/s]\u001b[A\n",
      " 30%|███████████████▉                                     | 9/30 [00:00<00:00, 83.43it/s]\u001b[A"
     ]
    },
    {
     "name": "stdout",
     "output_type": "stream",
     "text": [
      "Epoch 82, loss: 7502676.888687\n"
     ]
    },
    {
     "name": "stderr",
     "output_type": "stream",
     "text": [
      "\n",
      " 60%|███████████████████████████████▏                    | 18/30 [00:00<00:00, 83.43it/s]\u001b[A\n",
      "100%|████████████████████████████████████████████████████| 30/30 [00:00<00:00, 85.33it/s]\u001b[A\n",
      " 84%|██████████████████████████████████████████▊        | 84/100 [00:26<00:05,  3.06it/s]\n",
      "  0%|                                                             | 0/30 [00:00<?, ?it/s]\u001b[A\n",
      " 33%|█████████████████▎                                  | 10/30 [00:00<00:00, 96.28it/s]\u001b[A"
     ]
    },
    {
     "name": "stdout",
     "output_type": "stream",
     "text": [
      "Epoch 83, loss: 6655805.317127\n"
     ]
    },
    {
     "name": "stderr",
     "output_type": "stream",
     "text": [
      "\n",
      "100%|███████████████████████████████████████████████████| 30/30 [00:00<00:00, 102.85it/s]\u001b[A\n",
      " 85%|███████████████████████████████████████████▎       | 85/100 [00:26<00:04,  3.15it/s]\n",
      "  0%|                                                             | 0/30 [00:00<?, ?it/s]\u001b[A\n",
      " 40%|████████████████████▍                              | 12/30 [00:00<00:00, 115.53it/s]\u001b[A"
     ]
    },
    {
     "name": "stdout",
     "output_type": "stream",
     "text": [
      "Epoch 84, loss: 6991846.301151\n"
     ]
    },
    {
     "name": "stderr",
     "output_type": "stream",
     "text": [
      "\n",
      "100%|████████████████████████████████████████████████████| 30/30 [00:00<00:00, 98.80it/s]\u001b[A\n",
      " 86%|███████████████████████████████████████████▊       | 86/100 [00:26<00:04,  3.18it/s]\n",
      "  0%|                                                             | 0/30 [00:00<?, ?it/s]\u001b[A\n",
      " 37%|██████████████████▋                                | 11/30 [00:00<00:00, 105.06it/s]\u001b[A"
     ]
    },
    {
     "name": "stdout",
     "output_type": "stream",
     "text": [
      "Epoch 85, loss: 7548699.357990\n"
     ]
    },
    {
     "name": "stderr",
     "output_type": "stream",
     "text": [
      "\n",
      " 70%|███████████████████████████████████▋               | 21/30 [00:00<00:00, 102.26it/s]\u001b[A\n",
      "100%|████████████████████████████████████████████████████| 30/30 [00:00<00:00, 94.81it/s]\u001b[A\n",
      " 87%|████████████████████████████████████████████▎      | 87/100 [00:26<00:04,  3.15it/s]\n",
      "  0%|                                                             | 0/30 [00:00<?, ?it/s]\u001b[A\n",
      " 30%|███████████████▉                                     | 9/30 [00:00<00:00, 80.45it/s]\u001b[A"
     ]
    },
    {
     "name": "stdout",
     "output_type": "stream",
     "text": [
      "Epoch 86, loss: 7207502.687560\n"
     ]
    },
    {
     "name": "stderr",
     "output_type": "stream",
     "text": [
      "\n",
      " 57%|█████████████████████████████▍                      | 17/30 [00:00<00:00, 79.39it/s]\u001b[A\n",
      "100%|████████████████████████████████████████████████████| 30/30 [00:00<00:00, 89.39it/s]\u001b[A\n",
      " 88%|████████████████████████████████████████████▉      | 88/100 [00:27<00:03,  3.07it/s]\n",
      "  0%|                                                             | 0/30 [00:00<?, ?it/s]\u001b[A\n",
      " 40%|████████████████████▍                              | 12/30 [00:00<00:00, 110.56it/s]\u001b[A"
     ]
    },
    {
     "name": "stdout",
     "output_type": "stream",
     "text": [
      "Epoch 87, loss: 7593015.118969\n"
     ]
    },
    {
     "name": "stderr",
     "output_type": "stream",
     "text": [
      "\n",
      "100%|███████████████████████████████████████████████████| 30/30 [00:00<00:00, 111.80it/s]\u001b[A\n",
      " 89%|█████████████████████████████████████████████▍     | 89/100 [00:27<00:03,  3.23it/s]\n",
      "  0%|                                                             | 0/30 [00:00<?, ?it/s]\u001b[A\n",
      " 33%|█████████████████▎                                  | 10/30 [00:00<00:00, 89.36it/s]\u001b[A"
     ]
    },
    {
     "name": "stdout",
     "output_type": "stream",
     "text": [
      "Epoch 88, loss: 7616396.737286\n"
     ]
    },
    {
     "name": "stderr",
     "output_type": "stream",
     "text": [
      "\n",
      " 60%|███████████████████████████████▏                    | 18/30 [00:00<00:00, 84.20it/s]\u001b[A\n",
      "100%|████████████████████████████████████████████████████| 30/30 [00:00<00:00, 79.88it/s]\u001b[A\n",
      " 90%|█████████████████████████████████████████████▉     | 90/100 [00:27<00:03,  3.02it/s]\n",
      "  0%|                                                             | 0/30 [00:00<?, ?it/s]\u001b[A\n",
      " 27%|██████████████▏                                      | 8/30 [00:00<00:00, 77.01it/s]\u001b[A"
     ]
    },
    {
     "name": "stdout",
     "output_type": "stream",
     "text": [
      "Epoch 89, loss: 8748957.184155\n"
     ]
    },
    {
     "name": "stderr",
     "output_type": "stream",
     "text": [
      "\n",
      " 57%|█████████████████████████████▍                      | 17/30 [00:00<00:00, 78.83it/s]\u001b[A\n",
      "100%|████████████████████████████████████████████████████| 30/30 [00:00<00:00, 79.05it/s]\u001b[A\n",
      " 91%|██████████████████████████████████████████████▍    | 91/100 [00:28<00:03,  2.88it/s]\n",
      "  0%|                                                             | 0/30 [00:00<?, ?it/s]\u001b[A\n",
      " 27%|██████████████▏                                      | 8/30 [00:00<00:00, 74.16it/s]\u001b[A"
     ]
    },
    {
     "name": "stdout",
     "output_type": "stream",
     "text": [
      "Epoch 90, loss: 7255456.620266\n"
     ]
    },
    {
     "name": "stderr",
     "output_type": "stream",
     "text": [
      "\n",
      " 53%|███████████████████████████▋                        | 16/30 [00:00<00:00, 73.35it/s]\u001b[A\n",
      "100%|████████████████████████████████████████████████████| 30/30 [00:00<00:00, 76.62it/s]\u001b[A\n",
      " 92%|██████████████████████████████████████████████▉    | 92/100 [00:28<00:02,  2.76it/s]\n",
      "  0%|                                                             | 0/30 [00:00<?, ?it/s]\u001b[A\n",
      " 37%|██████████████████▋                                | 11/30 [00:00<00:00, 105.91it/s]\u001b[A"
     ]
    },
    {
     "name": "stdout",
     "output_type": "stream",
     "text": [
      "Epoch 91, loss: 8211029.019569\n"
     ]
    },
    {
     "name": "stderr",
     "output_type": "stream",
     "text": [
      "\n",
      "100%|████████████████████████████████████████████████████| 30/30 [00:00<00:00, 97.53it/s]\u001b[A\n",
      " 93%|███████████████████████████████████████████████▍   | 93/100 [00:29<00:02,  2.88it/s]\n",
      "  0%|                                                             | 0/30 [00:00<?, ?it/s]\u001b[A\n",
      " 37%|██████████████████▋                                | 11/30 [00:00<00:00, 105.91it/s]\u001b[A"
     ]
    },
    {
     "name": "stdout",
     "output_type": "stream",
     "text": [
      "Epoch 92, loss: 8104313.240741\n"
     ]
    },
    {
     "name": "stderr",
     "output_type": "stream",
     "text": [
      "\n",
      "100%|████████████████████████████████████████████████████| 30/30 [00:00<00:00, 96.28it/s]\u001b[A\n",
      " 94%|███████████████████████████████████████████████▉   | 94/100 [00:29<00:02,  2.96it/s]\n",
      "  0%|                                                             | 0/30 [00:00<?, ?it/s]\u001b[A\n",
      " 33%|█████████████████▎                                  | 10/30 [00:00<00:00, 96.28it/s]\u001b[A\n"
     ]
    },
    {
     "name": "stdout",
     "output_type": "stream",
     "text": [
      "Epoch 93, loss: 7757929.776307\n"
     ]
    },
    {
     "name": "stderr",
     "output_type": "stream",
     "text": [
      " 67%|██████████████████████████████████▋                 | 20/30 [00:00<00:00, 96.28it/s]\u001b[A\n",
      "100%|████████████████████████████████████████████████████| 30/30 [00:00<00:00, 87.32it/s]\u001b[A\n",
      " 95%|████████████████████████████████████████████████▍  | 95/100 [00:29<00:01,  2.94it/s]\n",
      "  0%|                                                             | 0/30 [00:00<?, ?it/s]\u001b[A\n",
      " 27%|██████████████▏                                      | 8/30 [00:00<00:00, 71.52it/s]\u001b[A"
     ]
    },
    {
     "name": "stdout",
     "output_type": "stream",
     "text": [
      "Epoch 94, loss: 7256278.024948\n"
     ]
    },
    {
     "name": "stderr",
     "output_type": "stream",
     "text": [
      "\n",
      " 53%|███████████████████████████▋                        | 16/30 [00:00<00:00, 73.08it/s]\u001b[A\n",
      "100%|████████████████████████████████████████████████████| 30/30 [00:00<00:00, 73.63it/s]\u001b[A\n",
      " 96%|████████████████████████████████████████████████▉  | 96/100 [00:30<00:01,  2.76it/s]\n",
      "  0%|                                                             | 0/30 [00:00<?, ?it/s]\u001b[A\n",
      " 30%|███████████████▉                                     | 9/30 [00:00<00:00, 86.66it/s]\u001b[A"
     ]
    },
    {
     "name": "stdout",
     "output_type": "stream",
     "text": [
      "Epoch 95, loss: 8057033.547043\n"
     ]
    },
    {
     "name": "stderr",
     "output_type": "stream",
     "text": [
      "\n",
      " 60%|███████████████████████████████▏                    | 18/30 [00:00<00:00, 84.69it/s]\u001b[A\n",
      "100%|████████████████████████████████████████████████████| 30/30 [00:00<00:00, 87.33it/s]\u001b[A\n",
      " 97%|█████████████████████████████████████████████████▍ | 97/100 [00:30<00:01,  2.79it/s]\n",
      "  0%|                                                             | 0/30 [00:00<?, ?it/s]\u001b[A\n",
      " 33%|█████████████████▎                                  | 10/30 [00:00<00:00, 96.28it/s]\u001b[A"
     ]
    },
    {
     "name": "stdout",
     "output_type": "stream",
     "text": [
      "Epoch 96, loss: 7573951.793368\n"
     ]
    },
    {
     "name": "stderr",
     "output_type": "stream",
     "text": [
      "\n",
      "100%|███████████████████████████████████████████████████| 30/30 [00:00<00:00, 104.29it/s]\u001b[A\n",
      " 98%|█████████████████████████████████████████████████▉ | 98/100 [00:30<00:00,  2.96it/s]\n",
      "  0%|                                                             | 0/30 [00:00<?, ?it/s]\u001b[A\n",
      " 37%|██████████████████▋                                | 11/30 [00:00<00:00, 101.99it/s]\u001b[A"
     ]
    },
    {
     "name": "stdout",
     "output_type": "stream",
     "text": [
      "Epoch 97, loss: 8647452.739696\n"
     ]
    },
    {
     "name": "stderr",
     "output_type": "stream",
     "text": [
      "\n",
      "100%|███████████████████████████████████████████████████| 30/30 [00:00<00:00, 105.76it/s]\u001b[A\n",
      " 99%|██████████████████████████████████████████████████▍| 99/100 [00:31<00:00,  3.10it/s]\n",
      "  0%|                                                             | 0/30 [00:00<?, ?it/s]\u001b[A\n",
      " 37%|██████████████████▋                                | 11/30 [00:00<00:00, 105.91it/s]\u001b[A"
     ]
    },
    {
     "name": "stdout",
     "output_type": "stream",
     "text": [
      "Epoch 98, loss: 8287465.984803\n"
     ]
    },
    {
     "name": "stderr",
     "output_type": "stream",
     "text": [
      "\n",
      "100%|███████████████████████████████████████████████████| 30/30 [00:00<00:00, 105.77it/s]\u001b[A\n",
      "100%|██████████████████████████████████████████████████| 100/100 [00:31<00:00,  3.19it/s]\n",
      "  0%|                                                            | 0/100 [00:00<?, ?it/s]\n",
      "  0%|                                                             | 0/30 [00:00<?, ?it/s]\u001b[A\n",
      " 37%|██████████████████▋                                | 11/30 [00:00<00:00, 101.98it/s]\u001b[A"
     ]
    },
    {
     "name": "stdout",
     "output_type": "stream",
     "text": [
      "Epoch 99, loss: 7835251.240713\n"
     ]
    },
    {
     "name": "stderr",
     "output_type": "stream",
     "text": [
      "\n",
      "100%|███████████████████████████████████████████████████| 30/30 [00:00<00:00, 100.12it/s]\u001b[A\n",
      "  1%|▌                                                   | 1/100 [00:00<00:30,  3.25it/s]\n",
      "  0%|                                                             | 0/30 [00:00<?, ?it/s]\u001b[A\n",
      " 27%|██████████████▏                                      | 8/30 [00:00<00:00, 77.02it/s]\u001b[A"
     ]
    },
    {
     "name": "stdout",
     "output_type": "stream",
     "text": [
      "Epoch 0, loss: 2663815.934740\n"
     ]
    },
    {
     "name": "stderr",
     "output_type": "stream",
     "text": [
      "\n",
      " 60%|███████████████████████████████▏                    | 18/30 [00:00<00:00, 81.14it/s]\u001b[A\n",
      "100%|████████████████████████████████████████████████████| 30/30 [00:00<00:00, 85.34it/s]\u001b[A\n",
      "  2%|█                                                   | 2/100 [00:00<00:31,  3.09it/s]\n",
      "  0%|                                                             | 0/30 [00:00<?, ?it/s]\u001b[A\n",
      " 37%|██████████████████▋                                | 11/30 [00:00<00:00, 101.95it/s]\u001b[A"
     ]
    },
    {
     "name": "stdout",
     "output_type": "stream",
     "text": [
      "Epoch 1, loss: 2702222.223154\n"
     ]
    },
    {
     "name": "stderr",
     "output_type": "stream",
     "text": [
      "\n",
      "100%|███████████████████████████████████████████████████| 30/30 [00:00<00:00, 101.49it/s]\u001b[A\n",
      "  3%|█▌                                                  | 3/100 [00:00<00:30,  3.18it/s]\n",
      "  0%|                                                             | 0/30 [00:00<?, ?it/s]\u001b[A\n",
      " 40%|████████████████████▍                              | 12/30 [00:00<00:00, 111.22it/s]\u001b[A"
     ]
    },
    {
     "name": "stdout",
     "output_type": "stream",
     "text": [
      "Epoch 2, loss: 2774569.733262\n"
     ]
    },
    {
     "name": "stderr",
     "output_type": "stream",
     "text": [
      "\n",
      "100%|███████████████████████████████████████████████████| 30/30 [00:00<00:00, 105.76it/s]\u001b[A\n",
      "  4%|██                                                  | 4/100 [00:01<00:29,  3.26it/s]\n",
      "  0%|                                                             | 0/30 [00:00<?, ?it/s]\u001b[A\n",
      " 30%|███████████████▉                                     | 9/30 [00:00<00:00, 80.46it/s]\u001b[A"
     ]
    },
    {
     "name": "stdout",
     "output_type": "stream",
     "text": [
      "Epoch 3, loss: 2801010.483152\n"
     ]
    },
    {
     "name": "stderr",
     "output_type": "stream",
     "text": [
      "\n",
      " 60%|███████████████████████████████▏                    | 18/30 [00:00<00:00, 80.46it/s]\u001b[A\n",
      "100%|████████████████████████████████████████████████████| 30/30 [00:00<00:00, 77.42it/s]\u001b[A\n",
      "  5%|██▌                                                 | 5/100 [00:01<00:31,  3.00it/s]\n",
      "  0%|                                                             | 0/30 [00:00<?, ?it/s]\u001b[A\n",
      " 27%|██████████████▏                                      | 8/30 [00:00<00:00, 77.02it/s]\u001b[A"
     ]
    },
    {
     "name": "stdout",
     "output_type": "stream",
     "text": [
      "Epoch 4, loss: 2762930.466622\n"
     ]
    },
    {
     "name": "stderr",
     "output_type": "stream",
     "text": [
      "\n",
      " 57%|█████████████████████████████▍                      | 17/30 [00:00<00:00, 78.84it/s]\u001b[A\n",
      "100%|████████████████████████████████████████████████████| 30/30 [00:00<00:00, 79.89it/s]\u001b[A\n",
      "  6%|███                                                 | 6/100 [00:02<00:32,  2.88it/s]\n",
      "  0%|                                                             | 0/30 [00:00<?, ?it/s]\u001b[A\n",
      " 27%|██████████████▏                                      | 8/30 [00:00<00:00, 77.01it/s]\u001b[A"
     ]
    },
    {
     "name": "stdout",
     "output_type": "stream",
     "text": [
      "Epoch 5, loss: 2816473.794053\n"
     ]
    },
    {
     "name": "stderr",
     "output_type": "stream",
     "text": [
      "\n",
      " 57%|█████████████████████████████▍                      | 17/30 [00:00<00:00, 79.67it/s]\u001b[A\n",
      "100%|████████████████████████████████████████████████████| 30/30 [00:00<00:00, 83.44it/s]\u001b[A\n",
      "  7%|███▋                                                | 7/100 [00:02<00:32,  2.83it/s]\n",
      "  0%|                                                             | 0/30 [00:00<?, ?it/s]\u001b[A\n",
      " 37%|██████████████████▋                                | 11/30 [00:00<00:00, 101.99it/s]\u001b[A"
     ]
    },
    {
     "name": "stdout",
     "output_type": "stream",
     "text": [
      "Epoch 6, loss: 2656122.115839\n"
     ]
    },
    {
     "name": "stderr",
     "output_type": "stream",
     "text": [
      "\n",
      "100%|███████████████████████████████████████████████████| 30/30 [00:00<00:00, 104.31it/s]\u001b[A\n",
      "  8%|████▏                                               | 8/100 [00:02<00:30,  2.98it/s]\n",
      "  0%|                                                             | 0/30 [00:00<?, ?it/s]\u001b[A\n",
      " 37%|██████████████████▋                                | 11/30 [00:00<00:00, 105.86it/s]\u001b[A"
     ]
    },
    {
     "name": "stdout",
     "output_type": "stream",
     "text": [
      "Epoch 7, loss: 2734952.156280\n"
     ]
    },
    {
     "name": "stderr",
     "output_type": "stream",
     "text": [
      "\n",
      "100%|███████████████████████████████████████████████████| 30/30 [00:00<00:00, 105.76it/s]\u001b[A\n",
      "  9%|████▋                                               | 9/100 [00:02<00:29,  3.11it/s]\n",
      "  0%|                                                             | 0/30 [00:00<?, ?it/s]\u001b[A\n",
      " 40%|████████████████████▍                              | 12/30 [00:00<00:00, 110.18it/s]\u001b[A"
     ]
    },
    {
     "name": "stdout",
     "output_type": "stream",
     "text": [
      "Epoch 8, loss: 2656791.006305\n"
     ]
    },
    {
     "name": "stderr",
     "output_type": "stream",
     "text": [
      "\n",
      "100%|███████████████████████████████████████████████████| 30/30 [00:00<00:00, 105.36it/s]\u001b[A\n",
      " 10%|█████                                              | 10/100 [00:03<00:28,  3.20it/s]\n",
      "  0%|                                                             | 0/30 [00:00<?, ?it/s]\u001b[A\n",
      " 40%|████████████████████▍                              | 12/30 [00:00<00:00, 115.59it/s]\u001b[A"
     ]
    },
    {
     "name": "stdout",
     "output_type": "stream",
     "text": [
      "Epoch 9, loss: 2828239.159365\n"
     ]
    },
    {
     "name": "stderr",
     "output_type": "stream",
     "text": [
      "\n",
      "100%|███████████████████████████████████████████████████| 30/30 [00:00<00:00, 102.89it/s]\u001b[A\n",
      " 11%|█████▌                                             | 11/100 [00:03<00:27,  3.26it/s]\n",
      "  0%|                                                             | 0/30 [00:00<?, ?it/s]\u001b[A\n",
      " 30%|███████████████▉                                     | 9/30 [00:00<00:00, 80.46it/s]\u001b[A"
     ]
    },
    {
     "name": "stdout",
     "output_type": "stream",
     "text": [
      "Epoch 10, loss: 2585358.510110\n"
     ]
    },
    {
     "name": "stderr",
     "output_type": "stream",
     "text": [
      "\n",
      " 57%|█████████████████████████████▍                      | 17/30 [00:00<00:00, 77.56it/s]\u001b[A\n",
      "100%|████████████████████████████████████████████████████| 30/30 [00:00<00:00, 74.36it/s]\u001b[A\n",
      " 12%|██████                                             | 12/100 [00:03<00:29,  2.95it/s]\n",
      "  0%|                                                             | 0/30 [00:00<?, ?it/s]\u001b[A\n",
      " 27%|██████████████▏                                      | 8/30 [00:00<00:00, 74.17it/s]\u001b[A"
     ]
    },
    {
     "name": "stdout",
     "output_type": "stream",
     "text": [
      "Epoch 11, loss: 2818650.317525\n"
     ]
    },
    {
     "name": "stderr",
     "output_type": "stream",
     "text": [
      "\n",
      " 53%|███████████████████████████▋                        | 16/30 [00:00<00:00, 74.17it/s]\u001b[A\n",
      "100%|████████████████████████████████████████████████████| 30/30 [00:00<00:00, 79.05it/s]\u001b[A\n",
      " 13%|██████▋                                            | 13/100 [00:04<00:30,  2.83it/s]\n",
      "  0%|                                                             | 0/30 [00:00<?, ?it/s]\u001b[A\n",
      " 33%|█████████████████▎                                  | 10/30 [00:00<00:00, 96.28it/s]\u001b[A"
     ]
    },
    {
     "name": "stdout",
     "output_type": "stream",
     "text": [
      "Epoch 12, loss: 3006717.952790\n"
     ]
    },
    {
     "name": "stderr",
     "output_type": "stream",
     "text": [
      "\n",
      "100%|████████████████████████████████████████████████████| 30/30 [00:00<00:00, 96.28it/s]\u001b[A\n",
      " 14%|███████▏                                           | 14/100 [00:04<00:29,  2.92it/s]\n",
      "  0%|                                                             | 0/30 [00:00<?, ?it/s]\u001b[A\n",
      " 40%|████████████████████▍                              | 12/30 [00:00<00:00, 111.26it/s]\u001b[A"
     ]
    },
    {
     "name": "stdout",
     "output_type": "stream",
     "text": [
      "Epoch 13, loss: 2698118.382038\n"
     ]
    },
    {
     "name": "stderr",
     "output_type": "stream",
     "text": [
      "\n",
      "100%|███████████████████████████████████████████████████| 30/30 [00:00<00:00, 105.77it/s]\u001b[A\n",
      " 15%|███████▋                                           | 15/100 [00:04<00:27,  3.06it/s]\n",
      "  0%|                                                             | 0/30 [00:00<?, ?it/s]\u001b[A\n",
      " 40%|████████████████████▍                              | 12/30 [00:00<00:00, 115.54it/s]\u001b[A"
     ]
    },
    {
     "name": "stdout",
     "output_type": "stream",
     "text": [
      "Epoch 14, loss: 2846915.369222\n"
     ]
    },
    {
     "name": "stderr",
     "output_type": "stream",
     "text": [
      "\n",
      "100%|███████████████████████████████████████████████████| 30/30 [00:00<00:00, 108.84it/s]\u001b[A\n",
      " 16%|████████▏                                          | 16/100 [00:05<00:26,  3.21it/s]\n",
      "  0%|                                                             | 0/30 [00:00<?, ?it/s]\u001b[A\n",
      " 40%|████████████████████▍                              | 12/30 [00:00<00:00, 111.26it/s]\u001b[A"
     ]
    },
    {
     "name": "stdout",
     "output_type": "stream",
     "text": [
      "Epoch 15, loss: 2741763.966747\n"
     ]
    },
    {
     "name": "stderr",
     "output_type": "stream",
     "text": [
      "\n",
      "100%|███████████████████████████████████████████████████| 30/30 [00:00<00:00, 105.76it/s]\u001b[A\n",
      " 17%|████████▋                                          | 17/100 [00:05<00:25,  3.28it/s]\n",
      "  0%|                                                             | 0/30 [00:00<?, ?it/s]\u001b[A\n",
      " 40%|████████████████████▍                              | 12/30 [00:00<00:00, 111.26it/s]\u001b[A"
     ]
    },
    {
     "name": "stdout",
     "output_type": "stream",
     "text": [
      "Epoch 16, loss: 2745558.999713\n"
     ]
    },
    {
     "name": "stderr",
     "output_type": "stream",
     "text": [
      "\n",
      "100%|███████████████████████████████████████████████████| 30/30 [00:00<00:00, 105.77it/s]\u001b[A\n",
      " 18%|█████████▏                                         | 18/100 [00:05<00:24,  3.34it/s]\n",
      "  0%|                                                             | 0/30 [00:00<?, ?it/s]\u001b[A\n",
      " 40%|████████████████████▍                              | 12/30 [00:00<00:00, 115.48it/s]\u001b[A"
     ]
    },
    {
     "name": "stdout",
     "output_type": "stream",
     "text": [
      "Epoch 17, loss: 2625412.599375\n"
     ]
    },
    {
     "name": "stderr",
     "output_type": "stream",
     "text": [
      "\n",
      "100%|███████████████████████████████████████████████████| 30/30 [00:00<00:00, 100.12it/s]\u001b[A\n",
      " 19%|█████████▋                                         | 19/100 [00:06<00:24,  3.33it/s]\n",
      "  0%|                                                             | 0/30 [00:00<?, ?it/s]\u001b[A\n",
      " 40%|████████████████████▍                              | 12/30 [00:00<00:00, 115.48it/s]\u001b[A"
     ]
    },
    {
     "name": "stdout",
     "output_type": "stream",
     "text": [
      "Epoch 18, loss: 3031929.183694\n"
     ]
    },
    {
     "name": "stderr",
     "output_type": "stream",
     "text": [
      "\n",
      "100%|███████████████████████████████████████████████████| 30/30 [00:00<00:00, 105.77it/s]\u001b[A\n",
      " 20%|██████████▏                                        | 20/100 [00:06<00:23,  3.37it/s]\n",
      "  0%|                                                             | 0/30 [00:00<?, ?it/s]\u001b[A\n",
      " 40%|████████████████████▍                              | 12/30 [00:00<00:00, 115.59it/s]\u001b[A"
     ]
    },
    {
     "name": "stdout",
     "output_type": "stream",
     "text": [
      "Epoch 19, loss: 2867710.551074\n"
     ]
    },
    {
     "name": "stderr",
     "output_type": "stream",
     "text": [
      "\n",
      "100%|███████████████████████████████████████████████████| 30/30 [00:00<00:00, 105.78it/s]\u001b[A\n",
      " 21%|██████████▋                                        | 21/100 [00:06<00:23,  3.40it/s]\n",
      "  0%|                                                             | 0/30 [00:00<?, ?it/s]\u001b[A\n",
      " 40%|████████████████████▍                              | 12/30 [00:00<00:00, 115.54it/s]\u001b[A"
     ]
    },
    {
     "name": "stdout",
     "output_type": "stream",
     "text": [
      "Epoch 20, loss: 2625596.109188\n"
     ]
    },
    {
     "name": "stderr",
     "output_type": "stream",
     "text": [
      "\n",
      "100%|███████████████████████████████████████████████████| 30/30 [00:00<00:00, 105.77it/s]\u001b[A\n",
      " 22%|███████████▏                                       | 22/100 [00:06<00:22,  3.42it/s]\n",
      "  0%|                                                             | 0/30 [00:00<?, ?it/s]\u001b[A\n",
      " 43%|██████████████████████                             | 13/30 [00:00<00:00, 120.53it/s]\u001b[A"
     ]
    },
    {
     "name": "stdout",
     "output_type": "stream",
     "text": [
      "Epoch 21, loss: 2697457.992246\n"
     ]
    },
    {
     "name": "stderr",
     "output_type": "stream",
     "text": [
      "\n",
      "100%|███████████████████████████████████████████████████| 30/30 [00:00<00:00, 110.44it/s]\u001b[A\n",
      " 23%|███████████▋                                       | 23/100 [00:07<00:22,  3.48it/s]\n",
      "  0%|                                                             | 0/30 [00:00<?, ?it/s]\u001b[A\n",
      " 37%|██████████████████▋                                | 11/30 [00:00<00:00, 105.90it/s]\u001b[A"
     ]
    },
    {
     "name": "stdout",
     "output_type": "stream",
     "text": [
      "Epoch 22, loss: 2748540.196206\n"
     ]
    },
    {
     "name": "stderr",
     "output_type": "stream",
     "text": [
      "\n",
      " 63%|████████████████████████████████▉                   | 19/30 [00:00<00:00, 95.19it/s]\u001b[A\n",
      "100%|████████████████████████████████████████████████████| 30/30 [00:00<00:00, 87.32it/s]\u001b[A\n",
      " 24%|████████████▏                                      | 24/100 [00:07<00:23,  3.28it/s]\n",
      "  0%|                                                             | 0/30 [00:00<?, ?it/s]\u001b[A\n",
      " 33%|█████████████████▎                                  | 10/30 [00:00<00:00, 92.71it/s]\u001b[A"
     ]
    },
    {
     "name": "stdout",
     "output_type": "stream",
     "text": [
      "Epoch 23, loss: 2693557.612947\n"
     ]
    },
    {
     "name": "stderr",
     "output_type": "stream",
     "text": [
      "\n",
      " 67%|██████████████████████████████████▋                 | 20/30 [00:00<00:00, 93.76it/s]\u001b[A\n",
      "100%|████████████████████████████████████████████████████| 30/30 [00:00<00:00, 88.35it/s]\u001b[A\n",
      " 25%|████████████▊                                      | 25/100 [00:07<00:23,  3.15it/s]\n",
      "  0%|                                                             | 0/30 [00:00<?, ?it/s]\u001b[A\n",
      " 27%|██████████████▏                                      | 8/30 [00:00<00:00, 77.03it/s]\u001b[A"
     ]
    },
    {
     "name": "stdout",
     "output_type": "stream",
     "text": [
      "Epoch 24, loss: 2782610.342605\n"
     ]
    },
    {
     "name": "stderr",
     "output_type": "stream",
     "text": [
      "\n",
      " 53%|███████████████████████████▋                        | 16/30 [00:00<00:00, 76.15it/s]\u001b[A\n",
      "100%|████████████████████████████████████████████████████| 30/30 [00:00<00:00, 79.90it/s]\u001b[A\n",
      " 26%|█████████████▎                                     | 26/100 [00:08<00:24,  2.97it/s]\n",
      "  0%|                                                             | 0/30 [00:00<?, ?it/s]\u001b[A\n",
      " 40%|████████████████████▍                              | 12/30 [00:00<00:00, 111.21it/s]\u001b[A"
     ]
    },
    {
     "name": "stdout",
     "output_type": "stream",
     "text": [
      "Epoch 25, loss: 2708768.864137\n"
     ]
    },
    {
     "name": "stderr",
     "output_type": "stream",
     "text": [
      "\n",
      "100%|███████████████████████████████████████████████████| 30/30 [00:00<00:00, 104.29it/s]\u001b[A\n",
      " 27%|█████████████▊                                     | 27/100 [00:08<00:23,  3.08it/s]\n",
      "  0%|                                                             | 0/30 [00:00<?, ?it/s]\u001b[A\n",
      " 37%|██████████████████▋                                | 11/30 [00:00<00:00, 101.94it/s]\u001b[A"
     ]
    },
    {
     "name": "stdout",
     "output_type": "stream",
     "text": [
      "Epoch 26, loss: 2860028.595260\n"
     ]
    },
    {
     "name": "stderr",
     "output_type": "stream",
     "text": [
      "\n",
      " 70%|████████████████████████████████████▍               | 21/30 [00:00<00:00, 99.00it/s]\u001b[A\n",
      "100%|████████████████████████████████████████████████████| 30/30 [00:00<00:00, 86.32it/s]\u001b[A\n",
      " 28%|██████████████▎                                    | 28/100 [00:08<00:23,  3.01it/s]\n",
      "  0%|                                                             | 0/30 [00:00<?, ?it/s]\u001b[A\n",
      " 30%|███████████████▉                                     | 9/30 [00:00<00:00, 83.44it/s]\u001b[A"
     ]
    },
    {
     "name": "stdout",
     "output_type": "stream",
     "text": [
      "Epoch 27, loss: 2721951.390870\n"
     ]
    },
    {
     "name": "stderr",
     "output_type": "stream",
     "text": [
      "\n",
      " 60%|███████████████████████████████▏                    | 18/30 [00:00<00:00, 84.38it/s]\u001b[A\n",
      "100%|████████████████████████████████████████████████████| 30/30 [00:00<00:00, 88.34it/s]\u001b[A\n",
      " 29%|██████████████▊                                    | 29/100 [00:09<00:23,  2.98it/s]\n",
      "  0%|                                                             | 0/30 [00:00<?, ?it/s]\u001b[A\n",
      " 37%|██████████████████▋                                | 11/30 [00:00<00:00, 101.99it/s]\u001b[A"
     ]
    },
    {
     "name": "stdout",
     "output_type": "stream",
     "text": [
      "Epoch 28, loss: 2846940.906033\n"
     ]
    },
    {
     "name": "stderr",
     "output_type": "stream",
     "text": [
      "\n",
      "100%|████████████████████████████████████████████████████| 30/30 [00:00<00:00, 95.06it/s]\u001b[A\n",
      " 30%|███████████████▎                                   | 30/100 [00:09<00:23,  3.02it/s]\n",
      "  0%|                                                             | 0/30 [00:00<?, ?it/s]\u001b[A\n",
      " 27%|██████████████▏                                      | 8/30 [00:00<00:00, 77.04it/s]\u001b[A"
     ]
    },
    {
     "name": "stdout",
     "output_type": "stream",
     "text": [
      "Epoch 29, loss: 2715190.903702\n"
     ]
    },
    {
     "name": "stderr",
     "output_type": "stream",
     "text": [
      "\n",
      " 53%|███████████████████████████▋                        | 16/30 [00:00<00:00, 76.15it/s]\u001b[A\n",
      "100%|████████████████████████████████████████████████████| 30/30 [00:00<00:00, 80.76it/s]\u001b[A\n",
      " 31%|███████████████▊                                   | 31/100 [00:10<00:23,  2.90it/s]\n",
      "  0%|                                                             | 0/30 [00:00<?, ?it/s]\u001b[A\n",
      " 40%|████████████████████▍                              | 12/30 [00:00<00:00, 111.26it/s]\u001b[A"
     ]
    },
    {
     "name": "stdout",
     "output_type": "stream",
     "text": [
      "Epoch 30, loss: 2659342.944682\n"
     ]
    },
    {
     "name": "stderr",
     "output_type": "stream",
     "text": [
      "\n",
      "100%|███████████████████████████████████████████████████| 30/30 [00:00<00:00, 102.86it/s]\u001b[A\n",
      " 32%|████████████████▎                                  | 32/100 [00:10<00:22,  3.03it/s]\n",
      "  0%|                                                             | 0/30 [00:00<?, ?it/s]\u001b[A\n",
      " 40%|████████████████████▍                              | 12/30 [00:00<00:00, 111.26it/s]\u001b[A"
     ]
    },
    {
     "name": "stdout",
     "output_type": "stream",
     "text": [
      "Epoch 31, loss: 2797377.595436\n"
     ]
    },
    {
     "name": "stderr",
     "output_type": "stream",
     "text": [
      "\n",
      "100%|███████████████████████████████████████████████████| 30/30 [00:00<00:00, 105.77it/s]\u001b[A\n",
      " 33%|████████████████▊                                  | 33/100 [00:10<00:21,  3.14it/s]\n",
      "  0%|                                                             | 0/30 [00:00<?, ?it/s]\u001b[A\n",
      " 33%|█████████████████▎                                  | 10/30 [00:00<00:00, 96.32it/s]\u001b[A"
     ]
    },
    {
     "name": "stdout",
     "output_type": "stream",
     "text": [
      "Epoch 32, loss: 2624774.190188\n"
     ]
    },
    {
     "name": "stderr",
     "output_type": "stream",
     "text": [
      "\n",
      " 60%|███████████████████████████████▏                    | 18/30 [00:00<00:00, 88.40it/s]\u001b[A\n",
      "100%|████████████████████████████████████████████████████| 30/30 [00:00<00:00, 83.45it/s]\u001b[A\n",
      " 34%|█████████████████▎                                 | 34/100 [00:10<00:21,  3.02it/s]\n",
      "  0%|                                                             | 0/30 [00:00<?, ?it/s]\u001b[A\n",
      " 37%|██████████████████▋                                | 11/30 [00:00<00:00, 101.98it/s]\u001b[A"
     ]
    },
    {
     "name": "stdout",
     "output_type": "stream",
     "text": [
      "Epoch 33, loss: 2939369.395912\n"
     ]
    },
    {
     "name": "stderr",
     "output_type": "stream",
     "text": [
      "\n",
      "100%|███████████████████████████████████████████████████| 30/30 [00:00<00:00, 105.77it/s]\u001b[A\n",
      " 35%|█████████████████▊                                 | 35/100 [00:11<00:20,  3.15it/s]\n",
      "  0%|                                                             | 0/30 [00:00<?, ?it/s]\u001b[A\n",
      " 40%|████████████████████▍                              | 12/30 [00:00<00:00, 115.54it/s]\u001b[A"
     ]
    },
    {
     "name": "stdout",
     "output_type": "stream",
     "text": [
      "Epoch 34, loss: 2681664.277699\n"
     ]
    },
    {
     "name": "stderr",
     "output_type": "stream",
     "text": [
      "\n",
      "100%|███████████████████████████████████████████████████| 30/30 [00:00<00:00, 102.88it/s]\u001b[A\n",
      " 36%|██████████████████▎                                | 36/100 [00:11<00:19,  3.20it/s]\n",
      "  0%|                                                             | 0/30 [00:00<?, ?it/s]\u001b[A\n",
      " 30%|███████████████▉                                     | 9/30 [00:00<00:00, 80.46it/s]\u001b[A"
     ]
    },
    {
     "name": "stdout",
     "output_type": "stream",
     "text": [
      "Epoch 35, loss: 2777942.362219\n"
     ]
    },
    {
     "name": "stderr",
     "output_type": "stream",
     "text": [
      "\n",
      " 60%|███████████████████████████████▏                    | 18/30 [00:00<00:00, 80.46it/s]\u001b[A\n",
      "100%|████████████████████████████████████████████████████| 30/30 [00:00<00:00, 87.31it/s]\u001b[A\n",
      " 37%|██████████████████▊                                | 37/100 [00:11<00:20,  3.09it/s]\n",
      "  0%|                                                             | 0/30 [00:00<?, ?it/s]\u001b[A\n",
      " 37%|██████████████████▋                                | 11/30 [00:00<00:00, 101.99it/s]\u001b[A"
     ]
    },
    {
     "name": "stdout",
     "output_type": "stream",
     "text": [
      "Epoch 36, loss: 2482535.757216\n"
     ]
    },
    {
     "name": "stderr",
     "output_type": "stream",
     "text": [
      "\n",
      "100%|███████████████████████████████████████████████████| 30/30 [00:00<00:00, 102.88it/s]\u001b[A\n",
      " 38%|███████████████████▍                               | 38/100 [00:12<00:19,  3.16it/s]\n",
      "  0%|                                                             | 0/30 [00:00<?, ?it/s]\u001b[A\n",
      " 37%|██████████████████▋                                | 11/30 [00:00<00:00, 102.02it/s]\u001b[A"
     ]
    },
    {
     "name": "stdout",
     "output_type": "stream",
     "text": [
      "Epoch 37, loss: 2721015.131097\n"
     ]
    },
    {
     "name": "stderr",
     "output_type": "stream",
     "text": [
      "\n",
      "100%|████████████████████████████████████████████████████| 30/30 [00:00<00:00, 93.88it/s]\u001b[A\n",
      " 39%|███████████████████▉                               | 39/100 [00:12<00:19,  3.15it/s]\n",
      "  0%|                                                             | 0/30 [00:00<?, ?it/s]\u001b[A\n",
      " 27%|██████████████▏                                      | 8/30 [00:00<00:00, 77.05it/s]\u001b[A"
     ]
    },
    {
     "name": "stdout",
     "output_type": "stream",
     "text": [
      "Epoch 38, loss: 2447917.894083\n"
     ]
    },
    {
     "name": "stderr",
     "output_type": "stream",
     "text": [
      "\n",
      " 50%|██████████████████████████                          | 15/30 [00:00<00:00, 73.88it/s]\u001b[A\n",
      "100%|████████████████████████████████████████████████████| 30/30 [00:00<00:00, 70.85it/s]\u001b[A\n",
      " 40%|████████████████████▍                              | 40/100 [00:12<00:21,  2.85it/s]\n",
      "  0%|                                                             | 0/30 [00:00<?, ?it/s]\u001b[A\n",
      " 27%|██████████████▏                                      | 8/30 [00:00<00:00, 77.02it/s]\u001b[A"
     ]
    },
    {
     "name": "stdout",
     "output_type": "stream",
     "text": [
      "Epoch 39, loss: 2803120.111721\n"
     ]
    },
    {
     "name": "stderr",
     "output_type": "stream",
     "text": [
      "\n",
      " 60%|███████████████████████████████▏                    | 18/30 [00:00<00:00, 81.14it/s]\u001b[A\n",
      "100%|████████████████████████████████████████████████████| 30/30 [00:00<00:00, 89.40it/s]\u001b[A\n",
      " 41%|████████████████████▉                              | 41/100 [00:13<00:20,  2.88it/s]\n",
      "  0%|                                                             | 0/30 [00:00<?, ?it/s]\u001b[A\n",
      " 37%|██████████████████▋                                | 11/30 [00:00<00:00, 101.99it/s]\u001b[A"
     ]
    },
    {
     "name": "stdout",
     "output_type": "stream",
     "text": [
      "Epoch 40, loss: 2966516.089409\n"
     ]
    },
    {
     "name": "stderr",
     "output_type": "stream",
     "text": [
      "\n",
      " 73%|█████████████████████████████████████▍             | 22/30 [00:00<00:00, 101.99it/s]\u001b[A\n",
      "100%|████████████████████████████████████████████████████| 30/30 [00:00<00:00, 92.71it/s]\u001b[A\n",
      " 42%|█████████████████████▍                             | 42/100 [00:13<00:19,  2.93it/s]\n",
      "  0%|                                                             | 0/30 [00:00<?, ?it/s]\u001b[A\n",
      " 27%|██████████████▏                                      | 8/30 [00:00<00:00, 74.16it/s]\u001b[A"
     ]
    },
    {
     "name": "stdout",
     "output_type": "stream",
     "text": [
      "Epoch 41, loss: 2913423.564302\n"
     ]
    },
    {
     "name": "stderr",
     "output_type": "stream",
     "text": [
      "\n",
      " 53%|███████████████████████████▋                        | 16/30 [00:00<00:00, 74.17it/s]\u001b[A\n",
      "100%|████████████████████████████████████████████████████| 30/30 [00:00<00:00, 79.05it/s]\u001b[A\n",
      " 43%|█████████████████████▉                             | 43/100 [00:14<00:20,  2.83it/s]\n",
      "  0%|                                                             | 0/30 [00:00<?, ?it/s]\u001b[A\n",
      " 33%|█████████████████▎                                  | 10/30 [00:00<00:00, 96.28it/s]\u001b[A"
     ]
    },
    {
     "name": "stdout",
     "output_type": "stream",
     "text": [
      "Epoch 42, loss: 2763730.554928\n"
     ]
    },
    {
     "name": "stderr",
     "output_type": "stream",
     "text": [
      "\n",
      "100%|████████████████████████████████████████████████████| 30/30 [00:00<00:00, 97.53it/s]\u001b[A\n",
      " 44%|██████████████████████▍                            | 44/100 [00:14<00:19,  2.93it/s]\n",
      "  0%|                                                             | 0/30 [00:00<?, ?it/s]\u001b[A\n",
      " 30%|███████████████▉                                     | 9/30 [00:00<00:00, 83.44it/s]\u001b[A"
     ]
    },
    {
     "name": "stdout",
     "output_type": "stream",
     "text": [
      "Epoch 43, loss: 2807506.250880\n"
     ]
    },
    {
     "name": "stderr",
     "output_type": "stream",
     "text": [
      "\n",
      " 57%|█████████████████████████████▍                      | 17/30 [00:00<00:00, 81.40it/s]\u001b[A\n",
      "100%|████████████████████████████████████████████████████| 30/30 [00:00<00:00, 77.42it/s]\u001b[A\n",
      " 45%|██████████████████████▉                            | 45/100 [00:14<00:19,  2.81it/s]\n",
      "  0%|                                                             | 0/30 [00:00<?, ?it/s]\u001b[A\n",
      " 27%|██████████████▏                                      | 8/30 [00:00<00:00, 77.02it/s]\u001b[A"
     ]
    },
    {
     "name": "stdout",
     "output_type": "stream",
     "text": [
      "Epoch 44, loss: 2751018.450722\n"
     ]
    },
    {
     "name": "stderr",
     "output_type": "stream",
     "text": [
      "\n",
      " 53%|███████████████████████████▋                        | 16/30 [00:00<00:00, 75.29it/s]\u001b[A\n",
      "100%|████████████████████████████████████████████████████| 30/30 [00:00<00:00, 72.90it/s]\u001b[A\n",
      " 46%|███████████████████████▍                           | 46/100 [00:15<00:20,  2.66it/s]\n",
      "  0%|                                                             | 0/30 [00:00<?, ?it/s]\u001b[A\n",
      " 33%|█████████████████▎                                  | 10/30 [00:00<00:00, 96.28it/s]\u001b[A"
     ]
    },
    {
     "name": "stdout",
     "output_type": "stream",
     "text": [
      "Epoch 45, loss: 2720298.532235\n"
     ]
    },
    {
     "name": "stderr",
     "output_type": "stream",
     "text": [
      "\n",
      "100%|███████████████████████████████████████████████████| 30/30 [00:00<00:00, 100.12it/s]\u001b[A\n",
      " 47%|███████████████████████▉                           | 47/100 [00:15<00:18,  2.83it/s]\n",
      "  0%|                                                             | 0/30 [00:00<?, ?it/s]\u001b[A\n",
      " 40%|████████████████████▍                              | 12/30 [00:00<00:00, 111.26it/s]\u001b[A"
     ]
    },
    {
     "name": "stdout",
     "output_type": "stream",
     "text": [
      "Epoch 46, loss: 2865857.823796\n"
     ]
    },
    {
     "name": "stderr",
     "output_type": "stream",
     "text": [
      "\n",
      "100%|███████████████████████████████████████████████████| 30/30 [00:00<00:00, 101.48it/s]\u001b[A\n",
      " 48%|████████████████████████▍                          | 48/100 [00:15<00:17,  2.96it/s]\n",
      "  0%|                                                             | 0/30 [00:00<?, ?it/s]\u001b[A\n",
      " 30%|███████████████▉                                     | 9/30 [00:00<00:00, 77.68it/s]\u001b[A"
     ]
    },
    {
     "name": "stdout",
     "output_type": "stream",
     "text": [
      "Epoch 47, loss: 2860000.162542\n"
     ]
    },
    {
     "name": "stderr",
     "output_type": "stream",
     "text": [
      "\n",
      " 57%|█████████████████████████████▍                      | 17/30 [00:00<00:00, 76.59it/s]\u001b[A\n",
      "100%|████████████████████████████████████████████████████| 30/30 [00:00<00:00, 75.10it/s]\u001b[A\n",
      " 49%|████████████████████████▉                          | 49/100 [00:16<00:18,  2.79it/s]\n",
      "  0%|                                                             | 0/30 [00:00<?, ?it/s]\u001b[A\n",
      " 27%|██████████████▏                                      | 8/30 [00:00<00:00, 71.52it/s]\u001b[A"
     ]
    },
    {
     "name": "stdout",
     "output_type": "stream",
     "text": [
      "Epoch 48, loss: 2808271.890442\n"
     ]
    },
    {
     "name": "stderr",
     "output_type": "stream",
     "text": [
      "\n",
      " 50%|██████████████████████████                          | 15/30 [00:00<00:00, 70.22it/s]\u001b[A\n",
      "100%|████████████████████████████████████████████████████| 30/30 [00:00<00:00, 75.86it/s]\u001b[A\n",
      " 50%|█████████████████████████▌                         | 50/100 [00:16<00:18,  2.70it/s]\n",
      "  0%|                                                             | 0/30 [00:00<?, ?it/s]\u001b[A\n",
      " 33%|█████████████████▎                                  | 10/30 [00:00<00:00, 92.74it/s]\u001b[A"
     ]
    },
    {
     "name": "stdout",
     "output_type": "stream",
     "text": [
      "Epoch 49, loss: 2719351.656214\n"
     ]
    },
    {
     "name": "stderr",
     "output_type": "stream",
     "text": [
      "\n",
      " 67%|██████████████████████████████████▋                 | 20/30 [00:00<00:00, 92.72it/s]\u001b[A\n",
      "100%|████████████████████████████████████████████████████| 30/30 [00:00<00:00, 92.73it/s]\u001b[A\n",
      " 51%|██████████████████████████                         | 51/100 [00:16<00:17,  2.80it/s]\n",
      "  0%|                                                             | 0/30 [00:00<?, ?it/s]\u001b[A\n",
      " 30%|███████████████▉                                     | 9/30 [00:00<00:00, 86.65it/s]\u001b[A"
     ]
    },
    {
     "name": "stdout",
     "output_type": "stream",
     "text": [
      "Epoch 50, loss: 2741841.840221\n"
     ]
    },
    {
     "name": "stderr",
     "output_type": "stream",
     "text": [
      "\n",
      " 57%|█████████████████████████████▍                      | 17/30 [00:00<00:00, 83.52it/s]\u001b[A\n",
      "100%|████████████████████████████████████████████████████| 30/30 [00:00<00:00, 72.91it/s]\u001b[A\n",
      " 52%|██████████████████████████▌                        | 52/100 [00:17<00:17,  2.67it/s]\n",
      "  0%|                                                             | 0/30 [00:00<?, ?it/s]\u001b[A\n",
      " 23%|████████████▎                                        | 7/30 [00:00<00:00, 67.39it/s]\u001b[A"
     ]
    },
    {
     "name": "stdout",
     "output_type": "stream",
     "text": [
      "Epoch 51, loss: 2682227.178047\n"
     ]
    },
    {
     "name": "stderr",
     "output_type": "stream",
     "text": [
      "\n",
      " 53%|███████████████████████████▋                        | 16/30 [00:00<00:00, 70.84it/s]\u001b[A\n",
      "100%|████████████████████████████████████████████████████| 30/30 [00:00<00:00, 73.63it/s]\u001b[A\n",
      " 53%|███████████████████████████                        | 53/100 [00:17<00:18,  2.59it/s]\n",
      "  0%|                                                             | 0/30 [00:00<?, ?it/s]\u001b[A\n",
      " 27%|██████████████▏                                      | 8/30 [00:00<00:00, 77.02it/s]\u001b[A"
     ]
    },
    {
     "name": "stdout",
     "output_type": "stream",
     "text": [
      "Epoch 52, loss: 2905161.283180\n"
     ]
    },
    {
     "name": "stderr",
     "output_type": "stream",
     "text": [
      "\n",
      " 50%|██████████████████████████                          | 15/30 [00:00<00:00, 73.85it/s]\u001b[A\n",
      "100%|████████████████████████████████████████████████████| 30/30 [00:00<00:00, 71.52it/s]\u001b[A\n",
      " 54%|███████████████████████████▌                       | 54/100 [00:18<00:18,  2.51it/s]\n",
      "  0%|                                                             | 0/30 [00:00<?, ?it/s]\u001b[A\n",
      " 33%|█████████████████▎                                  | 10/30 [00:00<00:00, 92.71it/s]\u001b[A"
     ]
    },
    {
     "name": "stdout",
     "output_type": "stream",
     "text": [
      "Epoch 53, loss: 2821159.309376\n"
     ]
    },
    {
     "name": "stderr",
     "output_type": "stream",
     "text": [
      "\n",
      " 63%|████████████████████████████████▉                   | 19/30 [00:00<00:00, 89.72it/s]\u001b[A\n",
      "100%|████████████████████████████████████████████████████| 30/30 [00:00<00:00, 88.35it/s]\u001b[A\n",
      " 55%|████████████████████████████                       | 55/100 [00:18<00:17,  2.62it/s]\n",
      "  0%|                                                             | 0/30 [00:00<?, ?it/s]\u001b[A\n",
      " 33%|█████████████████▎                                  | 10/30 [00:00<00:00, 89.40it/s]\u001b[A"
     ]
    },
    {
     "name": "stdout",
     "output_type": "stream",
     "text": [
      "Epoch 54, loss: 2864321.267489\n"
     ]
    },
    {
     "name": "stderr",
     "output_type": "stream",
     "text": [
      "\n",
      " 70%|████████████████████████████████████▍               | 21/30 [00:00<00:00, 92.83it/s]\u001b[A\n",
      "100%|████████████████████████████████████████████████████| 30/30 [00:00<00:00, 90.48it/s]\u001b[A\n",
      " 56%|████████████████████████████▌                      | 56/100 [00:18<00:16,  2.72it/s]\n",
      "  0%|                                                             | 0/30 [00:00<?, ?it/s]\u001b[A\n",
      " 37%|██████████████████▋                                | 11/30 [00:00<00:00, 101.99it/s]\u001b[A"
     ]
    },
    {
     "name": "stdout",
     "output_type": "stream",
     "text": [
      "Epoch 55, loss: 2754144.425096\n"
     ]
    },
    {
     "name": "stderr",
     "output_type": "stream",
     "text": [
      "\n",
      "100%|████████████████████████████████████████████████████| 30/30 [00:00<00:00, 97.52it/s]\u001b[A\n",
      " 57%|█████████████████████████████                      | 57/100 [00:19<00:15,  2.85it/s]\n",
      "  0%|                                                             | 0/30 [00:00<?, ?it/s]\u001b[A\n",
      " 40%|████████████████████▍                              | 12/30 [00:00<00:00, 111.26it/s]\u001b[A"
     ]
    },
    {
     "name": "stdout",
     "output_type": "stream",
     "text": [
      "Epoch 56, loss: 2929277.769049\n"
     ]
    },
    {
     "name": "stderr",
     "output_type": "stream",
     "text": [
      "\n",
      "100%|███████████████████████████████████████████████████| 30/30 [00:00<00:00, 102.86it/s]\u001b[A\n",
      " 58%|█████████████████████████████▌                     | 58/100 [00:19<00:14,  2.99it/s]\n",
      "  0%|                                                             | 0/30 [00:00<?, ?it/s]\u001b[A\n",
      " 40%|████████████████████▍                              | 12/30 [00:00<00:00, 111.31it/s]\u001b[A"
     ]
    },
    {
     "name": "stdout",
     "output_type": "stream",
     "text": [
      "Epoch 57, loss: 2573307.769974\n"
     ]
    },
    {
     "name": "stderr",
     "output_type": "stream",
     "text": [
      "\n",
      "100%|███████████████████████████████████████████████████| 30/30 [00:00<00:00, 101.49it/s]\u001b[A\n",
      " 59%|██████████████████████████████                     | 59/100 [00:19<00:13,  3.10it/s]\n",
      "  0%|                                                             | 0/30 [00:00<?, ?it/s]\u001b[A\n",
      " 37%|██████████████████▋                                | 11/30 [00:00<00:00, 105.91it/s]\u001b[A"
     ]
    },
    {
     "name": "stdout",
     "output_type": "stream",
     "text": [
      "Epoch 58, loss: 2881736.660695\n"
     ]
    },
    {
     "name": "stderr",
     "output_type": "stream",
     "text": [
      "\n",
      "100%|███████████████████████████████████████████████████| 30/30 [00:00<00:00, 105.77it/s]\u001b[A\n",
      " 60%|██████████████████████████████▌                    | 60/100 [00:19<00:12,  3.22it/s]\n",
      "  0%|                                                             | 0/30 [00:00<?, ?it/s]\u001b[A\n",
      " 40%|████████████████████▍                              | 12/30 [00:00<00:00, 111.26it/s]\u001b[A"
     ]
    },
    {
     "name": "stdout",
     "output_type": "stream",
     "text": [
      "Epoch 59, loss: 3056864.403349\n"
     ]
    },
    {
     "name": "stderr",
     "output_type": "stream",
     "text": [
      "\n",
      "100%|███████████████████████████████████████████████████| 30/30 [00:00<00:00, 104.30it/s]\u001b[A\n",
      " 61%|███████████████████████████████                    | 61/100 [00:20<00:11,  3.26it/s]\n",
      "  0%|                                                             | 0/30 [00:00<?, ?it/s]\u001b[A\n",
      " 37%|██████████████████▋                                | 11/30 [00:00<00:00, 105.95it/s]\u001b[A"
     ]
    },
    {
     "name": "stdout",
     "output_type": "stream",
     "text": [
      "Epoch 60, loss: 2760513.670394\n"
     ]
    },
    {
     "name": "stderr",
     "output_type": "stream",
     "text": [
      "\n",
      "100%|███████████████████████████████████████████████████| 30/30 [00:00<00:00, 102.89it/s]\u001b[A\n",
      " 62%|███████████████████████████████▌                   | 62/100 [00:20<00:11,  3.31it/s]\n",
      "  0%|                                                             | 0/30 [00:00<?, ?it/s]\u001b[A\n",
      " 30%|███████████████▉                                     | 9/30 [00:00<00:00, 86.66it/s]\u001b[A"
     ]
    },
    {
     "name": "stdout",
     "output_type": "stream",
     "text": [
      "Epoch 61, loss: 2849071.696894\n"
     ]
    },
    {
     "name": "stderr",
     "output_type": "stream",
     "text": [
      "\n",
      " 60%|███████████████████████████████▏                    | 18/30 [00:00<00:00, 83.76it/s]\u001b[A\n",
      "100%|████████████████████████████████████████████████████| 30/30 [00:00<00:00, 85.34it/s]\u001b[A\n",
      " 63%|████████████████████████████████▏                  | 63/100 [00:20<00:11,  3.14it/s]\n",
      "  0%|                                                             | 0/30 [00:00<?, ?it/s]\u001b[A\n",
      " 30%|███████████████▉                                     | 9/30 [00:00<00:00, 83.43it/s]\u001b[A"
     ]
    },
    {
     "name": "stdout",
     "output_type": "stream",
     "text": [
      "Epoch 62, loss: 2808107.292000\n"
     ]
    },
    {
     "name": "stderr",
     "output_type": "stream",
     "text": [
      "\n",
      " 57%|█████████████████████████████▍                      | 17/30 [00:00<00:00, 80.43it/s]\u001b[A\n",
      "100%|████████████████████████████████████████████████████| 30/30 [00:00<00:00, 75.10it/s]\u001b[A\n",
      " 64%|████████████████████████████████▋                  | 64/100 [00:21<00:12,  2.91it/s]\n",
      "  0%|                                                             | 0/30 [00:00<?, ?it/s]\u001b[A\n",
      " 27%|██████████████▏                                      | 8/30 [00:00<00:00, 74.20it/s]\u001b[A"
     ]
    },
    {
     "name": "stdout",
     "output_type": "stream",
     "text": [
      "Epoch 63, loss: 2949105.271112\n"
     ]
    },
    {
     "name": "stderr",
     "output_type": "stream",
     "text": [
      "\n",
      " 60%|███████████████████████████████▏                    | 18/30 [00:00<00:00, 79.68it/s]\u001b[A\n",
      "100%|████████████████████████████████████████████████████| 30/30 [00:00<00:00, 92.73it/s]\u001b[A\n",
      " 65%|█████████████████████████████████▏                 | 65/100 [00:21<00:11,  2.94it/s]\n",
      "  0%|                                                             | 0/30 [00:00<?, ?it/s]\u001b[A\n",
      " 33%|█████████████████▎                                  | 10/30 [00:00<00:00, 96.23it/s]\u001b[A"
     ]
    },
    {
     "name": "stdout",
     "output_type": "stream",
     "text": [
      "Epoch 64, loss: 2857747.747488\n"
     ]
    },
    {
     "name": "stderr",
     "output_type": "stream",
     "text": [
      "\n",
      "100%|████████████████████████████████████████████████████| 30/30 [00:00<00:00, 96.12it/s]\u001b[A\n",
      " 66%|█████████████████████████████████▋                 | 66/100 [00:21<00:11,  3.02it/s]\n",
      "  0%|                                                             | 0/30 [00:00<?, ?it/s]\u001b[A\n",
      " 27%|██████████████▏                                      | 8/30 [00:00<00:00, 74.15it/s]\u001b[A"
     ]
    },
    {
     "name": "stdout",
     "output_type": "stream",
     "text": [
      "Epoch 65, loss: 2799380.270981\n"
     ]
    },
    {
     "name": "stderr",
     "output_type": "stream",
     "text": [
      "\n",
      " 53%|███████████████████████████▋                        | 16/30 [00:00<00:00, 73.34it/s]\u001b[A\n",
      "100%|████████████████████████████████████████████████████| 30/30 [00:00<00:00, 76.63it/s]\u001b[A\n",
      " 67%|██████████████████████████████████▏                | 67/100 [00:22<00:11,  2.85it/s]\n",
      "  0%|                                                             | 0/30 [00:00<?, ?it/s]\u001b[A\n",
      " 33%|█████████████████▎                                  | 10/30 [00:00<00:00, 96.28it/s]\u001b[A"
     ]
    },
    {
     "name": "stdout",
     "output_type": "stream",
     "text": [
      "Epoch 66, loss: 2769792.531335\n"
     ]
    },
    {
     "name": "stderr",
     "output_type": "stream",
     "text": [
      "\n",
      "100%|████████████████████████████████████████████████████| 30/30 [00:00<00:00, 97.53it/s]\u001b[A\n",
      " 68%|██████████████████████████████████▋                | 68/100 [00:22<00:10,  2.95it/s]\n",
      "  0%|                                                             | 0/30 [00:00<?, ?it/s]\u001b[A\n",
      " 37%|██████████████████▋                                | 11/30 [00:00<00:00, 105.55it/s]\u001b[A"
     ]
    },
    {
     "name": "stdout",
     "output_type": "stream",
     "text": [
      "Epoch 67, loss: 3175069.330671\n"
     ]
    },
    {
     "name": "stderr",
     "output_type": "stream",
     "text": [
      "\n",
      "100%|███████████████████████████████████████████████████| 30/30 [00:00<00:00, 101.36it/s]\u001b[A\n",
      " 69%|███████████████████████████████████▏               | 69/100 [00:22<00:10,  3.06it/s]\n",
      "  0%|                                                             | 0/30 [00:00<?, ?it/s]\u001b[A\n",
      " 40%|████████████████████▍                              | 12/30 [00:00<00:00, 107.28it/s]\u001b[A"
     ]
    },
    {
     "name": "stdout",
     "output_type": "stream",
     "text": [
      "Epoch 68, loss: 2976735.018482\n"
     ]
    },
    {
     "name": "stderr",
     "output_type": "stream",
     "text": [
      "\n",
      "100%|███████████████████████████████████████████████████| 30/30 [00:00<00:00, 105.77it/s]\u001b[A\n",
      " 70%|███████████████████████████████████▋               | 70/100 [00:23<00:09,  3.17it/s]\n",
      "  0%|                                                             | 0/30 [00:00<?, ?it/s]\u001b[A\n",
      " 40%|████████████████████▍                              | 12/30 [00:00<00:00, 115.49it/s]\u001b[A"
     ]
    },
    {
     "name": "stdout",
     "output_type": "stream",
     "text": [
      "Epoch 69, loss: 2826624.587707\n"
     ]
    },
    {
     "name": "stderr",
     "output_type": "stream",
     "text": [
      "\n",
      "100%|███████████████████████████████████████████████████| 30/30 [00:00<00:00, 105.78it/s]\u001b[A\n",
      " 71%|████████████████████████████████████▏              | 71/100 [00:23<00:08,  3.24it/s]\n",
      "  0%|                                                             | 0/30 [00:00<?, ?it/s]\u001b[A\n",
      " 37%|███████████████████                                 | 11/30 [00:00<00:00, 98.34it/s]\u001b[A"
     ]
    },
    {
     "name": "stdout",
     "output_type": "stream",
     "text": [
      "Epoch 70, loss: 2795607.471295\n"
     ]
    },
    {
     "name": "stderr",
     "output_type": "stream",
     "text": [
      "\n",
      " 63%|████████████████████████████████▉                   | 19/30 [00:00<00:00, 89.58it/s]\u001b[A\n",
      "100%|████████████████████████████████████████████████████| 30/30 [00:00<00:00, 83.44it/s]\u001b[A\n",
      " 72%|████████████████████████████████████▋              | 72/100 [00:23<00:09,  3.09it/s]\n",
      "  0%|                                                             | 0/30 [00:00<?, ?it/s]\u001b[A\n",
      " 33%|█████████████████▎                                  | 10/30 [00:00<00:00, 94.86it/s]\u001b[A"
     ]
    },
    {
     "name": "stdout",
     "output_type": "stream",
     "text": [
      "Epoch 71, loss: 2807137.594935\n"
     ]
    },
    {
     "name": "stderr",
     "output_type": "stream",
     "text": [
      "\n",
      "100%|████████████████████████████████████████████████████| 30/30 [00:00<00:00, 98.31it/s]\u001b[A\n",
      " 73%|█████████████████████████████████████▏             | 73/100 [00:24<00:08,  3.13it/s]\n",
      "  0%|                                                             | 0/30 [00:00<?, ?it/s]\u001b[A\n",
      " 37%|██████████████████▋                                | 11/30 [00:00<00:00, 105.91it/s]\u001b[A"
     ]
    },
    {
     "name": "stdout",
     "output_type": "stream",
     "text": [
      "Epoch 72, loss: 2857286.008140\n"
     ]
    },
    {
     "name": "stderr",
     "output_type": "stream",
     "text": [
      "\n",
      "100%|███████████████████████████████████████████████████| 30/30 [00:00<00:00, 101.49it/s]\u001b[A\n",
      " 74%|█████████████████████████████████████▋             | 74/100 [00:24<00:08,  3.18it/s]\n",
      "  0%|                                                             | 0/30 [00:00<?, ?it/s]\u001b[A\n",
      " 27%|██████████████▏                                      | 8/30 [00:00<00:00, 77.00it/s]\u001b[A\n"
     ]
    },
    {
     "name": "stdout",
     "output_type": "stream",
     "text": [
      "Epoch 73, loss: 2772699.379804\n"
     ]
    },
    {
     "name": "stderr",
     "output_type": "stream",
     "text": [
      " 53%|███████████████████████████▋                        | 16/30 [00:00<00:00, 77.02it/s]\u001b[A\n",
      "100%|████████████████████████████████████████████████████| 30/30 [00:00<00:00, 82.53it/s]\u001b[A\n",
      " 75%|██████████████████████████████████████▎            | 75/100 [00:24<00:08,  3.04it/s]\n",
      "  0%|                                                             | 0/30 [00:00<?, ?it/s]\u001b[A\n",
      " 30%|███████████████▉                                     | 9/30 [00:00<00:00, 80.46it/s]\u001b[A"
     ]
    },
    {
     "name": "stdout",
     "output_type": "stream",
     "text": [
      "Epoch 74, loss: 2680641.861152\n"
     ]
    },
    {
     "name": "stderr",
     "output_type": "stream",
     "text": [
      "\n",
      " 63%|████████████████████████████████▉                   | 19/30 [00:00<00:00, 83.78it/s]\u001b[A\n",
      "100%|████████████████████████████████████████████████████| 30/30 [00:00<00:00, 89.39it/s]\u001b[A\n",
      " 76%|██████████████████████████████████████▊            | 76/100 [00:25<00:07,  3.01it/s]\n",
      "  0%|                                                             | 0/30 [00:00<?, ?it/s]\u001b[A\n",
      " 33%|█████████████████▎                                  | 10/30 [00:00<00:00, 92.72it/s]\u001b[A"
     ]
    },
    {
     "name": "stdout",
     "output_type": "stream",
     "text": [
      "Epoch 75, loss: 2999395.866381\n"
     ]
    },
    {
     "name": "stderr",
     "output_type": "stream",
     "text": [
      "\n",
      "100%|████████████████████████████████████████████████████| 30/30 [00:00<00:00, 97.53it/s]\u001b[A\n",
      " 77%|███████████████████████████████████████▎           | 77/100 [00:25<00:07,  3.07it/s]\n",
      "  0%|                                                             | 0/30 [00:00<?, ?it/s]\u001b[A\n",
      " 40%|████████████████████▍                              | 12/30 [00:00<00:00, 111.26it/s]\u001b[A"
     ]
    },
    {
     "name": "stdout",
     "output_type": "stream",
     "text": [
      "Epoch 76, loss: 3026267.155520\n"
     ]
    },
    {
     "name": "stderr",
     "output_type": "stream",
     "text": [
      "\n",
      "100%|███████████████████████████████████████████████████| 30/30 [00:00<00:00, 107.28it/s]\u001b[A\n",
      " 78%|███████████████████████████████████████▊           | 78/100 [00:25<00:06,  3.18it/s]\n",
      "  0%|                                                             | 0/30 [00:00<?, ?it/s]\u001b[A\n",
      " 40%|████████████████████▍                              | 12/30 [00:00<00:00, 115.53it/s]\u001b[A"
     ]
    },
    {
     "name": "stdout",
     "output_type": "stream",
     "text": [
      "Epoch 77, loss: 3028301.989443\n"
     ]
    },
    {
     "name": "stderr",
     "output_type": "stream",
     "text": [
      "\n",
      "100%|███████████████████████████████████████████████████| 30/30 [00:00<00:00, 108.84it/s]\u001b[A\n",
      " 79%|████████████████████████████████████████▎          | 79/100 [00:26<00:06,  3.29it/s]\n",
      "  0%|                                                             | 0/30 [00:00<?, ?it/s]\u001b[A\n",
      " 33%|█████████████████▎                                  | 10/30 [00:00<00:00, 96.28it/s]\u001b[A"
     ]
    },
    {
     "name": "stdout",
     "output_type": "stream",
     "text": [
      "Epoch 78, loss: 2934478.523855\n"
     ]
    },
    {
     "name": "stderr",
     "output_type": "stream",
     "text": [
      "\n",
      " 60%|███████████████████████████████▏                    | 18/30 [00:00<00:00, 89.56it/s]\u001b[A\n",
      "100%|████████████████████████████████████████████████████| 30/30 [00:00<00:00, 80.75it/s]\u001b[A\n",
      " 80%|████████████████████████████████████████▊          | 80/100 [00:26<00:06,  3.07it/s]\n",
      "  0%|                                                             | 0/30 [00:00<?, ?it/s]\u001b[A\n",
      " 27%|██████████████▏                                      | 8/30 [00:00<00:00, 71.51it/s]\u001b[A"
     ]
    },
    {
     "name": "stdout",
     "output_type": "stream",
     "text": [
      "Epoch 79, loss: 2854495.785880\n"
     ]
    },
    {
     "name": "stderr",
     "output_type": "stream",
     "text": [
      "\n",
      " 53%|███████████████████████████▋                        | 16/30 [00:00<00:00, 71.52it/s]\u001b[A\n",
      "100%|████████████████████████████████████████████████████| 30/30 [00:00<00:00, 71.52it/s]\u001b[A\n",
      " 81%|█████████████████████████████████████████▎         | 81/100 [00:26<00:06,  2.82it/s]\n",
      "  0%|                                                             | 0/30 [00:00<?, ?it/s]\u001b[A\n",
      " 27%|██████████████▏                                      | 8/30 [00:00<00:00, 74.16it/s]\u001b[A"
     ]
    },
    {
     "name": "stdout",
     "output_type": "stream",
     "text": [
      "Epoch 80, loss: 2952038.820370\n"
     ]
    },
    {
     "name": "stderr",
     "output_type": "stream",
     "text": [
      "\n",
      " 53%|███████████████████████████▋                        | 16/30 [00:00<00:00, 73.35it/s]\u001b[A\n",
      "100%|████████████████████████████████████████████████████| 30/30 [00:00<00:00, 75.10it/s]\u001b[A\n",
      " 82%|█████████████████████████████████████████▊         | 82/100 [00:27<00:06,  2.70it/s]\n",
      "  0%|                                                             | 0/30 [00:00<?, ?it/s]\u001b[A\n",
      " 33%|█████████████████▎                                  | 10/30 [00:00<00:00, 89.41it/s]\u001b[A"
     ]
    },
    {
     "name": "stdout",
     "output_type": "stream",
     "text": [
      "Epoch 81, loss: 3014652.119247\n"
     ]
    },
    {
     "name": "stderr",
     "output_type": "stream",
     "text": [
      "\n",
      "100%|████████████████████████████████████████████████████| 30/30 [00:00<00:00, 95.06it/s]\u001b[A\n",
      " 83%|██████████████████████████████████████████▎        | 83/100 [00:27<00:06,  2.82it/s]\n",
      "  0%|                                                             | 0/30 [00:00<?, ?it/s]\u001b[A\n",
      " 40%|████████████████████▍                              | 12/30 [00:00<00:00, 111.26it/s]\u001b[A"
     ]
    },
    {
     "name": "stdout",
     "output_type": "stream",
     "text": [
      "Epoch 82, loss: 2892776.070791\n"
     ]
    },
    {
     "name": "stderr",
     "output_type": "stream",
     "text": [
      "\n",
      "100%|███████████████████████████████████████████████████| 30/30 [00:00<00:00, 104.30it/s]\u001b[A\n",
      " 84%|██████████████████████████████████████████▊        | 84/100 [00:27<00:05,  2.98it/s]\n",
      "  0%|                                                             | 0/30 [00:00<?, ?it/s]\u001b[A\n",
      " 40%|████████████████████▍                              | 12/30 [00:00<00:00, 111.26it/s]\u001b[A"
     ]
    },
    {
     "name": "stdout",
     "output_type": "stream",
     "text": [
      "Epoch 83, loss: 2775983.513635\n"
     ]
    },
    {
     "name": "stderr",
     "output_type": "stream",
     "text": [
      "\n",
      "100%|███████████████████████████████████████████████████| 30/30 [00:00<00:00, 107.29it/s]\u001b[A\n",
      " 85%|███████████████████████████████████████████▎       | 85/100 [00:28<00:04,  3.13it/s]\n",
      "  0%|                                                             | 0/30 [00:00<?, ?it/s]\u001b[A\n",
      " 40%|████████████████████▍                              | 12/30 [00:00<00:00, 115.54it/s]\u001b[A"
     ]
    },
    {
     "name": "stdout",
     "output_type": "stream",
     "text": [
      "Epoch 84, loss: 3007583.999874\n"
     ]
    },
    {
     "name": "stderr",
     "output_type": "stream",
     "text": [
      "\n",
      "100%|███████████████████████████████████████████████████| 30/30 [00:00<00:00, 108.84it/s]\u001b[A\n",
      " 86%|███████████████████████████████████████████▊       | 86/100 [00:28<00:04,  3.25it/s]\n",
      "  0%|                                                             | 0/30 [00:00<?, ?it/s]\u001b[A\n",
      " 40%|████████████████████▍                              | 12/30 [00:00<00:00, 111.26it/s]\u001b[A"
     ]
    },
    {
     "name": "stdout",
     "output_type": "stream",
     "text": [
      "Epoch 85, loss: 2799904.597179\n"
     ]
    },
    {
     "name": "stderr",
     "output_type": "stream",
     "text": [
      "\n",
      "100%|███████████████████████████████████████████████████| 30/30 [00:00<00:00, 105.77it/s]\u001b[A\n",
      " 87%|████████████████████████████████████████████▎      | 87/100 [00:28<00:03,  3.31it/s]\n",
      "  0%|                                                             | 0/30 [00:00<?, ?it/s]\u001b[A\n",
      " 40%|████████████████████▍                              | 12/30 [00:00<00:00, 115.54it/s]\u001b[A"
     ]
    },
    {
     "name": "stdout",
     "output_type": "stream",
     "text": [
      "Epoch 86, loss: 2881666.876100\n"
     ]
    },
    {
     "name": "stderr",
     "output_type": "stream",
     "text": [
      "\n",
      "100%|███████████████████████████████████████████████████| 30/30 [00:00<00:00, 107.29it/s]\u001b[A\n",
      " 88%|████████████████████████████████████████████▉      | 88/100 [00:29<00:03,  3.37it/s]\n",
      "  0%|                                                             | 0/30 [00:00<?, ?it/s]\u001b[A\n",
      " 40%|████████████████████▍                              | 12/30 [00:00<00:00, 115.54it/s]\u001b[A\n"
     ]
    },
    {
     "name": "stdout",
     "output_type": "stream",
     "text": [
      "Epoch 87, loss: 2715548.283478\n"
     ]
    },
    {
     "name": "stderr",
     "output_type": "stream",
     "text": [
      "100%|███████████████████████████████████████████████████| 30/30 [00:00<00:00, 110.44it/s]\u001b[A\n",
      " 89%|█████████████████████████████████████████████▍     | 89/100 [00:29<00:03,  3.45it/s]\n",
      "  0%|                                                             | 0/30 [00:00<?, ?it/s]\u001b[A\n",
      " 37%|██████████████████▋                                | 11/30 [00:00<00:00, 101.99it/s]\u001b[A"
     ]
    },
    {
     "name": "stdout",
     "output_type": "stream",
     "text": [
      "Epoch 88, loss: 2928580.937333\n"
     ]
    },
    {
     "name": "stderr",
     "output_type": "stream",
     "text": [
      "\n",
      "100%|███████████████████████████████████████████████████| 30/30 [00:00<00:00, 101.49it/s]\u001b[A\n",
      " 90%|█████████████████████████████████████████████▉     | 90/100 [00:29<00:02,  3.41it/s]\n",
      "  0%|                                                             | 0/30 [00:00<?, ?it/s]\u001b[A\n",
      " 33%|█████████████████▎                                  | 10/30 [00:00<00:00, 96.28it/s]\u001b[A"
     ]
    },
    {
     "name": "stdout",
     "output_type": "stream",
     "text": [
      "Epoch 89, loss: 2699835.976504\n"
     ]
    },
    {
     "name": "stderr",
     "output_type": "stream",
     "text": [
      "\n",
      "100%|███████████████████████████████████████████████████| 30/30 [00:00<00:00, 101.49it/s]\u001b[A\n",
      " 91%|██████████████████████████████████████████████▍    | 91/100 [00:29<00:02,  3.38it/s]\n",
      "  0%|                                                             | 0/30 [00:00<?, ?it/s]\u001b[A\n",
      " 33%|█████████████████▎                                  | 10/30 [00:00<00:00, 96.28it/s]\u001b[A"
     ]
    },
    {
     "name": "stdout",
     "output_type": "stream",
     "text": [
      "Epoch 90, loss: 2976933.686997\n"
     ]
    },
    {
     "name": "stderr",
     "output_type": "stream",
     "text": [
      "\n",
      " 63%|████████████████████████████████▉                   | 19/30 [00:00<00:00, 90.92it/s]\u001b[A\n",
      "100%|████████████████████████████████████████████████████| 30/30 [00:00<00:00, 80.74it/s]\u001b[A\n",
      " 92%|██████████████████████████████████████████████▉    | 92/100 [00:30<00:02,  3.14it/s]\n",
      "  0%|                                                             | 0/30 [00:00<?, ?it/s]\u001b[A\n",
      " 27%|██████████████▏                                      | 8/30 [00:00<00:00, 74.17it/s]\u001b[A"
     ]
    },
    {
     "name": "stdout",
     "output_type": "stream",
     "text": [
      "Epoch 91, loss: 2788055.907789\n"
     ]
    },
    {
     "name": "stderr",
     "output_type": "stream",
     "text": [
      "\n",
      " 53%|███████████████████████████▋                        | 16/30 [00:00<00:00, 73.36it/s]\u001b[A\n",
      "100%|████████████████████████████████████████████████████| 30/30 [00:00<00:00, 75.86it/s]\u001b[A\n",
      " 93%|███████████████████████████████████████████████▍   | 93/100 [00:30<00:02,  2.91it/s]\n",
      "  0%|                                                             | 0/30 [00:00<?, ?it/s]\u001b[A\n",
      " 33%|█████████████████▎                                  | 10/30 [00:00<00:00, 96.28it/s]\u001b[A"
     ]
    },
    {
     "name": "stdout",
     "output_type": "stream",
     "text": [
      "Epoch 92, loss: 2821357.064381\n"
     ]
    },
    {
     "name": "stderr",
     "output_type": "stream",
     "text": [
      "\n",
      "100%|███████████████████████████████████████████████████| 30/30 [00:00<00:00, 100.13it/s]\u001b[A\n",
      " 94%|███████████████████████████████████████████████▉   | 94/100 [00:31<00:02,  2.99it/s]\n",
      "  0%|                                                             | 0/30 [00:00<?, ?it/s]\u001b[A\n",
      " 33%|█████████████████▎                                  | 10/30 [00:00<00:00, 96.28it/s]\u001b[A"
     ]
    },
    {
     "name": "stdout",
     "output_type": "stream",
     "text": [
      "Epoch 93, loss: 2950668.820849\n"
     ]
    },
    {
     "name": "stderr",
     "output_type": "stream",
     "text": [
      "\n",
      " 67%|██████████████████████████████████▋                 | 20/30 [00:00<00:00, 96.28it/s]\u001b[A\n",
      "100%|████████████████████████████████████████████████████| 30/30 [00:00<00:00, 89.40it/s]\u001b[A\n",
      " 95%|████████████████████████████████████████████████▍  | 95/100 [00:31<00:01,  2.98it/s]\n",
      "  0%|                                                             | 0/30 [00:00<?, ?it/s]\u001b[A\n",
      " 30%|███████████████▉                                     | 9/30 [00:00<00:00, 83.45it/s]\u001b[A"
     ]
    },
    {
     "name": "stdout",
     "output_type": "stream",
     "text": [
      "Epoch 94, loss: 2887225.842269\n"
     ]
    },
    {
     "name": "stderr",
     "output_type": "stream",
     "text": [
      "\n",
      " 57%|█████████████████████████████▍                      | 17/30 [00:00<00:00, 79.47it/s]\u001b[A\n",
      "100%|████████████████████████████████████████████████████| 30/30 [00:00<00:00, 79.89it/s]\u001b[A\n",
      " 96%|████████████████████████████████████████████████▉  | 96/100 [00:31<00:01,  2.86it/s]\n",
      "  0%|                                                             | 0/30 [00:00<?, ?it/s]\u001b[A\n",
      " 27%|██████████████▏                                      | 8/30 [00:00<00:00, 69.06it/s]\u001b[A"
     ]
    },
    {
     "name": "stdout",
     "output_type": "stream",
     "text": [
      "Epoch 95, loss: 2674664.853452\n"
     ]
    },
    {
     "name": "stderr",
     "output_type": "stream",
     "text": [
      "\n",
      " 53%|███████████████████████████▋                        | 16/30 [00:00<00:00, 69.06it/s]\u001b[A\n",
      "100%|████████████████████████████████████████████████████| 30/30 [00:00<00:00, 71.52it/s]\u001b[A\n",
      " 97%|█████████████████████████████████████████████████▍ | 97/100 [00:32<00:01,  2.69it/s]\n",
      "  0%|                                                             | 0/30 [00:00<?, ?it/s]\u001b[A\n",
      " 30%|███████████████▉                                     | 9/30 [00:00<00:00, 86.65it/s]\u001b[A"
     ]
    },
    {
     "name": "stdout",
     "output_type": "stream",
     "text": [
      "Epoch 96, loss: 3053358.200367\n"
     ]
    },
    {
     "name": "stderr",
     "output_type": "stream",
     "text": [
      "\n",
      " 63%|████████████████████████████████▉                   | 19/30 [00:00<00:00, 87.46it/s]\u001b[A\n",
      "100%|████████████████████████████████████████████████████| 30/30 [00:00<00:00, 81.63it/s]\u001b[A\n",
      " 98%|█████████████████████████████████████████████████▉ | 98/100 [00:32<00:00,  2.69it/s]\n",
      "  0%|                                                             | 0/30 [00:00<?, ?it/s]\u001b[A\n",
      " 27%|██████████████▏                                      | 8/30 [00:00<00:00, 77.01it/s]\u001b[A"
     ]
    },
    {
     "name": "stdout",
     "output_type": "stream",
     "text": [
      "Epoch 97, loss: 2984022.438103\n"
     ]
    },
    {
     "name": "stderr",
     "output_type": "stream",
     "text": [
      "\n",
      " 53%|███████████████████████████▋                        | 16/30 [00:00<00:00, 75.28it/s]\u001b[A\n",
      "100%|████████████████████████████████████████████████████| 30/30 [00:00<00:00, 77.42it/s]\u001b[A\n",
      " 99%|██████████████████████████████████████████████████▍| 99/100 [00:32<00:00,  2.64it/s]\n",
      "  0%|                                                             | 0/30 [00:00<?, ?it/s]\u001b[A\n",
      " 27%|██████████████▏                                      | 8/30 [00:00<00:00, 74.17it/s]\u001b[A"
     ]
    },
    {
     "name": "stdout",
     "output_type": "stream",
     "text": [
      "Epoch 98, loss: 2835696.754466\n"
     ]
    },
    {
     "name": "stderr",
     "output_type": "stream",
     "text": [
      "\n",
      " 53%|███████████████████████████▋                        | 16/30 [00:00<00:00, 73.35it/s]\u001b[A\n",
      "100%|████████████████████████████████████████████████████| 30/30 [00:00<00:00, 72.21it/s]\u001b[A\n",
      "100%|██████████████████████████████████████████████████| 100/100 [00:33<00:00,  3.00it/s]\n",
      "  0%|                                                            | 0/100 [00:00<?, ?it/s]\n",
      "  0%|                                                             | 0/30 [00:00<?, ?it/s]\u001b[A\n",
      " 27%|██████████████▏                                      | 8/30 [00:00<00:00, 74.18it/s]\u001b[A"
     ]
    },
    {
     "name": "stdout",
     "output_type": "stream",
     "text": [
      "Epoch 99, loss: 3105557.162725\n"
     ]
    },
    {
     "name": "stderr",
     "output_type": "stream",
     "text": [
      "\n",
      " 53%|███████████████████████████▋                        | 16/30 [00:00<00:00, 74.17it/s]\u001b[A\n",
      "100%|████████████████████████████████████████████████████| 30/30 [00:00<00:00, 72.21it/s]\u001b[A\n",
      "  1%|▌                                                   | 1/100 [00:00<00:41,  2.38it/s]\n",
      "  0%|                                                             | 0/30 [00:00<?, ?it/s]\u001b[A\n",
      " 27%|██████████████▏                                      | 8/30 [00:00<00:00, 74.17it/s]\u001b[A"
     ]
    },
    {
     "name": "stdout",
     "output_type": "stream",
     "text": [
      "Epoch 0, loss: 2606092.061991\n"
     ]
    },
    {
     "name": "stderr",
     "output_type": "stream",
     "text": [
      "\n",
      " 60%|███████████████████████████████▏                    | 18/30 [00:00<00:00, 78.91it/s]\u001b[A\n",
      "100%|████████████████████████████████████████████████████| 30/30 [00:00<00:00, 84.38it/s]\u001b[A\n",
      "  2%|█                                                   | 2/100 [00:00<00:39,  2.48it/s]\n",
      "  0%|                                                             | 0/30 [00:00<?, ?it/s]\u001b[A\n",
      " 27%|██████████████▏                                      | 8/30 [00:00<00:00, 74.14it/s]\u001b[A"
     ]
    },
    {
     "name": "stdout",
     "output_type": "stream",
     "text": [
      "Epoch 1, loss: 2827301.577626\n"
     ]
    },
    {
     "name": "stderr",
     "output_type": "stream",
     "text": [
      "\n",
      " 60%|███████████████████████████████▏                    | 18/30 [00:00<00:00, 78.89it/s]\u001b[A\n",
      "100%|████████████████████████████████████████████████████| 30/30 [00:00<00:00, 86.32it/s]\u001b[A\n",
      "  3%|█▌                                                  | 3/100 [00:01<00:37,  2.58it/s]\n",
      "  0%|                                                             | 0/30 [00:00<?, ?it/s]\u001b[A\n",
      " 33%|█████████████████▎                                  | 10/30 [00:00<00:00, 96.28it/s]\u001b[A"
     ]
    },
    {
     "name": "stdout",
     "output_type": "stream",
     "text": [
      "Epoch 2, loss: 2714844.674965\n"
     ]
    },
    {
     "name": "stderr",
     "output_type": "stream",
     "text": [
      "\n",
      "100%|███████████████████████████████████████████████████| 30/30 [00:00<00:00, 101.49it/s]\u001b[A\n",
      "  4%|██                                                  | 4/100 [00:01<00:34,  2.77it/s]\n",
      "  0%|                                                             | 0/30 [00:00<?, ?it/s]\u001b[A\n",
      " 37%|██████████████████▋                                | 11/30 [00:00<00:00, 105.91it/s]\u001b[A"
     ]
    },
    {
     "name": "stdout",
     "output_type": "stream",
     "text": [
      "Epoch 3, loss: 2882775.663775\n"
     ]
    },
    {
     "name": "stderr",
     "output_type": "stream",
     "text": [
      "\n",
      "100%|███████████████████████████████████████████████████| 30/30 [00:00<00:00, 104.30it/s]\u001b[A\n",
      "  5%|██▌                                                 | 5/100 [00:01<00:32,  2.94it/s]\n",
      "  0%|                                                             | 0/30 [00:00<?, ?it/s]\u001b[A\n",
      " 40%|████████████████████▍                              | 12/30 [00:00<00:00, 111.26it/s]\u001b[A"
     ]
    },
    {
     "name": "stdout",
     "output_type": "stream",
     "text": [
      "Epoch 4, loss: 2674332.321740\n"
     ]
    },
    {
     "name": "stderr",
     "output_type": "stream",
     "text": [
      "\n",
      "100%|███████████████████████████████████████████████████| 30/30 [00:00<00:00, 104.30it/s]\u001b[A\n",
      "  6%|███                                                 | 6/100 [00:02<00:30,  3.07it/s]\n",
      "  0%|                                                             | 0/30 [00:00<?, ?it/s]\u001b[A\n",
      " 37%|███████████████████                                 | 11/30 [00:00<00:00, 98.35it/s]\u001b[A"
     ]
    },
    {
     "name": "stdout",
     "output_type": "stream",
     "text": [
      "Epoch 5, loss: 2736962.015970\n"
     ]
    },
    {
     "name": "stderr",
     "output_type": "stream",
     "text": [
      "\n",
      " 63%|████████████████████████████████▉                   | 19/30 [00:00<00:00, 90.80it/s]\u001b[A\n",
      "100%|████████████████████████████████████████████████████| 30/30 [00:00<00:00, 80.75it/s]\u001b[A\n",
      "  7%|███▋                                                | 7/100 [00:02<00:31,  2.94it/s]\n",
      "  0%|                                                             | 0/30 [00:00<?, ?it/s]\u001b[A\n",
      " 30%|███████████████▉                                     | 9/30 [00:00<00:00, 86.65it/s]\u001b[A"
     ]
    },
    {
     "name": "stdout",
     "output_type": "stream",
     "text": [
      "Epoch 6, loss: 2792484.756827\n"
     ]
    },
    {
     "name": "stderr",
     "output_type": "stream",
     "text": [
      "\n",
      " 67%|██████████████████████████████████▋                 | 20/30 [00:00<00:00, 90.75it/s]\u001b[A\n",
      "100%|████████████████████████████████████████████████████| 30/30 [00:00<00:00, 95.06it/s]\u001b[A\n",
      "  8%|████▏                                               | 8/100 [00:02<00:30,  2.99it/s]\n",
      "  0%|                                                             | 0/30 [00:00<?, ?it/s]\u001b[A\n",
      " 33%|█████████████████▎                                  | 10/30 [00:00<00:00, 92.72it/s]\u001b[A"
     ]
    },
    {
     "name": "stdout",
     "output_type": "stream",
     "text": [
      "Epoch 7, loss: 2583963.648442\n"
     ]
    },
    {
     "name": "stderr",
     "output_type": "stream",
     "text": [
      "\n",
      " 63%|████████████████████████████████▉                   | 19/30 [00:00<00:00, 88.66it/s]\u001b[A\n",
      "100%|████████████████████████████████████████████████████| 30/30 [00:00<00:00, 74.35it/s]\u001b[A\n",
      "  9%|████▋                                               | 9/100 [00:03<00:32,  2.80it/s]\n",
      "  0%|                                                             | 0/30 [00:00<?, ?it/s]\u001b[A\n",
      " 23%|████████████▎                                        | 7/30 [00:00<00:00, 60.43it/s]\u001b[A"
     ]
    },
    {
     "name": "stdout",
     "output_type": "stream",
     "text": [
      "Epoch 8, loss: 2855670.939930\n"
     ]
    },
    {
     "name": "stderr",
     "output_type": "stream",
     "text": [
      "\n",
      " 53%|███████████████████████████▋                        | 16/30 [00:00<00:00, 65.88it/s]\u001b[A\n",
      "100%|████████████████████████████████████████████████████| 30/30 [00:00<00:00, 79.89it/s]\u001b[A\n",
      " 10%|█████                                              | 10/100 [00:03<00:32,  2.75it/s]\n",
      "  0%|                                                             | 0/30 [00:00<?, ?it/s]\u001b[A\n",
      " 30%|███████████████▉                                     | 9/30 [00:00<00:00, 86.66it/s]\u001b[A"
     ]
    },
    {
     "name": "stdout",
     "output_type": "stream",
     "text": [
      "Epoch 9, loss: 2851146.530611\n"
     ]
    },
    {
     "name": "stderr",
     "output_type": "stream",
     "text": [
      "\n",
      " 67%|██████████████████████████████████▋                 | 20/30 [00:00<00:00, 90.75it/s]\u001b[A\n",
      "100%|████████████████████████████████████████████████████| 30/30 [00:00<00:00, 91.59it/s]\u001b[A\n",
      " 11%|█████▌                                             | 11/100 [00:03<00:31,  2.82it/s]\n",
      "  0%|                                                             | 0/30 [00:00<?, ?it/s]\u001b[A\n",
      " 37%|██████████████████▋                                | 11/30 [00:00<00:00, 105.91it/s]\u001b[A"
     ]
    },
    {
     "name": "stdout",
     "output_type": "stream",
     "text": [
      "Epoch 10, loss: 2753783.245118\n"
     ]
    },
    {
     "name": "stderr",
     "output_type": "stream",
     "text": [
      "\n",
      "100%|████████████████████████████████████████████████████| 30/30 [00:00<00:00, 97.53it/s]\u001b[A\n",
      " 12%|██████                                             | 12/100 [00:04<00:30,  2.92it/s]\n",
      "  0%|                                                             | 0/30 [00:00<?, ?it/s]\u001b[A\n",
      " 30%|███████████████▉                                     | 9/30 [00:00<00:00, 83.44it/s]\u001b[A"
     ]
    },
    {
     "name": "stdout",
     "output_type": "stream",
     "text": [
      "Epoch 11, loss: 2742045.704159\n"
     ]
    },
    {
     "name": "stderr",
     "output_type": "stream",
     "text": [
      "\n",
      " 63%|████████████████████████████████▉                   | 19/30 [00:00<00:00, 86.92it/s]\u001b[A\n",
      "100%|████████████████████████████████████████████████████| 30/30 [00:00<00:00, 92.72it/s]\u001b[A\n",
      " 13%|██████▋                                            | 13/100 [00:04<00:29,  2.96it/s]\n",
      "  0%|                                                             | 0/30 [00:00<?, ?it/s]\u001b[A\n",
      " 37%|██████████████████▋                                | 11/30 [00:00<00:00, 105.91it/s]\u001b[A"
     ]
    },
    {
     "name": "stdout",
     "output_type": "stream",
     "text": [
      "Epoch 12, loss: 2670716.761519\n"
     ]
    },
    {
     "name": "stderr",
     "output_type": "stream",
     "text": [
      "\n",
      "100%|███████████████████████████████████████████████████| 30/30 [00:00<00:00, 104.31it/s]\u001b[A\n",
      " 14%|███████▏                                           | 14/100 [00:04<00:27,  3.07it/s]\n",
      "  0%|                                                             | 0/30 [00:00<?, ?it/s]\u001b[A\n",
      " 33%|█████████████████▎                                  | 10/30 [00:00<00:00, 96.28it/s]\u001b[A"
     ]
    },
    {
     "name": "stdout",
     "output_type": "stream",
     "text": [
      "Epoch 13, loss: 2801867.525634\n"
     ]
    },
    {
     "name": "stderr",
     "output_type": "stream",
     "text": [
      "\n",
      "100%|███████████████████████████████████████████████████| 30/30 [00:00<00:00, 100.13it/s]\u001b[A\n",
      " 15%|███████▋                                           | 15/100 [00:05<00:27,  3.14it/s]\n",
      "  0%|                                                             | 0/30 [00:00<?, ?it/s]\u001b[A\n",
      " 40%|████████████████████▍                              | 12/30 [00:00<00:00, 111.25it/s]\u001b[A"
     ]
    },
    {
     "name": "stdout",
     "output_type": "stream",
     "text": [
      "Epoch 14, loss: 2562523.803584\n"
     ]
    },
    {
     "name": "stderr",
     "output_type": "stream",
     "text": [
      "\n",
      "100%|███████████████████████████████████████████████████| 30/30 [00:00<00:00, 101.49it/s]\u001b[A\n",
      " 16%|████████▏                                          | 16/100 [00:05<00:26,  3.19it/s]\n",
      "  0%|                                                             | 0/30 [00:00<?, ?it/s]\u001b[A\n",
      " 37%|██████████████████▋                                | 11/30 [00:00<00:00, 101.99it/s]\u001b[A"
     ]
    },
    {
     "name": "stdout",
     "output_type": "stream",
     "text": [
      "Epoch 15, loss: 2763438.538459\n"
     ]
    },
    {
     "name": "stderr",
     "output_type": "stream",
     "text": [
      "\n",
      "100%|████████████████████████████████████████████████████| 30/30 [00:00<00:00, 97.53it/s]\u001b[A\n",
      " 17%|████████▋                                          | 17/100 [00:05<00:25,  3.20it/s]\n",
      "  0%|                                                             | 0/30 [00:00<?, ?it/s]\u001b[A\n",
      " 40%|████████████████████▍                              | 12/30 [00:00<00:00, 111.26it/s]\u001b[A"
     ]
    },
    {
     "name": "stdout",
     "output_type": "stream",
     "text": [
      "Epoch 16, loss: 2736356.619298\n"
     ]
    },
    {
     "name": "stderr",
     "output_type": "stream",
     "text": [
      "\n",
      "100%|███████████████████████████████████████████████████| 30/30 [00:00<00:00, 104.30it/s]\u001b[A\n",
      " 18%|█████████▏                                         | 18/100 [00:05<00:25,  3.26it/s]\n",
      "  0%|                                                             | 0/30 [00:00<?, ?it/s]\u001b[A\n",
      " 40%|████████████████████▍                              | 12/30 [00:00<00:00, 111.26it/s]\u001b[A"
     ]
    },
    {
     "name": "stdout",
     "output_type": "stream",
     "text": [
      "Epoch 17, loss: 2680710.923899\n"
     ]
    },
    {
     "name": "stderr",
     "output_type": "stream",
     "text": [
      "\n",
      "100%|███████████████████████████████████████████████████| 30/30 [00:00<00:00, 104.31it/s]\u001b[A\n",
      " 19%|█████████▋                                         | 19/100 [00:06<00:24,  3.31it/s]\n",
      "  0%|                                                             | 0/30 [00:00<?, ?it/s]\u001b[A\n",
      " 30%|███████████████▉                                     | 9/30 [00:00<00:00, 86.65it/s]\u001b[A"
     ]
    },
    {
     "name": "stdout",
     "output_type": "stream",
     "text": [
      "Epoch 18, loss: 2834383.970927\n"
     ]
    },
    {
     "name": "stderr",
     "output_type": "stream",
     "text": [
      "\n",
      " 67%|██████████████████████████████████▋                 | 20/30 [00:00<00:00, 91.65it/s]\u001b[A\n",
      "100%|████████████████████████████████████████████████████| 30/30 [00:00<00:00, 96.28it/s]\u001b[A\n",
      " 20%|██████████▏                                        | 20/100 [00:06<00:24,  3.27it/s]\n",
      "  0%|                                                             | 0/30 [00:00<?, ?it/s]\u001b[A\n",
      " 33%|█████████████████▎                                  | 10/30 [00:00<00:00, 96.28it/s]\u001b[A"
     ]
    },
    {
     "name": "stdout",
     "output_type": "stream",
     "text": [
      "Epoch 19, loss: 2748003.182074\n"
     ]
    },
    {
     "name": "stderr",
     "output_type": "stream",
     "text": [
      "\n",
      "100%|████████████████████████████████████████████████████| 30/30 [00:00<00:00, 98.81it/s]\u001b[A\n",
      " 21%|██████████▋                                        | 21/100 [00:06<00:24,  3.26it/s]\n",
      "  0%|                                                             | 0/30 [00:00<?, ?it/s]\u001b[A\n",
      " 40%|████████████████████▍                              | 12/30 [00:00<00:00, 115.54it/s]\u001b[A"
     ]
    },
    {
     "name": "stdout",
     "output_type": "stream",
     "text": [
      "Epoch 20, loss: 2595754.427343\n"
     ]
    },
    {
     "name": "stderr",
     "output_type": "stream",
     "text": [
      "\n",
      "100%|███████████████████████████████████████████████████| 30/30 [00:00<00:00, 107.29it/s]\u001b[A\n",
      " 22%|███████████▏                                       | 22/100 [00:07<00:23,  3.34it/s]\n",
      "  0%|                                                             | 0/30 [00:00<?, ?it/s]\u001b[A\n",
      " 40%|████████████████████▍                              | 12/30 [00:00<00:00, 111.26it/s]\u001b[A"
     ]
    },
    {
     "name": "stdout",
     "output_type": "stream",
     "text": [
      "Epoch 21, loss: 2803543.668211\n"
     ]
    },
    {
     "name": "stderr",
     "output_type": "stream",
     "text": [
      "\n",
      "100%|███████████████████████████████████████████████████| 30/30 [00:00<00:00, 102.74it/s]\u001b[A\n",
      " 23%|███████████▋                                       | 23/100 [00:07<00:22,  3.35it/s]\n",
      "  0%|                                                             | 0/30 [00:00<?, ?it/s]\u001b[A\n",
      " 40%|████████████████████▍                              | 12/30 [00:00<00:00, 115.49it/s]\u001b[A"
     ]
    },
    {
     "name": "stdout",
     "output_type": "stream",
     "text": [
      "Epoch 22, loss: 2663423.689741\n"
     ]
    },
    {
     "name": "stderr",
     "output_type": "stream",
     "text": [
      "\n",
      "100%|███████████████████████████████████████████████████| 30/30 [00:00<00:00, 104.29it/s]\u001b[A\n",
      " 24%|████████████▏                                      | 24/100 [00:07<00:22,  3.37it/s]\n",
      "  0%|                                                             | 0/30 [00:00<?, ?it/s]\u001b[A\n",
      " 37%|██████████████████▋                                | 11/30 [00:00<00:00, 101.95it/s]\u001b[A"
     ]
    },
    {
     "name": "stdout",
     "output_type": "stream",
     "text": [
      "Epoch 23, loss: 2692431.744566\n"
     ]
    },
    {
     "name": "stderr",
     "output_type": "stream",
     "text": [
      "\n",
      "100%|████████████████████████████████████████████████████| 30/30 [00:00<00:00, 97.52it/s]\u001b[A\n",
      " 25%|████████████▊                                      | 25/100 [00:08<00:22,  3.31it/s]\n",
      "  0%|                                                             | 0/30 [00:00<?, ?it/s]\u001b[A\n",
      " 30%|███████████████▉                                     | 9/30 [00:00<00:00, 86.65it/s]\u001b[A"
     ]
    },
    {
     "name": "stdout",
     "output_type": "stream",
     "text": [
      "Epoch 24, loss: 2738879.790131\n"
     ]
    },
    {
     "name": "stderr",
     "output_type": "stream",
     "text": [
      "\n",
      " 67%|██████████████████████████████████▋                 | 20/30 [00:00<00:00, 91.65it/s]\u001b[A\n",
      "100%|████████████████████████████████████████████████████| 30/30 [00:00<00:00, 95.06it/s]\u001b[A\n",
      " 26%|█████████████▎                                     | 26/100 [00:08<00:22,  3.25it/s]\n",
      "  0%|                                                             | 0/30 [00:00<?, ?it/s]\u001b[A\n",
      " 37%|██████████████████▋                                | 11/30 [00:00<00:00, 105.87it/s]\u001b[A"
     ]
    },
    {
     "name": "stdout",
     "output_type": "stream",
     "text": [
      "Epoch 25, loss: 2772519.280943\n"
     ]
    },
    {
     "name": "stderr",
     "output_type": "stream",
     "text": [
      "\n",
      "100%|███████████████████████████████████████████████████| 30/30 [00:00<00:00, 101.47it/s]\u001b[A\n",
      " 27%|█████████████▊                                     | 27/100 [00:08<00:22,  3.27it/s]\n",
      "  0%|                                                             | 0/30 [00:00<?, ?it/s]\u001b[A\n",
      " 37%|██████████████████▋                                | 11/30 [00:00<00:00, 105.91it/s]\u001b[A"
     ]
    },
    {
     "name": "stdout",
     "output_type": "stream",
     "text": [
      "Epoch 26, loss: 2656438.400034\n"
     ]
    },
    {
     "name": "stderr",
     "output_type": "stream",
     "text": [
      "\n",
      "100%|███████████████████████████████████████████████████| 30/30 [00:00<00:00, 101.47it/s]\u001b[A\n",
      " 28%|██████████████▎                                    | 28/100 [00:09<00:21,  3.30it/s]\n",
      "  0%|                                                             | 0/30 [00:00<?, ?it/s]\u001b[A\n",
      " 40%|████████████████████▍                              | 12/30 [00:00<00:00, 115.50it/s]\u001b[A"
     ]
    },
    {
     "name": "stdout",
     "output_type": "stream",
     "text": [
      "Epoch 27, loss: 2564784.579209\n"
     ]
    },
    {
     "name": "stderr",
     "output_type": "stream",
     "text": [
      "\n",
      "100%|███████████████████████████████████████████████████| 30/30 [00:00<00:00, 105.77it/s]\u001b[A\n",
      " 29%|██████████████▊                                    | 29/100 [00:09<00:21,  3.35it/s]\n",
      "  0%|                                                             | 0/30 [00:00<?, ?it/s]\u001b[A\n",
      " 40%|████████████████████▍                              | 12/30 [00:00<00:00, 111.21it/s]\u001b[A"
     ]
    },
    {
     "name": "stdout",
     "output_type": "stream",
     "text": [
      "Epoch 28, loss: 2844233.597601\n"
     ]
    },
    {
     "name": "stderr",
     "output_type": "stream",
     "text": [
      "\n",
      "100%|███████████████████████████████████████████████████| 30/30 [00:00<00:00, 104.30it/s]\u001b[A\n",
      " 30%|███████████████▎                                   | 30/100 [00:09<00:20,  3.37it/s]\n",
      "  0%|                                                             | 0/30 [00:00<?, ?it/s]\u001b[A\n",
      " 40%|████████████████████▍                              | 12/30 [00:00<00:00, 111.26it/s]\u001b[A"
     ]
    },
    {
     "name": "stdout",
     "output_type": "stream",
     "text": [
      "Epoch 29, loss: 2736353.673114\n"
     ]
    },
    {
     "name": "stderr",
     "output_type": "stream",
     "text": [
      "\n",
      "100%|███████████████████████████████████████████████████| 30/30 [00:00<00:00, 104.30it/s]\u001b[A\n",
      " 31%|███████████████▊                                   | 31/100 [00:09<00:20,  3.39it/s]\n",
      "  0%|                                                             | 0/30 [00:00<?, ?it/s]\u001b[A\n",
      " 33%|█████████████████▎                                  | 10/30 [00:00<00:00, 92.71it/s]\u001b[A"
     ]
    },
    {
     "name": "stdout",
     "output_type": "stream",
     "text": [
      "Epoch 30, loss: 2976854.450558\n"
     ]
    },
    {
     "name": "stderr",
     "output_type": "stream",
     "text": [
      "\n",
      "100%|████████████████████████████████████████████████████| 30/30 [00:00<00:00, 98.81it/s]\u001b[A\n",
      " 32%|████████████████▎                                  | 32/100 [00:10<00:20,  3.35it/s]\n",
      "  0%|                                                             | 0/30 [00:00<?, ?it/s]\u001b[A\n",
      " 33%|█████████████████▎                                  | 10/30 [00:00<00:00, 96.24it/s]\u001b[A"
     ]
    },
    {
     "name": "stdout",
     "output_type": "stream",
     "text": [
      "Epoch 31, loss: 2828531.869227\n"
     ]
    },
    {
     "name": "stderr",
     "output_type": "stream",
     "text": [
      "\n",
      "100%|███████████████████████████████████████████████████| 30/30 [00:00<00:00, 101.47it/s]\u001b[A\n",
      " 33%|████████████████▊                                  | 33/100 [00:10<00:20,  3.34it/s]\n",
      "  0%|                                                             | 0/30 [00:00<?, ?it/s]\u001b[A\n",
      " 37%|██████████████████▋                                | 11/30 [00:00<00:00, 101.99it/s]\u001b[A"
     ]
    },
    {
     "name": "stdout",
     "output_type": "stream",
     "text": [
      "Epoch 32, loss: 2452105.155924\n"
     ]
    },
    {
     "name": "stderr",
     "output_type": "stream",
     "text": [
      "\n",
      "100%|███████████████████████████████████████████████████| 30/30 [00:00<00:00, 101.47it/s]\u001b[A\n",
      " 34%|█████████████████▎                                 | 34/100 [00:10<00:19,  3.34it/s]\n",
      "  0%|                                                             | 0/30 [00:00<?, ?it/s]\u001b[A\n",
      " 33%|█████████████████▎                                  | 10/30 [00:00<00:00, 96.23it/s]\u001b[A"
     ]
    },
    {
     "name": "stdout",
     "output_type": "stream",
     "text": [
      "Epoch 33, loss: 2665853.178804\n"
     ]
    },
    {
     "name": "stderr",
     "output_type": "stream",
     "text": [
      "\n",
      "100%|████████████████████████████████████████████████████| 30/30 [00:00<00:00, 98.80it/s]\u001b[A\n",
      " 35%|█████████████████▊                                 | 35/100 [00:11<00:19,  3.31it/s]\n",
      "  0%|                                                             | 0/30 [00:00<?, ?it/s]\u001b[A\n",
      " 40%|████████████████████▍                              | 12/30 [00:00<00:00, 111.22it/s]\u001b[A"
     ]
    },
    {
     "name": "stdout",
     "output_type": "stream",
     "text": [
      "Epoch 34, loss: 2524087.003105\n"
     ]
    },
    {
     "name": "stderr",
     "output_type": "stream",
     "text": [
      "\n",
      "100%|███████████████████████████████████████████████████| 30/30 [00:00<00:00, 105.76it/s]\u001b[A\n",
      " 36%|██████████████████▎                                | 36/100 [00:11<00:19,  3.36it/s]\n",
      "  0%|                                                             | 0/30 [00:00<?, ?it/s]\u001b[A\n",
      " 33%|█████████████████▎                                  | 10/30 [00:00<00:00, 96.28it/s]\u001b[A"
     ]
    },
    {
     "name": "stdout",
     "output_type": "stream",
     "text": [
      "Epoch 35, loss: 2954107.186933\n"
     ]
    },
    {
     "name": "stderr",
     "output_type": "stream",
     "text": [
      "\n",
      "100%|███████████████████████████████████████████████████| 30/30 [00:00<00:00, 102.86it/s]\u001b[A\n",
      " 37%|██████████████████▊                                | 37/100 [00:11<00:18,  3.37it/s]\n",
      "  0%|                                                             | 0/30 [00:00<?, ?it/s]\u001b[A\n",
      " 37%|██████████████████▋                                | 11/30 [00:00<00:00, 105.86it/s]\u001b[A"
     ]
    },
    {
     "name": "stdout",
     "output_type": "stream",
     "text": [
      "Epoch 36, loss: 2836188.807625\n"
     ]
    },
    {
     "name": "stderr",
     "output_type": "stream",
     "text": [
      "\n",
      "100%|███████████████████████████████████████████████████| 30/30 [00:00<00:00, 102.86it/s]\u001b[A\n",
      " 38%|███████████████████▍                               | 38/100 [00:11<00:18,  3.37it/s]\n",
      "  0%|                                                             | 0/30 [00:00<?, ?it/s]\u001b[A\n",
      " 37%|██████████████████▋                                | 11/30 [00:00<00:00, 105.87it/s]\u001b[A"
     ]
    },
    {
     "name": "stdout",
     "output_type": "stream",
     "text": [
      "Epoch 37, loss: 2658666.537032\n"
     ]
    },
    {
     "name": "stderr",
     "output_type": "stream",
     "text": [
      "\n",
      "100%|███████████████████████████████████████████████████| 30/30 [00:00<00:00, 102.88it/s]\u001b[A\n",
      " 39%|███████████████████▉                               | 39/100 [00:12<00:18,  3.38it/s]\n",
      "  0%|                                                             | 0/30 [00:00<?, ?it/s]\u001b[A\n",
      " 40%|████████████████████▍                              | 12/30 [00:00<00:00, 111.26it/s]\u001b[A"
     ]
    },
    {
     "name": "stdout",
     "output_type": "stream",
     "text": [
      "Epoch 38, loss: 2883896.228435\n"
     ]
    },
    {
     "name": "stderr",
     "output_type": "stream",
     "text": [
      "\n",
      "100%|███████████████████████████████████████████████████| 30/30 [00:00<00:00, 105.77it/s]\u001b[A\n",
      " 40%|████████████████████▍                              | 40/100 [00:12<00:17,  3.41it/s]\n",
      "  0%|                                                             | 0/30 [00:00<?, ?it/s]\u001b[A\n",
      " 40%|████████████████████▍                              | 12/30 [00:00<00:00, 115.48it/s]\u001b[A"
     ]
    },
    {
     "name": "stdout",
     "output_type": "stream",
     "text": [
      "Epoch 39, loss: 2731414.278188\n"
     ]
    },
    {
     "name": "stderr",
     "output_type": "stream",
     "text": [
      "\n",
      "100%|███████████████████████████████████████████████████| 30/30 [00:00<00:00, 107.28it/s]\u001b[A\n",
      " 41%|████████████████████▉                              | 41/100 [00:12<00:17,  3.44it/s]\n",
      "  0%|                                                             | 0/30 [00:00<?, ?it/s]\u001b[A\n",
      " 40%|████████████████████▍                              | 12/30 [00:00<00:00, 111.19it/s]\u001b[A"
     ]
    },
    {
     "name": "stdout",
     "output_type": "stream",
     "text": [
      "Epoch 40, loss: 2882152.955357\n"
     ]
    },
    {
     "name": "stderr",
     "output_type": "stream",
     "text": [
      "\n",
      "100%|███████████████████████████████████████████████████| 30/30 [00:00<00:00, 107.28it/s]\u001b[A\n",
      " 42%|█████████████████████▍                             | 42/100 [00:13<00:16,  3.45it/s]\n",
      "  0%|                                                             | 0/30 [00:00<?, ?it/s]\u001b[A\n",
      " 40%|████████████████████▍                              | 12/30 [00:00<00:00, 111.26it/s]\u001b[A"
     ]
    },
    {
     "name": "stdout",
     "output_type": "stream",
     "text": [
      "Epoch 41, loss: 2442623.593744\n"
     ]
    },
    {
     "name": "stderr",
     "output_type": "stream",
     "text": [
      "\n",
      "100%|████████████████████████████████████████████████████| 30/30 [00:00<00:00, 98.82it/s]\u001b[A\n",
      " 43%|█████████████████████▉                             | 43/100 [00:13<00:16,  3.39it/s]\n",
      "  0%|                                                             | 0/30 [00:00<?, ?it/s]\u001b[A\n",
      " 33%|█████████████████▎                                  | 10/30 [00:00<00:00, 92.71it/s]\u001b[A"
     ]
    },
    {
     "name": "stdout",
     "output_type": "stream",
     "text": [
      "Epoch 42, loss: 2724133.179413\n"
     ]
    },
    {
     "name": "stderr",
     "output_type": "stream",
     "text": [
      "\n",
      " 67%|██████████████████████████████████▋                 | 20/30 [00:00<00:00, 93.75it/s]\u001b[A\n",
      "100%|████████████████████████████████████████████████████| 30/30 [00:00<00:00, 89.40it/s]\u001b[A\n",
      " 44%|██████████████████████▍                            | 44/100 [00:13<00:17,  3.24it/s]\n",
      "  0%|                                                             | 0/30 [00:00<?, ?it/s]\u001b[A\n",
      " 30%|███████████████▉                                     | 9/30 [00:00<00:00, 86.65it/s]\u001b[A"
     ]
    },
    {
     "name": "stdout",
     "output_type": "stream",
     "text": [
      "Epoch 43, loss: 2984316.092169\n"
     ]
    },
    {
     "name": "stderr",
     "output_type": "stream",
     "text": [
      "\n",
      " 63%|████████████████████████████████▉                   | 19/30 [00:00<00:00, 88.39it/s]\u001b[A\n",
      "100%|████████████████████████████████████████████████████| 30/30 [00:00<00:00, 88.35it/s]\u001b[A\n",
      " 45%|██████████████████████▉                            | 45/100 [00:14<00:17,  3.12it/s]\n",
      "  0%|                                                             | 0/30 [00:00<?, ?it/s]\u001b[A\n",
      " 30%|███████████████▉                                     | 9/30 [00:00<00:00, 86.65it/s]\u001b[A"
     ]
    },
    {
     "name": "stdout",
     "output_type": "stream",
     "text": [
      "Epoch 44, loss: 2552912.422240\n"
     ]
    },
    {
     "name": "stderr",
     "output_type": "stream",
     "text": [
      "\n",
      " 67%|██████████████████████████████████▋                 | 20/30 [00:00<00:00, 89.86it/s]\u001b[A\n",
      "100%|████████████████████████████████████████████████████| 30/30 [00:00<00:00, 91.59it/s]\u001b[A\n",
      " 46%|███████████████████████▍                           | 46/100 [00:14<00:17,  3.10it/s]\n",
      "  0%|                                                             | 0/30 [00:00<?, ?it/s]\u001b[A\n",
      " 30%|███████████████▉                                     | 9/30 [00:00<00:00, 86.65it/s]\u001b[A"
     ]
    },
    {
     "name": "stdout",
     "output_type": "stream",
     "text": [
      "Epoch 45, loss: 2850858.159234\n"
     ]
    },
    {
     "name": "stderr",
     "output_type": "stream",
     "text": [
      "\n",
      " 63%|████████████████████████████████▉                   | 19/30 [00:00<00:00, 89.33it/s]\u001b[A\n",
      "100%|████████████████████████████████████████████████████| 30/30 [00:00<00:00, 89.40it/s]\u001b[A\n",
      " 47%|███████████████████████▉                           | 47/100 [00:14<00:17,  3.05it/s]\n",
      "  0%|                                                             | 0/30 [00:00<?, ?it/s]\u001b[A\n",
      " 33%|█████████████████▎                                  | 10/30 [00:00<00:00, 92.72it/s]\u001b[A"
     ]
    },
    {
     "name": "stdout",
     "output_type": "stream",
     "text": [
      "Epoch 46, loss: 2585526.513869\n"
     ]
    },
    {
     "name": "stderr",
     "output_type": "stream",
     "text": [
      "\n",
      " 67%|██████████████████████████████████▋                 | 20/30 [00:00<00:00, 92.71it/s]\u001b[A\n",
      "100%|████████████████████████████████████████████████████| 30/30 [00:00<00:00, 88.35it/s]\u001b[A\n",
      " 48%|████████████████████████▍                          | 48/100 [00:15<00:17,  3.00it/s]\n",
      "  0%|                                                             | 0/30 [00:00<?, ?it/s]\u001b[A\n",
      " 30%|███████████████▉                                     | 9/30 [00:00<00:00, 86.63it/s]\u001b[A"
     ]
    },
    {
     "name": "stdout",
     "output_type": "stream",
     "text": [
      "Epoch 47, loss: 2879088.037295\n"
     ]
    },
    {
     "name": "stderr",
     "output_type": "stream",
     "text": [
      "\n",
      " 63%|████████████████████████████████▉                   | 19/30 [00:00<00:00, 89.32it/s]\u001b[A\n",
      "100%|████████████████████████████████████████████████████| 30/30 [00:00<00:00, 92.72it/s]\u001b[A\n",
      " 49%|████████████████████████▉                          | 49/100 [00:15<00:16,  3.01it/s]\n",
      "  0%|                                                             | 0/30 [00:00<?, ?it/s]\u001b[A\n",
      " 33%|█████████████████▎                                  | 10/30 [00:00<00:00, 96.28it/s]\u001b[A"
     ]
    },
    {
     "name": "stdout",
     "output_type": "stream",
     "text": [
      "Epoch 48, loss: 2884067.787711\n"
     ]
    },
    {
     "name": "stderr",
     "output_type": "stream",
     "text": [
      "\n",
      "100%|████████████████████████████████████████████████████| 30/30 [00:00<00:00, 97.52it/s]\u001b[A\n",
      " 50%|█████████████████████████▌                         | 50/100 [00:15<00:16,  3.06it/s]\n",
      "  0%|                                                             | 0/30 [00:00<?, ?it/s]\u001b[A\n",
      " 33%|█████████████████▎                                  | 10/30 [00:00<00:00, 96.27it/s]\u001b[A"
     ]
    },
    {
     "name": "stdout",
     "output_type": "stream",
     "text": [
      "Epoch 49, loss: 2704880.424764\n"
     ]
    },
    {
     "name": "stderr",
     "output_type": "stream",
     "text": [
      "\n",
      "100%|████████████████████████████████████████████████████| 30/30 [00:00<00:00, 95.07it/s]\u001b[A\n",
      " 51%|██████████████████████████                         | 51/100 [00:16<00:15,  3.09it/s]\n",
      "  0%|                                                             | 0/30 [00:00<?, ?it/s]\u001b[A\n",
      " 37%|██████████████████▋                                | 11/30 [00:00<00:00, 101.99it/s]\u001b[A"
     ]
    },
    {
     "name": "stdout",
     "output_type": "stream",
     "text": [
      "Epoch 50, loss: 2760734.918867\n"
     ]
    },
    {
     "name": "stderr",
     "output_type": "stream",
     "text": [
      "\n",
      "100%|████████████████████████████████████████████████████| 30/30 [00:00<00:00, 97.53it/s]\u001b[A\n",
      " 52%|██████████████████████████▌                        | 52/100 [00:16<00:15,  3.13it/s]\n",
      "  0%|                                                             | 0/30 [00:00<?, ?it/s]\u001b[A\n",
      " 40%|████████████████████▍                              | 12/30 [00:00<00:00, 111.22it/s]\u001b[A"
     ]
    },
    {
     "name": "stdout",
     "output_type": "stream",
     "text": [
      "Epoch 51, loss: 2774575.559731\n"
     ]
    },
    {
     "name": "stderr",
     "output_type": "stream",
     "text": [
      "\n",
      "100%|███████████████████████████████████████████████████| 30/30 [00:00<00:00, 104.31it/s]\u001b[A\n",
      " 53%|███████████████████████████                        | 53/100 [00:16<00:14,  3.20it/s]\n",
      "  0%|                                                             | 0/30 [00:00<?, ?it/s]\u001b[A\n",
      " 33%|█████████████████▎                                  | 10/30 [00:00<00:00, 92.71it/s]\u001b[A"
     ]
    },
    {
     "name": "stdout",
     "output_type": "stream",
     "text": [
      "Epoch 52, loss: 2840265.609248\n"
     ]
    },
    {
     "name": "stderr",
     "output_type": "stream",
     "text": [
      "\n",
      "100%|████████████████████████████████████████████████████| 30/30 [00:00<00:00, 98.81it/s]\u001b[A\n",
      " 54%|███████████████████████████▌                       | 54/100 [00:17<00:14,  3.21it/s]\n",
      "  0%|                                                             | 0/30 [00:00<?, ?it/s]\u001b[A\n",
      " 40%|████████████████████▍                              | 12/30 [00:00<00:00, 110.02it/s]\u001b[A"
     ]
    },
    {
     "name": "stdout",
     "output_type": "stream",
     "text": [
      "Epoch 53, loss: 2616987.035311\n"
     ]
    },
    {
     "name": "stderr",
     "output_type": "stream",
     "text": [
      "\n",
      "100%|███████████████████████████████████████████████████| 30/30 [00:00<00:00, 102.45it/s]\u001b[A\n",
      " 55%|████████████████████████████                       | 55/100 [00:17<00:13,  3.25it/s]\n",
      "  0%|                                                             | 0/30 [00:00<?, ?it/s]\u001b[A\n",
      " 40%|████████████████████▍                              | 12/30 [00:00<00:00, 107.32it/s]\u001b[A"
     ]
    },
    {
     "name": "stdout",
     "output_type": "stream",
     "text": [
      "Epoch 54, loss: 2849624.757340\n"
     ]
    },
    {
     "name": "stderr",
     "output_type": "stream",
     "text": [
      "\n",
      "100%|███████████████████████████████████████████████████| 30/30 [00:00<00:00, 104.32it/s]\u001b[A\n",
      " 56%|████████████████████████████▌                      | 56/100 [00:17<00:13,  3.31it/s]\n",
      "  0%|                                                             | 0/30 [00:00<?, ?it/s]\u001b[A\n",
      " 40%|████████████████████▍                              | 12/30 [00:00<00:00, 111.26it/s]\u001b[A"
     ]
    },
    {
     "name": "stdout",
     "output_type": "stream",
     "text": [
      "Epoch 55, loss: 2670026.607785\n"
     ]
    },
    {
     "name": "stderr",
     "output_type": "stream",
     "text": [
      "\n",
      "100%|███████████████████████████████████████████████████| 30/30 [00:00<00:00, 104.31it/s]\u001b[A\n",
      " 57%|█████████████████████████████                      | 57/100 [00:17<00:12,  3.35it/s]\n",
      "  0%|                                                             | 0/30 [00:00<?, ?it/s]\u001b[A\n",
      " 33%|█████████████████▎                                  | 10/30 [00:00<00:00, 96.28it/s]\u001b[A"
     ]
    },
    {
     "name": "stdout",
     "output_type": "stream",
     "text": [
      "Epoch 56, loss: 2757158.514183\n"
     ]
    },
    {
     "name": "stderr",
     "output_type": "stream",
     "text": [
      "\n",
      "100%|███████████████████████████████████████████████████| 30/30 [00:00<00:00, 102.88it/s]\u001b[A\n",
      " 58%|█████████████████████████████▌                     | 58/100 [00:18<00:12,  3.34it/s]\n",
      "  0%|                                                             | 0/30 [00:00<?, ?it/s]\u001b[A\n",
      " 40%|████████████████████▍                              | 12/30 [00:00<00:00, 111.26it/s]\u001b[A"
     ]
    },
    {
     "name": "stdout",
     "output_type": "stream",
     "text": [
      "Epoch 57, loss: 2758557.295223\n"
     ]
    },
    {
     "name": "stderr",
     "output_type": "stream",
     "text": [
      "\n",
      "100%|███████████████████████████████████████████████████| 30/30 [00:00<00:00, 104.30it/s]\u001b[A\n",
      " 59%|██████████████████████████████                     | 59/100 [00:18<00:12,  3.38it/s]\n",
      "  0%|                                                             | 0/30 [00:00<?, ?it/s]\u001b[A\n",
      " 37%|███████████████████                                 | 11/30 [00:00<00:00, 98.35it/s]\u001b[A"
     ]
    },
    {
     "name": "stdout",
     "output_type": "stream",
     "text": [
      "Epoch 58, loss: 2752059.329521\n"
     ]
    },
    {
     "name": "stderr",
     "output_type": "stream",
     "text": [
      "\n",
      "100%|████████████████████████████████████████████████████| 30/30 [00:00<00:00, 98.82it/s]\u001b[A\n",
      " 60%|██████████████████████████████▌                    | 60/100 [00:18<00:11,  3.34it/s]\n",
      "  0%|                                                             | 0/30 [00:00<?, ?it/s]\u001b[A\n",
      " 40%|████████████████████▍                              | 12/30 [00:00<00:00, 111.26it/s]\u001b[A"
     ]
    },
    {
     "name": "stdout",
     "output_type": "stream",
     "text": [
      "Epoch 59, loss: 2815763.469212\n"
     ]
    },
    {
     "name": "stderr",
     "output_type": "stream",
     "text": [
      "\n",
      "100%|███████████████████████████████████████████████████| 30/30 [00:00<00:00, 104.31it/s]\u001b[A\n",
      " 61%|███████████████████████████████                    | 61/100 [00:19<00:11,  3.37it/s]\n",
      "  0%|                                                             | 0/30 [00:00<?, ?it/s]\u001b[A\n",
      " 37%|███████████████████                                 | 11/30 [00:00<00:00, 98.34it/s]\u001b[A"
     ]
    },
    {
     "name": "stdout",
     "output_type": "stream",
     "text": [
      "Epoch 60, loss: 2809610.921440\n"
     ]
    },
    {
     "name": "stderr",
     "output_type": "stream",
     "text": [
      "\n",
      "100%|████████████████████████████████████████████████████| 30/30 [00:00<00:00, 96.28it/s]\u001b[A\n",
      " 62%|███████████████████████████████▌                   | 62/100 [00:19<00:11,  3.31it/s]\n",
      "  0%|                                                             | 0/30 [00:00<?, ?it/s]\u001b[A\n",
      " 40%|████████████████████▍                              | 12/30 [00:00<00:00, 111.26it/s]\u001b[A"
     ]
    },
    {
     "name": "stdout",
     "output_type": "stream",
     "text": [
      "Epoch 61, loss: 2873810.476559\n"
     ]
    },
    {
     "name": "stderr",
     "output_type": "stream",
     "text": [
      "\n",
      "100%|███████████████████████████████████████████████████| 30/30 [00:00<00:00, 104.31it/s]\u001b[A\n",
      " 63%|████████████████████████████████▏                  | 63/100 [00:19<00:11,  3.34it/s]\n",
      "  0%|                                                             | 0/30 [00:00<?, ?it/s]\u001b[A\n",
      " 37%|██████████████████▋                                | 11/30 [00:00<00:00, 105.91it/s]\u001b[A"
     ]
    },
    {
     "name": "stdout",
     "output_type": "stream",
     "text": [
      "Epoch 62, loss: 2744787.691457\n"
     ]
    },
    {
     "name": "stderr",
     "output_type": "stream",
     "text": [
      "\n",
      "100%|███████████████████████████████████████████████████| 30/30 [00:00<00:00, 104.31it/s]\u001b[A\n",
      " 64%|████████████████████████████████▋                  | 64/100 [00:19<00:10,  3.37it/s]\n",
      "  0%|                                                             | 0/30 [00:00<?, ?it/s]\u001b[A\n",
      " 40%|████████████████████▍                              | 12/30 [00:00<00:00, 111.26it/s]\u001b[A"
     ]
    },
    {
     "name": "stdout",
     "output_type": "stream",
     "text": [
      "Epoch 63, loss: 2827230.999687\n"
     ]
    },
    {
     "name": "stderr",
     "output_type": "stream",
     "text": [
      "\n",
      "100%|███████████████████████████████████████████████████| 30/30 [00:00<00:00, 102.88it/s]\u001b[A\n",
      " 65%|█████████████████████████████████▏                 | 65/100 [00:20<00:10,  3.37it/s]\n",
      "  0%|                                                             | 0/30 [00:00<?, ?it/s]\u001b[A\n",
      " 40%|████████████████████▍                              | 12/30 [00:00<00:00, 115.54it/s]\u001b[A"
     ]
    },
    {
     "name": "stdout",
     "output_type": "stream",
     "text": [
      "Epoch 64, loss: 2736125.620279\n"
     ]
    },
    {
     "name": "stderr",
     "output_type": "stream",
     "text": [
      "\n",
      "100%|███████████████████████████████████████████████████| 30/30 [00:00<00:00, 104.30it/s]\u001b[A\n",
      " 66%|█████████████████████████████████▋                 | 66/100 [00:20<00:10,  3.39it/s]\n",
      "  0%|                                                             | 0/30 [00:00<?, ?it/s]\u001b[A\n",
      " 40%|████████████████████▍                              | 12/30 [00:00<00:00, 111.25it/s]\u001b[A"
     ]
    },
    {
     "name": "stdout",
     "output_type": "stream",
     "text": [
      "Epoch 65, loss: 2856424.573430\n"
     ]
    },
    {
     "name": "stderr",
     "output_type": "stream",
     "text": [
      "\n",
      "100%|███████████████████████████████████████████████████| 30/30 [00:00<00:00, 104.31it/s]\u001b[A\n",
      " 67%|██████████████████████████████████▏                | 67/100 [00:20<00:09,  3.40it/s]\n",
      "  0%|                                                             | 0/30 [00:00<?, ?it/s]\u001b[A\n",
      " 33%|█████████████████▎                                  | 10/30 [00:00<00:00, 96.28it/s]\u001b[A"
     ]
    },
    {
     "name": "stdout",
     "output_type": "stream",
     "text": [
      "Epoch 66, loss: 2965903.655863\n"
     ]
    },
    {
     "name": "stderr",
     "output_type": "stream",
     "text": [
      "\n",
      "100%|████████████████████████████████████████████████████| 30/30 [00:00<00:00, 98.80it/s]\u001b[A\n",
      " 68%|██████████████████████████████████▋                | 68/100 [00:21<00:09,  3.35it/s]\n",
      "  0%|                                                             | 0/30 [00:00<?, ?it/s]\u001b[A\n",
      " 40%|████████████████████▍                              | 12/30 [00:00<00:00, 111.26it/s]\u001b[A"
     ]
    },
    {
     "name": "stdout",
     "output_type": "stream",
     "text": [
      "Epoch 67, loss: 3197336.031448\n"
     ]
    },
    {
     "name": "stderr",
     "output_type": "stream",
     "text": [
      "\n",
      "100%|███████████████████████████████████████████████████| 30/30 [00:00<00:00, 105.77it/s]\u001b[A\n",
      " 69%|███████████████████████████████████▏               | 69/100 [00:21<00:09,  3.39it/s]\n",
      "  0%|                                                             | 0/30 [00:00<?, ?it/s]\u001b[A\n",
      " 40%|████████████████████▍                              | 12/30 [00:00<00:00, 115.54it/s]\u001b[A"
     ]
    },
    {
     "name": "stdout",
     "output_type": "stream",
     "text": [
      "Epoch 68, loss: 2811076.176838\n"
     ]
    },
    {
     "name": "stderr",
     "output_type": "stream",
     "text": [
      "\n",
      "100%|███████████████████████████████████████████████████| 30/30 [00:00<00:00, 105.77it/s]\u001b[A\n",
      " 70%|███████████████████████████████████▋               | 70/100 [00:21<00:08,  3.42it/s]\n",
      "  0%|                                                             | 0/30 [00:00<?, ?it/s]\u001b[A\n",
      " 40%|████████████████████▍                              | 12/30 [00:00<00:00, 115.54it/s]\u001b[A"
     ]
    },
    {
     "name": "stdout",
     "output_type": "stream",
     "text": [
      "Epoch 69, loss: 2652339.834130\n"
     ]
    },
    {
     "name": "stderr",
     "output_type": "stream",
     "text": [
      "\n",
      "100%|███████████████████████████████████████████████████| 30/30 [00:00<00:00, 102.87it/s]\u001b[A\n",
      " 71%|████████████████████████████████████▏              | 71/100 [00:22<00:08,  3.41it/s]\n",
      "  0%|                                                             | 0/30 [00:00<?, ?it/s]\u001b[A\n",
      " 40%|████████████████████▍                              | 12/30 [00:00<00:00, 111.26it/s]\u001b[A"
     ]
    },
    {
     "name": "stdout",
     "output_type": "stream",
     "text": [
      "Epoch 70, loss: 2764434.510321\n"
     ]
    },
    {
     "name": "stderr",
     "output_type": "stream",
     "text": [
      "\n",
      "100%|███████████████████████████████████████████████████| 30/30 [00:00<00:00, 104.31it/s]\u001b[A\n",
      " 72%|████████████████████████████████████▋              | 72/100 [00:22<00:08,  3.40it/s]\n",
      "  0%|                                                             | 0/30 [00:00<?, ?it/s]\u001b[A\n",
      " 33%|█████████████████▎                                  | 10/30 [00:00<00:00, 96.28it/s]\u001b[A"
     ]
    },
    {
     "name": "stdout",
     "output_type": "stream",
     "text": [
      "Epoch 71, loss: 2827594.817142\n"
     ]
    },
    {
     "name": "stderr",
     "output_type": "stream",
     "text": [
      "\n",
      "100%|███████████████████████████████████████████████████| 30/30 [00:00<00:00, 101.49it/s]\u001b[A\n",
      " 73%|█████████████████████████████████████▏             | 73/100 [00:22<00:07,  3.39it/s]\n",
      "  0%|                                                             | 0/30 [00:00<?, ?it/s]\u001b[A\n",
      " 37%|██████████████████▋                                | 11/30 [00:00<00:00, 101.99it/s]\u001b[A"
     ]
    },
    {
     "name": "stdout",
     "output_type": "stream",
     "text": [
      "Epoch 72, loss: 2731792.870092\n"
     ]
    },
    {
     "name": "stderr",
     "output_type": "stream",
     "text": [
      "\n",
      "100%|███████████████████████████████████████████████████| 30/30 [00:00<00:00, 100.13it/s]\u001b[A\n",
      " 74%|█████████████████████████████████████▋             | 74/100 [00:22<00:07,  3.36it/s]\n",
      "  0%|                                                             | 0/30 [00:00<?, ?it/s]\u001b[A\n",
      " 40%|████████████████████▍                              | 12/30 [00:00<00:00, 111.26it/s]\u001b[A"
     ]
    },
    {
     "name": "stdout",
     "output_type": "stream",
     "text": [
      "Epoch 73, loss: 2920308.660362\n"
     ]
    },
    {
     "name": "stderr",
     "output_type": "stream",
     "text": [
      "\n",
      "100%|███████████████████████████████████████████████████| 30/30 [00:00<00:00, 104.29it/s]\u001b[A\n",
      " 75%|██████████████████████████████████████▎            | 75/100 [00:23<00:07,  3.38it/s]\n",
      "  0%|                                                             | 0/30 [00:00<?, ?it/s]\u001b[A\n",
      " 40%|████████████████████▍                              | 12/30 [00:00<00:00, 111.26it/s]\u001b[A"
     ]
    },
    {
     "name": "stdout",
     "output_type": "stream",
     "text": [
      "Epoch 74, loss: 2785180.640666\n"
     ]
    },
    {
     "name": "stderr",
     "output_type": "stream",
     "text": [
      "\n",
      "100%|███████████████████████████████████████████████████| 30/30 [00:00<00:00, 101.48it/s]\u001b[A\n",
      " 76%|██████████████████████████████████████▊            | 76/100 [00:23<00:07,  3.37it/s]\n",
      "  0%|                                                             | 0/30 [00:00<?, ?it/s]\u001b[A\n",
      " 37%|██████████████████▋                                | 11/30 [00:00<00:00, 105.91it/s]\u001b[A"
     ]
    },
    {
     "name": "stdout",
     "output_type": "stream",
     "text": [
      "Epoch 75, loss: 2818886.371605\n"
     ]
    },
    {
     "name": "stderr",
     "output_type": "stream",
     "text": [
      "\n",
      "100%|████████████████████████████████████████████████████| 30/30 [00:00<00:00, 98.81it/s]\u001b[A\n",
      " 77%|███████████████████████████████████████▎           | 77/100 [00:23<00:06,  3.33it/s]\n",
      "  0%|                                                             | 0/30 [00:00<?, ?it/s]\u001b[A\n",
      " 40%|████████████████████▍                              | 12/30 [00:00<00:00, 107.29it/s]\u001b[A"
     ]
    },
    {
     "name": "stdout",
     "output_type": "stream",
     "text": [
      "Epoch 76, loss: 2828170.176797\n"
     ]
    },
    {
     "name": "stderr",
     "output_type": "stream",
     "text": [
      "\n",
      "100%|███████████████████████████████████████████████████| 30/30 [00:00<00:00, 102.88it/s]\u001b[A\n",
      " 78%|███████████████████████████████████████▊           | 78/100 [00:24<00:06,  3.35it/s]\n",
      "  0%|                                                             | 0/30 [00:00<?, ?it/s]\u001b[A\n",
      " 37%|██████████████████▋                                | 11/30 [00:00<00:00, 101.99it/s]\u001b[A"
     ]
    },
    {
     "name": "stdout",
     "output_type": "stream",
     "text": [
      "Epoch 77, loss: 2804489.121634\n"
     ]
    },
    {
     "name": "stderr",
     "output_type": "stream",
     "text": [
      "\n",
      "100%|████████████████████████████████████████████████████| 30/30 [00:00<00:00, 98.82it/s]\u001b[A\n",
      " 79%|████████████████████████████████████████▎          | 79/100 [00:24<00:06,  3.32it/s]\n",
      "  0%|                                                             | 0/30 [00:00<?, ?it/s]\u001b[A\n",
      " 40%|████████████████████▍                              | 12/30 [00:00<00:00, 111.26it/s]\u001b[A"
     ]
    },
    {
     "name": "stdout",
     "output_type": "stream",
     "text": [
      "Epoch 78, loss: 2783178.557085\n"
     ]
    },
    {
     "name": "stderr",
     "output_type": "stream",
     "text": [
      "\n",
      "100%|███████████████████████████████████████████████████| 30/30 [00:00<00:00, 101.48it/s]\u001b[A\n",
      " 80%|████████████████████████████████████████▊          | 80/100 [00:24<00:06,  3.32it/s]\n",
      "  0%|                                                             | 0/30 [00:00<?, ?it/s]\u001b[A\n",
      " 30%|███████████████▉                                     | 9/30 [00:00<00:00, 83.44it/s]\u001b[A"
     ]
    },
    {
     "name": "stdout",
     "output_type": "stream",
     "text": [
      "Epoch 79, loss: 2825538.621847\n"
     ]
    },
    {
     "name": "stderr",
     "output_type": "stream",
     "text": [
      "\n",
      " 67%|██████████████████████████████████▋                 | 20/30 [00:00<00:00, 88.26it/s]\u001b[A\n",
      "100%|████████████████████████████████████████████████████| 30/30 [00:00<00:00, 90.48it/s]\u001b[A\n",
      " 81%|█████████████████████████████████████████▎         | 81/100 [00:25<00:05,  3.20it/s]\n",
      "  0%|                                                             | 0/30 [00:00<?, ?it/s]\u001b[A\n",
      " 33%|█████████████████▎                                  | 10/30 [00:00<00:00, 92.68it/s]\u001b[A"
     ]
    },
    {
     "name": "stdout",
     "output_type": "stream",
     "text": [
      "Epoch 80, loss: 2874422.401208\n"
     ]
    },
    {
     "name": "stderr",
     "output_type": "stream",
     "text": [
      "\n",
      " 67%|██████████████████████████████████▋                 | 20/30 [00:00<00:00, 93.74it/s]\u001b[A\n",
      "100%|████████████████████████████████████████████████████| 30/30 [00:00<00:00, 95.06it/s]\u001b[A\n",
      " 82%|█████████████████████████████████████████▊         | 82/100 [00:25<00:05,  3.18it/s]\n",
      "  0%|                                                             | 0/30 [00:00<?, ?it/s]\u001b[A\n",
      " 33%|█████████████████▎                                  | 10/30 [00:00<00:00, 92.71it/s]\u001b[A"
     ]
    },
    {
     "name": "stdout",
     "output_type": "stream",
     "text": [
      "Epoch 81, loss: 2779933.737753\n"
     ]
    },
    {
     "name": "stderr",
     "output_type": "stream",
     "text": [
      "\n",
      " 67%|██████████████████████████████████▋                 | 20/30 [00:00<00:00, 91.70it/s]\u001b[A\n",
      "100%|████████████████████████████████████████████████████| 30/30 [00:00<00:00, 90.48it/s]\u001b[A\n",
      " 83%|██████████████████████████████████████████▎        | 83/100 [00:25<00:05,  3.12it/s]\n",
      "  0%|                                                             | 0/30 [00:00<?, ?it/s]\u001b[A\n",
      " 30%|███████████████▉                                     | 9/30 [00:00<00:00, 80.46it/s]\u001b[A"
     ]
    },
    {
     "name": "stdout",
     "output_type": "stream",
     "text": [
      "Epoch 82, loss: 3002622.477469\n"
     ]
    },
    {
     "name": "stderr",
     "output_type": "stream",
     "text": [
      "\n",
      " 63%|████████████████████████████████▉                   | 19/30 [00:00<00:00, 84.63it/s]\u001b[A\n",
      "100%|████████████████████████████████████████████████████| 30/30 [00:00<00:00, 90.48it/s]\u001b[A\n",
      " 84%|██████████████████████████████████████████▊        | 84/100 [00:26<00:05,  3.06it/s]\n",
      "  0%|                                                             | 0/30 [00:00<?, ?it/s]\u001b[A\n",
      " 30%|███████████████▉                                     | 9/30 [00:00<00:00, 86.62it/s]\u001b[A\n"
     ]
    },
    {
     "name": "stdout",
     "output_type": "stream",
     "text": [
      "Epoch 83, loss: 3034876.510812\n"
     ]
    },
    {
     "name": "stderr",
     "output_type": "stream",
     "text": [
      " 63%|████████████████████████████████▉                   | 19/30 [00:00<00:00, 89.31it/s]\u001b[A\n",
      "100%|████████████████████████████████████████████████████| 30/30 [00:00<00:00, 86.32it/s]\u001b[A\n",
      " 85%|███████████████████████████████████████████▎       | 85/100 [00:26<00:05,  2.99it/s]\n",
      "  0%|                                                             | 0/30 [00:00<?, ?it/s]\u001b[A\n",
      " 30%|███████████████▉                                     | 9/30 [00:00<00:00, 83.44it/s]\u001b[A"
     ]
    },
    {
     "name": "stdout",
     "output_type": "stream",
     "text": [
      "Epoch 84, loss: 2900040.811946\n"
     ]
    },
    {
     "name": "stderr",
     "output_type": "stream",
     "text": [
      "\n",
      " 63%|████████████████████████████████▉                   | 19/30 [00:00<00:00, 85.14it/s]\u001b[A\n",
      "100%|████████████████████████████████████████████████████| 30/30 [00:00<00:00, 84.38it/s]\u001b[A\n",
      " 86%|███████████████████████████████████████████▊       | 86/100 [00:26<00:04,  2.93it/s]\n",
      "  0%|                                                             | 0/30 [00:00<?, ?it/s]\u001b[A\n",
      " 27%|██████████████▏                                      | 8/30 [00:00<00:00, 77.02it/s]\u001b[A"
     ]
    },
    {
     "name": "stdout",
     "output_type": "stream",
     "text": [
      "Epoch 85, loss: 2886920.601840\n"
     ]
    },
    {
     "name": "stderr",
     "output_type": "stream",
     "text": [
      "\n",
      " 60%|███████████████████████████████▏                    | 18/30 [00:00<00:00, 81.14it/s]\u001b[A\n",
      "100%|████████████████████████████████████████████████████| 30/30 [00:00<00:00, 85.34it/s]\u001b[A\n",
      " 87%|████████████████████████████████████████████▎      | 87/100 [00:27<00:04,  2.89it/s]\n",
      "  0%|                                                             | 0/30 [00:00<?, ?it/s]\u001b[A\n",
      " 30%|███████████████▉                                     | 9/30 [00:00<00:00, 80.46it/s]\u001b[A"
     ]
    },
    {
     "name": "stdout",
     "output_type": "stream",
     "text": [
      "Epoch 86, loss: 2855353.384255\n"
     ]
    },
    {
     "name": "stderr",
     "output_type": "stream",
     "text": [
      "\n",
      " 63%|████████████████████████████████▉                   | 19/30 [00:00<00:00, 84.63it/s]\u001b[A\n",
      "100%|████████████████████████████████████████████████████| 30/30 [00:00<00:00, 86.32it/s]\u001b[A\n",
      " 88%|████████████████████████████████████████████▉      | 88/100 [00:27<00:04,  2.88it/s]\n",
      "  0%|                                                             | 0/30 [00:00<?, ?it/s]\u001b[A\n",
      " 30%|███████████████▉                                     | 9/30 [00:00<00:00, 86.65it/s]\u001b[A"
     ]
    },
    {
     "name": "stdout",
     "output_type": "stream",
     "text": [
      "Epoch 87, loss: 2776282.905862\n"
     ]
    },
    {
     "name": "stderr",
     "output_type": "stream",
     "text": [
      "\n",
      " 63%|████████████████████████████████▉                   | 19/30 [00:00<00:00, 87.46it/s]\u001b[A\n",
      "100%|████████████████████████████████████████████████████| 30/30 [00:00<00:00, 87.33it/s]\u001b[A\n",
      " 89%|█████████████████████████████████████████████▍     | 89/100 [00:27<00:03,  2.87it/s]\n",
      "  0%|                                                             | 0/30 [00:00<?, ?it/s]\u001b[A\n",
      " 30%|███████████████▉                                     | 9/30 [00:00<00:00, 86.65it/s]\u001b[A"
     ]
    },
    {
     "name": "stdout",
     "output_type": "stream",
     "text": [
      "Epoch 88, loss: 2811557.530235\n"
     ]
    },
    {
     "name": "stderr",
     "output_type": "stream",
     "text": [
      "\n",
      " 67%|██████████████████████████████████▋                 | 20/30 [00:00<00:00, 90.74it/s]\u001b[A\n",
      "100%|████████████████████████████████████████████████████| 30/30 [00:00<00:00, 95.06it/s]\u001b[A\n",
      " 90%|█████████████████████████████████████████████▉     | 90/100 [00:28<00:03,  2.94it/s]\n",
      "  0%|                                                             | 0/30 [00:00<?, ?it/s]\u001b[A\n",
      " 33%|█████████████████▎                                  | 10/30 [00:00<00:00, 92.72it/s]\u001b[A"
     ]
    },
    {
     "name": "stdout",
     "output_type": "stream",
     "text": [
      "Epoch 89, loss: 2903708.892305\n"
     ]
    },
    {
     "name": "stderr",
     "output_type": "stream",
     "text": [
      "\n",
      "100%|████████████████████████████████████████████████████| 30/30 [00:00<00:00, 93.88it/s]\u001b[A\n",
      " 91%|██████████████████████████████████████████████▍    | 91/100 [00:28<00:03,  2.97it/s]\n",
      "  0%|                                                             | 0/30 [00:00<?, ?it/s]\u001b[A\n",
      " 33%|█████████████████▎                                  | 10/30 [00:00<00:00, 89.41it/s]\u001b[A"
     ]
    },
    {
     "name": "stdout",
     "output_type": "stream",
     "text": [
      "Epoch 90, loss: 2874580.861430\n"
     ]
    },
    {
     "name": "stderr",
     "output_type": "stream",
     "text": [
      "\n",
      " 60%|███████████████████████████████▏                    | 18/30 [00:00<00:00, 84.22it/s]\u001b[A\n",
      "100%|████████████████████████████████████████████████████| 30/30 [00:00<00:00, 82.53it/s]\u001b[A\n",
      " 92%|██████████████████████████████████████████████▉    | 92/100 [00:28<00:02,  2.88it/s]\n",
      "  0%|                                                             | 0/30 [00:00<?, ?it/s]\u001b[A\n",
      " 33%|█████████████████▎                                  | 10/30 [00:00<00:00, 96.28it/s]\u001b[A"
     ]
    },
    {
     "name": "stdout",
     "output_type": "stream",
     "text": [
      "Epoch 91, loss: 3077352.251062\n"
     ]
    },
    {
     "name": "stderr",
     "output_type": "stream",
     "text": [
      "\n",
      "100%|████████████████████████████████████████████████████| 30/30 [00:00<00:00, 97.53it/s]\u001b[A\n",
      " 93%|███████████████████████████████████████████████▍   | 93/100 [00:29<00:02,  2.97it/s]\n",
      "  0%|                                                             | 0/30 [00:00<?, ?it/s]\u001b[A\n",
      " 37%|██████████████████▋                                | 11/30 [00:00<00:00, 105.91it/s]\u001b[A"
     ]
    },
    {
     "name": "stdout",
     "output_type": "stream",
     "text": [
      "Epoch 92, loss: 3044709.920741\n"
     ]
    },
    {
     "name": "stderr",
     "output_type": "stream",
     "text": [
      "\n",
      "100%|████████████████████████████████████████████████████| 30/30 [00:00<00:00, 95.06it/s]\u001b[A\n",
      " 94%|███████████████████████████████████████████████▉   | 94/100 [00:29<00:01,  3.02it/s]\n",
      "  0%|                                                             | 0/30 [00:00<?, ?it/s]\u001b[A\n",
      " 37%|███████████████████                                 | 11/30 [00:00<00:00, 98.35it/s]\u001b[A"
     ]
    },
    {
     "name": "stdout",
     "output_type": "stream",
     "text": [
      "Epoch 93, loss: 2793533.979239\n"
     ]
    },
    {
     "name": "stderr",
     "output_type": "stream",
     "text": [
      "\n",
      "100%|███████████████████████████████████████████████████| 30/30 [00:00<00:00, 102.88it/s]\u001b[A\n",
      " 95%|████████████████████████████████████████████████▍  | 95/100 [00:29<00:01,  3.12it/s]\n",
      "  0%|                                                             | 0/30 [00:00<?, ?it/s]\u001b[A\n",
      " 33%|█████████████████▎                                  | 10/30 [00:00<00:00, 92.71it/s]\u001b[A"
     ]
    },
    {
     "name": "stdout",
     "output_type": "stream",
     "text": [
      "Epoch 94, loss: 3057531.853055\n"
     ]
    },
    {
     "name": "stderr",
     "output_type": "stream",
     "text": [
      "\n",
      " 67%|██████████████████████████████████▋                 | 20/30 [00:00<00:00, 92.71it/s]\u001b[A\n",
      "100%|████████████████████████████████████████████████████| 30/30 [00:00<00:00, 89.41it/s]\u001b[A\n",
      " 96%|████████████████████████████████████████████████▉  | 96/100 [00:30<00:01,  3.05it/s]\n",
      "  0%|                                                             | 0/30 [00:00<?, ?it/s]\u001b[A\n",
      " 33%|█████████████████▎                                  | 10/30 [00:00<00:00, 89.43it/s]\u001b[A"
     ]
    },
    {
     "name": "stdout",
     "output_type": "stream",
     "text": [
      "Epoch 95, loss: 2895223.223122\n"
     ]
    },
    {
     "name": "stderr",
     "output_type": "stream",
     "text": [
      "\n",
      " 67%|██████████████████████████████████▋                 | 20/30 [00:00<00:00, 90.39it/s]\u001b[A\n",
      "100%|████████████████████████████████████████████████████| 30/30 [00:00<00:00, 91.60it/s]\u001b[A\n",
      " 97%|█████████████████████████████████████████████████▍ | 97/100 [00:30<00:00,  3.05it/s]\n",
      "  0%|                                                             | 0/30 [00:00<?, ?it/s]\u001b[A\n",
      " 33%|█████████████████▎                                  | 10/30 [00:00<00:00, 92.68it/s]\u001b[A"
     ]
    },
    {
     "name": "stdout",
     "output_type": "stream",
     "text": [
      "Epoch 96, loss: 3057343.804441\n"
     ]
    },
    {
     "name": "stderr",
     "output_type": "stream",
     "text": [
      "\n",
      "100%|████████████████████████████████████████████████████| 30/30 [00:00<00:00, 95.06it/s]\u001b[A\n",
      " 98%|█████████████████████████████████████████████████▉ | 98/100 [00:30<00:00,  3.06it/s]\n",
      "  0%|                                                             | 0/30 [00:00<?, ?it/s]\u001b[A\n",
      " 33%|█████████████████▎                                  | 10/30 [00:00<00:00, 92.72it/s]\u001b[A"
     ]
    },
    {
     "name": "stdout",
     "output_type": "stream",
     "text": [
      "Epoch 97, loss: 2876419.431769\n"
     ]
    },
    {
     "name": "stderr",
     "output_type": "stream",
     "text": [
      "\n",
      "100%|████████████████████████████████████████████████████| 30/30 [00:00<00:00, 97.53it/s]\u001b[A\n",
      " 99%|██████████████████████████████████████████████████▍| 99/100 [00:31<00:00,  3.12it/s]\n",
      "  0%|                                                             | 0/30 [00:00<?, ?it/s]\u001b[A\n",
      " 40%|████████████████████▍                              | 12/30 [00:00<00:00, 111.26it/s]\u001b[A"
     ]
    },
    {
     "name": "stdout",
     "output_type": "stream",
     "text": [
      "Epoch 98, loss: 2981243.088192\n"
     ]
    },
    {
     "name": "stderr",
     "output_type": "stream",
     "text": [
      "\n",
      "100%|███████████████████████████████████████████████████| 30/30 [00:00<00:00, 101.49it/s]\u001b[A\n",
      "100%|██████████████████████████████████████████████████| 100/100 [00:31<00:00,  3.19it/s]\n",
      "  0%|                                                            | 0/100 [00:00<?, ?it/s]\n",
      "  0%|                                                             | 0/30 [00:00<?, ?it/s]\u001b[A\n",
      " 40%|████████████████████▍                              | 12/30 [00:00<00:00, 111.26it/s]\u001b[A"
     ]
    },
    {
     "name": "stdout",
     "output_type": "stream",
     "text": [
      "Epoch 99, loss: 2901472.656303\n"
     ]
    },
    {
     "name": "stderr",
     "output_type": "stream",
     "text": [
      "\n",
      "100%|███████████████████████████████████████████████████| 30/30 [00:00<00:00, 101.48it/s]\u001b[A\n",
      "  1%|▌                                                   | 1/100 [00:00<00:29,  3.34it/s]\n",
      "  0%|                                                             | 0/30 [00:00<?, ?it/s]\u001b[A\n",
      " 33%|█████████████████▎                                  | 10/30 [00:00<00:00, 96.28it/s]\u001b[A"
     ]
    },
    {
     "name": "stdout",
     "output_type": "stream",
     "text": [
      "Epoch 0, loss: 2618213.789500\n"
     ]
    },
    {
     "name": "stderr",
     "output_type": "stream",
     "text": [
      "\n",
      " 70%|████████████████████████████████████▍               | 21/30 [00:00<00:00, 97.93it/s]\u001b[A\n",
      "100%|████████████████████████████████████████████████████| 30/30 [00:00<00:00, 91.58it/s]\u001b[A\n",
      "  2%|█                                                   | 2/100 [00:00<00:30,  3.23it/s]\n",
      "  0%|                                                             | 0/30 [00:00<?, ?it/s]\u001b[A\n",
      " 33%|█████████████████▎                                  | 10/30 [00:00<00:00, 86.32it/s]\u001b[A"
     ]
    },
    {
     "name": "stdout",
     "output_type": "stream",
     "text": [
      "Epoch 1, loss: 2728632.297170\n"
     ]
    },
    {
     "name": "stderr",
     "output_type": "stream",
     "text": [
      "\n",
      "100%|████████████████████████████████████████████████████| 30/30 [00:00<00:00, 95.06it/s]\u001b[A\n",
      "  3%|█▌                                                  | 3/100 [00:00<00:30,  3.18it/s]\n",
      "  0%|                                                             | 0/30 [00:00<?, ?it/s]\u001b[A\n",
      " 37%|███████████████████                                 | 11/30 [00:00<00:00, 98.35it/s]\u001b[A"
     ]
    },
    {
     "name": "stdout",
     "output_type": "stream",
     "text": [
      "Epoch 2, loss: 2697754.044253\n"
     ]
    },
    {
     "name": "stderr",
     "output_type": "stream",
     "text": [
      "\n",
      "100%|████████████████████████████████████████████████████| 30/30 [00:00<00:00, 98.82it/s]\u001b[A\n",
      "  4%|██                                                  | 4/100 [00:01<00:30,  3.20it/s]\n",
      "  0%|                                                             | 0/30 [00:00<?, ?it/s]\u001b[A\n",
      " 37%|██████████████████▋                                | 11/30 [00:00<00:00, 105.91it/s]\u001b[A"
     ]
    },
    {
     "name": "stdout",
     "output_type": "stream",
     "text": [
      "Epoch 3, loss: 2789074.835739\n"
     ]
    },
    {
     "name": "stderr",
     "output_type": "stream",
     "text": [
      "\n",
      "100%|███████████████████████████████████████████████████| 30/30 [00:00<00:00, 100.13it/s]\u001b[A\n",
      "  5%|██▌                                                 | 5/100 [00:01<00:29,  3.24it/s]\n",
      "  0%|                                                             | 0/30 [00:00<?, ?it/s]\u001b[A\n",
      " 40%|████████████████████▍                              | 12/30 [00:00<00:00, 111.26it/s]\u001b[A"
     ]
    },
    {
     "name": "stdout",
     "output_type": "stream",
     "text": [
      "Epoch 4, loss: 2719947.764945\n"
     ]
    },
    {
     "name": "stderr",
     "output_type": "stream",
     "text": [
      "\n",
      "100%|███████████████████████████████████████████████████| 30/30 [00:00<00:00, 101.49it/s]\u001b[A\n",
      "  6%|███                                                 | 6/100 [00:01<00:28,  3.27it/s]\n",
      "  0%|                                                             | 0/30 [00:00<?, ?it/s]\u001b[A\n",
      " 40%|████████████████████▍                              | 12/30 [00:00<00:00, 111.27it/s]\u001b[A"
     ]
    },
    {
     "name": "stdout",
     "output_type": "stream",
     "text": [
      "Epoch 5, loss: 2542196.313781\n"
     ]
    },
    {
     "name": "stderr",
     "output_type": "stream",
     "text": [
      "\n",
      "100%|███████████████████████████████████████████████████| 30/30 [00:00<00:00, 102.88it/s]\u001b[A\n",
      "  7%|███▋                                                | 7/100 [00:02<00:28,  3.30it/s]\n",
      "  0%|                                                             | 0/30 [00:00<?, ?it/s]\u001b[A\n",
      " 37%|██████████████████▋                                | 11/30 [00:00<00:00, 101.99it/s]\u001b[A"
     ]
    },
    {
     "name": "stdout",
     "output_type": "stream",
     "text": [
      "Epoch 6, loss: 2600267.401372\n"
     ]
    },
    {
     "name": "stderr",
     "output_type": "stream",
     "text": [
      "\n",
      "100%|███████████████████████████████████████████████████| 30/30 [00:00<00:00, 100.13it/s]\u001b[A\n",
      "  8%|████▏                                               | 8/100 [00:02<00:27,  3.29it/s]\n",
      "  0%|                                                             | 0/30 [00:00<?, ?it/s]\u001b[A\n",
      " 40%|████████████████████▍                              | 12/30 [00:00<00:00, 111.26it/s]\u001b[A"
     ]
    },
    {
     "name": "stdout",
     "output_type": "stream",
     "text": [
      "Epoch 7, loss: 2609862.014227\n"
     ]
    },
    {
     "name": "stderr",
     "output_type": "stream",
     "text": [
      "\n",
      "100%|███████████████████████████████████████████████████| 30/30 [00:00<00:00, 102.88it/s]\u001b[A\n",
      "  9%|████▋                                               | 9/100 [00:02<00:27,  3.31it/s]\n",
      "  0%|                                                             | 0/30 [00:00<?, ?it/s]\u001b[A\n",
      " 37%|██████████████████▋                                | 11/30 [00:00<00:00, 101.98it/s]\u001b[A"
     ]
    },
    {
     "name": "stdout",
     "output_type": "stream",
     "text": [
      "Epoch 8, loss: 2894170.139222\n"
     ]
    },
    {
     "name": "stderr",
     "output_type": "stream",
     "text": [
      "\n",
      "100%|████████████████████████████████████████████████████| 30/30 [00:00<00:00, 98.82it/s]\u001b[A\n",
      " 10%|█████                                              | 10/100 [00:03<00:27,  3.30it/s]\n",
      "  0%|                                                             | 0/30 [00:00<?, ?it/s]\u001b[A\n",
      " 37%|██████████████████▋                                | 11/30 [00:00<00:00, 105.91it/s]\u001b[A"
     ]
    },
    {
     "name": "stdout",
     "output_type": "stream",
     "text": [
      "Epoch 9, loss: 2859128.193762\n"
     ]
    },
    {
     "name": "stderr",
     "output_type": "stream",
     "text": [
      "\n",
      "100%|████████████████████████████████████████████████████| 30/30 [00:00<00:00, 97.53it/s]\u001b[A\n",
      " 11%|█████▌                                             | 11/100 [00:03<00:27,  3.27it/s]\n",
      "  0%|                                                             | 0/30 [00:00<?, ?it/s]\u001b[A\n",
      " 33%|█████████████████▎                                  | 10/30 [00:00<00:00, 96.28it/s]\u001b[A"
     ]
    },
    {
     "name": "stdout",
     "output_type": "stream",
     "text": [
      "Epoch 10, loss: 2698898.338771\n"
     ]
    },
    {
     "name": "stderr",
     "output_type": "stream",
     "text": [
      "\n",
      "100%|████████████████████████████████████████████████████| 30/30 [00:00<00:00, 98.82it/s]\u001b[A\n",
      " 12%|██████                                             | 12/100 [00:03<00:26,  3.26it/s]\n",
      "  0%|                                                             | 0/30 [00:00<?, ?it/s]\u001b[A\n",
      " 40%|████████████████████▍                              | 12/30 [00:00<00:00, 111.26it/s]\u001b[A"
     ]
    },
    {
     "name": "stdout",
     "output_type": "stream",
     "text": [
      "Epoch 11, loss: 2687198.295206\n"
     ]
    },
    {
     "name": "stderr",
     "output_type": "stream",
     "text": [
      "\n",
      "100%|███████████████████████████████████████████████████| 30/30 [00:00<00:00, 102.88it/s]\u001b[A\n",
      " 13%|██████▋                                            | 13/100 [00:03<00:26,  3.30it/s]\n",
      "  0%|                                                             | 0/30 [00:00<?, ?it/s]\u001b[A\n",
      " 33%|█████████████████▎                                  | 10/30 [00:00<00:00, 96.28it/s]\u001b[A"
     ]
    },
    {
     "name": "stdout",
     "output_type": "stream",
     "text": [
      "Epoch 12, loss: 2798571.348009\n"
     ]
    },
    {
     "name": "stderr",
     "output_type": "stream",
     "text": [
      "\n",
      "100%|████████████████████████████████████████████████████| 30/30 [00:00<00:00, 98.82it/s]\u001b[A\n",
      " 14%|███████▏                                           | 14/100 [00:04<00:26,  3.28it/s]\n",
      "  0%|                                                             | 0/30 [00:00<?, ?it/s]\u001b[A\n",
      " 40%|████████████████████▍                              | 12/30 [00:00<00:00, 111.26it/s]\u001b[A"
     ]
    },
    {
     "name": "stdout",
     "output_type": "stream",
     "text": [
      "Epoch 13, loss: 2858435.462212\n"
     ]
    },
    {
     "name": "stderr",
     "output_type": "stream",
     "text": [
      "\n",
      "100%|███████████████████████████████████████████████████| 30/30 [00:00<00:00, 100.13it/s]\u001b[A\n",
      " 15%|███████▋                                           | 15/100 [00:04<00:25,  3.29it/s]\n",
      "  0%|                                                             | 0/30 [00:00<?, ?it/s]\u001b[A\n",
      " 33%|█████████████████▎                                  | 10/30 [00:00<00:00, 96.28it/s]\u001b[A"
     ]
    },
    {
     "name": "stdout",
     "output_type": "stream",
     "text": [
      "Epoch 14, loss: 2742523.390849\n"
     ]
    },
    {
     "name": "stderr",
     "output_type": "stream",
     "text": [
      "\n",
      "100%|████████████████████████████████████████████████████| 30/30 [00:00<00:00, 97.53it/s]\u001b[A\n",
      " 16%|████████▏                                          | 16/100 [00:04<00:25,  3.26it/s]\n",
      "  0%|                                                             | 0/30 [00:00<?, ?it/s]\u001b[A\n",
      " 40%|████████████████████▍                              | 12/30 [00:00<00:00, 115.54it/s]\u001b[A"
     ]
    },
    {
     "name": "stdout",
     "output_type": "stream",
     "text": [
      "Epoch 15, loss: 2592231.707539\n"
     ]
    },
    {
     "name": "stderr",
     "output_type": "stream",
     "text": [
      "\n",
      "100%|███████████████████████████████████████████████████| 30/30 [00:00<00:00, 102.88it/s]\u001b[A\n",
      " 17%|████████▋                                          | 17/100 [00:05<00:25,  3.30it/s]\n",
      "  0%|                                                             | 0/30 [00:00<?, ?it/s]\u001b[A\n",
      " 40%|████████████████████▍                              | 12/30 [00:00<00:00, 111.26it/s]\u001b[A"
     ]
    },
    {
     "name": "stdout",
     "output_type": "stream",
     "text": [
      "Epoch 16, loss: 2735569.294080\n"
     ]
    },
    {
     "name": "stderr",
     "output_type": "stream",
     "text": [
      "\n",
      "100%|███████████████████████████████████████████████████| 30/30 [00:00<00:00, 100.13it/s]\u001b[A\n",
      " 18%|█████████▏                                         | 18/100 [00:05<00:24,  3.30it/s]\n",
      "  0%|                                                             | 0/30 [00:00<?, ?it/s]\u001b[A\n",
      " 37%|██████████████████▋                                | 11/30 [00:00<00:00, 105.91it/s]\u001b[A"
     ]
    },
    {
     "name": "stdout",
     "output_type": "stream",
     "text": [
      "Epoch 17, loss: 2779135.864841\n"
     ]
    },
    {
     "name": "stderr",
     "output_type": "stream",
     "text": [
      "\n",
      "100%|███████████████████████████████████████████████████| 30/30 [00:00<00:00, 100.13it/s]\u001b[A\n",
      " 19%|█████████▋                                         | 19/100 [00:05<00:24,  3.30it/s]\n",
      "  0%|                                                             | 0/30 [00:00<?, ?it/s]\u001b[A\n",
      " 37%|███████████████████                                 | 11/30 [00:00<00:00, 98.34it/s]\u001b[A"
     ]
    },
    {
     "name": "stdout",
     "output_type": "stream",
     "text": [
      "Epoch 18, loss: 2673503.733566\n"
     ]
    },
    {
     "name": "stderr",
     "output_type": "stream",
     "text": [
      "\n",
      "100%|████████████████████████████████████████████████████| 30/30 [00:00<00:00, 98.82it/s]\u001b[A\n",
      " 20%|██████████▏                                        | 20/100 [00:06<00:24,  3.28it/s]\n",
      "  0%|                                                             | 0/30 [00:00<?, ?it/s]\u001b[A\n",
      " 33%|█████████████████▎                                  | 10/30 [00:00<00:00, 92.72it/s]\u001b[A"
     ]
    },
    {
     "name": "stdout",
     "output_type": "stream",
     "text": [
      "Epoch 19, loss: 2661575.327262\n"
     ]
    },
    {
     "name": "stderr",
     "output_type": "stream",
     "text": [
      "\n",
      "100%|████████████████████████████████████████████████████| 30/30 [00:00<00:00, 97.53it/s]\u001b[A\n",
      " 21%|██████████▋                                        | 21/100 [00:06<00:24,  3.26it/s]\n",
      "  0%|                                                             | 0/30 [00:00<?, ?it/s]\u001b[A\n",
      " 37%|██████████████████▋                                | 11/30 [00:00<00:00, 101.98it/s]\u001b[A"
     ]
    },
    {
     "name": "stdout",
     "output_type": "stream",
     "text": [
      "Epoch 20, loss: 2741785.252642\n"
     ]
    },
    {
     "name": "stderr",
     "output_type": "stream",
     "text": [
      "\n",
      "100%|███████████████████████████████████████████████████| 30/30 [00:00<00:00, 101.47it/s]\u001b[A\n",
      " 22%|███████████▏                                       | 22/100 [00:06<00:23,  3.28it/s]\n",
      "  0%|                                                             | 0/30 [00:00<?, ?it/s]\u001b[A\n",
      " 33%|█████████████████▎                                  | 10/30 [00:00<00:00, 96.28it/s]\u001b[A"
     ]
    },
    {
     "name": "stdout",
     "output_type": "stream",
     "text": [
      "Epoch 21, loss: 2924021.935671\n"
     ]
    },
    {
     "name": "stderr",
     "output_type": "stream",
     "text": [
      "\n",
      "100%|████████████████████████████████████████████████████| 30/30 [00:00<00:00, 98.82it/s]\u001b[A\n",
      " 23%|███████████▋                                       | 23/100 [00:07<00:23,  3.26it/s]\n",
      "  0%|                                                             | 0/30 [00:00<?, ?it/s]\u001b[A\n",
      " 40%|████████████████████▍                              | 12/30 [00:00<00:00, 111.21it/s]\u001b[A"
     ]
    },
    {
     "name": "stdout",
     "output_type": "stream",
     "text": [
      "Epoch 22, loss: 2761359.750179\n"
     ]
    },
    {
     "name": "stderr",
     "output_type": "stream",
     "text": [
      "\n",
      "100%|███████████████████████████████████████████████████| 30/30 [00:00<00:00, 102.87it/s]\u001b[A\n",
      " 24%|████████████▏                                      | 24/100 [00:07<00:23,  3.30it/s]\n",
      "  0%|                                                             | 0/30 [00:00<?, ?it/s]\u001b[A\n",
      " 33%|█████████████████▎                                  | 10/30 [00:00<00:00, 96.28it/s]\u001b[A"
     ]
    },
    {
     "name": "stdout",
     "output_type": "stream",
     "text": [
      "Epoch 23, loss: 2568096.414704\n"
     ]
    },
    {
     "name": "stderr",
     "output_type": "stream",
     "text": [
      "\n",
      "100%|████████████████████████████████████████████████████| 30/30 [00:00<00:00, 96.28it/s]\u001b[A\n",
      " 25%|████████████▊                                      | 25/100 [00:07<00:23,  3.26it/s]\n",
      "  0%|                                                             | 0/30 [00:00<?, ?it/s]\u001b[A\n",
      " 40%|████████████████████▍                              | 12/30 [00:00<00:00, 115.54it/s]\u001b[A"
     ]
    },
    {
     "name": "stdout",
     "output_type": "stream",
     "text": [
      "Epoch 24, loss: 2636984.195622\n"
     ]
    },
    {
     "name": "stderr",
     "output_type": "stream",
     "text": [
      "\n",
      "100%|███████████████████████████████████████████████████| 30/30 [00:00<00:00, 100.13it/s]\u001b[A\n",
      " 26%|█████████████▎                                     | 26/100 [00:07<00:22,  3.27it/s]\n",
      "  0%|                                                             | 0/30 [00:00<?, ?it/s]\u001b[A\n",
      " 33%|█████████████████▎                                  | 10/30 [00:00<00:00, 96.28it/s]\u001b[A"
     ]
    },
    {
     "name": "stdout",
     "output_type": "stream",
     "text": [
      "Epoch 25, loss: 2863847.754446\n"
     ]
    },
    {
     "name": "stderr",
     "output_type": "stream",
     "text": [
      "\n",
      " 70%|████████████████████████████████████▍               | 21/30 [00:00<00:00, 97.93it/s]\u001b[A\n",
      "100%|████████████████████████████████████████████████████| 30/30 [00:00<00:00, 92.71it/s]\u001b[A\n",
      " 27%|█████████████▊                                     | 27/100 [00:08<00:22,  3.19it/s]\n",
      "  0%|                                                             | 0/30 [00:00<?, ?it/s]\u001b[A\n",
      " 23%|████████████▎                                        | 7/30 [00:00<00:00, 67.40it/s]\u001b[A"
     ]
    },
    {
     "name": "stdout",
     "output_type": "stream",
     "text": [
      "Epoch 26, loss: 2684734.591173\n"
     ]
    },
    {
     "name": "stderr",
     "output_type": "stream",
     "text": [
      "\n",
      " 47%|████████████████████████▎                           | 14/30 [00:00<00:00, 67.40it/s]\u001b[A\n",
      "100%|████████████████████████████████████████████████████| 30/30 [00:00<00:00, 75.86it/s]\u001b[A\n",
      " 28%|██████████████▎                                    | 28/100 [00:08<00:24,  2.94it/s]\n",
      "  0%|                                                             | 0/30 [00:00<?, ?it/s]\u001b[A\n",
      " 37%|██████████████████▋                                | 11/30 [00:00<00:00, 101.99it/s]\u001b[A"
     ]
    },
    {
     "name": "stdout",
     "output_type": "stream",
     "text": [
      "Epoch 27, loss: 2592056.024480\n"
     ]
    },
    {
     "name": "stderr",
     "output_type": "stream",
     "text": [
      "\n",
      "100%|████████████████████████████████████████████████████| 30/30 [00:00<00:00, 96.28it/s]\u001b[A\n",
      " 29%|██████████████▊                                    | 29/100 [00:09<00:23,  2.99it/s]\n",
      "  0%|                                                             | 0/30 [00:00<?, ?it/s]\u001b[A\n",
      " 30%|███████████████▉                                     | 9/30 [00:00<00:00, 86.65it/s]\u001b[A"
     ]
    },
    {
     "name": "stdout",
     "output_type": "stream",
     "text": [
      "Epoch 28, loss: 2613722.021249\n"
     ]
    },
    {
     "name": "stderr",
     "output_type": "stream",
     "text": [
      "\n",
      " 63%|████████████████████████████████▉                   | 19/30 [00:00<00:00, 89.33it/s]\u001b[A\n",
      "100%|████████████████████████████████████████████████████| 30/30 [00:00<00:00, 89.40it/s]\u001b[A\n",
      " 30%|███████████████▎                                   | 30/100 [00:09<00:23,  2.99it/s]\n",
      "  0%|                                                             | 0/30 [00:00<?, ?it/s]\u001b[A\n",
      " 33%|█████████████████▎                                  | 10/30 [00:00<00:00, 89.40it/s]\u001b[A"
     ]
    },
    {
     "name": "stdout",
     "output_type": "stream",
     "text": [
      "Epoch 29, loss: 2627869.793625\n"
     ]
    },
    {
     "name": "stderr",
     "output_type": "stream",
     "text": [
      "\n",
      " 70%|████████████████████████████████████▍               | 21/30 [00:00<00:00, 91.91it/s]\u001b[A\n",
      "100%|████████████████████████████████████████████████████| 30/30 [00:00<00:00, 90.48it/s]\u001b[A\n",
      " 31%|███████████████▊                                   | 31/100 [00:09<00:23,  2.99it/s]\n",
      "  0%|                                                             | 0/30 [00:00<?, ?it/s]\u001b[A\n",
      " 33%|█████████████████▎                                  | 10/30 [00:00<00:00, 92.72it/s]\u001b[A"
     ]
    },
    {
     "name": "stdout",
     "output_type": "stream",
     "text": [
      "Epoch 30, loss: 2608842.467200\n"
     ]
    },
    {
     "name": "stderr",
     "output_type": "stream",
     "text": [
      "\n",
      " 67%|██████████████████████████████████▋                 | 20/30 [00:00<00:00, 93.76it/s]\u001b[A\n",
      "100%|████████████████████████████████████████████████████| 30/30 [00:00<00:00, 90.48it/s]\u001b[A\n",
      " 32%|████████████████▎                                  | 32/100 [00:10<00:22,  2.99it/s]\n",
      "  0%|                                                             | 0/30 [00:00<?, ?it/s]\u001b[A\n",
      " 30%|███████████████▉                                     | 9/30 [00:00<00:00, 86.65it/s]\u001b[A"
     ]
    },
    {
     "name": "stdout",
     "output_type": "stream",
     "text": [
      "Epoch 31, loss: 2681997.475863\n"
     ]
    },
    {
     "name": "stderr",
     "output_type": "stream",
     "text": [
      "\n",
      " 63%|████████████████████████████████▉                   | 19/30 [00:00<00:00, 89.33it/s]\u001b[A\n",
      "100%|████████████████████████████████████████████████████| 30/30 [00:00<00:00, 90.48it/s]\u001b[A\n",
      " 33%|████████████████▊                                  | 33/100 [00:10<00:22,  2.98it/s]\n",
      "  0%|                                                             | 0/30 [00:00<?, ?it/s]\u001b[A\n",
      " 30%|███████████████▉                                     | 9/30 [00:00<00:00, 86.68it/s]\u001b[A"
     ]
    },
    {
     "name": "stdout",
     "output_type": "stream",
     "text": [
      "Epoch 32, loss: 2746739.163843\n"
     ]
    },
    {
     "name": "stderr",
     "output_type": "stream",
     "text": [
      "\n",
      " 63%|████████████████████████████████▉                   | 19/30 [00:00<00:00, 89.36it/s]\u001b[A\n",
      "100%|████████████████████████████████████████████████████| 30/30 [00:00<00:00, 90.48it/s]\u001b[A\n",
      " 34%|█████████████████▎                                 | 34/100 [00:10<00:22,  2.98it/s]\n",
      "  0%|                                                             | 0/30 [00:00<?, ?it/s]\u001b[A\n",
      " 30%|███████████████▉                                     | 9/30 [00:00<00:00, 80.45it/s]\u001b[A"
     ]
    },
    {
     "name": "stdout",
     "output_type": "stream",
     "text": [
      "Epoch 33, loss: 2749822.859552\n"
     ]
    },
    {
     "name": "stderr",
     "output_type": "stream",
     "text": [
      "\n",
      " 60%|███████████████████████████████▏                    | 18/30 [00:00<00:00, 82.22it/s]\u001b[A\n",
      "100%|████████████████████████████████████████████████████| 30/30 [00:00<00:00, 90.58it/s]\u001b[A\n",
      " 35%|█████████████████▊                                 | 35/100 [00:11<00:21,  2.99it/s]\n",
      "  0%|                                                             | 0/30 [00:00<?, ?it/s]\u001b[A\n",
      " 30%|███████████████▉                                     | 9/30 [00:00<00:00, 83.43it/s]\u001b[A"
     ]
    },
    {
     "name": "stdout",
     "output_type": "stream",
     "text": [
      "Epoch 34, loss: 2871937.969392\n"
     ]
    },
    {
     "name": "stderr",
     "output_type": "stream",
     "text": [
      "\n",
      " 60%|███████████████████████████████▏                    | 18/30 [00:00<00:00, 83.43it/s]\u001b[A\n",
      "100%|████████████████████████████████████████████████████| 30/30 [00:00<00:00, 84.38it/s]\u001b[A\n",
      " 36%|██████████████████▎                                | 36/100 [00:11<00:21,  2.93it/s]\n",
      "  0%|                                                             | 0/30 [00:00<?, ?it/s]\u001b[A\n",
      " 30%|███████████████▉                                     | 9/30 [00:00<00:00, 83.41it/s]\u001b[A"
     ]
    },
    {
     "name": "stdout",
     "output_type": "stream",
     "text": [
      "Epoch 35, loss: 2745880.582865\n"
     ]
    },
    {
     "name": "stderr",
     "output_type": "stream",
     "text": [
      "\n",
      " 60%|███████████████████████████████▏                    | 18/30 [00:00<00:00, 84.36it/s]\u001b[A\n",
      "100%|████████████████████████████████████████████████████| 30/30 [00:00<00:00, 86.32it/s]\u001b[A\n",
      " 37%|██████████████████▊                                | 37/100 [00:11<00:21,  2.90it/s]\n",
      "  0%|                                                             | 0/30 [00:00<?, ?it/s]\u001b[A\n",
      " 30%|███████████████▉                                     | 9/30 [00:00<00:00, 83.45it/s]\u001b[A"
     ]
    },
    {
     "name": "stdout",
     "output_type": "stream",
     "text": [
      "Epoch 36, loss: 2815533.920862\n"
     ]
    },
    {
     "name": "stderr",
     "output_type": "stream",
     "text": [
      "\n",
      " 60%|███████████████████████████████▏                    | 18/30 [00:00<00:00, 81.63it/s]\u001b[A\n",
      "100%|████████████████████████████████████████████████████| 30/30 [00:00<00:00, 80.75it/s]\u001b[A\n",
      " 38%|███████████████████▍                               | 38/100 [00:12<00:21,  2.83it/s]\n",
      "  0%|                                                             | 0/30 [00:00<?, ?it/s]\u001b[A\n",
      " 27%|██████████████▏                                      | 8/30 [00:00<00:00, 77.03it/s]\u001b[A"
     ]
    },
    {
     "name": "stdout",
     "output_type": "stream",
     "text": [
      "Epoch 37, loss: 2776896.423544\n"
     ]
    },
    {
     "name": "stderr",
     "output_type": "stream",
     "text": [
      "\n",
      " 53%|███████████████████████████▋                        | 16/30 [00:00<00:00, 75.29it/s]\u001b[A\n",
      "100%|████████████████████████████████████████████████████| 30/30 [00:00<00:00, 75.86it/s]\u001b[A\n",
      " 39%|███████████████████▉                               | 39/100 [00:12<00:22,  2.72it/s]\n",
      "  0%|                                                             | 0/30 [00:00<?, ?it/s]\u001b[A\n",
      " 27%|██████████████▏                                      | 8/30 [00:00<00:00, 77.03it/s]\u001b[A"
     ]
    },
    {
     "name": "stdout",
     "output_type": "stream",
     "text": [
      "Epoch 38, loss: 2813343.617708\n"
     ]
    },
    {
     "name": "stderr",
     "output_type": "stream",
     "text": [
      "\n",
      " 53%|███████████████████████████▋                        | 16/30 [00:00<00:00, 77.03it/s]\u001b[A\n",
      "100%|████████████████████████████████████████████████████| 30/30 [00:00<00:00, 75.86it/s]\u001b[A\n",
      " 40%|████████████████████▍                              | 40/100 [00:12<00:22,  2.64it/s]\n",
      "  0%|                                                             | 0/30 [00:00<?, ?it/s]\u001b[A\n",
      " 27%|██████████████▏                                      | 8/30 [00:00<00:00, 77.00it/s]\u001b[A"
     ]
    },
    {
     "name": "stdout",
     "output_type": "stream",
     "text": [
      "Epoch 39, loss: 2740042.464650\n"
     ]
    },
    {
     "name": "stderr",
     "output_type": "stream",
     "text": [
      "\n",
      " 57%|█████████████████████████████▍                      | 17/30 [00:00<00:00, 78.02it/s]\u001b[A\n",
      "100%|████████████████████████████████████████████████████| 30/30 [00:00<00:00, 80.75it/s]\u001b[A\n",
      " 41%|████████████████████▉                              | 41/100 [00:13<00:22,  2.65it/s]\n",
      "  0%|                                                             | 0/30 [00:00<?, ?it/s]\u001b[A\n",
      " 30%|███████████████▉                                     | 9/30 [00:00<00:00, 80.46it/s]\u001b[A"
     ]
    },
    {
     "name": "stdout",
     "output_type": "stream",
     "text": [
      "Epoch 40, loss: 2742335.964792\n"
     ]
    },
    {
     "name": "stderr",
     "output_type": "stream",
     "text": [
      "\n",
      " 63%|████████████████████████████████▉                   | 19/30 [00:00<00:00, 83.79it/s]\u001b[A\n",
      "100%|████████████████████████████████████████████████████| 30/30 [00:00<00:00, 87.32it/s]\u001b[A\n",
      " 42%|█████████████████████▍                             | 42/100 [00:13<00:21,  2.70it/s]\n",
      "  0%|                                                             | 0/30 [00:00<?, ?it/s]\u001b[A\n",
      " 30%|███████████████▉                                     | 9/30 [00:00<00:00, 80.45it/s]\u001b[A"
     ]
    },
    {
     "name": "stdout",
     "output_type": "stream",
     "text": [
      "Epoch 41, loss: 2692708.089197\n"
     ]
    },
    {
     "name": "stderr",
     "output_type": "stream",
     "text": [
      "\n",
      " 57%|█████████████████████████████▍                      | 17/30 [00:00<00:00, 78.46it/s]\u001b[A\n",
      "100%|████████████████████████████████████████████████████| 30/30 [00:00<00:00, 78.23it/s]\u001b[A\n",
      " 43%|█████████████████████▉                             | 43/100 [00:14<00:21,  2.67it/s]\n",
      "  0%|                                                             | 0/30 [00:00<?, ?it/s]\u001b[A\n",
      " 27%|██████████████▏                                      | 8/30 [00:00<00:00, 77.02it/s]\u001b[A"
     ]
    },
    {
     "name": "stdout",
     "output_type": "stream",
     "text": [
      "Epoch 42, loss: 2971414.375461\n"
     ]
    },
    {
     "name": "stderr",
     "output_type": "stream",
     "text": [
      "\n",
      " 57%|█████████████████████████████▍                      | 17/30 [00:00<00:00, 78.02it/s]\u001b[A\n",
      "100%|████████████████████████████████████████████████████| 30/30 [00:00<00:00, 80.75it/s]\u001b[A\n",
      " 44%|██████████████████████▍                            | 44/100 [00:14<00:20,  2.67it/s]\n",
      "  0%|                                                             | 0/30 [00:00<?, ?it/s]\u001b[A\n",
      " 33%|█████████████████▎                                  | 10/30 [00:00<00:00, 92.68it/s]\u001b[A"
     ]
    },
    {
     "name": "stdout",
     "output_type": "stream",
     "text": [
      "Epoch 43, loss: 2625050.242868\n"
     ]
    },
    {
     "name": "stderr",
     "output_type": "stream",
     "text": [
      "\n",
      " 67%|██████████████████████████████████▋                 | 20/30 [00:00<00:00, 92.70it/s]\u001b[A\n",
      "100%|████████████████████████████████████████████████████| 30/30 [00:00<00:00, 89.41it/s]\u001b[A\n",
      " 45%|██████████████████████▉                            | 45/100 [00:14<00:20,  2.74it/s]\n",
      "  0%|                                                             | 0/30 [00:00<?, ?it/s]\u001b[A\n",
      " 33%|█████████████████▎                                  | 10/30 [00:00<00:00, 96.28it/s]\u001b[A"
     ]
    },
    {
     "name": "stdout",
     "output_type": "stream",
     "text": [
      "Epoch 44, loss: 2950317.646907\n"
     ]
    },
    {
     "name": "stderr",
     "output_type": "stream",
     "text": [
      "\n",
      "100%|████████████████████████████████████████████████████| 30/30 [00:00<00:00, 96.27it/s]\u001b[A\n",
      " 46%|███████████████████████▍                           | 46/100 [00:15<00:18,  2.86it/s]\n",
      "  0%|                                                             | 0/30 [00:00<?, ?it/s]\u001b[A\n",
      " 33%|█████████████████▎                                  | 10/30 [00:00<00:00, 96.25it/s]\u001b[A"
     ]
    },
    {
     "name": "stdout",
     "output_type": "stream",
     "text": [
      "Epoch 45, loss: 2661128.180615\n"
     ]
    },
    {
     "name": "stderr",
     "output_type": "stream",
     "text": [
      "\n",
      " 67%|██████████████████████████████████▋                 | 20/30 [00:00<00:00, 96.26it/s]\u001b[A\n",
      "100%|████████████████████████████████████████████████████| 30/30 [00:00<00:00, 95.06it/s]\u001b[A\n",
      " 47%|███████████████████████▉                           | 47/100 [00:15<00:18,  2.94it/s]\n",
      "  0%|                                                             | 0/30 [00:00<?, ?it/s]\u001b[A\n",
      " 33%|█████████████████▎                                  | 10/30 [00:00<00:00, 96.25it/s]\u001b[A"
     ]
    },
    {
     "name": "stdout",
     "output_type": "stream",
     "text": [
      "Epoch 46, loss: 2828836.940427\n"
     ]
    },
    {
     "name": "stderr",
     "output_type": "stream",
     "text": [
      "\n",
      "100%|███████████████████████████████████████████████████| 30/30 [00:00<00:00, 100.13it/s]\u001b[A\n",
      " 48%|████████████████████████▍                          | 48/100 [00:15<00:17,  3.03it/s]\n",
      "  0%|                                                             | 0/30 [00:00<?, ?it/s]\u001b[A\n",
      " 33%|█████████████████▎                                  | 10/30 [00:00<00:00, 96.28it/s]\u001b[A"
     ]
    },
    {
     "name": "stdout",
     "output_type": "stream",
     "text": [
      "Epoch 47, loss: 2841977.293998\n"
     ]
    },
    {
     "name": "stderr",
     "output_type": "stream",
     "text": [
      "\n",
      " 67%|██████████████████████████████████▋                 | 20/30 [00:00<00:00, 94.11it/s]\u001b[A\n",
      "100%|████████████████████████████████████████████████████| 30/30 [00:00<00:00, 90.47it/s]\u001b[A\n",
      " 49%|████████████████████████▉                          | 49/100 [00:16<00:16,  3.02it/s]\n",
      "  0%|                                                             | 0/30 [00:00<?, ?it/s]\u001b[A\n",
      " 33%|█████████████████▎                                  | 10/30 [00:00<00:00, 96.24it/s]\u001b[A"
     ]
    },
    {
     "name": "stdout",
     "output_type": "stream",
     "text": [
      "Epoch 48, loss: 2750101.846779\n"
     ]
    },
    {
     "name": "stderr",
     "output_type": "stream",
     "text": [
      "\n",
      " 67%|██████████████████████████████████▋                 | 20/30 [00:00<00:00, 95.17it/s]\u001b[A\n",
      "100%|████████████████████████████████████████████████████| 30/30 [00:00<00:00, 91.59it/s]\u001b[A\n",
      " 50%|█████████████████████████▌                         | 50/100 [00:16<00:16,  3.01it/s]\n",
      "  0%|                                                             | 0/30 [00:00<?, ?it/s]\u001b[A\n",
      " 33%|█████████████████▎                                  | 10/30 [00:00<00:00, 96.28it/s]\u001b[A"
     ]
    },
    {
     "name": "stdout",
     "output_type": "stream",
     "text": [
      "Epoch 49, loss: 2517554.085708\n"
     ]
    },
    {
     "name": "stderr",
     "output_type": "stream",
     "text": [
      "\n",
      " 67%|██████████████████████████████████▋                 | 20/30 [00:00<00:00, 94.11it/s]\u001b[A\n",
      "100%|████████████████████████████████████████████████████| 30/30 [00:00<00:00, 91.59it/s]\u001b[A\n",
      " 51%|██████████████████████████                         | 51/100 [00:16<00:16,  3.02it/s]\n",
      "  0%|                                                             | 0/30 [00:00<?, ?it/s]\u001b[A\n",
      " 37%|██████████████████▋                                | 11/30 [00:00<00:00, 105.91it/s]\u001b[A"
     ]
    },
    {
     "name": "stdout",
     "output_type": "stream",
     "text": [
      "Epoch 50, loss: 2688462.715378\n"
     ]
    },
    {
     "name": "stderr",
     "output_type": "stream",
     "text": [
      "\n",
      "100%|████████████████████████████████████████████████████| 30/30 [00:00<00:00, 98.80it/s]\u001b[A\n",
      " 52%|██████████████████████████▌                        | 52/100 [00:16<00:15,  3.09it/s]\n",
      "  0%|                                                             | 0/30 [00:00<?, ?it/s]\u001b[A\n",
      " 33%|█████████████████▎                                  | 10/30 [00:00<00:00, 96.28it/s]\u001b[A"
     ]
    },
    {
     "name": "stdout",
     "output_type": "stream",
     "text": [
      "Epoch 51, loss: 2726518.106929\n"
     ]
    },
    {
     "name": "stderr",
     "output_type": "stream",
     "text": [
      "\n",
      " 67%|██████████████████████████████████▋                 | 20/30 [00:00<00:00, 96.28it/s]\u001b[A\n",
      "100%|████████████████████████████████████████████████████| 30/30 [00:00<00:00, 93.87it/s]\u001b[A\n",
      " 53%|███████████████████████████                        | 53/100 [00:17<00:15,  3.09it/s]\n",
      "  0%|                                                             | 0/30 [00:00<?, ?it/s]\u001b[A\n",
      " 37%|██████████████████▋                                | 11/30 [00:00<00:00, 101.99it/s]\u001b[A"
     ]
    },
    {
     "name": "stdout",
     "output_type": "stream",
     "text": [
      "Epoch 52, loss: 2906758.005374\n"
     ]
    },
    {
     "name": "stderr",
     "output_type": "stream",
     "text": [
      "\n",
      " 70%|███████████████████████████████████▋               | 21/30 [00:00<00:00, 100.21it/s]\u001b[A\n",
      "100%|████████████████████████████████████████████████████| 30/30 [00:00<00:00, 93.88it/s]\u001b[A\n",
      " 54%|███████████████████████████▌                       | 54/100 [00:17<00:14,  3.09it/s]\n",
      "  0%|                                                             | 0/30 [00:00<?, ?it/s]\u001b[A\n",
      " 30%|███████████████▉                                     | 9/30 [00:00<00:00, 86.65it/s]\u001b[A"
     ]
    },
    {
     "name": "stdout",
     "output_type": "stream",
     "text": [
      "Epoch 53, loss: 2846348.345063\n"
     ]
    },
    {
     "name": "stderr",
     "output_type": "stream",
     "text": [
      "\n",
      " 60%|███████████████████████████████▏                    | 18/30 [00:00<00:00, 86.65it/s]\u001b[A\n",
      "100%|████████████████████████████████████████████████████| 30/30 [00:00<00:00, 86.32it/s]\u001b[A\n",
      " 55%|████████████████████████████                       | 55/100 [00:17<00:14,  3.00it/s]\n",
      "  0%|                                                             | 0/30 [00:00<?, ?it/s]\u001b[A\n",
      " 30%|███████████████▉                                     | 9/30 [00:00<00:00, 80.46it/s]\u001b[A"
     ]
    },
    {
     "name": "stdout",
     "output_type": "stream",
     "text": [
      "Epoch 54, loss: 2770198.732057\n"
     ]
    },
    {
     "name": "stderr",
     "output_type": "stream",
     "text": [
      "\n",
      " 63%|████████████████████████████████▉                   | 19/30 [00:00<00:00, 84.63it/s]\u001b[A\n",
      "100%|████████████████████████████████████████████████████| 30/30 [00:00<00:00, 91.59it/s]\u001b[A\n",
      " 56%|████████████████████████████▌                      | 56/100 [00:18<00:14,  3.00it/s]\n",
      "  0%|                                                             | 0/30 [00:00<?, ?it/s]\u001b[A\n",
      " 30%|███████████████▉                                     | 9/30 [00:00<00:00, 86.64it/s]\u001b[A"
     ]
    },
    {
     "name": "stdout",
     "output_type": "stream",
     "text": [
      "Epoch 55, loss: 2863814.889430\n"
     ]
    },
    {
     "name": "stderr",
     "output_type": "stream",
     "text": [
      "\n",
      " 60%|███████████████████████████████▏                    | 18/30 [00:00<00:00, 86.65it/s]\u001b[A\n",
      "100%|████████████████████████████████████████████████████| 30/30 [00:00<00:00, 89.40it/s]\u001b[A\n",
      " 57%|█████████████████████████████                      | 57/100 [00:18<00:14,  2.98it/s]\n",
      "  0%|                                                             | 0/30 [00:00<?, ?it/s]\u001b[A\n",
      " 30%|███████████████▉                                     | 9/30 [00:00<00:00, 86.62it/s]\u001b[A"
     ]
    },
    {
     "name": "stdout",
     "output_type": "stream",
     "text": [
      "Epoch 56, loss: 2914358.656179\n"
     ]
    },
    {
     "name": "stderr",
     "output_type": "stream",
     "text": [
      "\n",
      " 63%|████████████████████████████████▉                   | 19/30 [00:00<00:00, 89.32it/s]\u001b[A\n",
      "100%|████████████████████████████████████████████████████| 30/30 [00:00<00:00, 89.41it/s]\u001b[A\n",
      " 58%|█████████████████████████████▌                     | 58/100 [00:18<00:14,  2.98it/s]\n",
      "  0%|                                                             | 0/30 [00:00<?, ?it/s]\u001b[A\n",
      " 30%|███████████████▉                                     | 9/30 [00:00<00:00, 83.45it/s]\u001b[A"
     ]
    },
    {
     "name": "stdout",
     "output_type": "stream",
     "text": [
      "Epoch 57, loss: 2779503.252205\n"
     ]
    },
    {
     "name": "stderr",
     "output_type": "stream",
     "text": [
      "\n",
      " 60%|███████████████████████████████▏                    | 18/30 [00:00<00:00, 84.38it/s]\u001b[A\n",
      "100%|████████████████████████████████████████████████████| 30/30 [00:00<00:00, 85.34it/s]\u001b[A\n",
      " 59%|██████████████████████████████                     | 59/100 [00:19<00:14,  2.93it/s]\n",
      "  0%|                                                             | 0/30 [00:00<?, ?it/s]\u001b[A\n",
      " 37%|███████████████████                                 | 11/30 [00:00<00:00, 98.34it/s]\u001b[A"
     ]
    },
    {
     "name": "stdout",
     "output_type": "stream",
     "text": [
      "Epoch 58, loss: 2651754.868439\n"
     ]
    },
    {
     "name": "stderr",
     "output_type": "stream",
     "text": [
      "\n",
      "100%|████████████████████████████████████████████████████| 30/30 [00:00<00:00, 96.27it/s]\u001b[A\n",
      " 60%|██████████████████████████████▌                    | 60/100 [00:19<00:13,  2.99it/s]\n",
      "  0%|                                                             | 0/30 [00:00<?, ?it/s]\u001b[A\n",
      " 33%|█████████████████▎                                  | 10/30 [00:00<00:00, 96.28it/s]\u001b[A"
     ]
    },
    {
     "name": "stdout",
     "output_type": "stream",
     "text": [
      "Epoch 59, loss: 2888144.815125\n"
     ]
    },
    {
     "name": "stderr",
     "output_type": "stream",
     "text": [
      "\n",
      "100%|████████████████████████████████████████████████████| 30/30 [00:00<00:00, 97.52it/s]\u001b[A\n",
      " 61%|███████████████████████████████                    | 61/100 [00:19<00:12,  3.06it/s]\n",
      "  0%|                                                             | 0/30 [00:00<?, ?it/s]\u001b[A\n",
      " 37%|██████████████████▋                                | 11/30 [00:00<00:00, 101.95it/s]\u001b[A"
     ]
    },
    {
     "name": "stdout",
     "output_type": "stream",
     "text": [
      "Epoch 60, loss: 2704212.036035\n"
     ]
    },
    {
     "name": "stderr",
     "output_type": "stream",
     "text": [
      "\n",
      "100%|███████████████████████████████████████████████████| 30/30 [00:00<00:00, 101.49it/s]\u001b[A\n",
      " 62%|███████████████████████████████▌                   | 62/100 [00:20<00:12,  3.14it/s]\n",
      "  0%|                                                             | 0/30 [00:00<?, ?it/s]\u001b[A\n",
      " 33%|█████████████████▎                                  | 10/30 [00:00<00:00, 96.28it/s]\u001b[A"
     ]
    },
    {
     "name": "stdout",
     "output_type": "stream",
     "text": [
      "Epoch 61, loss: 2565256.258454\n"
     ]
    },
    {
     "name": "stderr",
     "output_type": "stream",
     "text": [
      "\n",
      " 67%|██████████████████████████████████▋                 | 20/30 [00:00<00:00, 96.28it/s]\u001b[A\n",
      "100%|████████████████████████████████████████████████████| 30/30 [00:00<00:00, 93.88it/s]\u001b[A\n",
      " 63%|████████████████████████████████▏                  | 63/100 [00:20<00:11,  3.12it/s]\n",
      "  0%|                                                             | 0/30 [00:00<?, ?it/s]\u001b[A\n",
      " 33%|█████████████████▎                                  | 10/30 [00:00<00:00, 92.71it/s]\u001b[A"
     ]
    },
    {
     "name": "stdout",
     "output_type": "stream",
     "text": [
      "Epoch 62, loss: 2933961.382990\n"
     ]
    },
    {
     "name": "stderr",
     "output_type": "stream",
     "text": [
      "\n",
      "100%|████████████████████████████████████████████████████| 30/30 [00:00<00:00, 98.82it/s]\u001b[A\n",
      " 64%|████████████████████████████████▋                  | 64/100 [00:20<00:11,  3.16it/s]\n",
      "  0%|                                                             | 0/30 [00:00<?, ?it/s]\u001b[A\n",
      " 33%|█████████████████▎                                  | 10/30 [00:00<00:00, 92.72it/s]\u001b[A"
     ]
    },
    {
     "name": "stdout",
     "output_type": "stream",
     "text": [
      "Epoch 63, loss: 2813148.577430\n"
     ]
    },
    {
     "name": "stderr",
     "output_type": "stream",
     "text": [
      "\n",
      " 67%|██████████████████████████████████▋                 | 20/30 [00:00<00:00, 91.70it/s]\u001b[A\n",
      "100%|████████████████████████████████████████████████████| 30/30 [00:00<00:00, 85.33it/s]\u001b[A\n",
      " 65%|█████████████████████████████████▏                 | 65/100 [00:21<00:11,  3.06it/s]\n",
      "  0%|                                                             | 0/30 [00:00<?, ?it/s]\u001b[A\n",
      " 27%|██████████████▏                                      | 8/30 [00:00<00:00, 76.99it/s]\u001b[A"
     ]
    },
    {
     "name": "stdout",
     "output_type": "stream",
     "text": [
      "Epoch 64, loss: 2834403.514653\n"
     ]
    },
    {
     "name": "stderr",
     "output_type": "stream",
     "text": [
      "\n",
      " 53%|███████████████████████████▋                        | 16/30 [00:00<00:00, 77.01it/s]\u001b[A\n",
      "100%|████████████████████████████████████████████████████| 30/30 [00:00<00:00, 77.42it/s]\u001b[A\n",
      " 66%|█████████████████████████████████▋                 | 66/100 [00:21<00:11,  2.88it/s]\n",
      "  0%|                                                             | 0/30 [00:00<?, ?it/s]\u001b[A\n",
      " 30%|███████████████▉                                     | 9/30 [00:00<00:00, 77.69it/s]\u001b[A"
     ]
    },
    {
     "name": "stdout",
     "output_type": "stream",
     "text": [
      "Epoch 65, loss: 2880036.556915\n"
     ]
    },
    {
     "name": "stderr",
     "output_type": "stream",
     "text": [
      "\n",
      " 60%|███████████████████████████████▏                    | 18/30 [00:00<00:00, 80.18it/s]\u001b[A\n",
      "100%|████████████████████████████████████████████████████| 30/30 [00:00<00:00, 85.34it/s]\u001b[A\n",
      " 67%|██████████████████████████████████▏                | 67/100 [00:22<00:11,  2.86it/s]\n",
      "  0%|                                                             | 0/30 [00:00<?, ?it/s]\u001b[A\n",
      " 30%|███████████████▉                                     | 9/30 [00:00<00:00, 83.44it/s]\u001b[A"
     ]
    },
    {
     "name": "stdout",
     "output_type": "stream",
     "text": [
      "Epoch 66, loss: 2631362.905518\n"
     ]
    },
    {
     "name": "stderr",
     "output_type": "stream",
     "text": [
      "\n",
      " 67%|██████████████████████████████████▋                 | 20/30 [00:00<00:00, 88.26it/s]\u001b[A\n",
      "100%|████████████████████████████████████████████████████| 30/30 [00:00<00:00, 91.58it/s]\u001b[A\n",
      " 68%|██████████████████████████████████▋                | 68/100 [00:22<00:11,  2.90it/s]\n",
      "  0%|                                                             | 0/30 [00:00<?, ?it/s]\u001b[A\n",
      " 33%|█████████████████▎                                  | 10/30 [00:00<00:00, 89.40it/s]\u001b[A"
     ]
    },
    {
     "name": "stdout",
     "output_type": "stream",
     "text": [
      "Epoch 67, loss: 2787412.451354\n"
     ]
    },
    {
     "name": "stderr",
     "output_type": "stream",
     "text": [
      "\n",
      "100%|████████████████████████████████████████████████████| 30/30 [00:00<00:00, 92.72it/s]\u001b[A\n",
      " 69%|███████████████████████████████████▏               | 69/100 [00:22<00:10,  2.95it/s]\n",
      "  0%|                                                             | 0/30 [00:00<?, ?it/s]\u001b[A\n",
      " 37%|██████████████████▋                                | 11/30 [00:00<00:00, 105.94it/s]\u001b[A"
     ]
    },
    {
     "name": "stdout",
     "output_type": "stream",
     "text": [
      "Epoch 68, loss: 2852546.898608\n"
     ]
    },
    {
     "name": "stderr",
     "output_type": "stream",
     "text": [
      "\n",
      "100%|███████████████████████████████████████████████████| 30/30 [00:00<00:00, 100.14it/s]\u001b[A\n",
      " 70%|███████████████████████████████████▋               | 70/100 [00:22<00:09,  3.04it/s]\n",
      "  0%|                                                             | 0/30 [00:00<?, ?it/s]\u001b[A\n",
      " 37%|██████████████████▋                                | 11/30 [00:00<00:00, 105.86it/s]\u001b[A"
     ]
    },
    {
     "name": "stdout",
     "output_type": "stream",
     "text": [
      "Epoch 69, loss: 2728596.513695\n"
     ]
    },
    {
     "name": "stderr",
     "output_type": "stream",
     "text": [
      "\n",
      "100%|███████████████████████████████████████████████████| 30/30 [00:00<00:00, 100.12it/s]\u001b[A\n",
      " 71%|████████████████████████████████████▏              | 71/100 [00:23<00:09,  3.11it/s]\n",
      "  0%|                                                             | 0/30 [00:00<?, ?it/s]\u001b[A\n",
      " 33%|█████████████████▎                                  | 10/30 [00:00<00:00, 96.28it/s]\u001b[A"
     ]
    },
    {
     "name": "stdout",
     "output_type": "stream",
     "text": [
      "Epoch 70, loss: 2895083.076498\n"
     ]
    },
    {
     "name": "stderr",
     "output_type": "stream",
     "text": [
      "\n",
      " 67%|██████████████████████████████████▋                 | 20/30 [00:00<00:00, 96.28it/s]\u001b[A\n",
      "100%|████████████████████████████████████████████████████| 30/30 [00:00<00:00, 92.70it/s]\u001b[A\n",
      " 72%|████████████████████████████████████▋              | 72/100 [00:23<00:09,  3.10it/s]\n",
      "  0%|                                                             | 0/30 [00:00<?, ?it/s]\u001b[A\n",
      " 33%|█████████████████▎                                  | 10/30 [00:00<00:00, 92.71it/s]\u001b[A"
     ]
    },
    {
     "name": "stdout",
     "output_type": "stream",
     "text": [
      "Epoch 71, loss: 2909459.137003\n"
     ]
    },
    {
     "name": "stderr",
     "output_type": "stream",
     "text": [
      "\n",
      "100%|████████████████████████████████████████████████████| 30/30 [00:00<00:00, 96.27it/s]\u001b[A\n",
      " 73%|█████████████████████████████████████▏             | 73/100 [00:23<00:08,  3.12it/s]\n",
      "  0%|                                                             | 0/30 [00:00<?, ?it/s]\u001b[A\n",
      " 37%|██████████████████▋                                | 11/30 [00:00<00:00, 101.99it/s]\u001b[A"
     ]
    },
    {
     "name": "stdout",
     "output_type": "stream",
     "text": [
      "Epoch 72, loss: 2771004.769183\n"
     ]
    },
    {
     "name": "stderr",
     "output_type": "stream",
     "text": [
      "\n",
      "100%|████████████████████████████████████████████████████| 30/30 [00:00<00:00, 98.82it/s]\u001b[A\n",
      " 74%|█████████████████████████████████████▋             | 74/100 [00:24<00:08,  3.16it/s]\n",
      "  0%|                                                             | 0/30 [00:00<?, ?it/s]\u001b[A\n",
      " 40%|████████████████████▍                              | 12/30 [00:00<00:00, 111.20it/s]\u001b[A"
     ]
    },
    {
     "name": "stdout",
     "output_type": "stream",
     "text": [
      "Epoch 73, loss: 2864576.047770\n"
     ]
    },
    {
     "name": "stderr",
     "output_type": "stream",
     "text": [
      "\n",
      "100%|███████████████████████████████████████████████████| 30/30 [00:00<00:00, 107.29it/s]\u001b[A\n",
      " 75%|██████████████████████████████████████▎            | 75/100 [00:24<00:07,  3.25it/s]\n",
      "  0%|                                                             | 0/30 [00:00<?, ?it/s]\u001b[A\n",
      " 40%|████████████████████▍                              | 12/30 [00:00<00:00, 107.28it/s]\u001b[A"
     ]
    },
    {
     "name": "stdout",
     "output_type": "stream",
     "text": [
      "Epoch 74, loss: 2905414.370428\n"
     ]
    },
    {
     "name": "stderr",
     "output_type": "stream",
     "text": [
      "\n",
      "100%|███████████████████████████████████████████████████| 30/30 [00:00<00:00, 102.87it/s]\u001b[A\n",
      " 76%|██████████████████████████████████████▊            | 76/100 [00:24<00:07,  3.29it/s]\n",
      "  0%|                                                             | 0/30 [00:00<?, ?it/s]\u001b[A\n",
      " 33%|█████████████████▎                                  | 10/30 [00:00<00:00, 96.26it/s]\u001b[A"
     ]
    },
    {
     "name": "stdout",
     "output_type": "stream",
     "text": [
      "Epoch 75, loss: 2910254.245362\n"
     ]
    },
    {
     "name": "stderr",
     "output_type": "stream",
     "text": [
      "\n",
      "100%|████████████████████████████████████████████████████| 30/30 [00:00<00:00, 98.82it/s]\u001b[A\n",
      " 77%|███████████████████████████████████████▎           | 77/100 [00:25<00:06,  3.29it/s]\n",
      "  0%|                                                             | 0/30 [00:00<?, ?it/s]\u001b[A\n",
      " 40%|████████████████████▍                              | 12/30 [00:00<00:00, 107.28it/s]\u001b[A"
     ]
    },
    {
     "name": "stdout",
     "output_type": "stream",
     "text": [
      "Epoch 76, loss: 2994375.176428\n"
     ]
    },
    {
     "name": "stderr",
     "output_type": "stream",
     "text": [
      "\n",
      "100%|███████████████████████████████████████████████████| 30/30 [00:00<00:00, 101.49it/s]\u001b[A\n",
      " 78%|███████████████████████████████████████▊           | 78/100 [00:25<00:06,  3.29it/s]\n",
      "  0%|                                                             | 0/30 [00:00<?, ?it/s]\u001b[A\n",
      " 33%|█████████████████▎                                  | 10/30 [00:00<00:00, 96.24it/s]\u001b[A"
     ]
    },
    {
     "name": "stdout",
     "output_type": "stream",
     "text": [
      "Epoch 77, loss: 2899484.402660\n"
     ]
    },
    {
     "name": "stderr",
     "output_type": "stream",
     "text": [
      "\n",
      "100%|████████████████████████████████████████████████████| 30/30 [00:00<00:00, 95.06it/s]\u001b[A\n",
      " 79%|████████████████████████████████████████▎          | 79/100 [00:25<00:06,  3.24it/s]\n",
      "  0%|                                                             | 0/30 [00:00<?, ?it/s]\u001b[A\n",
      " 37%|██████████████████▋                                | 11/30 [00:00<00:00, 105.91it/s]\u001b[A"
     ]
    },
    {
     "name": "stdout",
     "output_type": "stream",
     "text": [
      "Epoch 78, loss: 2925663.983242\n"
     ]
    },
    {
     "name": "stderr",
     "output_type": "stream",
     "text": [
      "\n",
      "100%|███████████████████████████████████████████████████| 30/30 [00:00<00:00, 100.13it/s]\u001b[A\n",
      " 80%|████████████████████████████████████████▊          | 80/100 [00:26<00:06,  3.26it/s]\n",
      "  0%|                                                             | 0/30 [00:00<?, ?it/s]\u001b[A\n",
      " 40%|████████████████████▍                              | 12/30 [00:00<00:00, 111.21it/s]\u001b[A"
     ]
    },
    {
     "name": "stdout",
     "output_type": "stream",
     "text": [
      "Epoch 79, loss: 2859078.843197\n"
     ]
    },
    {
     "name": "stderr",
     "output_type": "stream",
     "text": [
      "\n",
      "100%|███████████████████████████████████████████████████| 30/30 [00:00<00:00, 104.29it/s]\u001b[A\n",
      " 81%|█████████████████████████████████████████▎         | 81/100 [00:26<00:05,  3.31it/s]\n",
      "  0%|                                                             | 0/30 [00:00<?, ?it/s]\u001b[A\n",
      " 33%|█████████████████▎                                  | 10/30 [00:00<00:00, 89.40it/s]\u001b[A"
     ]
    },
    {
     "name": "stdout",
     "output_type": "stream",
     "text": [
      "Epoch 80, loss: 2786276.766350\n"
     ]
    },
    {
     "name": "stderr",
     "output_type": "stream",
     "text": [
      "\n",
      "100%|████████████████████████████████████████████████████| 30/30 [00:00<00:00, 96.28it/s]\u001b[A\n",
      " 82%|█████████████████████████████████████████▊         | 82/100 [00:26<00:05,  3.26it/s]\n",
      "  0%|                                                             | 0/30 [00:00<?, ?it/s]\u001b[A\n",
      " 37%|██████████████████▋                                | 11/30 [00:00<00:00, 102.02it/s]\u001b[A"
     ]
    },
    {
     "name": "stdout",
     "output_type": "stream",
     "text": [
      "Epoch 81, loss: 2883581.442200\n"
     ]
    },
    {
     "name": "stderr",
     "output_type": "stream",
     "text": [
      "\n",
      "100%|████████████████████████████████████████████████████| 30/30 [00:00<00:00, 98.81it/s]\u001b[A\n",
      " 83%|██████████████████████████████████████████▎        | 83/100 [00:26<00:05,  3.25it/s]\n",
      "  0%|                                                             | 0/30 [00:00<?, ?it/s]\u001b[A\n",
      " 37%|██████████████████▋                                | 11/30 [00:00<00:00, 105.91it/s]\u001b[A"
     ]
    },
    {
     "name": "stdout",
     "output_type": "stream",
     "text": [
      "Epoch 82, loss: 2756149.790960\n"
     ]
    },
    {
     "name": "stderr",
     "output_type": "stream",
     "text": [
      "\n",
      "100%|████████████████████████████████████████████████████| 30/30 [00:00<00:00, 98.81it/s]\u001b[A\n",
      " 84%|██████████████████████████████████████████▊        | 84/100 [00:27<00:04,  3.26it/s]\n",
      "  0%|                                                             | 0/30 [00:00<?, ?it/s]\u001b[A\n",
      " 40%|████████████████████▍                              | 12/30 [00:00<00:00, 111.26it/s]\u001b[A"
     ]
    },
    {
     "name": "stdout",
     "output_type": "stream",
     "text": [
      "Epoch 83, loss: 2852700.209267\n"
     ]
    },
    {
     "name": "stderr",
     "output_type": "stream",
     "text": [
      "\n",
      "100%|███████████████████████████████████████████████████| 30/30 [00:00<00:00, 100.13it/s]\u001b[A\n",
      " 85%|███████████████████████████████████████████▎       | 85/100 [00:27<00:04,  3.27it/s]\n",
      "  0%|                                                             | 0/30 [00:00<?, ?it/s]\u001b[A\n",
      " 33%|█████████████████▎                                  | 10/30 [00:00<00:00, 92.71it/s]\u001b[A"
     ]
    },
    {
     "name": "stdout",
     "output_type": "stream",
     "text": [
      "Epoch 84, loss: 2967432.889223\n"
     ]
    },
    {
     "name": "stderr",
     "output_type": "stream",
     "text": [
      "\n",
      "100%|████████████████████████████████████████████████████| 30/30 [00:00<00:00, 96.27it/s]\u001b[A\n",
      " 86%|███████████████████████████████████████████▊       | 86/100 [00:27<00:04,  3.24it/s]\n",
      "  0%|                                                             | 0/30 [00:00<?, ?it/s]\u001b[A\n",
      " 40%|████████████████████▍                              | 12/30 [00:00<00:00, 107.28it/s]\u001b[A"
     ]
    },
    {
     "name": "stdout",
     "output_type": "stream",
     "text": [
      "Epoch 85, loss: 2922001.690038\n"
     ]
    },
    {
     "name": "stderr",
     "output_type": "stream",
     "text": [
      "\n",
      "100%|███████████████████████████████████████████████████| 30/30 [00:00<00:00, 101.48it/s]\u001b[A\n",
      " 87%|████████████████████████████████████████████▎      | 87/100 [00:28<00:03,  3.27it/s]\n",
      "  0%|                                                             | 0/30 [00:00<?, ?it/s]\u001b[A\n",
      " 37%|██████████████████▋                                | 11/30 [00:00<00:00, 105.91it/s]\u001b[A"
     ]
    },
    {
     "name": "stdout",
     "output_type": "stream",
     "text": [
      "Epoch 86, loss: 2913213.497641\n"
     ]
    },
    {
     "name": "stderr",
     "output_type": "stream",
     "text": [
      "\n",
      " 73%|█████████████████████████████████████▍             | 22/30 [00:00<00:00, 104.69it/s]\u001b[A\n",
      "100%|████████████████████████████████████████████████████| 30/30 [00:00<00:00, 92.72it/s]\u001b[A\n",
      " 88%|████████████████████████████████████████████▉      | 88/100 [00:28<00:03,  3.20it/s]\n",
      "  0%|                                                             | 0/30 [00:00<?, ?it/s]\u001b[A\n",
      " 27%|██████████████▏                                      | 8/30 [00:00<00:00, 74.20it/s]\u001b[A"
     ]
    },
    {
     "name": "stdout",
     "output_type": "stream",
     "text": [
      "Epoch 87, loss: 2843519.706137\n"
     ]
    },
    {
     "name": "stderr",
     "output_type": "stream",
     "text": [
      "\n",
      " 53%|███████████████████████████▋                        | 16/30 [00:00<00:00, 72.57it/s]\u001b[A\n",
      "100%|████████████████████████████████████████████████████| 30/30 [00:00<00:00, 72.92it/s]\u001b[A\n",
      " 89%|█████████████████████████████████████████████▍     | 89/100 [00:28<00:03,  2.90it/s]\n",
      "  0%|                                                             | 0/30 [00:00<?, ?it/s]\u001b[A\n",
      " 27%|██████████████▏                                      | 8/30 [00:00<00:00, 71.52it/s]\u001b[A"
     ]
    },
    {
     "name": "stdout",
     "output_type": "stream",
     "text": [
      "Epoch 88, loss: 2958548.865248\n"
     ]
    },
    {
     "name": "stderr",
     "output_type": "stream",
     "text": [
      "\n",
      " 53%|███████████████████████████▋                        | 16/30 [00:00<00:00, 71.52it/s]\u001b[A\n",
      "100%|████████████████████████████████████████████████████| 30/30 [00:00<00:00, 72.91it/s]\u001b[A\n",
      " 90%|█████████████████████████████████████████████▉     | 90/100 [00:29<00:03,  2.72it/s]\n",
      "  0%|                                                             | 0/30 [00:00<?, ?it/s]\u001b[A\n",
      " 27%|██████████████▏                                      | 8/30 [00:00<00:00, 74.16it/s]\u001b[A"
     ]
    },
    {
     "name": "stdout",
     "output_type": "stream",
     "text": [
      "Epoch 89, loss: 2830384.879172\n"
     ]
    },
    {
     "name": "stderr",
     "output_type": "stream",
     "text": [
      "\n",
      " 53%|███████████████████████████▋                        | 16/30 [00:00<00:00, 73.35it/s]\u001b[A\n",
      "100%|████████████████████████████████████████████████████| 30/30 [00:00<00:00, 72.91it/s]\u001b[A\n",
      " 91%|██████████████████████████████████████████████▍    | 91/100 [00:29<00:03,  2.61it/s]\n",
      "  0%|                                                             | 0/30 [00:00<?, ?it/s]\u001b[A\n",
      " 27%|██████████████▏                                      | 8/30 [00:00<00:00, 74.17it/s]\u001b[A"
     ]
    },
    {
     "name": "stdout",
     "output_type": "stream",
     "text": [
      "Epoch 90, loss: 3014599.233807\n"
     ]
    },
    {
     "name": "stderr",
     "output_type": "stream",
     "text": [
      "\n",
      " 53%|███████████████████████████▋                        | 16/30 [00:00<00:00, 73.36it/s]\u001b[A\n",
      "100%|████████████████████████████████████████████████████| 30/30 [00:00<00:00, 72.91it/s]\u001b[A\n",
      " 92%|██████████████████████████████████████████████▉    | 92/100 [00:30<00:03,  2.55it/s]\n",
      "  0%|                                                             | 0/30 [00:00<?, ?it/s]\u001b[A\n",
      " 23%|████████████▎                                        | 7/30 [00:00<00:00, 67.39it/s]\u001b[A"
     ]
    },
    {
     "name": "stdout",
     "output_type": "stream",
     "text": [
      "Epoch 91, loss: 2938235.380463\n"
     ]
    },
    {
     "name": "stderr",
     "output_type": "stream",
     "text": [
      "\n",
      " 47%|████████████████████████▎                           | 14/30 [00:00<00:00, 67.39it/s]\u001b[A\n",
      "100%|████████████████████████████████████████████████████| 30/30 [00:00<00:00, 71.52it/s]\u001b[A\n",
      " 93%|███████████████████████████████████████████████▍   | 93/100 [00:30<00:02,  2.48it/s]\n",
      "  0%|                                                             | 0/30 [00:00<?, ?it/s]\u001b[A\n",
      " 33%|█████████████████▎                                  | 10/30 [00:00<00:00, 92.71it/s]\u001b[A"
     ]
    },
    {
     "name": "stdout",
     "output_type": "stream",
     "text": [
      "Epoch 92, loss: 3073222.899802\n"
     ]
    },
    {
     "name": "stderr",
     "output_type": "stream",
     "text": [
      "\n",
      "100%|████████████████████████████████████████████████████| 30/30 [00:00<00:00, 96.27it/s]\u001b[A\n",
      " 94%|███████████████████████████████████████████████▉   | 94/100 [00:30<00:02,  2.65it/s]\n",
      "  0%|                                                             | 0/30 [00:00<?, ?it/s]\u001b[A\n",
      " 37%|██████████████████▋                                | 11/30 [00:00<00:00, 105.87it/s]\u001b[A"
     ]
    },
    {
     "name": "stdout",
     "output_type": "stream",
     "text": [
      "Epoch 93, loss: 2977949.940232\n"
     ]
    },
    {
     "name": "stderr",
     "output_type": "stream",
     "text": [
      "\n",
      "100%|███████████████████████████████████████████████████| 30/30 [00:00<00:00, 100.13it/s]\u001b[A\n",
      " 95%|████████████████████████████████████████████████▍  | 95/100 [00:31<00:01,  2.82it/s]\n",
      "  0%|                                                             | 0/30 [00:00<?, ?it/s]\u001b[A\n",
      " 40%|████████████████████▍                              | 12/30 [00:00<00:00, 111.21it/s]\u001b[A"
     ]
    },
    {
     "name": "stdout",
     "output_type": "stream",
     "text": [
      "Epoch 94, loss: 3093044.995972\n"
     ]
    },
    {
     "name": "stderr",
     "output_type": "stream",
     "text": [
      "\n",
      "100%|███████████████████████████████████████████████████| 30/30 [00:00<00:00, 101.48it/s]\u001b[A\n",
      " 96%|████████████████████████████████████████████████▉  | 96/100 [00:31<00:01,  2.96it/s]\n",
      "  0%|                                                             | 0/30 [00:00<?, ?it/s]\u001b[A\n",
      " 27%|██████████████▏                                      | 8/30 [00:00<00:00, 74.14it/s]\u001b[A"
     ]
    },
    {
     "name": "stdout",
     "output_type": "stream",
     "text": [
      "Epoch 95, loss: 2711007.242660\n"
     ]
    },
    {
     "name": "stderr",
     "output_type": "stream",
     "text": [
      "\n",
      " 53%|███████████████████████████▋                        | 16/30 [00:00<00:00, 73.35it/s]\u001b[A\n",
      "100%|████████████████████████████████████████████████████| 30/30 [00:00<00:00, 73.63it/s]\u001b[A\n",
      " 97%|█████████████████████████████████████████████████▍ | 97/100 [00:31<00:01,  2.78it/s]\n",
      "  0%|                                                             | 0/30 [00:00<?, ?it/s]\u001b[A\n",
      " 30%|███████████████▉                                     | 9/30 [00:00<00:00, 77.68it/s]\u001b[A"
     ]
    },
    {
     "name": "stdout",
     "output_type": "stream",
     "text": [
      "Epoch 96, loss: 2954688.796964\n"
     ]
    },
    {
     "name": "stderr",
     "output_type": "stream",
     "text": [
      "\n",
      " 60%|███████████████████████████████▏                    | 18/30 [00:00<00:00, 80.17it/s]\u001b[A\n",
      "100%|████████████████████████████████████████████████████| 30/30 [00:00<00:00, 85.33it/s]\u001b[A\n",
      " 98%|█████████████████████████████████████████████████▉ | 98/100 [00:32<00:00,  2.79it/s]\n",
      "  0%|                                                             | 0/30 [00:00<?, ?it/s]\u001b[A\n",
      " 33%|█████████████████▎                                  | 10/30 [00:00<00:00, 92.71it/s]\u001b[A"
     ]
    },
    {
     "name": "stdout",
     "output_type": "stream",
     "text": [
      "Epoch 97, loss: 2903066.591093\n"
     ]
    },
    {
     "name": "stderr",
     "output_type": "stream",
     "text": [
      "\n",
      " 70%|████████████████████████████████████▍               | 21/30 [00:00<00:00, 96.30it/s]\u001b[A\n",
      "100%|████████████████████████████████████████████████████| 30/30 [00:00<00:00, 93.88it/s]\u001b[A\n",
      " 99%|██████████████████████████████████████████████████▍| 99/100 [00:32<00:00,  2.86it/s]\n",
      "  0%|                                                             | 0/30 [00:00<?, ?it/s]\u001b[A\n",
      " 27%|██████████████▏                                      | 8/30 [00:00<00:00, 74.17it/s]\u001b[A"
     ]
    },
    {
     "name": "stdout",
     "output_type": "stream",
     "text": [
      "Epoch 98, loss: 3017740.362351\n"
     ]
    },
    {
     "name": "stderr",
     "output_type": "stream",
     "text": [
      "\n",
      " 63%|████████████████████████████████▉                   | 19/30 [00:00<00:00, 80.78it/s]\u001b[A\n",
      "100%|████████████████████████████████████████████████████| 30/30 [00:00<00:00, 89.41it/s]\u001b[A\n",
      "100%|██████████████████████████████████████████████████| 100/100 [00:32<00:00,  3.03it/s]"
     ]
    },
    {
     "name": "stdout",
     "output_type": "stream",
     "text": [
      "Epoch 99, loss: 2876815.289237\n",
      "best validation accuracy achieved: 0.113000\n"
     ]
    },
    {
     "name": "stderr",
     "output_type": "stream",
     "text": [
      "\n"
     ]
    }
   ],
   "source": [
    "num_epochs = 200\n",
    "batch_size = 300\n",
    "\n",
    "learning_rates = [1e-3, 1e-4, 1e-5]\n",
    "reg_strengths = [1e-4, 1e-5, 1e-6]\n",
    "\n",
    "best_classifier = None\n",
    "best_val_accuracy = None\n",
    "\n",
    "# TODO use validation set to find the best hyperparameters\n",
    "# hint: for best results, you might need to try more values for learning rate and regularization strength \n",
    "# than provided initially\n",
    "best_val_accuracy = 0\n",
    "for learning_rate in learning_rates:\n",
    "    for reg_strength in reg_strengths:\n",
    "        classifier = linear_classifer.LinearSoftmaxClassifier()\n",
    "        loss_history = classifier.fit(train_X, train_y, epochs=100, learning_rate=learning_rate, \n",
    "                                      batch_size=300, reg=reg_strength)\n",
    "        pred = classifier.predict(val_X)\n",
    "        accuracy = multiclass_accuracy(pred, val_y)\n",
    "        if accuracy >= best_val_accuracy:\n",
    "            best_val_accuracy = accuracy\n",
    "            best_classifier = classifier\n",
    "            best_loss_history = loss_history\n",
    "            best_param = (learning_rate, reg_strength)\n",
    "\n",
    "print('best validation accuracy achieved: %f' % best_val_accuracy)"
   ]
  },
  {
   "cell_type": "code",
   "execution_count": 96,
   "metadata": {},
   "outputs": [
    {
     "data": {
      "image/png": "[encoded data removed]",
      "text/plain": [
       "<Figure size 432x288 with 1 Axes>"
      ]
     },
     "metadata": {
      "needs_background": "light"
     },
     "output_type": "display_data"
    }
   ],
   "source": [
    "plt.plot(best_loss_history);"
   ]
  },
  {
   "cell_type": "markdown",
   "metadata": {},
   "source": [
    "# Какой же точности мы добились на тестовых данных?"
   ]
  },
  {
   "cell_type": "code",
   "execution_count": 95,
   "metadata": {},
   "outputs": [
    {
     "name": "stdout",
     "output_type": "stream",
     "text": [
      "Linear softmax classifier test set accuracy: 0.112000\n"
     ]
    }
   ],
   "source": [
    "test_pred = best_classifier.predict(test_X)\n",
    "test_accuracy = multiclass_accuracy(test_pred, test_y)\n",
    "print('Linear softmax classifier test set accuracy: %f' % (test_accuracy, ))"
   ]
  },
  {
   "cell_type": "code",
   "execution_count": null,
   "metadata": {},
   "outputs": [],
   "source": []
  }
 ],
 "metadata": {
  "kernelspec": {
   "display_name": "Python 3",
   "language": "python",
   "name": "python3"
  },
  "language_info": {
   "codemirror_mode": {
    "name": "ipython",
    "version": 3
   },
   "file_extension": ".py",
   "mimetype": "text/x-python",
   "name": "python",
   "nbconvert_exporter": "python",
   "pygments_lexer": "ipython3",
   "version": "3.6.5"
  }
 },
 "nbformat": 4,
 "nbformat_minor": 2
}
